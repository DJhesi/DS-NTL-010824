{
 "cells": [
  {
   "cell_type": "markdown",
   "metadata": {
    "slideshow": {
     "slide_type": "slide"
    }
   },
   "source": [
    "<div style=\"color:white;\n",
    "           display:fill;\n",
    "           border-radius:5px;\n",
    "           background-color:#5642C5;\n",
    "           font-size:200%;\n",
    "           font-family:Arial;letter-spacing:0.5px\">\n",
    "\n",
    "<p width = 20%, style=\"padding: 10px;\n",
    "              color:white;\">\n",
    "Neural Networks: Regularization\n",
    "</p>\n",
    "</div>\n",
    "\n",
    "DS-NTL-010824<p>Phase 4</p>\n",
    "<br>\n",
    "<br>\n",
    "\n",
    "<div align = \"right\">\n",
    "<img src=\"Images/flatiron-school-logo.png\" align = \"right\" width=\"200\"/>\n",
    "</div>\n",
    "    \n",
    "    "
   ]
  },
  {
   "cell_type": "code",
   "execution_count": 1,
   "metadata": {
    "slideshow": {
     "slide_type": "skip"
    }
   },
   "outputs": [],
   "source": [
    "from sklearn.datasets import load_sample_images\n",
    "from sklearn.datasets import load_digits\n",
    "from sklearn.model_selection import train_test_split, cross_val_score\n",
    "from sklearn.preprocessing import OneHotEncoder\n",
    "from sklearn.metrics import accuracy_score, confusion_matrix\n",
    "import matplotlib.pyplot as plt\n",
    "import matplotlib.image as mpimg\n",
    "import numpy as np\n",
    "import pandas as pd\n",
    "from sklearn.metrics import ConfusionMatrixDisplay\n",
    "import seaborn as sns\n",
    "\n",
    "from tensorflow.keras import datasets\n",
    "from tensorflow.keras.models import Sequential\n",
    "from tensorflow.keras.layers import Dense, Dropout\n",
    "from tensorflow.keras.callbacks import EarlyStopping\n",
    "from tensorflow.keras.utils import to_categorical\n",
    "from tensorflow.keras.layers import Flatten # takes 2D input and turns into 1D array\n",
    "\n",
    "\n",
    "import tensorflow as tf\n",
    "\n",
    "#Set the global random seed\n",
    "tf.random.set_seed(42)\n"
   ]
  },
  {
   "cell_type": "markdown",
   "metadata": {
    "slideshow": {
     "slide_type": "slide"
    }
   },
   "source": [
    "### Things to remember:\n"
   ]
  },
  {
   "cell_type": "markdown",
   "metadata": {
    "slideshow": {
     "slide_type": "fragment"
    }
   },
   "source": [
    "## STEPS ##\n",
    "\n",
    "1. Load Data\n",
    "2. Define Keras Model\n",
    "3. Compile Keras Model\n",
    "4. Fit Keras Model\n",
    "5. Evaluate Keras Model\n",
    "6. Make Predictions"
   ]
  },
  {
   "cell_type": "markdown",
   "metadata": {
    "slideshow": {
     "slide_type": "slide"
    }
   },
   "source": [
    "\n",
    "- The data and labels in `fit()` need to be numpy arrays, not `pandas` dfs.\n",
    "- Scaling your data will have a large impact on your model.\n",
    "   > For our traditional input features, we would use a scaler object. For images, as long as the minimum value is 0, we can simply divide through by the maximum pixel intensity."
   ]
  },
  {
   "cell_type": "markdown",
   "metadata": {
    "slideshow": {
     "slide_type": "slide"
    }
   },
   "source": [
    "#### Regularization\n",
    "- Retain complexity of neural network: many weights to learn interesting relationships\n",
    "- Make our weights less susceptible to overfitting\n",
    "\n",
    "**Getting neural networks to perform really well**"
   ]
  },
  {
   "cell_type": "markdown",
   "metadata": {
    "slideshow": {
     "slide_type": "slide"
    }
   },
   "source": [
    "In neural networks, two main forms of regularization:\n",
    "- L2 Regularization (something familiar)\n",
    "- Dropout Regularization (something a little new)"
   ]
  },
  {
   "cell_type": "markdown",
   "metadata": {
    "slideshow": {
     "slide_type": "slide"
    }
   },
   "source": [
    "**L2 Regularization**\n",
    "\n",
    "- Add penalty on weight **matrices**.\n",
    "$$ J \\rightarrow J' $$\n",
    "$$ J = \\sum_{i=1}^m \\frac{1}{m}L(y_i, \\hat{y}_i) $$\n",
    "$$ J' = \\sum_{i=1}^m \\frac{1}{m}L(y_i, \\hat{y}_i) + \\frac{\\lambda}{2} \\sum_{l=1}^L \\lVert  W^{[l]}   \\rVert_F^2 $$"
   ]
  },
  {
   "cell_type": "markdown",
   "metadata": {
    "slideshow": {
     "slide_type": "fragment"
    }
   },
   "source": [
    "where $F$ denotes the Frobenius norm."
   ]
  },
  {
   "cell_type": "markdown",
   "metadata": {
    "cell_style": "center",
    "slideshow": {
     "slide_type": "slide"
    }
   },
   "source": [
    "Frobenius norm is square root of sum of of element-wise square:\n",
    "i.e. \n",
    "$$ \\lVert  A   \\rVert_F = \\sqrt{\\sum_{i,j} A_{ij}^2 }$$"
   ]
  },
  {
   "cell_type": "code",
   "execution_count": 2,
   "metadata": {
    "slideshow": {
     "slide_type": "fragment"
    }
   },
   "outputs": [],
   "source": [
    "import numpy as np\n",
    "from numpy.linalg import norm"
   ]
  },
  {
   "cell_type": "code",
   "execution_count": 3,
   "metadata": {
    "cell_style": "split",
    "slideshow": {
     "slide_type": "fragment"
    }
   },
   "outputs": [
    {
     "data": {
      "text/plain": [
       "array([[1, 2],\n",
       "       [0, 3]])"
      ]
     },
     "execution_count": 3,
     "metadata": {},
     "output_type": "execute_result"
    }
   ],
   "source": [
    "A = np.array([[1,2],[0,3]])\n",
    "A"
   ]
  },
  {
   "cell_type": "code",
   "execution_count": 4,
   "metadata": {
    "cell_style": "split",
    "slideshow": {
     "slide_type": "fragment"
    }
   },
   "outputs": [
    {
     "data": {
      "text/plain": [
       "3.7416573867739413"
      ]
     },
     "execution_count": 4,
     "metadata": {},
     "output_type": "execute_result"
    }
   ],
   "source": [
    "norm(A, 'fro')"
   ]
  },
  {
   "cell_type": "code",
   "execution_count": 5,
   "metadata": {
    "cell_style": "split",
    "slideshow": {
     "slide_type": "fragment"
    }
   },
   "outputs": [
    {
     "data": {
      "text/plain": [
       "3.7416573867739413"
      ]
     },
     "execution_count": 5,
     "metadata": {},
     "output_type": "execute_result"
    }
   ],
   "source": [
    "np.sqrt(1**2 + 0**2 + 2**2 + 3**2)"
   ]
  },
  {
   "cell_type": "markdown",
   "metadata": {
    "cell_style": "center",
    "slideshow": {
     "slide_type": "slide"
    }
   },
   "source": [
    "Modiied objective functon:\n",
    "\n",
    "$$ J' = \\sum_{i=1}^m \\frac{1}{m}L(y_i, \\hat{y}_i) + \\frac{\\lambda}{2} \\sum_{l=1}^L \\lVert  W^{[l]}   \\rVert_F^2 $$"
   ]
  },
  {
   "cell_type": "markdown",
   "metadata": {
    "cell_style": "center",
    "slideshow": {
     "slide_type": "fragment"
    }
   },
   "source": [
    "Regularization serves to penalize any particular weight from being too large:\n",
    "- smoothens/redistributes weights for each weight matrix\n",
    "- aids in generalization"
   ]
  },
  {
   "cell_type": "markdown",
   "metadata": {
    "cell_style": "center",
    "slideshow": {
     "slide_type": "slide"
    }
   },
   "source": [
    "L2 regularization: often known as weight decay\n",
    "- Perspective: gradient descent\n",
    "$$ J' = \\sum_{i=1}^m \\frac{1}{m}L(y_i, \\hat{y}_i) + \\frac{\\lambda}{2} \\sum_{l=1}^L \\lVert  W^{[l]}   \\rVert_F^2 $$\n",
    "$$ W^{[l]} \\rightarrow W^{[l]} - \\alpha \\frac{\\partial J'}{\\partial W^{[l]}} $$ "
   ]
  },
  {
   "cell_type": "markdown",
   "metadata": {
    "cell_style": "center",
    "slideshow": {
     "slide_type": "slide"
    }
   },
   "source": [
    "$$ J = \\sum_{i=1}^m \\frac{1}{m}L(y_i, \\hat{y}_i) $$\n",
    "$$ W^{[l]} \\rightarrow \\Big(W^{[l]}  - \\alpha \\frac{\\lambda}{2 m}  W^{[l]} \\Big) - \\alpha \\frac{\\partial J}{\\partial W^{[l]}}$$ \n",
    "\n",
    "- At each iteration regularization tries to reduce magnitude of weight matrix."
   ]
  },
  {
   "cell_type": "markdown",
   "metadata": {
    "slideshow": {
     "slide_type": "slide"
    }
   },
   "source": [
    "#### Implementing L2 regularization in Keras"
   ]
  },
  {
   "cell_type": "code",
   "execution_count": 6,
   "metadata": {
    "slideshow": {
     "slide_type": "fragment"
    }
   },
   "outputs": [],
   "source": [
    "# creates keras regularizer object\n",
    "from tensorflow.keras.regularizers import l2"
   ]
  },
  {
   "cell_type": "markdown",
   "metadata": {
    "cell_style": "center",
    "slideshow": {
     "slide_type": "slide"
    }
   },
   "source": [
    "L2 regularizer object takes in $\\lambda$ parameter as argument"
   ]
  },
  {
   "cell_type": "code",
   "execution_count": 7,
   "metadata": {
    "cell_style": "center",
    "slideshow": {
     "slide_type": "fragment"
    }
   },
   "outputs": [],
   "source": [
    "reg = l2(3e-3) # 1e-5 to .1"
   ]
  },
  {
   "cell_type": "markdown",
   "metadata": {
    "cell_style": "center",
    "slideshow": {
     "slide_type": "slide"
    }
   },
   "source": [
    "Implementing regularization to weights in Keras:\n",
    "- Dense(kernel_regularizer = __)\n",
    "- takes in string ('l2') or regularizer object"
   ]
  },
  {
   "cell_type": "markdown",
   "metadata": {
    "cell_style": "center",
    "slideshow": {
     "slide_type": "fragment"
    }
   },
   "source": [
    "Less common but also used:\n",
    "\n",
    "- can apply regularization to bias terms \n",
    "- Dense(bias_regularizer = __)"
   ]
  },
  {
   "cell_type": "code",
   "execution_count": 8,
   "metadata": {
    "slideshow": {
     "slide_type": "slide"
    }
   },
   "outputs": [],
   "source": [
    "# load in the data\n",
    "(x_train, y_train), (x_test, y_test) = datasets.mnist.load_data()\n",
    "\n",
    "x_train = x_train/255 # normalization\n",
    "x_test = x_test/255\n",
    "\n",
    "# Keras requires multi-class labels to be one-hot encoded\n",
    "y_tr_one_hot = to_categorical(y_train)\n",
    "y_tt_one_hot = to_categorical(y_test)"
   ]
  },
  {
   "cell_type": "code",
   "execution_count": null,
   "metadata": {},
   "outputs": [],
   "source": [
    "len(x_train)"
   ]
  },
  {
   "cell_type": "code",
   "execution_count": 9,
   "metadata": {
    "slideshow": {
     "slide_type": "slide"
    }
   },
   "outputs": [],
   "source": [
    "model_images = Sequential()\n",
    "model_images.add(Flatten(input_shape=(28, 28))) # flattens each 28x28 image into a vector\n",
    "model_images.add(Dense(32, activation='relu', kernel_regularizer = reg)) # take in regularizer\n",
    "model_images.add(Dense(8, activation='relu', kernel_regularizer = reg))\n",
    "model_images.add(Dense(10, activation='softmax')) # number of units = number of target classes"
   ]
  },
  {
   "cell_type": "code",
   "execution_count": 10,
   "metadata": {
    "slideshow": {
     "slide_type": "fragment"
    }
   },
   "outputs": [],
   "source": [
    "model_images.compile(optimizer='Adam', loss='categorical_crossentropy', metrics=['accuracy'] )"
   ]
  },
  {
   "cell_type": "code",
   "execution_count": 11,
   "metadata": {
    "slideshow": {
     "slide_type": "slide"
    }
   },
   "outputs": [
    {
     "name": "stdout",
     "output_type": "stream",
     "text": [
      "Epoch 1/50\n",
      "1500/1500 [==============================] - 1s 534us/step - loss: 0.6878 - accuracy: 0.8502 - val_loss: 0.4751 - val_accuracy: 0.9107\n",
      "Epoch 2/50\n",
      "1500/1500 [==============================] - 1s 461us/step - loss: 0.4433 - accuracy: 0.9225 - val_loss: 0.4039 - val_accuracy: 0.9323\n",
      "Epoch 3/50\n",
      "1500/1500 [==============================] - 1s 453us/step - loss: 0.3967 - accuracy: 0.9321 - val_loss: 0.3663 - val_accuracy: 0.9409\n",
      "Epoch 4/50\n",
      "1500/1500 [==============================] - 1s 459us/step - loss: 0.3674 - accuracy: 0.9395 - val_loss: 0.3596 - val_accuracy: 0.9411\n",
      "Epoch 5/50\n",
      "1500/1500 [==============================] - 1s 460us/step - loss: 0.3481 - accuracy: 0.9426 - val_loss: 0.3263 - val_accuracy: 0.9504\n",
      "Epoch 6/50\n",
      "1500/1500 [==============================] - 1s 458us/step - loss: 0.3327 - accuracy: 0.9468 - val_loss: 0.3139 - val_accuracy: 0.9534\n",
      "Epoch 7/50\n",
      "1500/1500 [==============================] - 1s 458us/step - loss: 0.3185 - accuracy: 0.9484 - val_loss: 0.3047 - val_accuracy: 0.9540\n",
      "Epoch 8/50\n",
      "1500/1500 [==============================] - 1s 454us/step - loss: 0.3089 - accuracy: 0.9503 - val_loss: 0.3083 - val_accuracy: 0.9503\n",
      "Epoch 9/50\n",
      "1500/1500 [==============================] - 1s 454us/step - loss: 0.3015 - accuracy: 0.9499 - val_loss: 0.2850 - val_accuracy: 0.9577\n",
      "Epoch 10/50\n",
      "1500/1500 [==============================] - 1s 458us/step - loss: 0.2943 - accuracy: 0.9520 - val_loss: 0.2942 - val_accuracy: 0.9512\n",
      "Epoch 11/50\n",
      "1500/1500 [==============================] - 1s 462us/step - loss: 0.2877 - accuracy: 0.9537 - val_loss: 0.2826 - val_accuracy: 0.9558\n",
      "Epoch 12/50\n",
      "1500/1500 [==============================] - 1s 454us/step - loss: 0.2797 - accuracy: 0.9542 - val_loss: 0.2777 - val_accuracy: 0.9560\n",
      "Epoch 13/50\n",
      "1500/1500 [==============================] - 1s 448us/step - loss: 0.2746 - accuracy: 0.9549 - val_loss: 0.2815 - val_accuracy: 0.9512\n",
      "Epoch 14/50\n",
      "1500/1500 [==============================] - 1s 453us/step - loss: 0.2710 - accuracy: 0.9560 - val_loss: 0.2682 - val_accuracy: 0.9561\n",
      "Epoch 15/50\n",
      "1500/1500 [==============================] - 1s 449us/step - loss: 0.2644 - accuracy: 0.9576 - val_loss: 0.2586 - val_accuracy: 0.9588\n",
      "Epoch 16/50\n",
      "1500/1500 [==============================] - 1s 450us/step - loss: 0.2597 - accuracy: 0.9582 - val_loss: 0.2687 - val_accuracy: 0.9568\n",
      "Epoch 17/50\n",
      "1500/1500 [==============================] - 1s 461us/step - loss: 0.2570 - accuracy: 0.9577 - val_loss: 0.2617 - val_accuracy: 0.9556\n",
      "Epoch 18/50\n",
      "1500/1500 [==============================] - 1s 455us/step - loss: 0.2517 - accuracy: 0.9603 - val_loss: 0.2476 - val_accuracy: 0.9613\n",
      "Epoch 19/50\n",
      "1500/1500 [==============================] - 1s 457us/step - loss: 0.2498 - accuracy: 0.9599 - val_loss: 0.2626 - val_accuracy: 0.9567\n",
      "Epoch 20/50\n",
      "1500/1500 [==============================] - 1s 454us/step - loss: 0.2457 - accuracy: 0.9606 - val_loss: 0.2474 - val_accuracy: 0.9595\n",
      "Epoch 21/50\n",
      "1500/1500 [==============================] - 1s 456us/step - loss: 0.2417 - accuracy: 0.9607 - val_loss: 0.2510 - val_accuracy: 0.9593\n",
      "Epoch 22/50\n",
      "1500/1500 [==============================] - 1s 451us/step - loss: 0.2412 - accuracy: 0.9615 - val_loss: 0.2417 - val_accuracy: 0.9627\n",
      "Epoch 23/50\n",
      "1500/1500 [==============================] - 1s 449us/step - loss: 0.2377 - accuracy: 0.9614 - val_loss: 0.2538 - val_accuracy: 0.9576\n",
      "Epoch 24/50\n",
      "1500/1500 [==============================] - 1s 455us/step - loss: 0.2354 - accuracy: 0.9622 - val_loss: 0.2424 - val_accuracy: 0.9612\n",
      "Epoch 25/50\n",
      "1500/1500 [==============================] - 1s 450us/step - loss: 0.2345 - accuracy: 0.9620 - val_loss: 0.2594 - val_accuracy: 0.9557\n",
      "Epoch 26/50\n",
      "1500/1500 [==============================] - 1s 449us/step - loss: 0.2319 - accuracy: 0.9633 - val_loss: 0.2463 - val_accuracy: 0.9567\n",
      "Epoch 27/50\n",
      "1500/1500 [==============================] - 1s 455us/step - loss: 0.2294 - accuracy: 0.9627 - val_loss: 0.2304 - val_accuracy: 0.9648\n",
      "Epoch 28/50\n",
      "1500/1500 [==============================] - 1s 445us/step - loss: 0.2280 - accuracy: 0.9621 - val_loss: 0.2343 - val_accuracy: 0.9617\n",
      "Epoch 29/50\n",
      "1500/1500 [==============================] - 1s 446us/step - loss: 0.2262 - accuracy: 0.9627 - val_loss: 0.2257 - val_accuracy: 0.9653\n",
      "Epoch 30/50\n",
      "1500/1500 [==============================] - 1s 457us/step - loss: 0.2250 - accuracy: 0.9633 - val_loss: 0.2339 - val_accuracy: 0.9614\n",
      "Epoch 31/50\n",
      "1500/1500 [==============================] - 1s 447us/step - loss: 0.2240 - accuracy: 0.9639 - val_loss: 0.2237 - val_accuracy: 0.9652\n",
      "Epoch 32/50\n",
      "1500/1500 [==============================] - 1s 448us/step - loss: 0.2225 - accuracy: 0.9632 - val_loss: 0.2322 - val_accuracy: 0.9593\n",
      "Epoch 33/50\n",
      "1500/1500 [==============================] - 1s 454us/step - loss: 0.2208 - accuracy: 0.9638 - val_loss: 0.2452 - val_accuracy: 0.9564\n",
      "Epoch 34/50\n",
      "1500/1500 [==============================] - 1s 451us/step - loss: 0.2216 - accuracy: 0.9637 - val_loss: 0.2230 - val_accuracy: 0.9646\n",
      "Epoch 35/50\n",
      "1500/1500 [==============================] - 1s 454us/step - loss: 0.2179 - accuracy: 0.9644 - val_loss: 0.2289 - val_accuracy: 0.9612\n",
      "Epoch 36/50\n",
      "1500/1500 [==============================] - 1s 456us/step - loss: 0.2191 - accuracy: 0.9638 - val_loss: 0.2285 - val_accuracy: 0.9621\n",
      "Epoch 37/50\n",
      "1500/1500 [==============================] - 1s 452us/step - loss: 0.2145 - accuracy: 0.9653 - val_loss: 0.2240 - val_accuracy: 0.9634\n",
      "Epoch 38/50\n",
      "1500/1500 [==============================] - 1s 464us/step - loss: 0.2177 - accuracy: 0.9636 - val_loss: 0.2394 - val_accuracy: 0.9583\n",
      "Epoch 39/50\n",
      "1500/1500 [==============================] - 1s 459us/step - loss: 0.2145 - accuracy: 0.9642 - val_loss: 0.2527 - val_accuracy: 0.9513\n",
      "Epoch 40/50\n",
      "1500/1500 [==============================] - 1s 452us/step - loss: 0.2167 - accuracy: 0.9639 - val_loss: 0.2309 - val_accuracy: 0.9613\n",
      "Epoch 41/50\n",
      "1500/1500 [==============================] - 1s 460us/step - loss: 0.2144 - accuracy: 0.9644 - val_loss: 0.2125 - val_accuracy: 0.9661\n",
      "Epoch 42/50\n",
      "1500/1500 [==============================] - 1s 451us/step - loss: 0.2136 - accuracy: 0.9647 - val_loss: 0.2273 - val_accuracy: 0.9623\n",
      "Epoch 43/50\n",
      "1500/1500 [==============================] - 1s 460us/step - loss: 0.2132 - accuracy: 0.9647 - val_loss: 0.2291 - val_accuracy: 0.9567\n",
      "Epoch 44/50\n",
      "1500/1500 [==============================] - 1s 452us/step - loss: 0.2103 - accuracy: 0.9656 - val_loss: 0.2320 - val_accuracy: 0.9583\n",
      "Epoch 45/50\n",
      "1500/1500 [==============================] - 1s 453us/step - loss: 0.2105 - accuracy: 0.9651 - val_loss: 0.2130 - val_accuracy: 0.9653\n",
      "Epoch 46/50\n",
      "1500/1500 [==============================] - 1s 467us/step - loss: 0.2086 - accuracy: 0.9646 - val_loss: 0.2276 - val_accuracy: 0.9604\n",
      "Epoch 47/50\n",
      "1500/1500 [==============================] - 1s 456us/step - loss: 0.2080 - accuracy: 0.9654 - val_loss: 0.2135 - val_accuracy: 0.9639\n",
      "Epoch 48/50\n",
      "1500/1500 [==============================] - 1s 465us/step - loss: 0.2082 - accuracy: 0.9653 - val_loss: 0.2247 - val_accuracy: 0.9599\n",
      "Epoch 49/50\n",
      "1500/1500 [==============================] - 1s 465us/step - loss: 0.2086 - accuracy: 0.9653 - val_loss: 0.2202 - val_accuracy: 0.9607\n",
      "Epoch 50/50\n",
      "1500/1500 [==============================] - 1s 451us/step - loss: 0.2061 - accuracy: 0.9656 - val_loss: 0.2184 - val_accuracy: 0.9633\n"
     ]
    }
   ],
   "source": [
    "# verbose=1 allows you to see the output.\n",
    "# To see only the metrics at the end of each epoch, set verbose=2.\n",
    "history_mnist = model_images.fit(x_train, y_tr_one_hot, epochs=50, batch_size= 32, validation_split = 0.2)\n",
    "#The train set is .8, .8*60,000 = 48,000\n",
    "# 48,000/32 = 1500.\n",
    "# there are 1500 batches with 32 data points in them."
   ]
  },
  {
   "cell_type": "code",
   "execution_count": 12,
   "metadata": {
    "cell_style": "center",
    "slideshow": {
     "slide_type": "slide"
    }
   },
   "outputs": [
    {
     "data": {
      "text/plain": [
       "array([[2.5519048e-06, 8.5550482e-06, 8.4205072e-05, ..., 9.9881637e-01,\n",
       "        1.1422329e-06, 1.4074254e-05],\n",
       "       [2.8152199e-05, 3.6670147e-03, 9.9573296e-01, ..., 3.5685929e-07,\n",
       "        1.0305309e-04, 7.5806202e-11],\n",
       "       [9.0489193e-06, 9.9650830e-01, 6.1939575e-04, ..., 5.2467315e-04,\n",
       "        1.1131720e-03, 2.4189565e-06],\n",
       "       ...,\n",
       "       [8.9536423e-09, 1.7728686e-06, 4.6430064e-09, ..., 1.4979723e-04,\n",
       "        1.0331834e-04, 8.1455465e-03],\n",
       "       [2.8776771e-05, 5.6815793e-06, 1.7217216e-07, ..., 3.8818470e-07,\n",
       "        3.6900610e-04, 1.9274601e-06],\n",
       "       [3.6562622e-05, 2.2934119e-08, 2.1203213e-04, ..., 3.8374137e-10,\n",
       "        1.2852881e-08, 5.2221683e-08]], dtype=float32)"
      ]
     },
     "execution_count": 12,
     "metadata": {},
     "output_type": "execute_result"
    }
   ],
   "source": [
    "# probability for each class\n",
    "y_proba = model_images.predict(x_test)\n",
    "y_proba"
   ]
  },
  {
   "cell_type": "code",
   "execution_count": 13,
   "metadata": {
    "cell_style": "center",
    "slideshow": {
     "slide_type": "fragment"
    }
   },
   "outputs": [
    {
     "name": "stdout",
     "output_type": "stream",
     "text": [
      "313/313 - 0s - loss: 0.2118 - accuracy: 0.9614\n"
     ]
    },
    {
     "data": {
      "text/plain": [
       "[0.21179573237895966, 0.9613999724388123]"
      ]
     },
     "execution_count": 13,
     "metadata": {},
     "output_type": "execute_result"
    }
   ],
   "source": [
    "model_images.evaluate(x_test, y_tt_one_hot, verbose = 2)\n",
    "#Loss, accuracy"
   ]
  },
  {
   "cell_type": "code",
   "execution_count": 14,
   "metadata": {
    "cell_style": "center",
    "slideshow": {
     "slide_type": "slide"
    }
   },
   "outputs": [
    {
     "data": {
      "image/png": "[encoded data removed]",
      "text/plain": [
       "<Figure size 432x288 with 1 Axes>"
      ]
     },
     "metadata": {
      "needs_background": "light"
     },
     "output_type": "display_data"
    }
   ],
   "source": [
    "train_mnist_history = pd.DataFrame(history_mnist.history)\n",
    "train_mnist_history.index.name = 'epochs'\n",
    "\n",
    "col_list = ['loss', 'val_loss']\n",
    "train_mnist_history[col_list].plot()\n",
    "plt.ylabel('Categorical cross entropy')\n",
    "plt.title('Training loss history')\n",
    "plt.show()\n",
    "\n",
    "#Now we are not overfitting as much. This is better because of regularization."
   ]
  },
  {
   "cell_type": "code",
   "execution_count": 15,
   "metadata": {
    "cell_style": "split",
    "slideshow": {
     "slide_type": "slide"
    }
   },
   "outputs": [
    {
     "data": {
      "image/png": "[encoded data removed]",
      "text/plain": [
       "<Figure size 432x288 with 1 Axes>"
      ]
     },
     "metadata": {
      "needs_background": "light"
     },
     "output_type": "display_data"
    }
   ],
   "source": [
    "col_list = ['accuracy', 'val_accuracy']\n",
    "train_mnist_history[col_list].plot()\n",
    "plt.ylabel('Accuracy')\n",
    "plt.title('Training loss history')\n",
    "plt.show()"
   ]
  },
  {
   "cell_type": "markdown",
   "metadata": {
    "cell_style": "split",
    "slideshow": {
     "slide_type": "fragment"
    }
   },
   "source": [
    "Better validation accuracy:\n",
    "- 94.5\\% to 96.3\\% with regularization\n",
    "- no overfitting"
   ]
  },
  {
   "cell_type": "code",
   "execution_count": 16,
   "metadata": {
    "slideshow": {
     "slide_type": "slide"
    }
   },
   "outputs": [
    {
     "data": {
      "text/plain": [
       "array([7, 2, 1, ..., 4, 5, 6], dtype=int64)"
      ]
     },
     "execution_count": 16,
     "metadata": {},
     "output_type": "execute_result"
    }
   ],
   "source": [
    "# argmax axis = -1 gets the column index of maximum probability for each row.\n",
    "# column index corresponds to digit classes (numbers 0 -9)\n",
    "predicted = np.argmax(y_proba, axis=-1)\n",
    "predicted"
   ]
  },
  {
   "cell_type": "code",
   "execution_count": 17,
   "metadata": {
    "cell_style": "center",
    "scrolled": false,
    "slideshow": {
     "slide_type": "slide"
    }
   },
   "outputs": [
    {
     "data": {
      "image/png": "[encoded data removed]",
      "text/plain": [
       "<Figure size 432x288 with 2 Axes>"
      ]
     },
     "metadata": {
      "needs_background": "light"
     },
     "output_type": "display_data"
    }
   ],
   "source": [
    "cm_digits = confusion_matrix(y_test, predicted)\n",
    "disp = ConfusionMatrixDisplay(\n",
    "    confusion_matrix=cm_digits)\n",
    "\n",
    "disp.plot(cmap=plt.cm.Blues)\n",
    "plt.show()"
   ]
  },
  {
   "cell_type": "markdown",
   "metadata": {
    "slideshow": {
     "slide_type": "slide"
    }
   },
   "source": [
    "Regularization: \n",
    "- key component to training deeper networks (tend to overfit without regularization)\n",
    "- learn higher order features, but don't overtrain on specifics."
   ]
  },
  {
   "cell_type": "code",
   "execution_count": 18,
   "metadata": {
    "slideshow": {
     "slide_type": "fragment"
    }
   },
   "outputs": [],
   "source": [
    "deepermodel_images = Sequential()\n",
    "deepermodel_images.add(Flatten(input_shape=(28, 28))) # flattens each 28x28 image into a vector\n",
    "deepermodel_images.add(Dense(32, activation='relu', kernel_regularizer = reg)) # take in regularizer\n",
    "deepermodel_images.add(Dense(16, activation='relu', kernel_regularizer = reg)) # add another layer\n",
    "deepermodel_images.add(Dense(16, activation='relu', kernel_regularizer = reg)) # add another layer\n",
    "deepermodel_images.add(Dense(10, activation='relu', kernel_regularizer = reg))\n",
    "deepermodel_images.add(Dense(10, activation='softmax')) # number of units = number of target classes\n",
    "\n",
    "deepermodel_images.compile(optimizer='Adam', loss='categorical_crossentropy', metrics=['accuracy'] )"
   ]
  },
  {
   "cell_type": "code",
   "execution_count": 19,
   "metadata": {
    "scrolled": true,
    "slideshow": {
     "slide_type": "slide"
    }
   },
   "outputs": [
    {
     "name": "stdout",
     "output_type": "stream",
     "text": [
      "Epoch 1/200\n",
      "1500/1500 [==============================] - 1s 568us/step - loss: 0.8270 - accuracy: 0.8263 - val_loss: 0.5359 - val_accuracy: 0.9110\n",
      "Epoch 2/200\n",
      "1500/1500 [==============================] - 1s 492us/step - loss: 0.4904 - accuracy: 0.9232 - val_loss: 0.4334 - val_accuracy: 0.9383\n",
      "Epoch 3/200\n",
      "1500/1500 [==============================] - 1s 482us/step - loss: 0.4344 - accuracy: 0.9360 - val_loss: 0.4055 - val_accuracy: 0.9424\n",
      "Epoch 4/200\n",
      "1500/1500 [==============================] - 1s 486us/step - loss: 0.4018 - accuracy: 0.9410 - val_loss: 0.3914 - val_accuracy: 0.9442\n",
      "Epoch 5/200\n",
      "1500/1500 [==============================] - 1s 502us/step - loss: 0.3800 - accuracy: 0.9462 - val_loss: 0.3707 - val_accuracy: 0.9488\n",
      "Epoch 6/200\n",
      "1500/1500 [==============================] - 1s 484us/step - loss: 0.3643 - accuracy: 0.9487 - val_loss: 0.3519 - val_accuracy: 0.9504\n",
      "Epoch 7/200\n",
      "1500/1500 [==============================] - 1s 489us/step - loss: 0.3544 - accuracy: 0.9500 - val_loss: 0.3428 - val_accuracy: 0.9557\n",
      "Epoch 8/200\n",
      "1500/1500 [==============================] - 1s 490us/step - loss: 0.3444 - accuracy: 0.9520 - val_loss: 0.3550 - val_accuracy: 0.9454\n",
      "Epoch 9/200\n",
      "1500/1500 [==============================] - 1s 490us/step - loss: 0.3381 - accuracy: 0.9519 - val_loss: 0.3264 - val_accuracy: 0.9552\n",
      "Epoch 10/200\n",
      "1500/1500 [==============================] - 1s 505us/step - loss: 0.3298 - accuracy: 0.9539 - val_loss: 0.3388 - val_accuracy: 0.9508\n",
      "Epoch 11/200\n",
      "1500/1500 [==============================] - 1s 496us/step - loss: 0.3223 - accuracy: 0.9541 - val_loss: 0.3205 - val_accuracy: 0.9574\n",
      "Epoch 12/200\n",
      "1500/1500 [==============================] - 1s 490us/step - loss: 0.3149 - accuracy: 0.9560 - val_loss: 0.3304 - val_accuracy: 0.9530\n",
      "Epoch 13/200\n",
      "1500/1500 [==============================] - 1s 492us/step - loss: 0.3114 - accuracy: 0.9558 - val_loss: 0.3164 - val_accuracy: 0.9567\n",
      "Epoch 14/200\n",
      "1500/1500 [==============================] - 1s 497us/step - loss: 0.3066 - accuracy: 0.9567 - val_loss: 0.3218 - val_accuracy: 0.9529\n",
      "Epoch 15/200\n",
      "1500/1500 [==============================] - 1s 492us/step - loss: 0.3035 - accuracy: 0.9573 - val_loss: 0.2933 - val_accuracy: 0.9587\n",
      "Epoch 16/200\n",
      "1500/1500 [==============================] - 1s 492us/step - loss: 0.2969 - accuracy: 0.9589 - val_loss: 0.3223 - val_accuracy: 0.9527\n",
      "Epoch 17/200\n",
      "1500/1500 [==============================] - 1s 499us/step - loss: 0.2960 - accuracy: 0.9581 - val_loss: 0.2840 - val_accuracy: 0.9621\n",
      "Epoch 18/200\n",
      "1500/1500 [==============================] - 1s 504us/step - loss: 0.2919 - accuracy: 0.9595 - val_loss: 0.2796 - val_accuracy: 0.9639\n",
      "Epoch 19/200\n",
      "1500/1500 [==============================] - 1s 489us/step - loss: 0.2882 - accuracy: 0.9602 - val_loss: 0.2994 - val_accuracy: 0.9593\n",
      "Epoch 20/200\n",
      "1500/1500 [==============================] - 1s 492us/step - loss: 0.2876 - accuracy: 0.9595 - val_loss: 0.2870 - val_accuracy: 0.9602\n",
      "Epoch 21/200\n",
      "1500/1500 [==============================] - 1s 488us/step - loss: 0.2827 - accuracy: 0.9605 - val_loss: 0.3000 - val_accuracy: 0.9562\n",
      "Epoch 22/200\n",
      "1500/1500 [==============================] - 1s 490us/step - loss: 0.2831 - accuracy: 0.9596 - val_loss: 0.2961 - val_accuracy: 0.9567\n",
      "Epoch 23/200\n",
      "1500/1500 [==============================] - 1s 496us/step - loss: 0.2773 - accuracy: 0.9603 - val_loss: 0.2989 - val_accuracy: 0.9570\n",
      "Epoch 24/200\n",
      "1500/1500 [==============================] - 1s 486us/step - loss: 0.2765 - accuracy: 0.9613 - val_loss: 0.2796 - val_accuracy: 0.9608\n",
      "Epoch 25/200\n",
      "1500/1500 [==============================] - 1s 486us/step - loss: 0.2755 - accuracy: 0.9608 - val_loss: 0.2752 - val_accuracy: 0.9610\n",
      "Epoch 26/200\n",
      "1500/1500 [==============================] - 1s 493us/step - loss: 0.2712 - accuracy: 0.9625 - val_loss: 0.2912 - val_accuracy: 0.9554\n",
      "Epoch 27/200\n",
      "1500/1500 [==============================] - 1s 489us/step - loss: 0.2704 - accuracy: 0.9617 - val_loss: 0.2675 - val_accuracy: 0.9618\n",
      "Epoch 28/200\n",
      "1500/1500 [==============================] - 1s 483us/step - loss: 0.2723 - accuracy: 0.9601 - val_loss: 0.2724 - val_accuracy: 0.9605\n",
      "Epoch 29/200\n",
      "1500/1500 [==============================] - 1s 487us/step - loss: 0.2692 - accuracy: 0.9610 - val_loss: 0.2700 - val_accuracy: 0.9627\n",
      "Epoch 30/200\n",
      "1500/1500 [==============================] - 1s 483us/step - loss: 0.2667 - accuracy: 0.9623 - val_loss: 0.2746 - val_accuracy: 0.9598\n",
      "Epoch 31/200\n",
      "1500/1500 [==============================] - 1s 488us/step - loss: 0.2662 - accuracy: 0.9612 - val_loss: 0.2561 - val_accuracy: 0.9650\n",
      "Epoch 32/200\n",
      "1500/1500 [==============================] - 1s 484us/step - loss: 0.2640 - accuracy: 0.9619 - val_loss: 0.2668 - val_accuracy: 0.9608\n",
      "Epoch 33/200\n",
      "1500/1500 [==============================] - 1s 484us/step - loss: 0.2635 - accuracy: 0.9612 - val_loss: 0.2793 - val_accuracy: 0.9573\n",
      "Epoch 34/200\n",
      "1500/1500 [==============================] - 1s 487us/step - loss: 0.2622 - accuracy: 0.9609 - val_loss: 0.2619 - val_accuracy: 0.9649\n",
      "Epoch 35/200\n",
      "1500/1500 [==============================] - 1s 493us/step - loss: 0.2612 - accuracy: 0.9620 - val_loss: 0.2667 - val_accuracy: 0.9623\n",
      "Epoch 36/200\n",
      "1500/1500 [==============================] - 1s 488us/step - loss: 0.2593 - accuracy: 0.9632 - val_loss: 0.2727 - val_accuracy: 0.9572\n",
      "Epoch 37/200\n",
      "1500/1500 [==============================] - 1s 493us/step - loss: 0.2595 - accuracy: 0.9626 - val_loss: 0.2640 - val_accuracy: 0.9603\n",
      "Epoch 38/200\n",
      "1500/1500 [==============================] - 1s 497us/step - loss: 0.2586 - accuracy: 0.9615 - val_loss: 0.2642 - val_accuracy: 0.9607\n",
      "Epoch 39/200\n",
      "1500/1500 [==============================] - ETA: 0s - loss: 0.2559 - accuracy: 0.96 - 1s 490us/step - loss: 0.2562 - accuracy: 0.9633 - val_loss: 0.2833 - val_accuracy: 0.9573\n",
      "Epoch 40/200\n",
      "1500/1500 [==============================] - 1s 492us/step - loss: 0.2583 - accuracy: 0.9623 - val_loss: 0.2640 - val_accuracy: 0.9618\n",
      "Epoch 41/200\n",
      "1500/1500 [==============================] - 1s 489us/step - loss: 0.2551 - accuracy: 0.9631 - val_loss: 0.2561 - val_accuracy: 0.9613\n",
      "Epoch 42/200\n",
      "1500/1500 [==============================] - 1s 482us/step - loss: 0.2553 - accuracy: 0.9629 - val_loss: 0.2741 - val_accuracy: 0.9580\n",
      "Epoch 43/200\n",
      "1500/1500 [==============================] - 1s 487us/step - loss: 0.2546 - accuracy: 0.9626 - val_loss: 0.2597 - val_accuracy: 0.9605\n",
      "Epoch 44/200\n",
      "1500/1500 [==============================] - 1s 494us/step - loss: 0.2509 - accuracy: 0.9635 - val_loss: 0.2518 - val_accuracy: 0.9632\n",
      "Epoch 45/200\n",
      "1500/1500 [==============================] - 1s 488us/step - loss: 0.2541 - accuracy: 0.9625 - val_loss: 0.2471 - val_accuracy: 0.9651\n",
      "Epoch 46/200\n",
      "1500/1500 [==============================] - 1s 489us/step - loss: 0.2501 - accuracy: 0.9634 - val_loss: 0.2554 - val_accuracy: 0.9628\n",
      "Epoch 47/200\n",
      "1500/1500 [==============================] - 1s 484us/step - loss: 0.2498 - accuracy: 0.9635 - val_loss: 0.2554 - val_accuracy: 0.9637\n",
      "Epoch 48/200\n",
      "1500/1500 [==============================] - 1s 484us/step - loss: 0.2524 - accuracy: 0.9623 - val_loss: 0.2628 - val_accuracy: 0.9578\n",
      "Epoch 49/200\n",
      "1500/1500 [==============================] - 1s 500us/step - loss: 0.2493 - accuracy: 0.9633 - val_loss: 0.2791 - val_accuracy: 0.9517\n",
      "Epoch 50/200\n",
      "1500/1500 [==============================] - 1s 484us/step - loss: 0.2495 - accuracy: 0.9635 - val_loss: 0.2536 - val_accuracy: 0.9640\n",
      "Epoch 51/200\n",
      "1500/1500 [==============================] - 1s 488us/step - loss: 0.2488 - accuracy: 0.9631 - val_loss: 0.2662 - val_accuracy: 0.9586\n",
      "Epoch 52/200\n",
      "1500/1500 [==============================] - 1s 490us/step - loss: 0.2492 - accuracy: 0.9632 - val_loss: 0.2566 - val_accuracy: 0.9597\n",
      "Epoch 53/200\n",
      "1500/1500 [==============================] - 1s 483us/step - loss: 0.2466 - accuracy: 0.9639 - val_loss: 0.2502 - val_accuracy: 0.9627\n",
      "Epoch 54/200\n",
      "1500/1500 [==============================] - 1s 493us/step - loss: 0.2444 - accuracy: 0.9639 - val_loss: 0.2394 - val_accuracy: 0.9650\n",
      "Epoch 55/200\n",
      "1500/1500 [==============================] - 1s 490us/step - loss: 0.2458 - accuracy: 0.9636 - val_loss: 0.2311 - val_accuracy: 0.9683\n",
      "Epoch 56/200\n"
     ]
    },
    {
     "name": "stdout",
     "output_type": "stream",
     "text": [
      "1500/1500 [==============================] - 1s 481us/step - loss: 0.2435 - accuracy: 0.9636 - val_loss: 0.2620 - val_accuracy: 0.9580\n",
      "Epoch 57/200\n",
      "1500/1500 [==============================] - 1s 482us/step - loss: 0.2451 - accuracy: 0.9640 - val_loss: 0.2659 - val_accuracy: 0.9573\n",
      "Epoch 58/200\n",
      "1500/1500 [==============================] - 1s 493us/step - loss: 0.2439 - accuracy: 0.9637 - val_loss: 0.2702 - val_accuracy: 0.9564\n",
      "Epoch 59/200\n",
      "1500/1500 [==============================] - 1s 492us/step - loss: 0.2437 - accuracy: 0.9643 - val_loss: 0.2423 - val_accuracy: 0.9639\n",
      "Epoch 60/200\n",
      "1500/1500 [==============================] - 1s 495us/step - loss: 0.2423 - accuracy: 0.9638 - val_loss: 0.2570 - val_accuracy: 0.9614\n",
      "Epoch 61/200\n",
      "1500/1500 [==============================] - 1s 498us/step - loss: 0.2430 - accuracy: 0.9636 - val_loss: 0.2440 - val_accuracy: 0.9653\n",
      "Epoch 62/200\n",
      "1500/1500 [==============================] - 1s 490us/step - loss: 0.2413 - accuracy: 0.9649 - val_loss: 0.2532 - val_accuracy: 0.9615\n",
      "Epoch 63/200\n",
      "1500/1500 [==============================] - 1s 492us/step - loss: 0.2435 - accuracy: 0.9635 - val_loss: 0.2507 - val_accuracy: 0.9617\n",
      "Epoch 64/200\n",
      "1500/1500 [==============================] - 1s 502us/step - loss: 0.2416 - accuracy: 0.9639 - val_loss: 0.2390 - val_accuracy: 0.9657\n",
      "Epoch 65/200\n",
      "1500/1500 [==============================] - 1s 492us/step - loss: 0.2420 - accuracy: 0.9631 - val_loss: 0.2650 - val_accuracy: 0.9557\n",
      "Epoch 66/200\n",
      "1500/1500 [==============================] - 1s 493us/step - loss: 0.2385 - accuracy: 0.9651 - val_loss: 0.2489 - val_accuracy: 0.9601\n",
      "Epoch 67/200\n",
      "1500/1500 [==============================] - 1s 499us/step - loss: 0.2425 - accuracy: 0.9629 - val_loss: 0.2343 - val_accuracy: 0.9682\n",
      "Epoch 68/200\n",
      "1500/1500 [==============================] - 1s 488us/step - loss: 0.2396 - accuracy: 0.9638 - val_loss: 0.2623 - val_accuracy: 0.9586\n",
      "Epoch 69/200\n",
      "1500/1500 [==============================] - 1s 488us/step - loss: 0.2412 - accuracy: 0.9633 - val_loss: 0.2496 - val_accuracy: 0.9593\n",
      "Epoch 70/200\n",
      "1500/1500 [==============================] - 1s 492us/step - loss: 0.2394 - accuracy: 0.9637 - val_loss: 0.2606 - val_accuracy: 0.9576\n",
      "Epoch 71/200\n",
      "1500/1500 [==============================] - 1s 486us/step - loss: 0.2398 - accuracy: 0.9642 - val_loss: 0.2416 - val_accuracy: 0.9643\n",
      "Epoch 72/200\n",
      "1500/1500 [==============================] - 1s 493us/step - loss: 0.2374 - accuracy: 0.9646 - val_loss: 0.2390 - val_accuracy: 0.9634\n",
      "Epoch 73/200\n",
      "1500/1500 [==============================] - 1s 493us/step - loss: 0.2373 - accuracy: 0.9640 - val_loss: 0.2627 - val_accuracy: 0.9561\n",
      "Epoch 74/200\n",
      "1500/1500 [==============================] - 1s 490us/step - loss: 0.2373 - accuracy: 0.9639 - val_loss: 0.2474 - val_accuracy: 0.9620\n",
      "Epoch 75/200\n",
      "1500/1500 [==============================] - 1s 501us/step - loss: 0.2364 - accuracy: 0.9646 - val_loss: 0.2519 - val_accuracy: 0.9619\n",
      "Epoch 76/200\n",
      "1500/1500 [==============================] - 1s 487us/step - loss: 0.2384 - accuracy: 0.9644 - val_loss: 0.2667 - val_accuracy: 0.9567\n",
      "Epoch 77/200\n",
      "1500/1500 [==============================] - 1s 486us/step - loss: 0.2364 - accuracy: 0.9648 - val_loss: 0.2631 - val_accuracy: 0.9580\n",
      "Epoch 78/200\n",
      "1500/1500 [==============================] - 1s 496us/step - loss: 0.2360 - accuracy: 0.9646 - val_loss: 0.2511 - val_accuracy: 0.9615\n",
      "Epoch 79/200\n",
      "1500/1500 [==============================] - 1s 484us/step - loss: 0.2331 - accuracy: 0.9667 - val_loss: 0.2545 - val_accuracy: 0.9599\n",
      "Epoch 80/200\n",
      "1500/1500 [==============================] - 1s 488us/step - loss: 0.2368 - accuracy: 0.9635 - val_loss: 0.2667 - val_accuracy: 0.9560\n",
      "Epoch 81/200\n",
      "1500/1500 [==============================] - 1s 497us/step - loss: 0.2347 - accuracy: 0.9644 - val_loss: 0.2393 - val_accuracy: 0.9623\n",
      "Epoch 82/200\n",
      "1500/1500 [==============================] - 1s 490us/step - loss: 0.2345 - accuracy: 0.9645 - val_loss: 0.2402 - val_accuracy: 0.9634\n",
      "Epoch 83/200\n",
      "1500/1500 [==============================] - 1s 488us/step - loss: 0.2369 - accuracy: 0.9639 - val_loss: 0.2678 - val_accuracy: 0.9542\n",
      "Epoch 84/200\n",
      "1500/1500 [==============================] - 1s 492us/step - loss: 0.2320 - accuracy: 0.9657 - val_loss: 0.2413 - val_accuracy: 0.9629\n",
      "Epoch 85/200\n",
      "1500/1500 [==============================] - 1s 488us/step - loss: 0.2378 - accuracy: 0.9631 - val_loss: 0.2597 - val_accuracy: 0.9579\n",
      "Epoch 86/200\n",
      "1500/1500 [==============================] - 1s 487us/step - loss: 0.2323 - accuracy: 0.9652 - val_loss: 0.2394 - val_accuracy: 0.9633\n",
      "Epoch 87/200\n",
      "1500/1500 [==============================] - 1s 491us/step - loss: 0.2355 - accuracy: 0.9641 - val_loss: 0.2321 - val_accuracy: 0.9646\n",
      "Epoch 88/200\n",
      "1500/1500 [==============================] - 1s 491us/step - loss: 0.2331 - accuracy: 0.9647 - val_loss: 0.2398 - val_accuracy: 0.9638\n",
      "Epoch 89/200\n",
      "1500/1500 [==============================] - 1s 490us/step - loss: 0.2324 - accuracy: 0.9651 - val_loss: 0.2384 - val_accuracy: 0.9639\n",
      "Epoch 90/200\n",
      "1500/1500 [==============================] - 1s 488us/step - loss: 0.2319 - accuracy: 0.9643 - val_loss: 0.2431 - val_accuracy: 0.9626\n",
      "Epoch 91/200\n",
      "1500/1500 [==============================] - 1s 482us/step - loss: 0.2309 - accuracy: 0.9656 - val_loss: 0.2411 - val_accuracy: 0.9627\n",
      "Epoch 92/200\n",
      "1500/1500 [==============================] - 1s 483us/step - loss: 0.2311 - accuracy: 0.9647 - val_loss: 0.2555 - val_accuracy: 0.9578\n",
      "Epoch 93/200\n",
      "1500/1500 [==============================] - 1s 490us/step - loss: 0.2308 - accuracy: 0.9652 - val_loss: 0.2517 - val_accuracy: 0.9577\n",
      "Epoch 94/200\n",
      "1500/1500 [==============================] - 1s 486us/step - loss: 0.2322 - accuracy: 0.9648 - val_loss: 0.2421 - val_accuracy: 0.9604\n",
      "Epoch 95/200\n",
      "1500/1500 [==============================] - 1s 486us/step - loss: 0.2319 - accuracy: 0.9644 - val_loss: 0.2511 - val_accuracy: 0.9572\n",
      "Epoch 96/200\n",
      "1500/1500 [==============================] - 1s 487us/step - loss: 0.2308 - accuracy: 0.9647 - val_loss: 0.2399 - val_accuracy: 0.9632\n",
      "Epoch 97/200\n",
      "1500/1500 [==============================] - 1s 483us/step - loss: 0.2326 - accuracy: 0.9651 - val_loss: 0.2402 - val_accuracy: 0.9643\n",
      "Epoch 98/200\n",
      "1500/1500 [==============================] - 1s 484us/step - loss: 0.2298 - accuracy: 0.9653 - val_loss: 0.2504 - val_accuracy: 0.9597\n",
      "Epoch 99/200\n",
      "1500/1500 [==============================] - 1s 489us/step - loss: 0.2298 - accuracy: 0.9656 - val_loss: 0.2504 - val_accuracy: 0.9603\n",
      "Epoch 100/200\n",
      "1500/1500 [==============================] - 1s 488us/step - loss: 0.2312 - accuracy: 0.9640 - val_loss: 0.2473 - val_accuracy: 0.9598\n",
      "Epoch 101/200\n",
      "1500/1500 [==============================] - 1s 483us/step - loss: 0.2326 - accuracy: 0.9639 - val_loss: 0.2510 - val_accuracy: 0.9570\n",
      "Epoch 102/200\n",
      "1500/1500 [==============================] - 1s 492us/step - loss: 0.2305 - accuracy: 0.9644 - val_loss: 0.2321 - val_accuracy: 0.9668\n",
      "Epoch 103/200\n",
      "1500/1500 [==============================] - 1s 486us/step - loss: 0.2308 - accuracy: 0.9656 - val_loss: 0.2418 - val_accuracy: 0.9635\n",
      "Epoch 104/200\n",
      "1500/1500 [==============================] - 1s 489us/step - loss: 0.2315 - accuracy: 0.9645 - val_loss: 0.2341 - val_accuracy: 0.9632\n",
      "Epoch 105/200\n",
      "1500/1500 [==============================] - 1s 490us/step - loss: 0.2293 - accuracy: 0.9649 - val_loss: 0.2264 - val_accuracy: 0.9673\n",
      "Epoch 106/200\n",
      "1500/1500 [==============================] - 1s 484us/step - loss: 0.2298 - accuracy: 0.9645 - val_loss: 0.2345 - val_accuracy: 0.9634\n",
      "Epoch 107/200\n",
      "1500/1500 [==============================] - 1s 485us/step - loss: 0.2298 - accuracy: 0.9653 - val_loss: 0.2346 - val_accuracy: 0.9645\n",
      "Epoch 108/200\n",
      "1500/1500 [==============================] - 1s 489us/step - loss: 0.2274 - accuracy: 0.9662 - val_loss: 0.2542 - val_accuracy: 0.9589\n",
      "Epoch 109/200\n",
      "1500/1500 [==============================] - 1s 481us/step - loss: 0.2279 - accuracy: 0.9651 - val_loss: 0.2510 - val_accuracy: 0.9597\n",
      "Epoch 110/200\n",
      "1500/1500 [==============================] - 1s 483us/step - loss: 0.2277 - accuracy: 0.9660 - val_loss: 0.2429 - val_accuracy: 0.9632\n",
      "Epoch 111/200\n"
     ]
    },
    {
     "name": "stdout",
     "output_type": "stream",
     "text": [
      "1500/1500 [==============================] - 1s 489us/step - loss: 0.2281 - accuracy: 0.9663 - val_loss: 0.2363 - val_accuracy: 0.9638\n",
      "Epoch 112/200\n",
      "1500/1500 [==============================] - 1s 480us/step - loss: 0.2289 - accuracy: 0.9651 - val_loss: 0.2415 - val_accuracy: 0.9621\n",
      "Epoch 113/200\n",
      "1500/1500 [==============================] - 1s 480us/step - loss: 0.2274 - accuracy: 0.9654 - val_loss: 0.2451 - val_accuracy: 0.9608\n",
      "Epoch 114/200\n",
      "1500/1500 [==============================] - 1s 488us/step - loss: 0.2293 - accuracy: 0.9647 - val_loss: 0.2524 - val_accuracy: 0.9577\n",
      "Epoch 115/200\n",
      "1500/1500 [==============================] - 1s 481us/step - loss: 0.2290 - accuracy: 0.9651 - val_loss: 0.2398 - val_accuracy: 0.9613\n",
      "Epoch 116/200\n",
      "1500/1500 [==============================] - 1s 483us/step - loss: 0.2278 - accuracy: 0.9655 - val_loss: 0.2356 - val_accuracy: 0.9638\n",
      "Epoch 117/200\n",
      "1500/1500 [==============================] - 1s 495us/step - loss: 0.2282 - accuracy: 0.9648 - val_loss: 0.2396 - val_accuracy: 0.9615\n",
      "Epoch 118/200\n",
      "1500/1500 [==============================] - 1s 492us/step - loss: 0.2270 - accuracy: 0.9647 - val_loss: 0.2450 - val_accuracy: 0.9611\n",
      "Epoch 119/200\n",
      "1500/1500 [==============================] - 1s 495us/step - loss: 0.2300 - accuracy: 0.9648 - val_loss: 0.2442 - val_accuracy: 0.9632\n",
      "Epoch 120/200\n",
      "1500/1500 [==============================] - 1s 495us/step - loss: 0.2254 - accuracy: 0.9660 - val_loss: 0.2553 - val_accuracy: 0.9597\n",
      "Epoch 121/200\n",
      "1500/1500 [==============================] - 1s 492us/step - loss: 0.2246 - accuracy: 0.9660 - val_loss: 0.2662 - val_accuracy: 0.9527\n",
      "Epoch 122/200\n",
      "1500/1500 [==============================] - 1s 504us/step - loss: 0.2261 - accuracy: 0.9651 - val_loss: 0.2694 - val_accuracy: 0.9531\n",
      "Epoch 123/200\n",
      "1500/1500 [==============================] - 1s 497us/step - loss: 0.2276 - accuracy: 0.9653 - val_loss: 0.2313 - val_accuracy: 0.9640\n",
      "Epoch 124/200\n",
      "1500/1500 [==============================] - 1s 500us/step - loss: 0.2263 - accuracy: 0.9648 - val_loss: 0.2353 - val_accuracy: 0.9635\n",
      "Epoch 125/200\n",
      "1500/1500 [==============================] - 1s 499us/step - loss: 0.2299 - accuracy: 0.9640 - val_loss: 0.2349 - val_accuracy: 0.9626\n",
      "Epoch 126/200\n",
      "1500/1500 [==============================] - 1s 490us/step - loss: 0.2233 - accuracy: 0.9661 - val_loss: 0.2356 - val_accuracy: 0.9625\n",
      "Epoch 127/200\n",
      "1500/1500 [==============================] - 1s 485us/step - loss: 0.2261 - accuracy: 0.9656 - val_loss: 0.2464 - val_accuracy: 0.9611\n",
      "Epoch 128/200\n",
      "1500/1500 [==============================] - 1s 497us/step - loss: 0.2261 - accuracy: 0.9650 - val_loss: 0.2388 - val_accuracy: 0.9630\n",
      "Epoch 129/200\n",
      "1500/1500 [==============================] - 1s 489us/step - loss: 0.2234 - accuracy: 0.9655 - val_loss: 0.2418 - val_accuracy: 0.9606\n",
      "Epoch 130/200\n",
      "1500/1500 [==============================] - 1s 480us/step - loss: 0.2242 - accuracy: 0.9668 - val_loss: 0.2521 - val_accuracy: 0.9599\n",
      "Epoch 131/200\n",
      "1500/1500 [==============================] - 1s 495us/step - loss: 0.2232 - accuracy: 0.9667 - val_loss: 0.2441 - val_accuracy: 0.9622\n",
      "Epoch 132/200\n",
      "1500/1500 [==============================] - 1s 485us/step - loss: 0.2267 - accuracy: 0.9641 - val_loss: 0.2577 - val_accuracy: 0.9574\n",
      "Epoch 133/200\n",
      "1500/1500 [==============================] - 1s 481us/step - loss: 0.2250 - accuracy: 0.9656 - val_loss: 0.2558 - val_accuracy: 0.9567\n",
      "Epoch 134/200\n",
      "1500/1500 [==============================] - 1s 486us/step - loss: 0.2229 - accuracy: 0.9659 - val_loss: 0.2247 - val_accuracy: 0.9667\n",
      "Epoch 135/200\n",
      "1500/1500 [==============================] - 1s 484us/step - loss: 0.2239 - accuracy: 0.9661 - val_loss: 0.2382 - val_accuracy: 0.9629\n",
      "Epoch 136/200\n",
      "1500/1500 [==============================] - 1s 481us/step - loss: 0.2261 - accuracy: 0.9651 - val_loss: 0.2264 - val_accuracy: 0.9667\n",
      "Epoch 137/200\n",
      "1500/1500 [==============================] - 1s 485us/step - loss: 0.2228 - accuracy: 0.9659 - val_loss: 0.2405 - val_accuracy: 0.9627\n",
      "Epoch 138/200\n",
      "1500/1500 [==============================] - 1s 484us/step - loss: 0.2238 - accuracy: 0.9664 - val_loss: 0.2257 - val_accuracy: 0.9659\n",
      "Epoch 139/200\n",
      "1500/1500 [==============================] - 1s 482us/step - loss: 0.2255 - accuracy: 0.9657 - val_loss: 0.2278 - val_accuracy: 0.9655\n",
      "Epoch 140/200\n",
      "1500/1500 [==============================] - 1s 492us/step - loss: 0.2237 - accuracy: 0.9655 - val_loss: 0.2551 - val_accuracy: 0.9563\n",
      "Epoch 141/200\n",
      "1500/1500 [==============================] - 1s 484us/step - loss: 0.2245 - accuracy: 0.9660 - val_loss: 0.2366 - val_accuracy: 0.9633\n",
      "Epoch 142/200\n",
      "1500/1500 [==============================] - 1s 482us/step - loss: 0.2247 - accuracy: 0.9655 - val_loss: 0.2378 - val_accuracy: 0.9626\n",
      "Epoch 143/200\n",
      "1500/1500 [==============================] - 1s 489us/step - loss: 0.2227 - accuracy: 0.9657 - val_loss: 0.2362 - val_accuracy: 0.9631\n",
      "Epoch 144/200\n",
      "1500/1500 [==============================] - 1s 487us/step - loss: 0.2230 - accuracy: 0.9657 - val_loss: 0.2311 - val_accuracy: 0.9646\n",
      "Epoch 145/200\n",
      "1500/1500 [==============================] - 1s 482us/step - loss: 0.2215 - accuracy: 0.9664 - val_loss: 0.2309 - val_accuracy: 0.9638\n",
      "Epoch 146/200\n",
      "1500/1500 [==============================] - 1s 488us/step - loss: 0.2244 - accuracy: 0.9653 - val_loss: 0.2209 - val_accuracy: 0.9675\n",
      "Epoch 147/200\n",
      "1500/1500 [==============================] - 1s 483us/step - loss: 0.2230 - accuracy: 0.9661 - val_loss: 0.2480 - val_accuracy: 0.9568\n",
      "Epoch 148/200\n",
      "1500/1500 [==============================] - 1s 484us/step - loss: 0.2227 - accuracy: 0.9661 - val_loss: 0.2390 - val_accuracy: 0.9602\n",
      "Epoch 149/200\n",
      "1500/1500 [==============================] - 1s 489us/step - loss: 0.2219 - accuracy: 0.9664 - val_loss: 0.2360 - val_accuracy: 0.9636\n",
      "Epoch 150/200\n",
      "1500/1500 [==============================] - 1s 483us/step - loss: 0.2223 - accuracy: 0.9662 - val_loss: 0.2352 - val_accuracy: 0.9635\n",
      "Epoch 151/200\n",
      "1500/1500 [==============================] - 1s 480us/step - loss: 0.2216 - accuracy: 0.9656 - val_loss: 0.2324 - val_accuracy: 0.9651\n",
      "Epoch 152/200\n",
      "1500/1500 [==============================] - 1s 486us/step - loss: 0.2236 - accuracy: 0.9653 - val_loss: 0.2336 - val_accuracy: 0.9632\n",
      "Epoch 153/200\n",
      "1500/1500 [==============================] - 1s 484us/step - loss: 0.2215 - accuracy: 0.9664 - val_loss: 0.2267 - val_accuracy: 0.9656\n",
      "Epoch 154/200\n",
      "1500/1500 [==============================] - 1s 489us/step - loss: 0.2212 - accuracy: 0.9659 - val_loss: 0.2278 - val_accuracy: 0.9634\n",
      "Epoch 155/200\n",
      "1500/1500 [==============================] - 1s 489us/step - loss: 0.2214 - accuracy: 0.9659 - val_loss: 0.2419 - val_accuracy: 0.9604\n",
      "Epoch 156/200\n",
      "1500/1500 [==============================] - 1s 480us/step - loss: 0.2220 - accuracy: 0.9658 - val_loss: 0.2482 - val_accuracy: 0.9573\n",
      "Epoch 157/200\n",
      "1500/1500 [==============================] - 1s 482us/step - loss: 0.2195 - accuracy: 0.9670 - val_loss: 0.2441 - val_accuracy: 0.9600\n",
      "Epoch 158/200\n",
      "1500/1500 [==============================] - 1s 486us/step - loss: 0.2221 - accuracy: 0.9654 - val_loss: 0.2400 - val_accuracy: 0.9612\n",
      "Epoch 159/200\n",
      "1500/1500 [==============================] - 1s 483us/step - loss: 0.2196 - accuracy: 0.9661 - val_loss: 0.2393 - val_accuracy: 0.9611\n",
      "Epoch 160/200\n",
      "1500/1500 [==============================] - 1s 489us/step - loss: 0.2223 - accuracy: 0.9658 - val_loss: 0.2289 - val_accuracy: 0.9670\n",
      "Epoch 161/200\n",
      "1500/1500 [==============================] - 1s 489us/step - loss: 0.2208 - accuracy: 0.9658 - val_loss: 0.2271 - val_accuracy: 0.9654\n",
      "Epoch 162/200\n",
      "1500/1500 [==============================] - 1s 483us/step - loss: 0.2196 - accuracy: 0.9669 - val_loss: 0.2252 - val_accuracy: 0.9636\n",
      "Epoch 163/200\n",
      "1500/1500 [==============================] - 1s 485us/step - loss: 0.2210 - accuracy: 0.9663 - val_loss: 0.2238 - val_accuracy: 0.9652\n",
      "Epoch 164/200\n",
      "1500/1500 [==============================] - 1s 489us/step - loss: 0.2190 - accuracy: 0.9668 - val_loss: 0.2328 - val_accuracy: 0.9628\n",
      "Epoch 165/200\n",
      "1500/1500 [==============================] - 1s 481us/step - loss: 0.2229 - accuracy: 0.9654 - val_loss: 0.2427 - val_accuracy: 0.9628\n",
      "Epoch 166/200\n"
     ]
    },
    {
     "name": "stdout",
     "output_type": "stream",
     "text": [
      "1500/1500 [==============================] - 1s 484us/step - loss: 0.2187 - accuracy: 0.9668 - val_loss: 0.2263 - val_accuracy: 0.9645\n",
      "Epoch 167/200\n",
      "1500/1500 [==============================] - 1s 513us/step - loss: 0.2219 - accuracy: 0.9657 - val_loss: 0.2202 - val_accuracy: 0.9664\n",
      "Epoch 168/200\n",
      "1500/1500 [==============================] - 1s 486us/step - loss: 0.2202 - accuracy: 0.9668 - val_loss: 0.2276 - val_accuracy: 0.9651\n",
      "Epoch 169/200\n",
      "1500/1500 [==============================] - 1s 486us/step - loss: 0.2207 - accuracy: 0.9668 - val_loss: 0.2333 - val_accuracy: 0.9622\n",
      "Epoch 170/200\n",
      "1500/1500 [==============================] - 1s 485us/step - loss: 0.2208 - accuracy: 0.9661 - val_loss: 0.2290 - val_accuracy: 0.9635\n",
      "Epoch 171/200\n",
      "1500/1500 [==============================] - 1s 479us/step - loss: 0.2194 - accuracy: 0.9663 - val_loss: 0.2338 - val_accuracy: 0.9629\n",
      "Epoch 172/200\n",
      "1500/1500 [==============================] - 1s 483us/step - loss: 0.2217 - accuracy: 0.9655 - val_loss: 0.2384 - val_accuracy: 0.9594\n",
      "Epoch 173/200\n",
      "1500/1500 [==============================] - 1s 484us/step - loss: 0.2177 - accuracy: 0.9669 - val_loss: 0.2375 - val_accuracy: 0.9614\n",
      "Epoch 174/200\n",
      "1500/1500 [==============================] - 1s 480us/step - loss: 0.2194 - accuracy: 0.9662 - val_loss: 0.2179 - val_accuracy: 0.9668\n",
      "Epoch 175/200\n",
      "1500/1500 [==============================] - 1s 486us/step - loss: 0.2211 - accuracy: 0.9658 - val_loss: 0.2397 - val_accuracy: 0.9613\n",
      "Epoch 176/200\n",
      "1500/1500 [==============================] - 1s 482us/step - loss: 0.2193 - accuracy: 0.9669 - val_loss: 0.2510 - val_accuracy: 0.9575\n",
      "Epoch 177/200\n",
      "1500/1500 [==============================] - 1s 479us/step - loss: 0.2202 - accuracy: 0.9659 - val_loss: 0.2426 - val_accuracy: 0.9613\n",
      "Epoch 178/200\n",
      "1500/1500 [==============================] - 1s 485us/step - loss: 0.2159 - accuracy: 0.9675 - val_loss: 0.2559 - val_accuracy: 0.9553\n",
      "Epoch 179/200\n",
      "1500/1500 [==============================] - 1s 480us/step - loss: 0.2197 - accuracy: 0.9658 - val_loss: 0.2431 - val_accuracy: 0.9588\n",
      "Epoch 180/200\n",
      "1500/1500 [==============================] - 1s 480us/step - loss: 0.2204 - accuracy: 0.9660 - val_loss: 0.2297 - val_accuracy: 0.9628\n",
      "Epoch 181/200\n",
      "1500/1500 [==============================] - 1s 490us/step - loss: 0.2209 - accuracy: 0.9662 - val_loss: 0.2273 - val_accuracy: 0.9649\n",
      "Epoch 182/200\n",
      "1500/1500 [==============================] - 1s 479us/step - loss: 0.2209 - accuracy: 0.9659 - val_loss: 0.2299 - val_accuracy: 0.9622\n",
      "Epoch 183/200\n",
      "1500/1500 [==============================] - 1s 482us/step - loss: 0.2192 - accuracy: 0.9665 - val_loss: 0.2446 - val_accuracy: 0.9597\n",
      "Epoch 184/200\n",
      "1500/1500 [==============================] - 1s 489us/step - loss: 0.2218 - accuracy: 0.9649 - val_loss: 0.2295 - val_accuracy: 0.9632\n",
      "Epoch 185/200\n",
      "1500/1500 [==============================] - 1s 483us/step - loss: 0.2181 - accuracy: 0.9664 - val_loss: 0.2251 - val_accuracy: 0.9664\n",
      "Epoch 186/200\n",
      "1500/1500 [==============================] - 1s 481us/step - loss: 0.2199 - accuracy: 0.9666 - val_loss: 0.2571 - val_accuracy: 0.9549\n",
      "Epoch 187/200\n",
      "1500/1500 [==============================] - 1s 488us/step - loss: 0.2157 - accuracy: 0.9679 - val_loss: 0.2614 - val_accuracy: 0.9546\n",
      "Epoch 188/200\n",
      "1500/1500 [==============================] - 1s 481us/step - loss: 0.2189 - accuracy: 0.9659 - val_loss: 0.2305 - val_accuracy: 0.9632\n",
      "Epoch 189/200\n",
      "1500/1500 [==============================] - 1s 481us/step - loss: 0.2186 - accuracy: 0.9663 - val_loss: 0.2446 - val_accuracy: 0.9573\n",
      "Epoch 190/200\n",
      "1500/1500 [==============================] - 1s 489us/step - loss: 0.2192 - accuracy: 0.9663 - val_loss: 0.2364 - val_accuracy: 0.9636\n",
      "Epoch 191/200\n",
      "1500/1500 [==============================] - 1s 483us/step - loss: 0.2197 - accuracy: 0.9664 - val_loss: 0.2417 - val_accuracy: 0.9584\n",
      "Epoch 192/200\n",
      "1500/1500 [==============================] - 1s 484us/step - loss: 0.2208 - accuracy: 0.9651 - val_loss: 0.2274 - val_accuracy: 0.9639\n",
      "Epoch 193/200\n",
      "1500/1500 [==============================] - 1s 486us/step - loss: 0.2163 - accuracy: 0.9661 - val_loss: 0.2426 - val_accuracy: 0.9592\n",
      "Epoch 194/200\n",
      "1500/1500 [==============================] - 1s 480us/step - loss: 0.2186 - accuracy: 0.9667 - val_loss: 0.2437 - val_accuracy: 0.9586\n",
      "Epoch 195/200\n",
      "1500/1500 [==============================] - 1s 482us/step - loss: 0.2187 - accuracy: 0.9663 - val_loss: 0.2379 - val_accuracy: 0.9588\n",
      "Epoch 196/200\n",
      "1500/1500 [==============================] - 1s 486us/step - loss: 0.2179 - accuracy: 0.9662 - val_loss: 0.2436 - val_accuracy: 0.9595\n",
      "Epoch 197/200\n",
      "1500/1500 [==============================] - 1s 481us/step - loss: 0.2206 - accuracy: 0.9651 - val_loss: 0.2308 - val_accuracy: 0.9627\n",
      "Epoch 198/200\n",
      "1500/1500 [==============================] - 1s 490us/step - loss: 0.2154 - accuracy: 0.9676 - val_loss: 0.2280 - val_accuracy: 0.9643\n",
      "Epoch 199/200\n",
      "1500/1500 [==============================] - 1s 489us/step - loss: 0.2157 - accuracy: 0.9671 - val_loss: 0.2397 - val_accuracy: 0.9609\n",
      "Epoch 200/200\n",
      "1500/1500 [==============================] - 1s 487us/step - loss: 0.2168 - accuracy: 0.9668 - val_loss: 0.2586 - val_accuracy: 0.9567\n"
     ]
    }
   ],
   "source": [
    "# will take a while... saving training history\n",
    "history_deepermnist = deepermodel_images.fit(x_train, y_tr_one_hot, epochs=200, batch_size= 32, validation_split = 0.2)"
   ]
  },
  {
   "cell_type": "code",
   "execution_count": 20,
   "metadata": {
    "cell_style": "split",
    "slideshow": {
     "slide_type": "slide"
    }
   },
   "outputs": [
    {
     "name": "stdout",
     "output_type": "stream",
     "text": [
      "313/313 - 0s - loss: 0.2515 - accuracy: 0.9564\n"
     ]
    },
    {
     "data": {
      "text/plain": [
       "[0.2515091896057129, 0.9563999772071838]"
      ]
     },
     "execution_count": 20,
     "metadata": {},
     "output_type": "execute_result"
    }
   ],
   "source": [
    "#evaluate test accuracy\n",
    "deepermodel_images.evaluate(x_test, y_tt_one_hot, verbose = 2)"
   ]
  },
  {
   "cell_type": "code",
   "execution_count": 21,
   "metadata": {
    "cell_style": "split",
    "slideshow": {
     "slide_type": "fragment"
    }
   },
   "outputs": [
    {
     "data": {
      "image/png": "[encoded data removed]",
      "text/plain": [
       "<Figure size 432x288 with 1 Axes>"
      ]
     },
     "metadata": {
      "needs_background": "light"
     },
     "output_type": "display_data"
    }
   ],
   "source": [
    "train_deepmnist_history = pd.DataFrame(history_deepermnist.history)\n",
    "train_deepmnist_history.index.name = 'epochs'\n",
    "\n",
    "col_list = ['loss', 'val_loss']\n",
    "train_deepmnist_history[col_list].plot()\n",
    "plt.ylabel('Categorical cross entropy')\n",
    "plt.title('Training loss history')\n",
    "plt.show()\n",
    "#Here we made the model more complex."
   ]
  },
  {
   "cell_type": "code",
   "execution_count": 22,
   "metadata": {
    "cell_style": "split",
    "slideshow": {
     "slide_type": "slide"
    }
   },
   "outputs": [
    {
     "data": {
      "image/png": "[encoded data removed]",
      "text/plain": [
       "<Figure size 432x288 with 1 Axes>"
      ]
     },
     "metadata": {
      "needs_background": "light"
     },
     "output_type": "display_data"
    }
   ],
   "source": [
    "col_list = ['accuracy', 'val_accuracy']\n",
    "train_deepmnist_history[col_list].plot()\n",
    "plt.ylabel('Accuracy')\n",
    "plt.title('Training loss history')\n",
    "plt.show()"
   ]
  },
  {
   "cell_type": "markdown",
   "metadata": {
    "cell_style": "split",
    "slideshow": {
     "slide_type": "fragment"
    }
   },
   "source": [
    "Not overfitting even while adding much more complexity:\n",
    "- in this case, not gaining much either"
   ]
  },
  {
   "cell_type": "markdown",
   "metadata": {
    "cell_style": "split",
    "slideshow": {
     "slide_type": "fragment"
    }
   },
   "source": [
    "To do better:\n",
    "- try a different regularization technique\n",
    "- may need to think harder about network architecture"
   ]
  },
  {
   "cell_type": "markdown",
   "metadata": {
    "cell_style": "center",
    "slideshow": {
     "slide_type": "slide"
    }
   },
   "source": [
    "#### Dropout Regularization\n",
    "- Architecture based strategy.\n",
    "\n",
    "On each forward/backprop iteration:\n",
    "- given layer with dropout\n",
    "- shut off activations to randomly selected nodes in layer"
   ]
  },
  {
   "cell_type": "markdown",
   "metadata": {
    "cell_style": "split",
    "slideshow": {
     "slide_type": "slide"
    }
   },
   "source": [
    "![drop_out](images/drop_out.png)"
   ]
  },
  {
   "cell_type": "markdown",
   "metadata": {
    "cell_style": "split",
    "slideshow": {
     "slide_type": "fragment"
    }
   },
   "source": [
    "<img src = \"Images/dropout_network.gif\" >"
   ]
  },
  {
   "cell_type": "code",
   "execution_count": null,
   "metadata": {},
   "outputs": [],
   "source": [
    "#For hidden layer 4, there is a 25% probability for each node that it will turn off?"
   ]
  },
  {
   "cell_type": "markdown",
   "metadata": {
    "cell_style": "center",
    "slideshow": {
     "slide_type": "fragment"
    }
   },
   "source": [
    "- Set $p^{[l]}$  uniform probability of node dropout for given layer\n",
    "- each train cycle: kills different activations"
   ]
  },
  {
   "cell_type": "markdown",
   "metadata": {
    "cell_style": "center",
    "slideshow": {
     "slide_type": "fragment"
    }
   },
   "source": [
    "Dead nodes dont contribute to weight updates in backprop."
   ]
  },
  {
   "cell_type": "markdown",
   "metadata": {
    "cell_style": "center",
    "slideshow": {
     "slide_type": "fragment"
    }
   },
   "source": [
    "after many train cycles: have learned weights:\n",
    "- contributions from many different networks learning different things"
   ]
  },
  {
   "cell_type": "markdown",
   "metadata": {
    "cell_style": "split",
    "slideshow": {
     "slide_type": "slide"
    }
   },
   "source": [
    "<img src = \"Images/Deeper_network.jpg\">"
   ]
  },
  {
   "cell_type": "markdown",
   "metadata": {
    "cell_style": "split",
    "slideshow": {
     "slide_type": "fragment"
    }
   },
   "source": [
    "Validation/test phase:\n",
    "- use all nodes and learned weights.\n",
    "- make prediction."
   ]
  },
  {
   "cell_type": "markdown",
   "metadata": {
    "cell_style": "center",
    "slideshow": {
     "slide_type": "slide"
    }
   },
   "source": [
    "**Why it works as regularization**\n",
    "- network learns not to trust in any one subset of weights: unlikely any particular weight subset gets too big.\n",
    "- distributes weights in way that is robust to network noise (random dropout): generalizes well. "
   ]
  },
  {
   "cell_type": "markdown",
   "metadata": {
    "slideshow": {
     "slide_type": "slide"
    }
   },
   "source": [
    "#### Dropout in Keras\n",
    "\n",
    "- Simply add it as though it were a layer. It will apply to the immediately preceding layer."
   ]
  },
  {
   "cell_type": "code",
   "execution_count": 23,
   "metadata": {
    "slideshow": {
     "slide_type": "fragment"
    }
   },
   "outputs": [],
   "source": [
    "from tensorflow.keras.layers import Dropout"
   ]
  },
  {
   "cell_type": "markdown",
   "metadata": {
    "cell_style": "center",
    "slideshow": {
     "slide_type": "slide"
    }
   },
   "source": [
    "Dropout() takes in the dropout probability as a constructor argument:\n",
    "- Dropout($p$) after some of the hidden layers.\n",
    "- $p \\in [0.2, 0.5]$ as good range to try."
   ]
  },
  {
   "cell_type": "code",
   "execution_count": 24,
   "metadata": {
    "slideshow": {
     "slide_type": "subslide"
    }
   },
   "outputs": [],
   "source": [
    "from tensorflow.keras.optimizers import Adam\n",
    "opt = Adam(learning_rate=0.003, beta_1=0.9, beta_2=0.999, epsilon=1e-07)"
   ]
  },
  {
   "cell_type": "markdown",
   "metadata": {
    "slideshow": {
     "slide_type": "slide"
    }
   },
   "source": [
    "**Define model**"
   ]
  },
  {
   "cell_type": "code",
   "execution_count": 25,
   "metadata": {
    "cell_style": "split",
    "slideshow": {
     "slide_type": "fragment"
    }
   },
   "outputs": [],
   "source": [
    "model = Sequential()\n",
    "model.add(Flatten(input_shape=(28, 28)))\n",
    "model.add(Dense(20, activation='relu'))\n",
    "model.add(Dropout(0.2)) # dropout on previous activations\n",
    "model.add(Dense(12, activation='relu'))\n",
    "model.add(Dense(12, activation='relu'))\n",
    "model.add(Dropout(0.1)) # dropout\n",
    "model.add(Dense(12, activation='relu'))\n",
    "model.add(Dense(8, activation='relu'))\n",
    "model.add(Dense(10, activation ='softmax'))\n",
    "\n",
    "# compile model\n",
    "model.compile(optimizer=opt, \n",
    "              loss='categorical_crossentropy',\n",
    "              metrics=['accuracy'])"
   ]
  },
  {
   "cell_type": "markdown",
   "metadata": {
    "cell_style": "split",
    "slideshow": {
     "slide_type": "fragment"
    }
   },
   "source": [
    "Some tips:\n",
    "- Dropout earlier in network or inputs. Don't put on final layers.\n",
    "- Try faster learning rates in optimizer"
   ]
  },
  {
   "cell_type": "code",
   "execution_count": 26,
   "metadata": {
    "scrolled": true,
    "slideshow": {
     "slide_type": "slide"
    }
   },
   "outputs": [
    {
     "name": "stdout",
     "output_type": "stream",
     "text": [
      "Epoch 1/200\n",
      "1500/1500 - 1s - loss: 0.8695 - accuracy: 0.7085 - val_loss: 0.3830 - val_accuracy: 0.9003\n",
      "Epoch 2/200\n",
      "1500/1500 - 1s - loss: 0.5602 - accuracy: 0.8297 - val_loss: 0.3176 - val_accuracy: 0.9169\n",
      "Epoch 3/200\n",
      "1500/1500 - 1s - loss: 0.4931 - accuracy: 0.8516 - val_loss: 0.2936 - val_accuracy: 0.9247\n",
      "Epoch 4/200\n",
      "1500/1500 - 1s - loss: 0.4606 - accuracy: 0.8627 - val_loss: 0.2753 - val_accuracy: 0.9243\n",
      "Epoch 5/200\n",
      "1500/1500 - 1s - loss: 0.4417 - accuracy: 0.8685 - val_loss: 0.2586 - val_accuracy: 0.9342\n",
      "Epoch 6/200\n",
      "1500/1500 - 1s - loss: 0.4196 - accuracy: 0.8740 - val_loss: 0.2679 - val_accuracy: 0.9299\n",
      "Epoch 7/200\n",
      "1500/1500 - 1s - loss: 0.4066 - accuracy: 0.8811 - val_loss: 0.2490 - val_accuracy: 0.9377\n",
      "Epoch 8/200\n",
      "1500/1500 - 1s - loss: 0.4026 - accuracy: 0.8808 - val_loss: 0.2440 - val_accuracy: 0.9375\n",
      "Epoch 9/200\n",
      "1500/1500 - 1s - loss: 0.3917 - accuracy: 0.8849 - val_loss: 0.2372 - val_accuracy: 0.9397\n",
      "Epoch 10/200\n",
      "1500/1500 - 1s - loss: 0.3786 - accuracy: 0.8899 - val_loss: 0.2291 - val_accuracy: 0.9417\n",
      "Epoch 11/200\n",
      "1500/1500 - 1s - loss: 0.3776 - accuracy: 0.8896 - val_loss: 0.2276 - val_accuracy: 0.9397\n",
      "Epoch 12/200\n",
      "1500/1500 - 1s - loss: 0.3728 - accuracy: 0.8917 - val_loss: 0.2204 - val_accuracy: 0.9412\n",
      "Epoch 13/200\n",
      "1500/1500 - 1s - loss: 0.3581 - accuracy: 0.8967 - val_loss: 0.2341 - val_accuracy: 0.9402\n",
      "Epoch 14/200\n",
      "1500/1500 - 1s - loss: 0.3570 - accuracy: 0.8961 - val_loss: 0.2318 - val_accuracy: 0.9368\n",
      "Epoch 15/200\n",
      "1500/1500 - 1s - loss: 0.3593 - accuracy: 0.8960 - val_loss: 0.2384 - val_accuracy: 0.9348\n",
      "Epoch 16/200\n",
      "1500/1500 - 1s - loss: 0.3522 - accuracy: 0.8992 - val_loss: 0.2257 - val_accuracy: 0.9408\n",
      "Epoch 17/200\n",
      "1500/1500 - 1s - loss: 0.3510 - accuracy: 0.8981 - val_loss: 0.2278 - val_accuracy: 0.9428\n",
      "Epoch 18/200\n",
      "1500/1500 - 1s - loss: 0.3459 - accuracy: 0.9001 - val_loss: 0.2356 - val_accuracy: 0.9348\n",
      "Epoch 19/200\n",
      "1500/1500 - 1s - loss: 0.3374 - accuracy: 0.9022 - val_loss: 0.2227 - val_accuracy: 0.9422\n",
      "Epoch 20/200\n",
      "1500/1500 - 1s - loss: 0.3365 - accuracy: 0.9037 - val_loss: 0.2179 - val_accuracy: 0.9430\n",
      "Epoch 21/200\n",
      "1500/1500 - 1s - loss: 0.3341 - accuracy: 0.9031 - val_loss: 0.2285 - val_accuracy: 0.9426\n",
      "Epoch 22/200\n",
      "1500/1500 - 1s - loss: 0.3391 - accuracy: 0.9026 - val_loss: 0.2224 - val_accuracy: 0.9425\n",
      "Epoch 23/200\n",
      "1500/1500 - 1s - loss: 0.3335 - accuracy: 0.9025 - val_loss: 0.2127 - val_accuracy: 0.9414\n",
      "Epoch 24/200\n",
      "1500/1500 - 1s - loss: 0.3251 - accuracy: 0.9067 - val_loss: 0.2224 - val_accuracy: 0.9429\n",
      "Epoch 25/200\n",
      "1500/1500 - 1s - loss: 0.3274 - accuracy: 0.9060 - val_loss: 0.2122 - val_accuracy: 0.9426\n",
      "Epoch 26/200\n",
      "1500/1500 - 1s - loss: 0.3208 - accuracy: 0.9084 - val_loss: 0.2197 - val_accuracy: 0.9444\n",
      "Epoch 27/200\n",
      "1500/1500 - 1s - loss: 0.3212 - accuracy: 0.9073 - val_loss: 0.2163 - val_accuracy: 0.9469\n",
      "Epoch 28/200\n",
      "1500/1500 - 1s - loss: 0.3187 - accuracy: 0.9100 - val_loss: 0.2106 - val_accuracy: 0.9443\n",
      "Epoch 29/200\n",
      "1500/1500 - 1s - loss: 0.3179 - accuracy: 0.9096 - val_loss: 0.2151 - val_accuracy: 0.9442\n",
      "Epoch 30/200\n",
      "1500/1500 - 1s - loss: 0.3161 - accuracy: 0.9104 - val_loss: 0.2224 - val_accuracy: 0.9413\n",
      "Epoch 31/200\n",
      "1500/1500 - 1s - loss: 0.3137 - accuracy: 0.9115 - val_loss: 0.2104 - val_accuracy: 0.9432\n",
      "Epoch 32/200\n",
      "1500/1500 - 1s - loss: 0.3143 - accuracy: 0.9110 - val_loss: 0.2093 - val_accuracy: 0.9438\n",
      "Epoch 33/200\n",
      "1500/1500 - 1s - loss: 0.3167 - accuracy: 0.9097 - val_loss: 0.2136 - val_accuracy: 0.9463\n",
      "Epoch 34/200\n",
      "1500/1500 - 1s - loss: 0.3104 - accuracy: 0.9128 - val_loss: 0.2098 - val_accuracy: 0.9423\n",
      "Epoch 35/200\n",
      "1500/1500 - 1s - loss: 0.3156 - accuracy: 0.9114 - val_loss: 0.2162 - val_accuracy: 0.9431\n",
      "Epoch 36/200\n",
      "1500/1500 - 1s - loss: 0.3138 - accuracy: 0.9117 - val_loss: 0.2130 - val_accuracy: 0.9462\n",
      "Epoch 37/200\n",
      "1500/1500 - 1s - loss: 0.3115 - accuracy: 0.9119 - val_loss: 0.2291 - val_accuracy: 0.9395\n",
      "Epoch 38/200\n",
      "1500/1500 - 1s - loss: 0.3064 - accuracy: 0.9145 - val_loss: 0.2075 - val_accuracy: 0.9448\n",
      "Epoch 39/200\n",
      "1500/1500 - 1s - loss: 0.3064 - accuracy: 0.9133 - val_loss: 0.2270 - val_accuracy: 0.9399\n",
      "Epoch 40/200\n",
      "1500/1500 - 1s - loss: 0.3042 - accuracy: 0.9137 - val_loss: 0.2086 - val_accuracy: 0.9442\n",
      "Epoch 41/200\n",
      "1500/1500 - 1s - loss: 0.3113 - accuracy: 0.9123 - val_loss: 0.2103 - val_accuracy: 0.9492\n",
      "Epoch 42/200\n",
      "1500/1500 - 1s - loss: 0.3017 - accuracy: 0.9141 - val_loss: 0.2188 - val_accuracy: 0.9417\n",
      "Epoch 43/200\n",
      "1500/1500 - 1s - loss: 0.3029 - accuracy: 0.9148 - val_loss: 0.2107 - val_accuracy: 0.9431\n",
      "Epoch 44/200\n",
      "1500/1500 - 1s - loss: 0.2982 - accuracy: 0.9157 - val_loss: 0.2201 - val_accuracy: 0.9417\n",
      "Epoch 45/200\n",
      "1500/1500 - 1s - loss: 0.3015 - accuracy: 0.9137 - val_loss: 0.2092 - val_accuracy: 0.9460\n",
      "Epoch 46/200\n",
      "1500/1500 - 1s - loss: 0.2993 - accuracy: 0.9151 - val_loss: 0.2159 - val_accuracy: 0.9463\n",
      "Epoch 47/200\n",
      "1500/1500 - 1s - loss: 0.2963 - accuracy: 0.9159 - val_loss: 0.2173 - val_accuracy: 0.9442\n",
      "Epoch 48/200\n",
      "1500/1500 - 1s - loss: 0.2957 - accuracy: 0.9176 - val_loss: 0.2149 - val_accuracy: 0.9443\n",
      "Epoch 49/200\n",
      "1500/1500 - 1s - loss: 0.2898 - accuracy: 0.9184 - val_loss: 0.2335 - val_accuracy: 0.9398\n",
      "Epoch 50/200\n",
      "1500/1500 - 1s - loss: 0.2910 - accuracy: 0.9185 - val_loss: 0.2129 - val_accuracy: 0.9433\n",
      "Epoch 51/200\n",
      "1500/1500 - 1s - loss: 0.2973 - accuracy: 0.9160 - val_loss: 0.2187 - val_accuracy: 0.9433\n",
      "Epoch 52/200\n",
      "1500/1500 - 1s - loss: 0.2969 - accuracy: 0.9160 - val_loss: 0.2261 - val_accuracy: 0.9362\n",
      "Epoch 53/200\n",
      "1500/1500 - 1s - loss: 0.2917 - accuracy: 0.9182 - val_loss: 0.2075 - val_accuracy: 0.9464\n",
      "Epoch 54/200\n",
      "1500/1500 - 1s - loss: 0.2927 - accuracy: 0.9172 - val_loss: 0.2117 - val_accuracy: 0.9444\n",
      "Epoch 55/200\n",
      "1500/1500 - 1s - loss: 0.2986 - accuracy: 0.9166 - val_loss: 0.2267 - val_accuracy: 0.9443\n",
      "Epoch 56/200\n",
      "1500/1500 - 1s - loss: 0.2965 - accuracy: 0.9156 - val_loss: 0.2376 - val_accuracy: 0.9358\n",
      "Epoch 57/200\n",
      "1500/1500 - 1s - loss: 0.2919 - accuracy: 0.9180 - val_loss: 0.2028 - val_accuracy: 0.9460\n",
      "Epoch 58/200\n",
      "1500/1500 - 1s - loss: 0.2872 - accuracy: 0.9200 - val_loss: 0.2117 - val_accuracy: 0.9418\n",
      "Epoch 59/200\n",
      "1500/1500 - 1s - loss: 0.2913 - accuracy: 0.9184 - val_loss: 0.2216 - val_accuracy: 0.9406\n",
      "Epoch 60/200\n",
      "1500/1500 - 1s - loss: 0.2863 - accuracy: 0.9195 - val_loss: 0.2227 - val_accuracy: 0.9424\n",
      "Epoch 61/200\n",
      "1500/1500 - 1s - loss: 0.2851 - accuracy: 0.9207 - val_loss: 0.2134 - val_accuracy: 0.9438\n",
      "Epoch 62/200\n",
      "1500/1500 - 1s - loss: 0.2907 - accuracy: 0.9201 - val_loss: 0.2087 - val_accuracy: 0.9470\n",
      "Epoch 63/200\n",
      "1500/1500 - 1s - loss: 0.2813 - accuracy: 0.9221 - val_loss: 0.2216 - val_accuracy: 0.9413\n",
      "Epoch 64/200\n",
      "1500/1500 - 1s - loss: 0.2929 - accuracy: 0.9183 - val_loss: 0.2064 - val_accuracy: 0.9462\n",
      "Epoch 65/200\n",
      "1500/1500 - 1s - loss: 0.2856 - accuracy: 0.9203 - val_loss: 0.2206 - val_accuracy: 0.9420\n",
      "Epoch 66/200\n",
      "1500/1500 - 1s - loss: 0.2909 - accuracy: 0.9189 - val_loss: 0.2158 - val_accuracy: 0.9437\n",
      "Epoch 67/200\n",
      "1500/1500 - 1s - loss: 0.2831 - accuracy: 0.9201 - val_loss: 0.2079 - val_accuracy: 0.9462\n",
      "Epoch 68/200\n",
      "1500/1500 - 1s - loss: 0.2881 - accuracy: 0.9193 - val_loss: 0.2278 - val_accuracy: 0.9435\n",
      "Epoch 69/200\n",
      "1500/1500 - 1s - loss: 0.2835 - accuracy: 0.9212 - val_loss: 0.2114 - val_accuracy: 0.9452\n",
      "Epoch 70/200\n",
      "1500/1500 - 1s - loss: 0.2844 - accuracy: 0.9215 - val_loss: 0.2078 - val_accuracy: 0.9463\n",
      "Epoch 71/200\n",
      "1500/1500 - 1s - loss: 0.2853 - accuracy: 0.9199 - val_loss: 0.2057 - val_accuracy: 0.9468\n",
      "Epoch 72/200\n",
      "1500/1500 - 1s - loss: 0.2829 - accuracy: 0.9202 - val_loss: 0.2161 - val_accuracy: 0.9460\n",
      "Epoch 73/200\n",
      "1500/1500 - 1s - loss: 0.2827 - accuracy: 0.9222 - val_loss: 0.2185 - val_accuracy: 0.9454\n",
      "Epoch 74/200\n",
      "1500/1500 - 1s - loss: 0.2869 - accuracy: 0.9195 - val_loss: 0.2096 - val_accuracy: 0.9462\n",
      "Epoch 75/200\n",
      "1500/1500 - 1s - loss: 0.2809 - accuracy: 0.9213 - val_loss: 0.2109 - val_accuracy: 0.9452\n",
      "Epoch 76/200\n",
      "1500/1500 - 1s - loss: 0.2846 - accuracy: 0.9207 - val_loss: 0.2137 - val_accuracy: 0.9479\n",
      "Epoch 77/200\n",
      "1500/1500 - 1s - loss: 0.2796 - accuracy: 0.9225 - val_loss: 0.2133 - val_accuracy: 0.9452\n",
      "Epoch 78/200\n",
      "1500/1500 - 1s - loss: 0.2810 - accuracy: 0.9216 - val_loss: 0.2149 - val_accuracy: 0.9448\n",
      "Epoch 79/200\n",
      "1500/1500 - 1s - loss: 0.2798 - accuracy: 0.9215 - val_loss: 0.2063 - val_accuracy: 0.9488\n"
     ]
    },
    {
     "name": "stdout",
     "output_type": "stream",
     "text": [
      "Epoch 80/200\n",
      "1500/1500 - 1s - loss: 0.2812 - accuracy: 0.9217 - val_loss: 0.2237 - val_accuracy: 0.9449\n",
      "Epoch 81/200\n",
      "1500/1500 - 1s - loss: 0.2817 - accuracy: 0.9212 - val_loss: 0.2098 - val_accuracy: 0.9473\n",
      "Epoch 82/200\n",
      "1500/1500 - 1s - loss: 0.2810 - accuracy: 0.9211 - val_loss: 0.2139 - val_accuracy: 0.9466\n",
      "Epoch 83/200\n",
      "1500/1500 - 1s - loss: 0.2791 - accuracy: 0.9218 - val_loss: 0.2127 - val_accuracy: 0.9454\n",
      "Epoch 84/200\n",
      "1500/1500 - 1s - loss: 0.2792 - accuracy: 0.9221 - val_loss: 0.2228 - val_accuracy: 0.9438\n",
      "Epoch 85/200\n",
      "1500/1500 - 1s - loss: 0.2754 - accuracy: 0.9236 - val_loss: 0.2240 - val_accuracy: 0.9423\n",
      "Epoch 86/200\n",
      "1500/1500 - 1s - loss: 0.2767 - accuracy: 0.9235 - val_loss: 0.2203 - val_accuracy: 0.9431\n",
      "Epoch 87/200\n",
      "1500/1500 - 1s - loss: 0.2809 - accuracy: 0.9206 - val_loss: 0.2120 - val_accuracy: 0.9469\n",
      "Epoch 88/200\n",
      "1500/1500 - 1s - loss: 0.2812 - accuracy: 0.9213 - val_loss: 0.2187 - val_accuracy: 0.9461\n",
      "Epoch 89/200\n",
      "1500/1500 - 1s - loss: 0.2776 - accuracy: 0.9222 - val_loss: 0.2135 - val_accuracy: 0.9467\n",
      "Epoch 90/200\n",
      "1500/1500 - 1s - loss: 0.2793 - accuracy: 0.9223 - val_loss: 0.2341 - val_accuracy: 0.9405\n",
      "Epoch 91/200\n",
      "1500/1500 - 1s - loss: 0.2730 - accuracy: 0.9233 - val_loss: 0.2229 - val_accuracy: 0.9456\n",
      "Epoch 92/200\n",
      "1500/1500 - 1s - loss: 0.2802 - accuracy: 0.9219 - val_loss: 0.2274 - val_accuracy: 0.9419\n",
      "Epoch 93/200\n",
      "1500/1500 - 1s - loss: 0.2826 - accuracy: 0.9206 - val_loss: 0.2153 - val_accuracy: 0.9473\n",
      "Epoch 94/200\n",
      "1500/1500 - 1s - loss: 0.2763 - accuracy: 0.9227 - val_loss: 0.2190 - val_accuracy: 0.9452\n",
      "Epoch 95/200\n",
      "1500/1500 - 1s - loss: 0.2803 - accuracy: 0.9215 - val_loss: 0.2059 - val_accuracy: 0.9482\n",
      "Epoch 96/200\n",
      "1500/1500 - 1s - loss: 0.2793 - accuracy: 0.9233 - val_loss: 0.2176 - val_accuracy: 0.9463\n",
      "Epoch 97/200\n",
      "1500/1500 - 1s - loss: 0.2732 - accuracy: 0.9254 - val_loss: 0.2125 - val_accuracy: 0.9470\n",
      "Epoch 98/200\n",
      "1500/1500 - 1s - loss: 0.2749 - accuracy: 0.9227 - val_loss: 0.2120 - val_accuracy: 0.9460\n",
      "Epoch 99/200\n",
      "1500/1500 - 1s - loss: 0.2734 - accuracy: 0.9230 - val_loss: 0.2081 - val_accuracy: 0.9467\n",
      "Epoch 100/200\n",
      "1500/1500 - 1s - loss: 0.2724 - accuracy: 0.9241 - val_loss: 0.2246 - val_accuracy: 0.9431\n",
      "Epoch 101/200\n",
      "1500/1500 - 1s - loss: 0.2724 - accuracy: 0.9242 - val_loss: 0.2164 - val_accuracy: 0.9448\n",
      "Epoch 102/200\n",
      "1500/1500 - 1s - loss: 0.2782 - accuracy: 0.9215 - val_loss: 0.2158 - val_accuracy: 0.9470\n",
      "Epoch 103/200\n",
      "1500/1500 - 1s - loss: 0.2739 - accuracy: 0.9244 - val_loss: 0.2191 - val_accuracy: 0.9467\n",
      "Epoch 104/200\n",
      "1500/1500 - 1s - loss: 0.2703 - accuracy: 0.9243 - val_loss: 0.2136 - val_accuracy: 0.9478\n",
      "Epoch 105/200\n",
      "1500/1500 - 1s - loss: 0.2754 - accuracy: 0.9230 - val_loss: 0.2128 - val_accuracy: 0.9455\n",
      "Epoch 106/200\n",
      "1500/1500 - 1s - loss: 0.2712 - accuracy: 0.9242 - val_loss: 0.2142 - val_accuracy: 0.9473\n",
      "Epoch 107/200\n",
      "1500/1500 - 1s - loss: 0.2722 - accuracy: 0.9249 - val_loss: 0.2128 - val_accuracy: 0.9474\n",
      "Epoch 108/200\n",
      "1500/1500 - 1s - loss: 0.2736 - accuracy: 0.9246 - val_loss: 0.2097 - val_accuracy: 0.9499\n",
      "Epoch 109/200\n",
      "1500/1500 - 1s - loss: 0.2731 - accuracy: 0.9246 - val_loss: 0.2113 - val_accuracy: 0.9466\n",
      "Epoch 110/200\n",
      "1500/1500 - 1s - loss: 0.2719 - accuracy: 0.9239 - val_loss: 0.2327 - val_accuracy: 0.9427\n",
      "Epoch 111/200\n",
      "1500/1500 - 1s - loss: 0.2703 - accuracy: 0.9255 - val_loss: 0.2428 - val_accuracy: 0.9391\n",
      "Epoch 112/200\n",
      "1500/1500 - 1s - loss: 0.2743 - accuracy: 0.9240 - val_loss: 0.2229 - val_accuracy: 0.9434\n",
      "Epoch 113/200\n",
      "1500/1500 - 1s - loss: 0.2721 - accuracy: 0.9241 - val_loss: 0.2289 - val_accuracy: 0.9409\n",
      "Epoch 114/200\n",
      "1500/1500 - 1s - loss: 0.2734 - accuracy: 0.9246 - val_loss: 0.2226 - val_accuracy: 0.9469\n",
      "Epoch 115/200\n",
      "1500/1500 - 1s - loss: 0.2760 - accuracy: 0.9230 - val_loss: 0.2213 - val_accuracy: 0.9453\n",
      "Epoch 116/200\n",
      "1500/1500 - 1s - loss: 0.2697 - accuracy: 0.9249 - val_loss: 0.2134 - val_accuracy: 0.9453\n",
      "Epoch 117/200\n",
      "1500/1500 - 1s - loss: 0.2677 - accuracy: 0.9255 - val_loss: 0.2237 - val_accuracy: 0.9447\n",
      "Epoch 118/200\n",
      "1500/1500 - 1s - loss: 0.2712 - accuracy: 0.9256 - val_loss: 0.2159 - val_accuracy: 0.9457\n",
      "Epoch 119/200\n",
      "1500/1500 - 1s - loss: 0.2695 - accuracy: 0.9253 - val_loss: 0.2110 - val_accuracy: 0.9474\n",
      "Epoch 120/200\n",
      "1500/1500 - 1s - loss: 0.2708 - accuracy: 0.9244 - val_loss: 0.2136 - val_accuracy: 0.9478\n",
      "Epoch 121/200\n",
      "1500/1500 - 1s - loss: 0.2722 - accuracy: 0.9240 - val_loss: 0.2148 - val_accuracy: 0.9468\n",
      "Epoch 122/200\n",
      "1500/1500 - 1s - loss: 0.2729 - accuracy: 0.9248 - val_loss: 0.2190 - val_accuracy: 0.9450\n",
      "Epoch 123/200\n",
      "1500/1500 - 1s - loss: 0.2666 - accuracy: 0.9262 - val_loss: 0.2209 - val_accuracy: 0.9451\n",
      "Epoch 124/200\n",
      "1500/1500 - 1s - loss: 0.2625 - accuracy: 0.9277 - val_loss: 0.2197 - val_accuracy: 0.9444\n",
      "Epoch 125/200\n",
      "1500/1500 - 1s - loss: 0.2699 - accuracy: 0.9254 - val_loss: 0.2222 - val_accuracy: 0.9442\n",
      "Epoch 126/200\n",
      "1500/1500 - 1s - loss: 0.2635 - accuracy: 0.9264 - val_loss: 0.2234 - val_accuracy: 0.9457\n",
      "Epoch 127/200\n",
      "1500/1500 - 1s - loss: 0.2713 - accuracy: 0.9243 - val_loss: 0.2126 - val_accuracy: 0.9457\n",
      "Epoch 128/200\n",
      "1500/1500 - 1s - loss: 0.2699 - accuracy: 0.9249 - val_loss: 0.2204 - val_accuracy: 0.9467\n",
      "Epoch 129/200\n",
      "1500/1500 - 1s - loss: 0.2633 - accuracy: 0.9268 - val_loss: 0.2219 - val_accuracy: 0.9451\n",
      "Epoch 130/200\n",
      "1500/1500 - 1s - loss: 0.2662 - accuracy: 0.9255 - val_loss: 0.2240 - val_accuracy: 0.9414\n",
      "Epoch 131/200\n",
      "1500/1500 - 1s - loss: 0.2647 - accuracy: 0.9270 - val_loss: 0.2125 - val_accuracy: 0.9462\n",
      "Epoch 132/200\n",
      "1500/1500 - 1s - loss: 0.2652 - accuracy: 0.9273 - val_loss: 0.2137 - val_accuracy: 0.9465\n",
      "Epoch 133/200\n",
      "1500/1500 - 1s - loss: 0.2679 - accuracy: 0.9252 - val_loss: 0.2311 - val_accuracy: 0.9442\n",
      "Epoch 134/200\n",
      "1500/1500 - 1s - loss: 0.2618 - accuracy: 0.9275 - val_loss: 0.2253 - val_accuracy: 0.9435\n",
      "Epoch 135/200\n",
      "1500/1500 - 1s - loss: 0.2750 - accuracy: 0.9236 - val_loss: 0.2247 - val_accuracy: 0.9467\n",
      "Epoch 136/200\n",
      "1500/1500 - 1s - loss: 0.2682 - accuracy: 0.9262 - val_loss: 0.2153 - val_accuracy: 0.9477\n",
      "Epoch 137/200\n",
      "1500/1500 - 1s - loss: 0.2680 - accuracy: 0.9272 - val_loss: 0.2286 - val_accuracy: 0.9426\n",
      "Epoch 138/200\n",
      "1500/1500 - 1s - loss: 0.2673 - accuracy: 0.9264 - val_loss: 0.2183 - val_accuracy: 0.9452\n",
      "Epoch 139/200\n",
      "1500/1500 - 1s - loss: 0.2639 - accuracy: 0.9261 - val_loss: 0.2241 - val_accuracy: 0.9438\n",
      "Epoch 140/200\n",
      "1500/1500 - 1s - loss: 0.2689 - accuracy: 0.9258 - val_loss: 0.2237 - val_accuracy: 0.9458\n",
      "Epoch 141/200\n",
      "1500/1500 - 1s - loss: 0.2658 - accuracy: 0.9262 - val_loss: 0.2322 - val_accuracy: 0.9427\n",
      "Epoch 142/200\n",
      "1500/1500 - 1s - loss: 0.2654 - accuracy: 0.9265 - val_loss: 0.2299 - val_accuracy: 0.9462\n",
      "Epoch 143/200\n",
      "1500/1500 - 1s - loss: 0.2657 - accuracy: 0.9266 - val_loss: 0.2334 - val_accuracy: 0.9451\n",
      "Epoch 144/200\n",
      "1500/1500 - 1s - loss: 0.2634 - accuracy: 0.9269 - val_loss: 0.2173 - val_accuracy: 0.9469\n",
      "Epoch 145/200\n",
      "1500/1500 - 1s - loss: 0.2661 - accuracy: 0.9261 - val_loss: 0.2290 - val_accuracy: 0.9432\n",
      "Epoch 146/200\n",
      "1500/1500 - 1s - loss: 0.2630 - accuracy: 0.9276 - val_loss: 0.2256 - val_accuracy: 0.9452\n",
      "Epoch 147/200\n",
      "1500/1500 - 1s - loss: 0.2628 - accuracy: 0.9262 - val_loss: 0.2204 - val_accuracy: 0.9467\n",
      "Epoch 148/200\n",
      "1500/1500 - 1s - loss: 0.2614 - accuracy: 0.9284 - val_loss: 0.2176 - val_accuracy: 0.9457\n",
      "Epoch 149/200\n",
      "1500/1500 - 1s - loss: 0.2656 - accuracy: 0.9270 - val_loss: 0.2221 - val_accuracy: 0.9463\n",
      "Epoch 150/200\n",
      "1500/1500 - 1s - loss: 0.2638 - accuracy: 0.9272 - val_loss: 0.2264 - val_accuracy: 0.9463\n",
      "Epoch 151/200\n",
      "1500/1500 - 1s - loss: 0.2604 - accuracy: 0.9275 - val_loss: 0.2407 - val_accuracy: 0.9416\n",
      "Epoch 152/200\n",
      "1500/1500 - 1s - loss: 0.2653 - accuracy: 0.9271 - val_loss: 0.2200 - val_accuracy: 0.9443\n",
      "Epoch 153/200\n",
      "1500/1500 - 1s - loss: 0.2649 - accuracy: 0.9269 - val_loss: 0.2505 - val_accuracy: 0.9388\n",
      "Epoch 154/200\n",
      "1500/1500 - 1s - loss: 0.2701 - accuracy: 0.9252 - val_loss: 0.2307 - val_accuracy: 0.9433\n",
      "Epoch 155/200\n",
      "1500/1500 - 1s - loss: 0.2608 - accuracy: 0.9268 - val_loss: 0.2439 - val_accuracy: 0.9427\n",
      "Epoch 156/200\n",
      "1500/1500 - 1s - loss: 0.2625 - accuracy: 0.9277 - val_loss: 0.2119 - val_accuracy: 0.9480\n",
      "Epoch 157/200\n",
      "1500/1500 - 1s - loss: 0.2595 - accuracy: 0.9282 - val_loss: 0.2276 - val_accuracy: 0.9424\n",
      "Epoch 158/200\n",
      "1500/1500 - 1s - loss: 0.2612 - accuracy: 0.9265 - val_loss: 0.2269 - val_accuracy: 0.9442\n"
     ]
    },
    {
     "name": "stdout",
     "output_type": "stream",
     "text": [
      "Epoch 159/200\n",
      "1500/1500 - 1s - loss: 0.2655 - accuracy: 0.9264 - val_loss: 0.2388 - val_accuracy: 0.9438\n",
      "Epoch 160/200\n",
      "1500/1500 - 1s - loss: 0.2655 - accuracy: 0.9265 - val_loss: 0.2262 - val_accuracy: 0.9457\n",
      "Epoch 161/200\n",
      "1500/1500 - 1s - loss: 0.2601 - accuracy: 0.9288 - val_loss: 0.2260 - val_accuracy: 0.9450\n",
      "Epoch 162/200\n",
      "1500/1500 - 1s - loss: 0.2645 - accuracy: 0.9261 - val_loss: 0.2191 - val_accuracy: 0.9442\n",
      "Epoch 163/200\n",
      "1500/1500 - 1s - loss: 0.2640 - accuracy: 0.9272 - val_loss: 0.2288 - val_accuracy: 0.9440\n",
      "Epoch 164/200\n",
      "1500/1500 - 1s - loss: 0.2625 - accuracy: 0.9269 - val_loss: 0.2150 - val_accuracy: 0.9449\n",
      "Epoch 165/200\n",
      "1500/1500 - 1s - loss: 0.2589 - accuracy: 0.9277 - val_loss: 0.2173 - val_accuracy: 0.9462\n",
      "Epoch 166/200\n",
      "1500/1500 - 1s - loss: 0.2666 - accuracy: 0.9272 - val_loss: 0.2350 - val_accuracy: 0.9408\n",
      "Epoch 167/200\n",
      "1500/1500 - 1s - loss: 0.2667 - accuracy: 0.9258 - val_loss: 0.2243 - val_accuracy: 0.9458\n",
      "Epoch 168/200\n",
      "1500/1500 - 1s - loss: 0.2594 - accuracy: 0.9288 - val_loss: 0.2218 - val_accuracy: 0.9453\n",
      "Epoch 169/200\n",
      "1500/1500 - 1s - loss: 0.2655 - accuracy: 0.9268 - val_loss: 0.2220 - val_accuracy: 0.9449\n",
      "Epoch 170/200\n",
      "1500/1500 - 1s - loss: 0.2638 - accuracy: 0.9275 - val_loss: 0.2255 - val_accuracy: 0.9454\n",
      "Epoch 171/200\n",
      "1500/1500 - 1s - loss: 0.2650 - accuracy: 0.9267 - val_loss: 0.2235 - val_accuracy: 0.9444\n",
      "Epoch 172/200\n",
      "1500/1500 - 1s - loss: 0.2614 - accuracy: 0.9270 - val_loss: 0.2379 - val_accuracy: 0.9423\n",
      "Epoch 173/200\n",
      "1500/1500 - 1s - loss: 0.2653 - accuracy: 0.9268 - val_loss: 0.2290 - val_accuracy: 0.9465\n",
      "Epoch 174/200\n",
      "1500/1500 - 1s - loss: 0.2614 - accuracy: 0.9273 - val_loss: 0.2267 - val_accuracy: 0.9433\n",
      "Epoch 175/200\n",
      "1500/1500 - 1s - loss: 0.2612 - accuracy: 0.9265 - val_loss: 0.2225 - val_accuracy: 0.9442\n",
      "Epoch 176/200\n",
      "1500/1500 - 1s - loss: 0.2571 - accuracy: 0.9286 - val_loss: 0.2346 - val_accuracy: 0.9441\n",
      "Epoch 177/200\n",
      "1500/1500 - 1s - loss: 0.2647 - accuracy: 0.9265 - val_loss: 0.2306 - val_accuracy: 0.9439\n",
      "Epoch 178/200\n",
      "1500/1500 - 1s - loss: 0.2588 - accuracy: 0.9284 - val_loss: 0.2323 - val_accuracy: 0.9401\n",
      "Epoch 179/200\n",
      "1500/1500 - 1s - loss: 0.2572 - accuracy: 0.9284 - val_loss: 0.2390 - val_accuracy: 0.9437\n",
      "Epoch 180/200\n",
      "1500/1500 - 1s - loss: 0.2645 - accuracy: 0.9259 - val_loss: 0.2210 - val_accuracy: 0.9473\n",
      "Epoch 181/200\n",
      "1500/1500 - 1s - loss: 0.2665 - accuracy: 0.9247 - val_loss: 0.2179 - val_accuracy: 0.9477\n",
      "Epoch 182/200\n",
      "1500/1500 - 1s - loss: 0.2656 - accuracy: 0.9246 - val_loss: 0.2205 - val_accuracy: 0.9459\n",
      "Epoch 183/200\n",
      "1500/1500 - 1s - loss: 0.2560 - accuracy: 0.9287 - val_loss: 0.2458 - val_accuracy: 0.9385\n",
      "Epoch 184/200\n",
      "1500/1500 - 1s - loss: 0.2576 - accuracy: 0.9283 - val_loss: 0.2313 - val_accuracy: 0.9443\n",
      "Epoch 185/200\n",
      "1500/1500 - 1s - loss: 0.2572 - accuracy: 0.9288 - val_loss: 0.2368 - val_accuracy: 0.9417\n",
      "Epoch 186/200\n",
      "1500/1500 - 1s - loss: 0.2587 - accuracy: 0.9279 - val_loss: 0.2272 - val_accuracy: 0.9472\n",
      "Epoch 187/200\n",
      "1500/1500 - 1s - loss: 0.2658 - accuracy: 0.9260 - val_loss: 0.2291 - val_accuracy: 0.9454\n",
      "Epoch 188/200\n",
      "1500/1500 - 1s - loss: 0.2602 - accuracy: 0.9281 - val_loss: 0.2281 - val_accuracy: 0.9463\n",
      "Epoch 189/200\n",
      "1500/1500 - 1s - loss: 0.2602 - accuracy: 0.9274 - val_loss: 0.2382 - val_accuracy: 0.9446\n",
      "Epoch 190/200\n",
      "1500/1500 - 1s - loss: 0.2626 - accuracy: 0.9279 - val_loss: 0.2235 - val_accuracy: 0.9455\n",
      "Epoch 191/200\n",
      "1500/1500 - 1s - loss: 0.2624 - accuracy: 0.9281 - val_loss: 0.2352 - val_accuracy: 0.9427\n",
      "Epoch 192/200\n",
      "1500/1500 - 1s - loss: 0.2603 - accuracy: 0.9287 - val_loss: 0.2382 - val_accuracy: 0.9427\n",
      "Epoch 193/200\n",
      "1500/1500 - 1s - loss: 0.2564 - accuracy: 0.9288 - val_loss: 0.2216 - val_accuracy: 0.9467\n",
      "Epoch 194/200\n",
      "1500/1500 - 1s - loss: 0.2612 - accuracy: 0.9278 - val_loss: 0.2150 - val_accuracy: 0.9487\n",
      "Epoch 195/200\n",
      "1500/1500 - 1s - loss: 0.2628 - accuracy: 0.9279 - val_loss: 0.2257 - val_accuracy: 0.9443\n",
      "Epoch 196/200\n",
      "1500/1500 - 1s - loss: 0.2603 - accuracy: 0.9271 - val_loss: 0.2240 - val_accuracy: 0.9449\n",
      "Epoch 197/200\n",
      "1500/1500 - 1s - loss: 0.2584 - accuracy: 0.9289 - val_loss: 0.2324 - val_accuracy: 0.9466\n",
      "Epoch 198/200\n",
      "1500/1500 - 1s - loss: 0.2641 - accuracy: 0.9274 - val_loss: 0.2316 - val_accuracy: 0.9423\n",
      "Epoch 199/200\n",
      "1500/1500 - 1s - loss: 0.2613 - accuracy: 0.9287 - val_loss: 0.2297 - val_accuracy: 0.9450\n",
      "Epoch 200/200\n",
      "1500/1500 - 1s - loss: 0.2559 - accuracy: 0.9289 - val_loss: 0.2377 - val_accuracy: 0.9433\n"
     ]
    }
   ],
   "source": [
    "# will take a while\n",
    "history_dropoutmnist = model.fit(x_train, y_tr_one_hot, epochs=200, batch_size= 32, validation_split = 0.2, verbose =2)"
   ]
  },
  {
   "cell_type": "markdown",
   "metadata": {
    "cell_style": "split",
    "slideshow": {
     "slide_type": "slide"
    }
   },
   "source": [
    "Accuracy on train set will be lower in any given cycle:\n",
    "- some activation killed randomly on training.\n",
    "\n",
    "Performance on validation will be high:\n",
    "- uses full network with learned weights for validation"
   ]
  },
  {
   "cell_type": "markdown",
   "metadata": {
    "cell_style": "split",
    "slideshow": {
     "slide_type": "slide"
    }
   },
   "source": [
    "Not overtraining despite high model capacity:\n",
    "- many hidden layers"
   ]
  },
  {
   "cell_type": "code",
   "execution_count": 27,
   "metadata": {
    "cell_style": "split",
    "slideshow": {
     "slide_type": "fragment"
    }
   },
   "outputs": [
    {
     "data": {
      "image/png": "[encoded data removed]",
      "text/plain": [
       "<Figure size 432x288 with 1 Axes>"
      ]
     },
     "metadata": {
      "needs_background": "light"
     },
     "output_type": "display_data"
    }
   ],
   "source": [
    "train_dropoutmnist_history = pd.DataFrame(history_dropoutmnist.history)\n",
    "train_dropoutmnist_history.index.name = 'epochs'\n",
    "\n",
    "col_list = ['loss', 'val_loss']\n",
    "train_dropoutmnist_history[col_list].plot()\n",
    "plt.ylabel('Categorical cross entropy')\n",
    "plt.title('Training loss history')\n",
    "plt.show()\n",
    "#The blue line is not using all of the network.\n",
    "#The orange line is using all of the nodes."
   ]
  },
  {
   "cell_type": "code",
   "execution_count": 28,
   "metadata": {
    "cell_style": "split",
    "slideshow": {
     "slide_type": "slide"
    }
   },
   "outputs": [
    {
     "data": {
      "image/png": "[encoded data removed]",
      "text/plain": [
       "<Figure size 432x288 with 1 Axes>"
      ]
     },
     "metadata": {
      "needs_background": "light"
     },
     "output_type": "display_data"
    }
   ],
   "source": [
    "col_list = ['accuracy', 'val_accuracy']\n",
    "train_dropoutmnist_history[col_list].plot()\n",
    "plt.ylabel('Accuracy')\n",
    "plt.title('Training loss history')\n",
    "plt.show()\n",
    "#Now we are underfitting."
   ]
  },
  {
   "cell_type": "markdown",
   "metadata": {
    "cell_style": "split",
    "slideshow": {
     "slide_type": "fragment"
    }
   },
   "source": [
    "Evaluate on test set."
   ]
  },
  {
   "cell_type": "code",
   "execution_count": 29,
   "metadata": {
    "cell_style": "split",
    "slideshow": {
     "slide_type": "fragment"
    }
   },
   "outputs": [
    {
     "data": {
      "text/plain": [
       "[0.233934685587883, 0.9453999996185303]"
      ]
     },
     "execution_count": 29,
     "metadata": {},
     "output_type": "execute_result"
    }
   ],
   "source": [
    "model.evaluate(x_test, y_tt_one_hot, verbose =0)"
   ]
  },
  {
   "cell_type": "markdown",
   "metadata": {
    "slideshow": {
     "slide_type": "slide"
    }
   },
   "source": [
    "#### Dropout regularization in conjunction with L2:\n",
    "\n",
    "- can be used to train very deep networks\n",
    "- model complex relationships without overfitting\n",
    "- works best in these cases with a lot of data"
   ]
  },
  {
   "cell_type": "markdown",
   "metadata": {
    "slideshow": {
     "slide_type": "slide"
    }
   },
   "source": [
    "Next up:\n",
    "- doing much better with a more suitable network architecture\n",
    "- Convolutional Neural Networks (CNNs)"
   ]
  },
  {
   "cell_type": "markdown",
   "metadata": {},
   "source": [
    "## HyperParameter Tuning"
   ]
  },
  {
   "cell_type": "markdown",
   "metadata": {},
   "source": [
    "```python\n",
    "from sklearn.model_selection import GridSearchCV\n",
    "from tensorflow.keras.models import Sequential\n",
    "from tensorflow.keras.layers import Dense\n",
    "from tensorflow.keras.wrappers.scikit_learn import KerasClassifier\n",
    "\n",
    "# Define a function to create the Keras model\n",
    "def create_model(optimizer='adam', units=32, activation='relu'):\n",
    "    model = Sequential()\n",
    "    model.add(Dense(units, activation=activation, input_dim=input_dim))\n",
    "    model.add(Dense(output_dim, activation='softmax'))\n",
    "    model.compile(optimizer=optimizer, loss='categorical_crossentropy', metrics=['accuracy'])\n",
    "    return model\n",
    "\n",
    "# Create a KerasClassifier based on the create_model function\n",
    "model = KerasClassifier(build_fn=create_model)\n",
    "\n",
    "# Define a parameter grid for hyperparameter tuning\n",
    "param_grid = {\n",
    "    'units': [32, 64, 128],\n",
    "    'activation': ['relu', 'tanh'],\n",
    "    'optimizer': ['adam', 'sgd'],\n",
    "}\n",
    "\n",
    "# Perform grid search with cross-validation\n",
    "grid_search = GridSearchCV(estimator=model, param_grid=param_grid, scoring='accuracy', cv=3)\n",
    "grid_result = grid_search.fit(X_train, y_train)\n",
    "\n",
    "# Print the best hyperparameters and their performance\n",
    "print(\"Best Parameters: \", grid_result.best_params_)\n",
    "print(\"Best Accuracy: \", grid_result.best_score_)\n",
    "```\n"
   ]
  },
  {
   "cell_type": "code",
   "execution_count": null,
   "metadata": {},
   "outputs": [],
   "source": [
    "#How to save a model.\n",
    "\n",
    "\n",
    "# import pickle\n",
    "\n",
    "# # Assume 'model' is your trained model\n",
    "# model = ...  # Your trained model here\n",
    "\n",
    "# # Save the model to disk\n",
    "# with open('model.pkl', 'wb') as file:\n",
    "#     pickle.dump(model, file)\n",
    "# import pickle\n",
    "\n",
    "# # Load the model from disk\n",
    "# with open('model.pkl', 'rb') as file:\n",
    "#     loaded_model = pickle.load(file)\n",
    "\n",
    "# # Use the loaded model to make predictions\n",
    "# # predictions = loaded_model.predict(X_new)"
   ]
  }
 ],
 "metadata": {
  "colab": {
   "collapsed_sections": [],
   "name": "intro-to-keras.ipynb",
   "provenance": []
  },
  "kernelspec": {
   "display_name": "Python (learn-env)",
   "language": "python",
   "name": "learn-env"
  },
  "language_info": {
   "codemirror_mode": {
    "name": "ipython",
    "version": 3
   },
   "file_extension": ".py",
   "mimetype": "text/x-python",
   "name": "python",
   "nbconvert_exporter": "python",
   "pygments_lexer": "ipython3",
   "version": "3.8.5"
  }
 },
 "nbformat": 4,
 "nbformat_minor": 4
}
