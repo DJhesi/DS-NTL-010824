{
 "cells": [
  {
   "cell_type": "markdown",
   "metadata": {
    "slideshow": {
     "slide_type": "slide"
    }
   },
   "source": [
    "<div style=\"color:white;\n",
    "           display:fill;\n",
    "           border-radius:5px;\n",
    "           background-color:#5642C5;\n",
    "           font-size:200%;\n",
    "           font-family:Arial;letter-spacing:0.5px\">\n",
    "\n",
    "<p width = 20%, style=\"padding: 10px;\n",
    "              color:white;\">\n",
    "Model Tuning\n",
    "              \n",
    "</p>\n",
    "</div>\n",
    "\n",
    "DS-NTL-010824\n",
    "<p>Phase 4</p>\n",
    "<br>\n",
    "<br>\n",
    "\n",
    "<div align = \"right\">\n",
    "<img src=\"Images/flatiron-school-logo.png\" align = \"right\" width=\"200\"/>\n",
    "</div>\n",
    "    \n",
    "    "
   ]
  },
  {
   "cell_type": "code",
   "execution_count": 1,
   "metadata": {
    "ExecuteTime": {
     "end_time": "2021-10-28T04:05:08.822957Z",
     "start_time": "2021-10-28T04:05:08.819534Z"
    },
    "slideshow": {
     "slide_type": "slide"
    }
   },
   "outputs": [],
   "source": [
    "import numpy as np\n",
    "import pandas as pd\n",
    "from matplotlib import pyplot as plt\n",
    "import seaborn as sns\n",
    "from scipy import stats as stats\n",
    "\n",
    "from sklearn.linear_model import LogisticRegression\n",
    "from sklearn.neighbors import KNeighborsClassifier\n",
    "from sklearn.tree import DecisionTreeClassifier\n",
    "\n",
    "from sklearn.metrics import precision_score, recall_score, ConfusionMatrixDisplay #plot_confusion_matrix\n",
    "from sklearn.model_selection import train_test_split, GridSearchCV,\\\n",
    "cross_val_score, RandomizedSearchCV\n",
    "\n",
    "from sklearn.preprocessing import OneHotEncoder, StandardScaler, Normalizer\n",
    "from sklearn.impute import SimpleImputer\n",
    "\n",
    "from sklearn.compose import ColumnTransformer"
   ]
  },
  {
   "cell_type": "markdown",
   "metadata": {
    "cell_style": "split",
    "slideshow": {
     "slide_type": "slide"
    }
   },
   "source": [
    "#### Hyperparameters\n",
    "- Free knobs of a model used to **control the training process**."
   ]
  },
  {
   "cell_type": "markdown",
   "metadata": {
    "cell_style": "split",
    "slideshow": {
     "slide_type": "fragment"
    }
   },
   "source": [
    "<img src = \"Images\\levers.jpg\" width = 350/><center> Tuning your model!! </center>"
   ]
  },
  {
   "cell_type": "markdown",
   "metadata": {
    "cell_style": "split",
    "slideshow": {
     "slide_type": "fragment"
    }
   },
   "source": [
    "**Hyperparameters concerning the structure of cost function and model**"
   ]
  },
  {
   "cell_type": "markdown",
   "metadata": {
    "cell_style": "split",
    "heading_collapsed": true,
    "hidden": true,
    "slideshow": {
     "slide_type": "slide"
    }
   },
   "source": [
    "#### Hyperparameters\n",
    "- Free levers of a model used to **control the training process**.\n",
    "- $\\lambda$: the regularization parameter for $|\\textbf{w}|^2$ penalty.\n"
   ]
  },
  {
   "cell_type": "markdown",
   "metadata": {
    "cell_style": "split",
    "hidden": true,
    "slideshow": {
     "slide_type": "fragment"
    }
   },
   "source": [
    "#### Parameters\n",
    "\n",
    "- **Found by training the model**\n",
    "- Weights ($\\textbf{w}$, etc.): \n",
    "    Logistic Regression, Linear Regression\n"
   ]
  },
  {
   "cell_type": "markdown",
   "metadata": {
    "cell_style": "split",
    "hidden": true,
    "slideshow": {
     "slide_type": "slide"
    }
   },
   "source": [
    "#### Hyperparameters\n",
    "- depth of decision tree\n",
    "- gini impurity or entropy?"
   ]
  },
  {
   "cell_type": "markdown",
   "metadata": {
    "cell_style": "split",
    "slideshow": {
     "slide_type": "fragment"
    }
   },
   "source": [
    "#### Parameters\n",
    "\n",
    "- Locations in feature space where splits were made"
   ]
  },
  {
   "cell_type": "markdown",
   "metadata": {
    "slideshow": {
     "slide_type": "fragment"
    }
   },
   "source": [
    "**Hyperparameters concerning the optimization process**"
   ]
  },
  {
   "cell_type": "markdown",
   "metadata": {
    "cell_style": "split",
    "slideshow": {
     "slide_type": "slide"
    }
   },
   "source": [
    "- Can help get to solutions faster\n",
    "- Get *better* convergence to cost function minimum"
   ]
  },
  {
   "cell_type": "markdown",
   "metadata": {
    "cell_style": "split",
    "slideshow": {
     "slide_type": "fragment"
    }
   },
   "source": [
    "**Solvers for Logistic regression**: variants of gradient descent.\n",
    "\n",
    "- lbfgs (variant of Newton method)\n",
    "    - accounts for concavity of cost function\n",
    "- sag (Stochastic Gradient Descent)\n",
    "    - fast convergence\n",
    "    - excellent for larger number of samples\n",
    "- liblinear (Coordinate Descent)\n",
    "    - better for larger number of features\n",
    "\n"
   ]
  },
  {
   "cell_type": "markdown",
   "metadata": {
    "cell_style": "center",
    "hidden": true,
    "slideshow": {
     "slide_type": "slide"
    }
   },
   "source": [
    "Depending on the sort of problem and data:\n",
    "- experiment with different values of these hyperparameters\n",
    "- improve model performance."
   ]
  },
  {
   "cell_type": "markdown",
   "metadata": {
    "slideshow": {
     "slide_type": "slide"
    }
   },
   "source": [
    "Running through the entire process of train/test splitting and cross-validation yet again:"
   ]
  },
  {
   "cell_type": "markdown",
   "metadata": {
    "slideshow": {
     "slide_type": "slide"
    }
   },
   "source": [
    "Load iris data"
   ]
  },
  {
   "cell_type": "code",
   "execution_count": 2,
   "metadata": {
    "slideshow": {
     "slide_type": "fragment"
    }
   },
   "outputs": [
    {
     "data": {
      "text/html": [
       "<div>\n",
       "<style scoped>\n",
       "    .dataframe tbody tr th:only-of-type {\n",
       "        vertical-align: middle;\n",
       "    }\n",
       "\n",
       "    .dataframe tbody tr th {\n",
       "        vertical-align: top;\n",
       "    }\n",
       "\n",
       "    .dataframe thead th {\n",
       "        text-align: right;\n",
       "    }\n",
       "</style>\n",
       "<table border=\"1\" class=\"dataframe\">\n",
       "  <thead>\n",
       "    <tr style=\"text-align: right;\">\n",
       "      <th></th>\n",
       "      <th>SepalLengthCm</th>\n",
       "      <th>SepalWidthCm</th>\n",
       "      <th>PetalLengthCm</th>\n",
       "      <th>PetalWidthCm</th>\n",
       "      <th>Species</th>\n",
       "    </tr>\n",
       "  </thead>\n",
       "  <tbody>\n",
       "    <tr>\n",
       "      <th>0</th>\n",
       "      <td>5.1</td>\n",
       "      <td>3.5</td>\n",
       "      <td>1.4</td>\n",
       "      <td>0.2</td>\n",
       "      <td>Iris-setosa</td>\n",
       "    </tr>\n",
       "    <tr>\n",
       "      <th>1</th>\n",
       "      <td>4.9</td>\n",
       "      <td>3.0</td>\n",
       "      <td>1.4</td>\n",
       "      <td>0.2</td>\n",
       "      <td>Iris-setosa</td>\n",
       "    </tr>\n",
       "    <tr>\n",
       "      <th>2</th>\n",
       "      <td>4.7</td>\n",
       "      <td>3.2</td>\n",
       "      <td>1.3</td>\n",
       "      <td>0.2</td>\n",
       "      <td>Iris-setosa</td>\n",
       "    </tr>\n",
       "    <tr>\n",
       "      <th>3</th>\n",
       "      <td>4.6</td>\n",
       "      <td>3.1</td>\n",
       "      <td>1.5</td>\n",
       "      <td>0.2</td>\n",
       "      <td>Iris-setosa</td>\n",
       "    </tr>\n",
       "    <tr>\n",
       "      <th>4</th>\n",
       "      <td>5.0</td>\n",
       "      <td>3.6</td>\n",
       "      <td>1.4</td>\n",
       "      <td>0.2</td>\n",
       "      <td>Iris-setosa</td>\n",
       "    </tr>\n",
       "  </tbody>\n",
       "</table>\n",
       "</div>"
      ],
      "text/plain": [
       "   SepalLengthCm  SepalWidthCm  PetalLengthCm  PetalWidthCm      Species\n",
       "0            5.1           3.5            1.4           0.2  Iris-setosa\n",
       "1            4.9           3.0            1.4           0.2  Iris-setosa\n",
       "2            4.7           3.2            1.3           0.2  Iris-setosa\n",
       "3            4.6           3.1            1.5           0.2  Iris-setosa\n",
       "4            5.0           3.6            1.4           0.2  Iris-setosa"
      ]
     },
     "execution_count": 2,
     "metadata": {},
     "output_type": "execute_result"
    }
   ],
   "source": [
    "iris_df = pd.read_csv('Data/Iris.csv').drop(columns = ['Id'])\n",
    "iris_df.head()"
   ]
  },
  {
   "cell_type": "markdown",
   "metadata": {
    "slideshow": {
     "slide_type": "slide"
    }
   },
   "source": [
    "Label encode the target class"
   ]
  },
  {
   "cell_type": "code",
   "execution_count": 3,
   "metadata": {
    "slideshow": {
     "slide_type": "fragment"
    }
   },
   "outputs": [
    {
     "data": {
      "text/html": [
       "<div>\n",
       "<style scoped>\n",
       "    .dataframe tbody tr th:only-of-type {\n",
       "        vertical-align: middle;\n",
       "    }\n",
       "\n",
       "    .dataframe tbody tr th {\n",
       "        vertical-align: top;\n",
       "    }\n",
       "\n",
       "    .dataframe thead th {\n",
       "        text-align: right;\n",
       "    }\n",
       "</style>\n",
       "<table border=\"1\" class=\"dataframe\">\n",
       "  <thead>\n",
       "    <tr style=\"text-align: right;\">\n",
       "      <th></th>\n",
       "      <th>SepalLengthCm</th>\n",
       "      <th>SepalWidthCm</th>\n",
       "      <th>PetalLengthCm</th>\n",
       "      <th>PetalWidthCm</th>\n",
       "      <th>Species</th>\n",
       "    </tr>\n",
       "  </thead>\n",
       "  <tbody>\n",
       "    <tr>\n",
       "      <th>0</th>\n",
       "      <td>5.1</td>\n",
       "      <td>3.5</td>\n",
       "      <td>1.4</td>\n",
       "      <td>0.2</td>\n",
       "      <td>0</td>\n",
       "    </tr>\n",
       "    <tr>\n",
       "      <th>1</th>\n",
       "      <td>4.9</td>\n",
       "      <td>3.0</td>\n",
       "      <td>1.4</td>\n",
       "      <td>0.2</td>\n",
       "      <td>0</td>\n",
       "    </tr>\n",
       "    <tr>\n",
       "      <th>2</th>\n",
       "      <td>4.7</td>\n",
       "      <td>3.2</td>\n",
       "      <td>1.3</td>\n",
       "      <td>0.2</td>\n",
       "      <td>0</td>\n",
       "    </tr>\n",
       "    <tr>\n",
       "      <th>3</th>\n",
       "      <td>4.6</td>\n",
       "      <td>3.1</td>\n",
       "      <td>1.5</td>\n",
       "      <td>0.2</td>\n",
       "      <td>0</td>\n",
       "    </tr>\n",
       "    <tr>\n",
       "      <th>4</th>\n",
       "      <td>5.0</td>\n",
       "      <td>3.6</td>\n",
       "      <td>1.4</td>\n",
       "      <td>0.2</td>\n",
       "      <td>0</td>\n",
       "    </tr>\n",
       "  </tbody>\n",
       "</table>\n",
       "</div>"
      ],
      "text/plain": [
       "   SepalLengthCm  SepalWidthCm  PetalLengthCm  PetalWidthCm  Species\n",
       "0            5.1           3.5            1.4           0.2        0\n",
       "1            4.9           3.0            1.4           0.2        0\n",
       "2            4.7           3.2            1.3           0.2        0\n",
       "3            4.6           3.1            1.5           0.2        0\n",
       "4            5.0           3.6            1.4           0.2        0"
      ]
     },
     "execution_count": 3,
     "metadata": {},
     "output_type": "execute_result"
    }
   ],
   "source": [
    "from sklearn.preprocessing import LabelEncoder\n",
    "target_transform = LabelEncoder()\n",
    "iris_df['Species'] = target_transform.fit_transform(iris_df['Species'])\n",
    "iris_df.head()"
   ]
  },
  {
   "cell_type": "markdown",
   "metadata": {
    "slideshow": {
     "slide_type": "slide"
    }
   },
   "source": [
    "Select two of the features and the target. Features are not obviously separable.\n",
    "- Tuning will be important."
   ]
  },
  {
   "cell_type": "code",
   "execution_count": 4,
   "metadata": {
    "cell_style": "split",
    "slideshow": {
     "slide_type": "fragment"
    }
   },
   "outputs": [],
   "source": [
    "col_list = ['SepalWidthCm', 'SepalLengthCm']\n",
    "X = iris_df[col_list]\n",
    "y = iris_df['Species']"
   ]
  },
  {
   "cell_type": "code",
   "execution_count": 5,
   "metadata": {
    "cell_style": "split",
    "scrolled": false,
    "slideshow": {
     "slide_type": "fragment"
    }
   },
   "outputs": [
    {
     "data": {
      "image/png": "[encoded data removed]",
      "text/plain": [
       "<Figure size 406.375x360 with 6 Axes>"
      ]
     },
     "metadata": {
      "needs_background": "light"
     },
     "output_type": "display_data"
    }
   ],
   "source": [
    "sns.pairplot(hue = 'Species', \n",
    "             vars = col_list,\n",
    "             data = iris_df)\n",
    "plt.show()"
   ]
  },
  {
   "cell_type": "markdown",
   "metadata": {
    "slideshow": {
     "slide_type": "slide"
    }
   },
   "source": [
    "Now, before doing anything: Train/test split!"
   ]
  },
  {
   "cell_type": "code",
   "execution_count": 6,
   "metadata": {
    "cell_style": "center",
    "slideshow": {
     "slide_type": "fragment"
    }
   },
   "outputs": [],
   "source": [
    "# shuffle and split, stratify keeps target distribution same in train/test\n",
    "X_train, X_test, y_train, y_test = train_test_split(X, y, stratify = y, test_size = 0.15, random_state = 42)"
   ]
  },
  {
   "cell_type": "code",
   "execution_count": 7,
   "metadata": {
    "slideshow": {
     "slide_type": "slide"
    }
   },
   "outputs": [],
   "source": [
    "from sklearn.model_selection import KFold\n",
    "from sklearn.preprocessing import StandardScaler\n",
    "from sklearn.neighbors import KNeighborsClassifier\n",
    "from sklearn.metrics import precision_score, recall_score, f1_score, accuracy_score, classification_report"
   ]
  },
  {
   "cell_type": "code",
   "execution_count": 8,
   "metadata": {
    "cell_style": "center",
    "scrolled": false,
    "slideshow": {
     "slide_type": "slide"
    }
   },
   "outputs": [],
   "source": [
    "def cross_validation(X_train, y_train, k, num_split = 10):\n",
    "    \n",
    "    X_train = X_train.values\n",
    "    y_train = y_train.values\n",
    "    \n",
    "    score_train_list = []\n",
    "    score_val_list = []\n",
    "    \n",
    "    for train_index, valid_index in KFold(n_splits = num_split).split(X_train):\n",
    "        # train and validation splitting \n",
    "        X_train_fold, X_val_fold = X_train[train_index], X_train[valid_index]\n",
    "        y_train_fold, y_val_fold = y_train[train_index], y_train[valid_index]\n",
    "\n",
    "        #create/fit the Standard scaler on the train fold\n",
    "        scaler = StandardScaler()\n",
    "        X_tf_sc = scaler.fit_transform(X_train_fold)\n",
    "        # transform validation fold\n",
    "        X_vld_sc = scaler.transform(X_val_fold)\n",
    "\n",
    "        # create/fit knearest neighbor\n",
    "        knn = KNeighborsClassifier(n_neighbors = k)\n",
    "        knn.fit(X_tf_sc, y_train_fold)\n",
    "        \n",
    "        # now how did we do?\n",
    "        accuracy_train = knn.score(X_tf_sc, y_train_fold)\n",
    "        accuracy_val = knn.score(X_vld_sc, y_val_fold)\n",
    "        score_val_list.append(accuracy_val)\n",
    "        score_train_list.append(accuracy_train)\n",
    "    \n",
    "    return {'k': k, 'train': np.mean(score_train_list), 'validation': np.mean(score_val_list)}"
   ]
  },
  {
   "cell_type": "markdown",
   "metadata": {
    "slideshow": {
     "slide_type": "slide"
    }
   },
   "source": [
    "Now for tuning parameters need to loop:"
   ]
  },
  {
   "cell_type": "code",
   "execution_count": 9,
   "metadata": {
    "slideshow": {
     "slide_type": "fragment"
    }
   },
   "outputs": [],
   "source": [
    "# empty dataframe\n",
    "crossval_df = pd.DataFrame(columns = ['k', 'train', 'validation'])\n",
    "\n",
    "# append results for each value of k\n",
    "for k in np.arange(1,100):\n",
    "\n",
    "                            \n",
    "    c = cross_validation(X_train, y_train, k, 5)\n",
    "    c_df = pd.DataFrame(c,index=[0])\n",
    "    crossval_df = pd.concat([crossval_df,c_df]) \n",
    "    \n",
    "\n",
    "# reset index\n",
    "crossval_df.reset_index(drop = True, inplace = True)\n"
   ]
  },
  {
   "cell_type": "code",
   "execution_count": 10,
   "metadata": {
    "slideshow": {
     "slide_type": "slide"
    }
   },
   "outputs": [
    {
     "data": {
      "text/html": [
       "<div>\n",
       "<style scoped>\n",
       "    .dataframe tbody tr th:only-of-type {\n",
       "        vertical-align: middle;\n",
       "    }\n",
       "\n",
       "    .dataframe tbody tr th {\n",
       "        vertical-align: top;\n",
       "    }\n",
       "\n",
       "    .dataframe thead th {\n",
       "        text-align: right;\n",
       "    }\n",
       "</style>\n",
       "<table border=\"1\" class=\"dataframe\">\n",
       "  <thead>\n",
       "    <tr style=\"text-align: right;\">\n",
       "      <th></th>\n",
       "      <th>k</th>\n",
       "      <th>train</th>\n",
       "      <th>validation</th>\n",
       "    </tr>\n",
       "  </thead>\n",
       "  <tbody>\n",
       "    <tr>\n",
       "      <th>0</th>\n",
       "      <td>1</td>\n",
       "      <td>0.944884</td>\n",
       "      <td>0.709231</td>\n",
       "    </tr>\n",
       "    <tr>\n",
       "      <th>1</th>\n",
       "      <td>2</td>\n",
       "      <td>0.868142</td>\n",
       "      <td>0.741231</td>\n",
       "    </tr>\n",
       "    <tr>\n",
       "      <th>2</th>\n",
       "      <td>3</td>\n",
       "      <td>0.872083</td>\n",
       "      <td>0.748615</td>\n",
       "    </tr>\n",
       "    <tr>\n",
       "      <th>3</th>\n",
       "      <td>4</td>\n",
       "      <td>0.854378</td>\n",
       "      <td>0.787692</td>\n",
       "    </tr>\n",
       "    <tr>\n",
       "      <th>4</th>\n",
       "      <td>5</td>\n",
       "      <td>0.852378</td>\n",
       "      <td>0.787692</td>\n",
       "    </tr>\n",
       "  </tbody>\n",
       "</table>\n",
       "</div>"
      ],
      "text/plain": [
       "   k     train  validation\n",
       "0  1  0.944884    0.709231\n",
       "1  2  0.868142    0.741231\n",
       "2  3  0.872083    0.748615\n",
       "3  4  0.854378    0.787692\n",
       "4  5  0.852378    0.787692"
      ]
     },
     "execution_count": 10,
     "metadata": {},
     "output_type": "execute_result"
    }
   ],
   "source": [
    "crossval_df.head()"
   ]
  },
  {
   "cell_type": "markdown",
   "metadata": {
    "slideshow": {
     "slide_type": "slide"
    }
   },
   "source": [
    "Technically, we did this correctly. But..."
   ]
  },
  {
   "cell_type": "markdown",
   "metadata": {
    "cell_style": "split",
    "slideshow": {
     "slide_type": "slide"
    }
   },
   "source": [
    "#### Whats the problem with this?\n",
    "\n",
    "- Need to write unecessary code. Hard to read.\n",
    "- Easy to mess up: track each data transformation carefully.\n",
    "- Changing/adding transformations: possibly a pain.\n",
    "- For loops for tuning, etc."
   ]
  },
  {
   "cell_type": "markdown",
   "metadata": {
    "cell_style": "split",
    "slideshow": {
     "slide_type": "fragment"
    }
   },
   "source": [
    "#### The goal:\n",
    "\n",
    "- want to get best model in streamlined process.\n",
    "- want to be able to plug in and out different transformations easily and transparently. \n",
    "- try multiple transformations/models at once\n",
    "- want good reporting/ranking of different models."
   ]
  },
  {
   "cell_type": "markdown",
   "metadata": {
    "cell_style": "center",
    "slideshow": {
     "slide_type": "slide"
    }
   },
   "source": [
    "####  First part of solution: The pipeline \n",
    "\n",
    "- Transformer fitting and model fitting\n",
    "- Happen one right after the other.\n",
    "- **Ideal: unify into a single process.**"
   ]
  },
  {
   "cell_type": "markdown",
   "metadata": {
    "slideshow": {
     "slide_type": "fragment"
    }
   },
   "source": [
    "Without the pipeline:\n",
    "- have to repeat fit and transformer/predicting for every transformer and model"
   ]
  },
  {
   "cell_type": "code",
   "execution_count": 11,
   "metadata": {
    "ExecuteTime": {
     "end_time": "2021-10-28T03:33:54.664937Z",
     "start_time": "2021-10-28T03:33:54.657819Z"
    },
    "cell_style": "center",
    "hidden": true,
    "slideshow": {
     "slide_type": "slide"
    }
   },
   "outputs": [
    {
     "name": "stdout",
     "output_type": "stream",
     "text": [
      "[1 1 2 2 0 2 0 0 2 1 0 2 1 1 0 0 0 1 2 0 1 0 1]\n"
     ]
    }
   ],
   "source": [
    "# Define transformers (will adjust/massage the data)\n",
    "imputer = SimpleImputer(strategy=\"median\") # replaces missing values\n",
    "std_scaler = StandardScaler() # scales the data\n",
    "\n",
    "# Define the classifier (predictor) to train\n",
    "rf_clf = DecisionTreeClassifier(random_state=42)\n",
    "\n",
    "# Have the classifer (and full pipeline) learn/train/fit from the data\n",
    "X_train_filled = imputer.fit_transform(X_train)\n",
    "X_train_scaled = std_scaler.fit_transform(X_train_filled)\n",
    "rf_clf.fit(X_train_scaled, y_train)\n",
    "\n",
    "# Predict using the trained classifier (still need to do the transformations)\n",
    "X_test_filled = imputer.transform(X_test)\n",
    "X_test_scaled = std_scaler.transform(X_test_filled)\n",
    "y_pred = rf_clf.predict(X_test_scaled)\n",
    "print(y_pred)"
   ]
  },
  {
   "cell_type": "markdown",
   "metadata": {
    "slideshow": {
     "slide_type": "slide"
    }
   },
   "source": [
    "Instead let's use the Pipeline object"
   ]
  },
  {
   "cell_type": "code",
   "execution_count": 12,
   "metadata": {
    "slideshow": {
     "slide_type": "fragment"
    }
   },
   "outputs": [],
   "source": [
    "from sklearn.pipeline import Pipeline\n",
    "\n",
    "# this will allow us to visualize the pipeline (may not be available in learn-env)\n",
    "from sklearn import set_config\n",
    "set_config(display= 'diagram')"
   ]
  },
  {
   "cell_type": "markdown",
   "metadata": {
    "cell_style": "split",
    "slideshow": {
     "slide_type": "slide"
    }
   },
   "source": [
    "Pipeline() constructor:\n",
    "- takes in list of tuples (steps):\n",
    "- user label of estimator/transformer in pipeline (a string)\n",
    "- the transformer/estimator\n"
   ]
  },
  {
   "cell_type": "markdown",
   "metadata": {
    "cell_style": "split",
    "slideshow": {
     "slide_type": "fragment"
    }
   },
   "source": [
    "Pipeline() object is a new estimator:\n",
    "- does all steps in a defined order\n",
    "- transformers in the beginning\n",
    "- predictive model must be last step"
   ]
  },
  {
   "cell_type": "markdown",
   "metadata": {
    "slideshow": {
     "slide_type": "slide"
    }
   },
   "source": [
    "Combining into a unified estimator-transformer:\n",
    "- single .fit()\n",
    "- single .predict()\n",
    "\n",
    "**Does everything in one shot**"
   ]
  },
  {
   "cell_type": "markdown",
   "metadata": {
    "slideshow": {
     "slide_type": "slide"
    }
   },
   "source": [
    "Let's check this out on fitting/predicting with simple train/test split:"
   ]
  },
  {
   "cell_type": "code",
   "execution_count": 13,
   "metadata": {
    "slideshow": {
     "slide_type": "slide"
    }
   },
   "outputs": [
    {
     "name": "stdout",
     "output_type": "stream",
     "text": [
      "[1 1 2 2 0 2 0 0 2 1 0 2 1 1 0 0 0 1 2 0 1 0 1]\n"
     ]
    }
   ],
   "source": [
    "steps = [('imputer', SimpleImputer(strategy=\"median\")), ('std_scaler', StandardScaler()),\n",
    "        ('rf_clf', DecisionTreeClassifier(random_state=42))]\n",
    "\n",
    "pipeline = Pipeline(steps)\n",
    "\n",
    "\n",
    "# Train the pipeline (tranformations & predictor)\n",
    "pipeline.fit(X_train, y_train)\n",
    "\n",
    "# Predict using the pipeline (includes the transfomers & trained predictor)\n",
    "predicted = pipeline.predict(X_test)\n",
    "print(predicted)"
   ]
  },
  {
   "cell_type": "markdown",
   "metadata": {
    "slideshow": {
     "slide_type": "slide"
    }
   },
   "source": [
    "Side by side (they do the same thing)"
   ]
  },
  {
   "cell_type": "code",
   "execution_count": 14,
   "metadata": {
    "cell_style": "center",
    "slideshow": {
     "slide_type": "fragment"
    }
   },
   "outputs": [
    {
     "name": "stdout",
     "output_type": "stream",
     "text": [
      "[1 1 2 2 0 2 0 0 2 1 0 2 1 1 0 0 0 1 2 0 1 0 1]\n"
     ]
    }
   ],
   "source": [
    "# Define transformers (will adjust/massage the data)\n",
    "imputer = SimpleImputer(strategy=\"median\") # replaces missing values\n",
    "std_scaler = StandardScaler() # scales the data\n",
    "\n",
    "# Define the classifier (predictor) to train\n",
    "rf_clf = DecisionTreeClassifier(random_state=42)\n",
    "\n",
    "# Have the classifer (and full pipeline) learn/train/fit from the data\n",
    "X_train_filled = imputer.fit_transform(X_train)\n",
    "X_train_scaled = std_scaler.fit_transform(X_train_filled)\n",
    "rf_clf.fit(X_train_scaled, y_train)\n",
    "\n",
    "# Predict using the trained classifier (still need to do the transformations)\n",
    "X_test_filled = imputer.transform(X_test)\n",
    "X_test_scaled = std_scaler.transform(X_test_filled)\n",
    "y_pred = rf_clf.predict(X_test_scaled)\n",
    "print(y_pred)"
   ]
  },
  {
   "cell_type": "code",
   "execution_count": 15,
   "metadata": {
    "cell_style": "center",
    "slideshow": {
     "slide_type": "fragment"
    }
   },
   "outputs": [
    {
     "name": "stdout",
     "output_type": "stream",
     "text": [
      "[1 1 2 2 0 2 0 0 2 1 0 2 1 1 0 0 0 1 2 0 1 0 1]\n"
     ]
    }
   ],
   "source": [
    "steps = [('imputer', SimpleImputer(strategy=\"median\")), ('std_scaler', StandardScaler()),\n",
    "        ('rf_clf', DecisionTreeClassifier(random_state=42))]\n",
    "\n",
    "pipeline = Pipeline(steps)\n",
    "\n",
    "\n",
    "# Train the pipeline (tranformations & predictor)\n",
    "pipeline.fit(X_train, y_train)\n",
    "\n",
    "# Predict using the pipeline (includes the transfomers & trained predictor)\n",
    "predicted = pipeline.predict(X_test)\n",
    "print(predicted)"
   ]
  },
  {
   "cell_type": "markdown",
   "metadata": {
    "slideshow": {
     "slide_type": "slide"
    }
   },
   "source": [
    "Now lets do **manual** cross validation **with pipeline**"
   ]
  },
  {
   "cell_type": "markdown",
   "metadata": {
    "slideshow": {
     "slide_type": "slide"
    }
   },
   "source": [
    "First advantage: can define the entire set of transformations outside cross-validation function:"
   ]
  },
  {
   "cell_type": "code",
   "execution_count": 16,
   "metadata": {
    "cell_style": "center",
    "slideshow": {
     "slide_type": "fragment"
    }
   },
   "outputs": [
    {
     "data": {
      "text/html": [
       "<style>#sk-eace772d-b3f5-4901-a205-c5418b325ac9 {color: black;background-color: white;}#sk-eace772d-b3f5-4901-a205-c5418b325ac9 pre{padding: 0;}#sk-eace772d-b3f5-4901-a205-c5418b325ac9 div.sk-toggleable {background-color: white;}#sk-eace772d-b3f5-4901-a205-c5418b325ac9 label.sk-toggleable__label {cursor: pointer;display: block;width: 100%;margin-bottom: 0;padding: 0.3em;box-sizing: border-box;text-align: center;}#sk-eace772d-b3f5-4901-a205-c5418b325ac9 label.sk-toggleable__label-arrow:before {content: \"▸\";float: left;margin-right: 0.25em;color: #696969;}#sk-eace772d-b3f5-4901-a205-c5418b325ac9 label.sk-toggleable__label-arrow:hover:before {color: black;}#sk-eace772d-b3f5-4901-a205-c5418b325ac9 div.sk-estimator:hover label.sk-toggleable__label-arrow:before {color: black;}#sk-eace772d-b3f5-4901-a205-c5418b325ac9 div.sk-toggleable__content {max-height: 0;max-width: 0;overflow: hidden;text-align: left;background-color: #f0f8ff;}#sk-eace772d-b3f5-4901-a205-c5418b325ac9 div.sk-toggleable__content pre {margin: 0.2em;color: black;border-radius: 0.25em;background-color: #f0f8ff;}#sk-eace772d-b3f5-4901-a205-c5418b325ac9 input.sk-toggleable__control:checked~div.sk-toggleable__content {max-height: 200px;max-width: 100%;overflow: auto;}#sk-eace772d-b3f5-4901-a205-c5418b325ac9 input.sk-toggleable__control:checked~label.sk-toggleable__label-arrow:before {content: \"▾\";}#sk-eace772d-b3f5-4901-a205-c5418b325ac9 div.sk-estimator input.sk-toggleable__control:checked~label.sk-toggleable__label {background-color: #d4ebff;}#sk-eace772d-b3f5-4901-a205-c5418b325ac9 div.sk-label input.sk-toggleable__control:checked~label.sk-toggleable__label {background-color: #d4ebff;}#sk-eace772d-b3f5-4901-a205-c5418b325ac9 input.sk-hidden--visually {border: 0;clip: rect(1px 1px 1px 1px);clip: rect(1px, 1px, 1px, 1px);height: 1px;margin: -1px;overflow: hidden;padding: 0;position: absolute;width: 1px;}#sk-eace772d-b3f5-4901-a205-c5418b325ac9 div.sk-estimator {font-family: monospace;background-color: #f0f8ff;border: 1px dotted black;border-radius: 0.25em;box-sizing: border-box;margin-bottom: 0.5em;}#sk-eace772d-b3f5-4901-a205-c5418b325ac9 div.sk-estimator:hover {background-color: #d4ebff;}#sk-eace772d-b3f5-4901-a205-c5418b325ac9 div.sk-parallel-item::after {content: \"\";width: 100%;border-bottom: 1px solid gray;flex-grow: 1;}#sk-eace772d-b3f5-4901-a205-c5418b325ac9 div.sk-label:hover label.sk-toggleable__label {background-color: #d4ebff;}#sk-eace772d-b3f5-4901-a205-c5418b325ac9 div.sk-serial::before {content: \"\";position: absolute;border-left: 1px solid gray;box-sizing: border-box;top: 2em;bottom: 0;left: 50%;}#sk-eace772d-b3f5-4901-a205-c5418b325ac9 div.sk-serial {display: flex;flex-direction: column;align-items: center;background-color: white;padding-right: 0.2em;padding-left: 0.2em;}#sk-eace772d-b3f5-4901-a205-c5418b325ac9 div.sk-item {z-index: 1;}#sk-eace772d-b3f5-4901-a205-c5418b325ac9 div.sk-parallel {display: flex;align-items: stretch;justify-content: center;background-color: white;}#sk-eace772d-b3f5-4901-a205-c5418b325ac9 div.sk-parallel::before {content: \"\";position: absolute;border-left: 1px solid gray;box-sizing: border-box;top: 2em;bottom: 0;left: 50%;}#sk-eace772d-b3f5-4901-a205-c5418b325ac9 div.sk-parallel-item {display: flex;flex-direction: column;position: relative;background-color: white;}#sk-eace772d-b3f5-4901-a205-c5418b325ac9 div.sk-parallel-item:first-child::after {align-self: flex-end;width: 50%;}#sk-eace772d-b3f5-4901-a205-c5418b325ac9 div.sk-parallel-item:last-child::after {align-self: flex-start;width: 50%;}#sk-eace772d-b3f5-4901-a205-c5418b325ac9 div.sk-parallel-item:only-child::after {width: 0;}#sk-eace772d-b3f5-4901-a205-c5418b325ac9 div.sk-dashed-wrapped {border: 1px dashed gray;margin: 0 0.4em 0.5em 0.4em;box-sizing: border-box;padding-bottom: 0.4em;background-color: white;position: relative;}#sk-eace772d-b3f5-4901-a205-c5418b325ac9 div.sk-label label {font-family: monospace;font-weight: bold;background-color: white;display: inline-block;line-height: 1.2em;}#sk-eace772d-b3f5-4901-a205-c5418b325ac9 div.sk-label-container {position: relative;z-index: 2;text-align: center;}#sk-eace772d-b3f5-4901-a205-c5418b325ac9 div.sk-container {/* jupyter's `normalize.less` sets `[hidden] { display: none; }` but bootstrap.min.css set `[hidden] { display: none !important; }` so we also need the `!important` here to be able to override the default hidden behavior on the sphinx rendered scikit-learn.org. See: https://github.com/scikit-learn/scikit-learn/issues/21755 */display: inline-block !important;position: relative;}#sk-eace772d-b3f5-4901-a205-c5418b325ac9 div.sk-text-repr-fallback {display: none;}</style><div id=\"sk-eace772d-b3f5-4901-a205-c5418b325ac9\" class=\"sk-top-container\"><div class=\"sk-text-repr-fallback\"><pre>Pipeline(steps=[(&#x27;imputer&#x27;, SimpleImputer(strategy=&#x27;median&#x27;)),\n",
       "                (&#x27;std_scaler&#x27;, StandardScaler()),\n",
       "                (&#x27;rf_clf&#x27;, DecisionTreeClassifier(random_state=42))])</pre><b>Please rerun this cell to show the HTML repr or trust the notebook.</b></div><div class=\"sk-container\" hidden><div class=\"sk-item sk-dashed-wrapped\"><div class=\"sk-label-container\"><div class=\"sk-label sk-toggleable\"><input class=\"sk-toggleable__control sk-hidden--visually\" id=\"6a768c13-3de6-4cbf-a53f-1a144a65d9ea\" type=\"checkbox\" ><label for=\"6a768c13-3de6-4cbf-a53f-1a144a65d9ea\" class=\"sk-toggleable__label sk-toggleable__label-arrow\">Pipeline</label><div class=\"sk-toggleable__content\"><pre>Pipeline(steps=[(&#x27;imputer&#x27;, SimpleImputer(strategy=&#x27;median&#x27;)),\n",
       "                (&#x27;std_scaler&#x27;, StandardScaler()),\n",
       "                (&#x27;rf_clf&#x27;, DecisionTreeClassifier(random_state=42))])</pre></div></div></div><div class=\"sk-serial\"><div class=\"sk-item\"><div class=\"sk-estimator sk-toggleable\"><input class=\"sk-toggleable__control sk-hidden--visually\" id=\"9ceca022-43d6-4518-aa58-4ec591eeea71\" type=\"checkbox\" ><label for=\"9ceca022-43d6-4518-aa58-4ec591eeea71\" class=\"sk-toggleable__label sk-toggleable__label-arrow\">SimpleImputer</label><div class=\"sk-toggleable__content\"><pre>SimpleImputer(strategy=&#x27;median&#x27;)</pre></div></div></div><div class=\"sk-item\"><div class=\"sk-estimator sk-toggleable\"><input class=\"sk-toggleable__control sk-hidden--visually\" id=\"f6653e77-0194-4a5b-bb52-0a98fdcc7ce4\" type=\"checkbox\" ><label for=\"f6653e77-0194-4a5b-bb52-0a98fdcc7ce4\" class=\"sk-toggleable__label sk-toggleable__label-arrow\">StandardScaler</label><div class=\"sk-toggleable__content\"><pre>StandardScaler()</pre></div></div></div><div class=\"sk-item\"><div class=\"sk-estimator sk-toggleable\"><input class=\"sk-toggleable__control sk-hidden--visually\" id=\"082cd4ed-a9ea-4eb2-86c1-bf8a09da2781\" type=\"checkbox\" ><label for=\"082cd4ed-a9ea-4eb2-86c1-bf8a09da2781\" class=\"sk-toggleable__label sk-toggleable__label-arrow\">DecisionTreeClassifier</label><div class=\"sk-toggleable__content\"><pre>DecisionTreeClassifier(random_state=42)</pre></div></div></div></div></div></div></div>"
      ],
      "text/plain": [
       "Pipeline(steps=[('imputer', SimpleImputer(strategy='median')),\n",
       "                ('std_scaler', StandardScaler()),\n",
       "                ('rf_clf', DecisionTreeClassifier(random_state=42))])"
      ]
     },
     "execution_count": 16,
     "metadata": {},
     "output_type": "execute_result"
    }
   ],
   "source": [
    "# Can define outside the cross validation\n",
    "steps = [('imputer', SimpleImputer(strategy=\"median\")), ('std_scaler', StandardScaler()),\n",
    "        ('rf_clf', DecisionTreeClassifier(random_state=42))]\n",
    "\n",
    "model_pipe = Pipeline(steps)\n",
    "model_pipe"
   ]
  },
  {
   "cell_type": "markdown",
   "metadata": {
    "slideshow": {
     "slide_type": "slide"
    }
   },
   "source": [
    "Second advantage: no keeping track of multiple variables.\n",
    "- single .fit() and .predict()"
   ]
  },
  {
   "cell_type": "code",
   "execution_count": 17,
   "metadata": {
    "cell_style": "center",
    "slideshow": {
     "slide_type": "slide"
    }
   },
   "outputs": [],
   "source": [
    "def cross_validation_pip(X_train, y_train, estimator, num_split = 10):\n",
    "    \n",
    "    X_train = X_train.values\n",
    "    y_train = y_train.values\n",
    "    \n",
    "    score_train_list = []\n",
    "    score_val_list = []\n",
    "    \n",
    "    for train_index, valid_index in KFold(n_splits = num_split).split(X_train):\n",
    "        \n",
    "        # train and validation splitting \n",
    "        X_train_fold, X_val_fold = X_train[train_index], X_train[valid_index]\n",
    "        y_train_fold, y_val_fold = y_train[train_index], y_train[valid_index]\n",
    "\n",
    "        estimator.fit(X_train_fold, y_train_fold)\n",
    "        \n",
    "        # now how did we do?\n",
    "        accuracy_train = estimator.score(X_train_fold, y_train_fold)\n",
    "        accuracy_val = estimator.score(X_val_fold, y_val_fold)\n",
    "        score_val_list.append(accuracy_val)\n",
    "        score_train_list.append(accuracy_train)\n",
    "    \n",
    "    return {'train': np.mean(score_train_list), 'validation': np.mean(score_val_list)}"
   ]
  },
  {
   "cell_type": "code",
   "execution_count": 18,
   "metadata": {
    "slideshow": {
     "slide_type": "slide"
    }
   },
   "outputs": [
    {
     "data": {
      "text/plain": [
       "{'train': 0.943119755911518, 'validation': 0.708974358974359}"
      ]
     },
     "execution_count": 18,
     "metadata": {},
     "output_type": "execute_result"
    }
   ],
   "source": [
    "cross_validation_pip(X_train, y_train, pipeline)"
   ]
  },
  {
   "cell_type": "markdown",
   "metadata": {
    "slideshow": {
     "slide_type": "slide"
    }
   },
   "source": [
    "Compare manual cross-validation **without** pipeline:"
   ]
  },
  {
   "cell_type": "code",
   "execution_count": 19,
   "metadata": {
    "slideshow": {
     "slide_type": "slide"
    }
   },
   "outputs": [],
   "source": [
    "### Without pipeline, this is what it looks like because we have to imput and scale.\n",
    "def cross_validation(X_train, y_train, estimator, num_split = 10):\n",
    "    \n",
    "    X_train = X_train.values\n",
    "    y_train = y_train.values\n",
    "    \n",
    "    score_train_list = []\n",
    "    score_val_list = []\n",
    "    \n",
    "    for train_index, valid_index in KFold(n_splits = num_split).split(X_train):\n",
    "\n",
    "\n",
    "        # train and validation splitting \n",
    "        X_train_fold, X_val_fold = X_train[train_index], X_train[valid_index]\n",
    "        y_train_fold, y_val_fold = y_train[train_index], y_train[valid_index]\n",
    "        \n",
    "        # impute NaNs with medians\n",
    "        \n",
    "        simple_imp = SimpleImputer(strategy=\"median\")\n",
    "        X_tf_imp = simple_imp.fit_transform(X_train_fold)\n",
    "        X_vld_imp = simple_imp.transform(X_val_fold)\n",
    "\n",
    "        #create/fit the Standard scaler on the train fold\n",
    "        scaler = StandardScaler()\n",
    "        X_tf_sc = scaler.fit_transform(X_tf_imp)\n",
    "        \n",
    "        # transform validation fold\n",
    "        X_vld_sc = scaler.transform(X_vld_imp)\n",
    "\n",
    "        estimator.fit(X_tf_sc, y_train_fold)\n",
    "        \n",
    "        # now how did we do?\n",
    "        accuracy_train = estimator.score(X_tf_sc, y_train_fold)\n",
    "        accuracy_val = estimator.score(X_vld_sc, y_val_fold)\n",
    "        score_val_list.append(accuracy_val)\n",
    "        score_train_list.append(accuracy_train)\n",
    "    \n",
    "    return {'train': np.mean(score_train_list), 'validation': np.mean(score_val_list)}"
   ]
  },
  {
   "cell_type": "code",
   "execution_count": 20,
   "metadata": {
    "slideshow": {
     "slide_type": "slide"
    }
   },
   "outputs": [
    {
     "data": {
      "text/plain": [
       "{'train': 0.943119755911518, 'validation': 0.708974358974359}"
      ]
     },
     "execution_count": 20,
     "metadata": {},
     "output_type": "execute_result"
    }
   ],
   "source": [
    "dec_tree = DecisionTreeClassifier(random_state=42)\n",
    "cross_validation(X_train, y_train, dec_tree)"
   ]
  },
  {
   "cell_type": "markdown",
   "metadata": {
    "cell_style": "split",
    "slideshow": {
     "slide_type": "slide"
    }
   },
   "source": [
    "Same result as pipeline but:\n",
    "- Much less customizable/plug and play\n",
    "- Have to be careful and keep track of variables.\n",
    "- Changing/adding steps requires changing code **carefully** in function\n",
    "- Track changes and follow order of transformations:\n",
    "    - train set\n",
    "    - test set"
   ]
  },
  {
   "cell_type": "markdown",
   "metadata": {
    "cell_style": "split",
    "slideshow": {
     "slide_type": "fragment"
    }
   },
   "source": [
    "<img src = \"Images/pipeline_vs_manual.png\" width = 600  /> <center>Pipeline: customizable box. <i>Takes care of the details.</i></center>"
   ]
  },
  {
   "cell_type": "markdown",
   "metadata": {
    "heading_collapsed": true,
    "hidden": true,
    "slideshow": {
     "slide_type": "slide"
    }
   },
   "source": [
    "#### Swapping in Different Models & Transformers"
   ]
  },
  {
   "cell_type": "markdown",
   "metadata": {
    "slideshow": {
     "slide_type": "slide"
    }
   },
   "source": [
    "Pipeline object has the steps as an attribute:\n",
    "- Python list\n",
    "- can modify pipeline progression by modifying attribute."
   ]
  },
  {
   "cell_type": "code",
   "execution_count": 21,
   "metadata": {
    "cell_style": "center",
    "slideshow": {
     "slide_type": "slide"
    }
   },
   "outputs": [
    {
     "data": {
      "text/plain": [
       "[('imputer', SimpleImputer(strategy='median')),\n",
       " ('std_scaler', StandardScaler()),\n",
       " ('rf_clf', DecisionTreeClassifier(random_state=42))]"
      ]
     },
     "execution_count": 21,
     "metadata": {},
     "output_type": "execute_result"
    }
   ],
   "source": [
    "model_pipe.steps"
   ]
  },
  {
   "cell_type": "markdown",
   "metadata": {
    "cell_style": "center",
    "slideshow": {
     "slide_type": "fragment"
    }
   },
   "source": [
    "Change model to KNN:"
   ]
  },
  {
   "cell_type": "code",
   "execution_count": 22,
   "metadata": {
    "cell_style": "split",
    "slideshow": {
     "slide_type": "fragment"
    }
   },
   "outputs": [],
   "source": [
    "# pop the decision tree\n",
    "model_pipe.steps.pop(-1)\n",
    "# insert knn\n",
    "model_pipe.steps.append(\n",
    "['knn', KNeighborsClassifier()])"
   ]
  },
  {
   "cell_type": "code",
   "execution_count": 23,
   "metadata": {
    "cell_style": "split",
    "scrolled": true,
    "slideshow": {
     "slide_type": "fragment"
    }
   },
   "outputs": [
    {
     "data": {
      "text/html": [
       "<style>#sk-7eee3cb9-7e55-4c83-9346-00808b4d820a {color: black;background-color: white;}#sk-7eee3cb9-7e55-4c83-9346-00808b4d820a pre{padding: 0;}#sk-7eee3cb9-7e55-4c83-9346-00808b4d820a div.sk-toggleable {background-color: white;}#sk-7eee3cb9-7e55-4c83-9346-00808b4d820a label.sk-toggleable__label {cursor: pointer;display: block;width: 100%;margin-bottom: 0;padding: 0.3em;box-sizing: border-box;text-align: center;}#sk-7eee3cb9-7e55-4c83-9346-00808b4d820a label.sk-toggleable__label-arrow:before {content: \"▸\";float: left;margin-right: 0.25em;color: #696969;}#sk-7eee3cb9-7e55-4c83-9346-00808b4d820a label.sk-toggleable__label-arrow:hover:before {color: black;}#sk-7eee3cb9-7e55-4c83-9346-00808b4d820a div.sk-estimator:hover label.sk-toggleable__label-arrow:before {color: black;}#sk-7eee3cb9-7e55-4c83-9346-00808b4d820a div.sk-toggleable__content {max-height: 0;max-width: 0;overflow: hidden;text-align: left;background-color: #f0f8ff;}#sk-7eee3cb9-7e55-4c83-9346-00808b4d820a div.sk-toggleable__content pre {margin: 0.2em;color: black;border-radius: 0.25em;background-color: #f0f8ff;}#sk-7eee3cb9-7e55-4c83-9346-00808b4d820a input.sk-toggleable__control:checked~div.sk-toggleable__content {max-height: 200px;max-width: 100%;overflow: auto;}#sk-7eee3cb9-7e55-4c83-9346-00808b4d820a input.sk-toggleable__control:checked~label.sk-toggleable__label-arrow:before {content: \"▾\";}#sk-7eee3cb9-7e55-4c83-9346-00808b4d820a div.sk-estimator input.sk-toggleable__control:checked~label.sk-toggleable__label {background-color: #d4ebff;}#sk-7eee3cb9-7e55-4c83-9346-00808b4d820a div.sk-label input.sk-toggleable__control:checked~label.sk-toggleable__label {background-color: #d4ebff;}#sk-7eee3cb9-7e55-4c83-9346-00808b4d820a input.sk-hidden--visually {border: 0;clip: rect(1px 1px 1px 1px);clip: rect(1px, 1px, 1px, 1px);height: 1px;margin: -1px;overflow: hidden;padding: 0;position: absolute;width: 1px;}#sk-7eee3cb9-7e55-4c83-9346-00808b4d820a div.sk-estimator {font-family: monospace;background-color: #f0f8ff;border: 1px dotted black;border-radius: 0.25em;box-sizing: border-box;margin-bottom: 0.5em;}#sk-7eee3cb9-7e55-4c83-9346-00808b4d820a div.sk-estimator:hover {background-color: #d4ebff;}#sk-7eee3cb9-7e55-4c83-9346-00808b4d820a div.sk-parallel-item::after {content: \"\";width: 100%;border-bottom: 1px solid gray;flex-grow: 1;}#sk-7eee3cb9-7e55-4c83-9346-00808b4d820a div.sk-label:hover label.sk-toggleable__label {background-color: #d4ebff;}#sk-7eee3cb9-7e55-4c83-9346-00808b4d820a div.sk-serial::before {content: \"\";position: absolute;border-left: 1px solid gray;box-sizing: border-box;top: 2em;bottom: 0;left: 50%;}#sk-7eee3cb9-7e55-4c83-9346-00808b4d820a div.sk-serial {display: flex;flex-direction: column;align-items: center;background-color: white;padding-right: 0.2em;padding-left: 0.2em;}#sk-7eee3cb9-7e55-4c83-9346-00808b4d820a div.sk-item {z-index: 1;}#sk-7eee3cb9-7e55-4c83-9346-00808b4d820a div.sk-parallel {display: flex;align-items: stretch;justify-content: center;background-color: white;}#sk-7eee3cb9-7e55-4c83-9346-00808b4d820a div.sk-parallel::before {content: \"\";position: absolute;border-left: 1px solid gray;box-sizing: border-box;top: 2em;bottom: 0;left: 50%;}#sk-7eee3cb9-7e55-4c83-9346-00808b4d820a div.sk-parallel-item {display: flex;flex-direction: column;position: relative;background-color: white;}#sk-7eee3cb9-7e55-4c83-9346-00808b4d820a div.sk-parallel-item:first-child::after {align-self: flex-end;width: 50%;}#sk-7eee3cb9-7e55-4c83-9346-00808b4d820a div.sk-parallel-item:last-child::after {align-self: flex-start;width: 50%;}#sk-7eee3cb9-7e55-4c83-9346-00808b4d820a div.sk-parallel-item:only-child::after {width: 0;}#sk-7eee3cb9-7e55-4c83-9346-00808b4d820a div.sk-dashed-wrapped {border: 1px dashed gray;margin: 0 0.4em 0.5em 0.4em;box-sizing: border-box;padding-bottom: 0.4em;background-color: white;position: relative;}#sk-7eee3cb9-7e55-4c83-9346-00808b4d820a div.sk-label label {font-family: monospace;font-weight: bold;background-color: white;display: inline-block;line-height: 1.2em;}#sk-7eee3cb9-7e55-4c83-9346-00808b4d820a div.sk-label-container {position: relative;z-index: 2;text-align: center;}#sk-7eee3cb9-7e55-4c83-9346-00808b4d820a div.sk-container {/* jupyter's `normalize.less` sets `[hidden] { display: none; }` but bootstrap.min.css set `[hidden] { display: none !important; }` so we also need the `!important` here to be able to override the default hidden behavior on the sphinx rendered scikit-learn.org. See: https://github.com/scikit-learn/scikit-learn/issues/21755 */display: inline-block !important;position: relative;}#sk-7eee3cb9-7e55-4c83-9346-00808b4d820a div.sk-text-repr-fallback {display: none;}</style><div id=\"sk-7eee3cb9-7e55-4c83-9346-00808b4d820a\" class=\"sk-top-container\"><div class=\"sk-text-repr-fallback\"><pre>Pipeline(steps=[(&#x27;imputer&#x27;, SimpleImputer(strategy=&#x27;median&#x27;)),\n",
       "                (&#x27;std_scaler&#x27;, StandardScaler()),\n",
       "                [&#x27;knn&#x27;, KNeighborsClassifier()]])</pre><b>Please rerun this cell to show the HTML repr or trust the notebook.</b></div><div class=\"sk-container\" hidden><div class=\"sk-item sk-dashed-wrapped\"><div class=\"sk-label-container\"><div class=\"sk-label sk-toggleable\"><input class=\"sk-toggleable__control sk-hidden--visually\" id=\"06f1b788-d134-48e2-9271-f692371a6dff\" type=\"checkbox\" ><label for=\"06f1b788-d134-48e2-9271-f692371a6dff\" class=\"sk-toggleable__label sk-toggleable__label-arrow\">Pipeline</label><div class=\"sk-toggleable__content\"><pre>Pipeline(steps=[(&#x27;imputer&#x27;, SimpleImputer(strategy=&#x27;median&#x27;)),\n",
       "                (&#x27;std_scaler&#x27;, StandardScaler()),\n",
       "                [&#x27;knn&#x27;, KNeighborsClassifier()]])</pre></div></div></div><div class=\"sk-serial\"><div class=\"sk-item\"><div class=\"sk-estimator sk-toggleable\"><input class=\"sk-toggleable__control sk-hidden--visually\" id=\"6f966655-ff61-4c4d-bb33-ae7dd064feb2\" type=\"checkbox\" ><label for=\"6f966655-ff61-4c4d-bb33-ae7dd064feb2\" class=\"sk-toggleable__label sk-toggleable__label-arrow\">SimpleImputer</label><div class=\"sk-toggleable__content\"><pre>SimpleImputer(strategy=&#x27;median&#x27;)</pre></div></div></div><div class=\"sk-item\"><div class=\"sk-estimator sk-toggleable\"><input class=\"sk-toggleable__control sk-hidden--visually\" id=\"200d084c-f0b4-4fe3-b5bb-5bd5fd4ca1a1\" type=\"checkbox\" ><label for=\"200d084c-f0b4-4fe3-b5bb-5bd5fd4ca1a1\" class=\"sk-toggleable__label sk-toggleable__label-arrow\">StandardScaler</label><div class=\"sk-toggleable__content\"><pre>StandardScaler()</pre></div></div></div><div class=\"sk-item\"><div class=\"sk-estimator sk-toggleable\"><input class=\"sk-toggleable__control sk-hidden--visually\" id=\"0f2c0ab8-faee-4d91-ac19-0c5d623e81ec\" type=\"checkbox\" ><label for=\"0f2c0ab8-faee-4d91-ac19-0c5d623e81ec\" class=\"sk-toggleable__label sk-toggleable__label-arrow\">KNeighborsClassifier</label><div class=\"sk-toggleable__content\"><pre>KNeighborsClassifier()</pre></div></div></div></div></div></div></div>"
      ],
      "text/plain": [
       "Pipeline(steps=[('imputer', SimpleImputer(strategy='median')),\n",
       "                ('std_scaler', StandardScaler()),\n",
       "                ['knn', KNeighborsClassifier()]])"
      ]
     },
     "execution_count": 23,
     "metadata": {},
     "output_type": "execute_result"
    }
   ],
   "source": [
    "model_pipe"
   ]
  },
  {
   "cell_type": "markdown",
   "metadata": {
    "cell_style": "center",
    "slideshow": {
     "slide_type": "slide"
    }
   },
   "source": [
    "Can change transformers in the middle:"
   ]
  },
  {
   "cell_type": "code",
   "execution_count": 24,
   "metadata": {
    "cell_style": "split",
    "slideshow": {
     "slide_type": "fragment"
    }
   },
   "outputs": [
    {
     "data": {
      "text/html": [
       "<style>#sk-d0f81b3c-9217-4e09-b544-97ea61f14063 {color: black;background-color: white;}#sk-d0f81b3c-9217-4e09-b544-97ea61f14063 pre{padding: 0;}#sk-d0f81b3c-9217-4e09-b544-97ea61f14063 div.sk-toggleable {background-color: white;}#sk-d0f81b3c-9217-4e09-b544-97ea61f14063 label.sk-toggleable__label {cursor: pointer;display: block;width: 100%;margin-bottom: 0;padding: 0.3em;box-sizing: border-box;text-align: center;}#sk-d0f81b3c-9217-4e09-b544-97ea61f14063 label.sk-toggleable__label-arrow:before {content: \"▸\";float: left;margin-right: 0.25em;color: #696969;}#sk-d0f81b3c-9217-4e09-b544-97ea61f14063 label.sk-toggleable__label-arrow:hover:before {color: black;}#sk-d0f81b3c-9217-4e09-b544-97ea61f14063 div.sk-estimator:hover label.sk-toggleable__label-arrow:before {color: black;}#sk-d0f81b3c-9217-4e09-b544-97ea61f14063 div.sk-toggleable__content {max-height: 0;max-width: 0;overflow: hidden;text-align: left;background-color: #f0f8ff;}#sk-d0f81b3c-9217-4e09-b544-97ea61f14063 div.sk-toggleable__content pre {margin: 0.2em;color: black;border-radius: 0.25em;background-color: #f0f8ff;}#sk-d0f81b3c-9217-4e09-b544-97ea61f14063 input.sk-toggleable__control:checked~div.sk-toggleable__content {max-height: 200px;max-width: 100%;overflow: auto;}#sk-d0f81b3c-9217-4e09-b544-97ea61f14063 input.sk-toggleable__control:checked~label.sk-toggleable__label-arrow:before {content: \"▾\";}#sk-d0f81b3c-9217-4e09-b544-97ea61f14063 div.sk-estimator input.sk-toggleable__control:checked~label.sk-toggleable__label {background-color: #d4ebff;}#sk-d0f81b3c-9217-4e09-b544-97ea61f14063 div.sk-label input.sk-toggleable__control:checked~label.sk-toggleable__label {background-color: #d4ebff;}#sk-d0f81b3c-9217-4e09-b544-97ea61f14063 input.sk-hidden--visually {border: 0;clip: rect(1px 1px 1px 1px);clip: rect(1px, 1px, 1px, 1px);height: 1px;margin: -1px;overflow: hidden;padding: 0;position: absolute;width: 1px;}#sk-d0f81b3c-9217-4e09-b544-97ea61f14063 div.sk-estimator {font-family: monospace;background-color: #f0f8ff;border: 1px dotted black;border-radius: 0.25em;box-sizing: border-box;margin-bottom: 0.5em;}#sk-d0f81b3c-9217-4e09-b544-97ea61f14063 div.sk-estimator:hover {background-color: #d4ebff;}#sk-d0f81b3c-9217-4e09-b544-97ea61f14063 div.sk-parallel-item::after {content: \"\";width: 100%;border-bottom: 1px solid gray;flex-grow: 1;}#sk-d0f81b3c-9217-4e09-b544-97ea61f14063 div.sk-label:hover label.sk-toggleable__label {background-color: #d4ebff;}#sk-d0f81b3c-9217-4e09-b544-97ea61f14063 div.sk-serial::before {content: \"\";position: absolute;border-left: 1px solid gray;box-sizing: border-box;top: 2em;bottom: 0;left: 50%;}#sk-d0f81b3c-9217-4e09-b544-97ea61f14063 div.sk-serial {display: flex;flex-direction: column;align-items: center;background-color: white;padding-right: 0.2em;padding-left: 0.2em;}#sk-d0f81b3c-9217-4e09-b544-97ea61f14063 div.sk-item {z-index: 1;}#sk-d0f81b3c-9217-4e09-b544-97ea61f14063 div.sk-parallel {display: flex;align-items: stretch;justify-content: center;background-color: white;}#sk-d0f81b3c-9217-4e09-b544-97ea61f14063 div.sk-parallel::before {content: \"\";position: absolute;border-left: 1px solid gray;box-sizing: border-box;top: 2em;bottom: 0;left: 50%;}#sk-d0f81b3c-9217-4e09-b544-97ea61f14063 div.sk-parallel-item {display: flex;flex-direction: column;position: relative;background-color: white;}#sk-d0f81b3c-9217-4e09-b544-97ea61f14063 div.sk-parallel-item:first-child::after {align-self: flex-end;width: 50%;}#sk-d0f81b3c-9217-4e09-b544-97ea61f14063 div.sk-parallel-item:last-child::after {align-self: flex-start;width: 50%;}#sk-d0f81b3c-9217-4e09-b544-97ea61f14063 div.sk-parallel-item:only-child::after {width: 0;}#sk-d0f81b3c-9217-4e09-b544-97ea61f14063 div.sk-dashed-wrapped {border: 1px dashed gray;margin: 0 0.4em 0.5em 0.4em;box-sizing: border-box;padding-bottom: 0.4em;background-color: white;position: relative;}#sk-d0f81b3c-9217-4e09-b544-97ea61f14063 div.sk-label label {font-family: monospace;font-weight: bold;background-color: white;display: inline-block;line-height: 1.2em;}#sk-d0f81b3c-9217-4e09-b544-97ea61f14063 div.sk-label-container {position: relative;z-index: 2;text-align: center;}#sk-d0f81b3c-9217-4e09-b544-97ea61f14063 div.sk-container {/* jupyter's `normalize.less` sets `[hidden] { display: none; }` but bootstrap.min.css set `[hidden] { display: none !important; }` so we also need the `!important` here to be able to override the default hidden behavior on the sphinx rendered scikit-learn.org. See: https://github.com/scikit-learn/scikit-learn/issues/21755 */display: inline-block !important;position: relative;}#sk-d0f81b3c-9217-4e09-b544-97ea61f14063 div.sk-text-repr-fallback {display: none;}</style><div id=\"sk-d0f81b3c-9217-4e09-b544-97ea61f14063\" class=\"sk-top-container\"><div class=\"sk-text-repr-fallback\"><pre>Pipeline(steps=[(&#x27;imputer&#x27;, SimpleImputer(strategy=&#x27;median&#x27;)),\n",
       "                (&#x27;norm&#x27;, Normalizer()), [&#x27;knn&#x27;, KNeighborsClassifier()]])</pre><b>Please rerun this cell to show the HTML repr or trust the notebook.</b></div><div class=\"sk-container\" hidden><div class=\"sk-item sk-dashed-wrapped\"><div class=\"sk-label-container\"><div class=\"sk-label sk-toggleable\"><input class=\"sk-toggleable__control sk-hidden--visually\" id=\"5fc29552-7404-41ed-9fe2-62518fc42c50\" type=\"checkbox\" ><label for=\"5fc29552-7404-41ed-9fe2-62518fc42c50\" class=\"sk-toggleable__label sk-toggleable__label-arrow\">Pipeline</label><div class=\"sk-toggleable__content\"><pre>Pipeline(steps=[(&#x27;imputer&#x27;, SimpleImputer(strategy=&#x27;median&#x27;)),\n",
       "                (&#x27;norm&#x27;, Normalizer()), [&#x27;knn&#x27;, KNeighborsClassifier()]])</pre></div></div></div><div class=\"sk-serial\"><div class=\"sk-item\"><div class=\"sk-estimator sk-toggleable\"><input class=\"sk-toggleable__control sk-hidden--visually\" id=\"80436b7d-83b4-4123-ab41-b052f29c76e6\" type=\"checkbox\" ><label for=\"80436b7d-83b4-4123-ab41-b052f29c76e6\" class=\"sk-toggleable__label sk-toggleable__label-arrow\">SimpleImputer</label><div class=\"sk-toggleable__content\"><pre>SimpleImputer(strategy=&#x27;median&#x27;)</pre></div></div></div><div class=\"sk-item\"><div class=\"sk-estimator sk-toggleable\"><input class=\"sk-toggleable__control sk-hidden--visually\" id=\"61dafe08-7c6c-4777-ac5f-b795db282204\" type=\"checkbox\" ><label for=\"61dafe08-7c6c-4777-ac5f-b795db282204\" class=\"sk-toggleable__label sk-toggleable__label-arrow\">Normalizer</label><div class=\"sk-toggleable__content\"><pre>Normalizer()</pre></div></div></div><div class=\"sk-item\"><div class=\"sk-estimator sk-toggleable\"><input class=\"sk-toggleable__control sk-hidden--visually\" id=\"407bc7ac-d615-4211-be4f-3ab08363886f\" type=\"checkbox\" ><label for=\"407bc7ac-d615-4211-be4f-3ab08363886f\" class=\"sk-toggleable__label sk-toggleable__label-arrow\">KNeighborsClassifier</label><div class=\"sk-toggleable__content\"><pre>KNeighborsClassifier()</pre></div></div></div></div></div></div></div>"
      ],
      "text/plain": [
       "Pipeline(steps=[('imputer', SimpleImputer(strategy='median')),\n",
       "                ('norm', Normalizer()), ['knn', KNeighborsClassifier()]])"
      ]
     },
     "execution_count": 24,
     "metadata": {},
     "output_type": "execute_result"
    }
   ],
   "source": [
    "model_pipe.steps[1] = ('norm', Normalizer())\n",
    "model_pipe"
   ]
  },
  {
   "cell_type": "markdown",
   "metadata": {
    "slideshow": {
     "slide_type": "slide"
    }
   },
   "source": [
    "#### Pipelines\n",
    "- Easily plug/play different transformers and models into our workflow"
   ]
  },
  {
   "cell_type": "markdown",
   "metadata": {
    "slideshow": {
     "slide_type": "slide"
    }
   },
   "source": [
    "#### Pipelines clearly awesome, but:"
   ]
  },
  {
   "cell_type": "markdown",
   "metadata": {
    "slideshow": {
     "slide_type": "fragment"
    }
   },
   "source": [
    "Transformer/model pipeline hyperparameter tuning with cross-validation still pretty manual:\n",
    "\n",
    "Want:\n",
    "- Efficient hyperparameter tuning with minimal code\n",
    "- Leakage prevention\n",
    "- Automatic best model selection and reporting on the CV for each pipeline tried. \n"
   ]
  },
  {
   "cell_type": "markdown",
   "metadata": {
    "slideshow": {
     "slide_type": "slide"
    }
   },
   "source": [
    "#### The  Grid Search CV"
   ]
  },
  {
   "cell_type": "markdown",
   "metadata": {
    "cell_style": "split",
    "hidden": true,
    "slideshow": {
     "slide_type": "fragment"
    }
   },
   "source": [
    "Scikit-Learn has a [`GridSearchCV`](https://scikit-learn.org/stable/modules/generated/sklearn.model_selection.GridSearchCV.html) class whose `fit()` method:\n",
    "\n",
    "- takes in a grid of hyperparameters\n",
    "- loops through all of them **in order**\n",
    "- runs cross-validation properly scoring by chosen metric\n"
   ]
  },
  {
   "cell_type": "markdown",
   "metadata": {
    "cell_style": "split",
    "slideshow": {
     "slide_type": "fragment"
    }
   },
   "source": [
    "- Returns all the models fitted\n",
    "- Can easily access best model and its score"
   ]
  },
  {
   "cell_type": "markdown",
   "metadata": {
    "cell_style": "split",
    "slideshow": {
     "slide_type": "fragment"
    }
   },
   "source": [
    "<center><img src = \"Images/hyperparameter_tuning_cv_grid.webp\" width = 400/></center>"
   ]
  },
  {
   "cell_type": "markdown",
   "metadata": {
    "heading_collapsed": true,
    "hidden": true,
    "slideshow": {
     "slide_type": "slide"
    }
   },
   "source": [
    "#### GridSearchCV"
   ]
  },
  {
   "cell_type": "code",
   "execution_count": 25,
   "metadata": {
    "cell_style": "center",
    "slideshow": {
     "slide_type": "fragment"
    }
   },
   "outputs": [],
   "source": [
    "# let's define a new pipeline object \n",
    "\n",
    "steps = [('imputer', SimpleImputer(strategy=\"median\")), ('std_scaler', StandardScaler()),\n",
    "        ('knn', KNeighborsClassifier())]\n",
    "\n",
    "model_pipe = Pipeline(steps)"
   ]
  },
  {
   "cell_type": "markdown",
   "metadata": {
    "cell_style": "split",
    "slideshow": {
     "slide_type": "fragment"
    }
   },
   "source": [
    "CV takes in a grid dictionary:\n",
    "- with pipeline: key must follow a specific format\n",
    "- \"pipelinename__hyperparameter\""
   ]
  },
  {
   "cell_type": "markdown",
   "metadata": {
    "cell_style": "split",
    "slideshow": {
     "slide_type": "fragment"
    }
   },
   "source": [
    "With pipeline:\n",
    "- Can change hyperparameters of model\n",
    "- **Also** can change hyperparameters of transformers."
   ]
  },
  {
   "cell_type": "code",
   "execution_count": 26,
   "metadata": {
    "ExecuteTime": {
     "end_time": "2021-10-28T03:33:35.802959Z",
     "start_time": "2021-10-28T03:33:35.800647Z"
    },
    "cell_style": "center",
    "hidden": true,
    "slideshow": {
     "slide_type": "slide"
    }
   },
   "outputs": [],
   "source": [
    "## imputer is the name of the SimpleImputer in steps above.\n",
    "## imputer__strategy allows us to test different imputers.\n",
    "\n",
    "pipe_grid = {'imputer__strategy': [\"mean\", \"median\"],\n",
    "             'knn__n_neighbors': [3, 5, 7, 9, 11, 13, 15, 18],\n",
    "             'knn__p': [1, 2, 3, 4]}\n",
    "\n",
    "# note: default scoring is accuracy\n",
    "gs_pipe = GridSearchCV(estimator=model_pipe, \n",
    "                       param_grid=pipe_grid)\n"
   ]
  },
  {
   "cell_type": "code",
   "execution_count": 27,
   "metadata": {
    "ExecuteTime": {
     "end_time": "2021-10-28T03:33:38.433413Z",
     "start_time": "2021-10-28T03:33:38.076112Z"
    },
    "hidden": true,
    "slideshow": {
     "slide_type": "slide"
    }
   },
   "outputs": [],
   "source": [
    "gs_pipe.fit(X_train, y_train);"
   ]
  },
  {
   "cell_type": "code",
   "execution_count": 28,
   "metadata": {
    "ExecuteTime": {
     "end_time": "2021-10-28T03:33:38.438408Z",
     "start_time": "2021-10-28T03:33:38.435309Z"
    },
    "cell_style": "center",
    "hidden": true,
    "slideshow": {
     "slide_type": "slide"
    }
   },
   "outputs": [
    {
     "data": {
      "text/plain": [
       "{'imputer__strategy': 'mean', 'knn__n_neighbors': 18, 'knn__p': 1}"
      ]
     },
     "execution_count": 28,
     "metadata": {},
     "output_type": "execute_result"
    }
   ],
   "source": [
    "gs_pipe.best_params_"
   ]
  },
  {
   "cell_type": "code",
   "execution_count": 29,
   "metadata": {
    "ExecuteTime": {
     "end_time": "2021-10-28T03:33:38.739396Z",
     "start_time": "2021-10-28T03:33:38.736044Z"
    },
    "cell_style": "center",
    "hidden": true,
    "slideshow": {
     "slide_type": "fragment"
    }
   },
   "outputs": [
    {
     "data": {
      "text/plain": [
       "0.811076923076923"
      ]
     },
     "execution_count": 29,
     "metadata": {},
     "output_type": "execute_result"
    }
   ],
   "source": [
    "gs_pipe.best_score_"
   ]
  },
  {
   "cell_type": "markdown",
   "metadata": {
    "slideshow": {
     "slide_type": "slide"
    }
   },
   "source": [
    "Get the best estimator"
   ]
  },
  {
   "cell_type": "code",
   "execution_count": 30,
   "metadata": {
    "cell_style": "center",
    "slideshow": {
     "slide_type": "fragment"
    }
   },
   "outputs": [
    {
     "data": {
      "text/html": [
       "<style>#sk-5cf1edc2-dbdd-405f-93ea-6a7c60cb3831 {color: black;background-color: white;}#sk-5cf1edc2-dbdd-405f-93ea-6a7c60cb3831 pre{padding: 0;}#sk-5cf1edc2-dbdd-405f-93ea-6a7c60cb3831 div.sk-toggleable {background-color: white;}#sk-5cf1edc2-dbdd-405f-93ea-6a7c60cb3831 label.sk-toggleable__label {cursor: pointer;display: block;width: 100%;margin-bottom: 0;padding: 0.3em;box-sizing: border-box;text-align: center;}#sk-5cf1edc2-dbdd-405f-93ea-6a7c60cb3831 label.sk-toggleable__label-arrow:before {content: \"▸\";float: left;margin-right: 0.25em;color: #696969;}#sk-5cf1edc2-dbdd-405f-93ea-6a7c60cb3831 label.sk-toggleable__label-arrow:hover:before {color: black;}#sk-5cf1edc2-dbdd-405f-93ea-6a7c60cb3831 div.sk-estimator:hover label.sk-toggleable__label-arrow:before {color: black;}#sk-5cf1edc2-dbdd-405f-93ea-6a7c60cb3831 div.sk-toggleable__content {max-height: 0;max-width: 0;overflow: hidden;text-align: left;background-color: #f0f8ff;}#sk-5cf1edc2-dbdd-405f-93ea-6a7c60cb3831 div.sk-toggleable__content pre {margin: 0.2em;color: black;border-radius: 0.25em;background-color: #f0f8ff;}#sk-5cf1edc2-dbdd-405f-93ea-6a7c60cb3831 input.sk-toggleable__control:checked~div.sk-toggleable__content {max-height: 200px;max-width: 100%;overflow: auto;}#sk-5cf1edc2-dbdd-405f-93ea-6a7c60cb3831 input.sk-toggleable__control:checked~label.sk-toggleable__label-arrow:before {content: \"▾\";}#sk-5cf1edc2-dbdd-405f-93ea-6a7c60cb3831 div.sk-estimator input.sk-toggleable__control:checked~label.sk-toggleable__label {background-color: #d4ebff;}#sk-5cf1edc2-dbdd-405f-93ea-6a7c60cb3831 div.sk-label input.sk-toggleable__control:checked~label.sk-toggleable__label {background-color: #d4ebff;}#sk-5cf1edc2-dbdd-405f-93ea-6a7c60cb3831 input.sk-hidden--visually {border: 0;clip: rect(1px 1px 1px 1px);clip: rect(1px, 1px, 1px, 1px);height: 1px;margin: -1px;overflow: hidden;padding: 0;position: absolute;width: 1px;}#sk-5cf1edc2-dbdd-405f-93ea-6a7c60cb3831 div.sk-estimator {font-family: monospace;background-color: #f0f8ff;border: 1px dotted black;border-radius: 0.25em;box-sizing: border-box;margin-bottom: 0.5em;}#sk-5cf1edc2-dbdd-405f-93ea-6a7c60cb3831 div.sk-estimator:hover {background-color: #d4ebff;}#sk-5cf1edc2-dbdd-405f-93ea-6a7c60cb3831 div.sk-parallel-item::after {content: \"\";width: 100%;border-bottom: 1px solid gray;flex-grow: 1;}#sk-5cf1edc2-dbdd-405f-93ea-6a7c60cb3831 div.sk-label:hover label.sk-toggleable__label {background-color: #d4ebff;}#sk-5cf1edc2-dbdd-405f-93ea-6a7c60cb3831 div.sk-serial::before {content: \"\";position: absolute;border-left: 1px solid gray;box-sizing: border-box;top: 2em;bottom: 0;left: 50%;}#sk-5cf1edc2-dbdd-405f-93ea-6a7c60cb3831 div.sk-serial {display: flex;flex-direction: column;align-items: center;background-color: white;padding-right: 0.2em;padding-left: 0.2em;}#sk-5cf1edc2-dbdd-405f-93ea-6a7c60cb3831 div.sk-item {z-index: 1;}#sk-5cf1edc2-dbdd-405f-93ea-6a7c60cb3831 div.sk-parallel {display: flex;align-items: stretch;justify-content: center;background-color: white;}#sk-5cf1edc2-dbdd-405f-93ea-6a7c60cb3831 div.sk-parallel::before {content: \"\";position: absolute;border-left: 1px solid gray;box-sizing: border-box;top: 2em;bottom: 0;left: 50%;}#sk-5cf1edc2-dbdd-405f-93ea-6a7c60cb3831 div.sk-parallel-item {display: flex;flex-direction: column;position: relative;background-color: white;}#sk-5cf1edc2-dbdd-405f-93ea-6a7c60cb3831 div.sk-parallel-item:first-child::after {align-self: flex-end;width: 50%;}#sk-5cf1edc2-dbdd-405f-93ea-6a7c60cb3831 div.sk-parallel-item:last-child::after {align-self: flex-start;width: 50%;}#sk-5cf1edc2-dbdd-405f-93ea-6a7c60cb3831 div.sk-parallel-item:only-child::after {width: 0;}#sk-5cf1edc2-dbdd-405f-93ea-6a7c60cb3831 div.sk-dashed-wrapped {border: 1px dashed gray;margin: 0 0.4em 0.5em 0.4em;box-sizing: border-box;padding-bottom: 0.4em;background-color: white;position: relative;}#sk-5cf1edc2-dbdd-405f-93ea-6a7c60cb3831 div.sk-label label {font-family: monospace;font-weight: bold;background-color: white;display: inline-block;line-height: 1.2em;}#sk-5cf1edc2-dbdd-405f-93ea-6a7c60cb3831 div.sk-label-container {position: relative;z-index: 2;text-align: center;}#sk-5cf1edc2-dbdd-405f-93ea-6a7c60cb3831 div.sk-container {/* jupyter's `normalize.less` sets `[hidden] { display: none; }` but bootstrap.min.css set `[hidden] { display: none !important; }` so we also need the `!important` here to be able to override the default hidden behavior on the sphinx rendered scikit-learn.org. See: https://github.com/scikit-learn/scikit-learn/issues/21755 */display: inline-block !important;position: relative;}#sk-5cf1edc2-dbdd-405f-93ea-6a7c60cb3831 div.sk-text-repr-fallback {display: none;}</style><div id=\"sk-5cf1edc2-dbdd-405f-93ea-6a7c60cb3831\" class=\"sk-top-container\"><div class=\"sk-text-repr-fallback\"><pre>Pipeline(steps=[(&#x27;imputer&#x27;, SimpleImputer()), (&#x27;std_scaler&#x27;, StandardScaler()),\n",
       "                (&#x27;knn&#x27;, KNeighborsClassifier(n_neighbors=18, p=1))])</pre><b>Please rerun this cell to show the HTML repr or trust the notebook.</b></div><div class=\"sk-container\" hidden><div class=\"sk-item sk-dashed-wrapped\"><div class=\"sk-label-container\"><div class=\"sk-label sk-toggleable\"><input class=\"sk-toggleable__control sk-hidden--visually\" id=\"424b90d0-e073-477c-8381-7061790c50fe\" type=\"checkbox\" ><label for=\"424b90d0-e073-477c-8381-7061790c50fe\" class=\"sk-toggleable__label sk-toggleable__label-arrow\">Pipeline</label><div class=\"sk-toggleable__content\"><pre>Pipeline(steps=[(&#x27;imputer&#x27;, SimpleImputer()), (&#x27;std_scaler&#x27;, StandardScaler()),\n",
       "                (&#x27;knn&#x27;, KNeighborsClassifier(n_neighbors=18, p=1))])</pre></div></div></div><div class=\"sk-serial\"><div class=\"sk-item\"><div class=\"sk-estimator sk-toggleable\"><input class=\"sk-toggleable__control sk-hidden--visually\" id=\"dd569f2c-0d66-443f-8160-4c3e1b0a4d6d\" type=\"checkbox\" ><label for=\"dd569f2c-0d66-443f-8160-4c3e1b0a4d6d\" class=\"sk-toggleable__label sk-toggleable__label-arrow\">SimpleImputer</label><div class=\"sk-toggleable__content\"><pre>SimpleImputer()</pre></div></div></div><div class=\"sk-item\"><div class=\"sk-estimator sk-toggleable\"><input class=\"sk-toggleable__control sk-hidden--visually\" id=\"44884769-fe21-4d3a-bf21-fe17a6c2f95f\" type=\"checkbox\" ><label for=\"44884769-fe21-4d3a-bf21-fe17a6c2f95f\" class=\"sk-toggleable__label sk-toggleable__label-arrow\">StandardScaler</label><div class=\"sk-toggleable__content\"><pre>StandardScaler()</pre></div></div></div><div class=\"sk-item\"><div class=\"sk-estimator sk-toggleable\"><input class=\"sk-toggleable__control sk-hidden--visually\" id=\"5d5c2bc3-b6de-422d-9986-b6e5b8014317\" type=\"checkbox\" ><label for=\"5d5c2bc3-b6de-422d-9986-b6e5b8014317\" class=\"sk-toggleable__label sk-toggleable__label-arrow\">KNeighborsClassifier</label><div class=\"sk-toggleable__content\"><pre>KNeighborsClassifier(n_neighbors=18, p=1)</pre></div></div></div></div></div></div></div>"
      ],
      "text/plain": [
       "Pipeline(steps=[('imputer', SimpleImputer()), ('std_scaler', StandardScaler()),\n",
       "                ('knn', KNeighborsClassifier(n_neighbors=18, p=1))])"
      ]
     },
     "execution_count": 30,
     "metadata": {},
     "output_type": "execute_result"
    }
   ],
   "source": [
    "best_model = gs_pipe.best_estimator_\n",
    "best_model"
   ]
  },
  {
   "cell_type": "markdown",
   "metadata": {
    "slideshow": {
     "slide_type": "slide"
    }
   },
   "source": [
    "Evaluate on the test"
   ]
  },
  {
   "cell_type": "code",
   "execution_count": 31,
   "metadata": {
    "slideshow": {
     "slide_type": "fragment"
    }
   },
   "outputs": [],
   "source": [
    "y_pred = best_model.predict(X_test)"
   ]
  },
  {
   "cell_type": "code",
   "execution_count": 32,
   "metadata": {
    "cell_style": "center",
    "slideshow": {
     "slide_type": "fragment"
    }
   },
   "outputs": [
    {
     "data": {
      "image/png": "[encoded data removed]",
      "text/plain": [
       "<Figure size 432x288 with 2 Axes>"
      ]
     },
     "metadata": {
      "needs_background": "light"
     },
     "output_type": "display_data"
    }
   ],
   "source": [
    "#plot_confusion_matrix(best_model, X_test, y_test)\n",
    "ConfusionMatrixDisplay.from_estimator(best_model, X_test, y_test);"
   ]
  },
  {
   "cell_type": "code",
   "execution_count": 33,
   "metadata": {
    "cell_style": "center",
    "slideshow": {
     "slide_type": "slide"
    }
   },
   "outputs": [
    {
     "name": "stdout",
     "output_type": "stream",
     "text": [
      "              precision    recall  f1-score   support\n",
      "\n",
      "           0       1.00      1.00      1.00         7\n",
      "           1       0.62      0.62      0.62         8\n",
      "           2       0.62      0.62      0.62         8\n",
      "\n",
      "    accuracy                           0.74        23\n",
      "   macro avg       0.75      0.75      0.75        23\n",
      "weighted avg       0.74      0.74      0.74        23\n",
      "\n"
     ]
    }
   ],
   "source": [
    "print(classification_report(y_test, y_pred))"
   ]
  },
  {
   "cell_type": "markdown",
   "metadata": {
    "slideshow": {
     "slide_type": "slide"
    }
   },
   "source": [
    "Can also get full report of cross validation with the pipeline estimators:\n",
    "- e.g. a dataframe with all the models"
   ]
  },
  {
   "cell_type": "code",
   "execution_count": 34,
   "metadata": {
    "scrolled": true,
    "slideshow": {
     "slide_type": "slide"
    }
   },
   "outputs": [
    {
     "data": {
      "text/html": [
       "<div>\n",
       "<style scoped>\n",
       "    .dataframe tbody tr th:only-of-type {\n",
       "        vertical-align: middle;\n",
       "    }\n",
       "\n",
       "    .dataframe tbody tr th {\n",
       "        vertical-align: top;\n",
       "    }\n",
       "\n",
       "    .dataframe thead th {\n",
       "        text-align: right;\n",
       "    }\n",
       "</style>\n",
       "<table border=\"1\" class=\"dataframe\">\n",
       "  <thead>\n",
       "    <tr style=\"text-align: right;\">\n",
       "      <th></th>\n",
       "      <th>mean_fit_time</th>\n",
       "      <th>std_fit_time</th>\n",
       "      <th>mean_score_time</th>\n",
       "      <th>std_score_time</th>\n",
       "      <th>param_imputer__strategy</th>\n",
       "      <th>param_knn__n_neighbors</th>\n",
       "      <th>param_knn__p</th>\n",
       "      <th>params</th>\n",
       "      <th>split0_test_score</th>\n",
       "      <th>split1_test_score</th>\n",
       "      <th>split2_test_score</th>\n",
       "      <th>split3_test_score</th>\n",
       "      <th>split4_test_score</th>\n",
       "      <th>mean_test_score</th>\n",
       "      <th>std_test_score</th>\n",
       "      <th>rank_test_score</th>\n",
       "    </tr>\n",
       "  </thead>\n",
       "  <tbody>\n",
       "    <tr>\n",
       "      <th>60</th>\n",
       "      <td>0.002804</td>\n",
       "      <td>0.000243</td>\n",
       "      <td>0.001704</td>\n",
       "      <td>0.000401</td>\n",
       "      <td>median</td>\n",
       "      <td>18</td>\n",
       "      <td>1</td>\n",
       "      <td>{'imputer__strategy': 'median', 'knn__n_neighb...</td>\n",
       "      <td>0.769231</td>\n",
       "      <td>0.846154</td>\n",
       "      <td>0.8</td>\n",
       "      <td>0.76</td>\n",
       "      <td>0.88</td>\n",
       "      <td>0.811077</td>\n",
       "      <td>0.045746</td>\n",
       "      <td>1</td>\n",
       "    </tr>\n",
       "    <tr>\n",
       "      <th>28</th>\n",
       "      <td>0.002717</td>\n",
       "      <td>0.000410</td>\n",
       "      <td>0.001802</td>\n",
       "      <td>0.000401</td>\n",
       "      <td>mean</td>\n",
       "      <td>18</td>\n",
       "      <td>1</td>\n",
       "      <td>{'imputer__strategy': 'mean', 'knn__n_neighbor...</td>\n",
       "      <td>0.769231</td>\n",
       "      <td>0.846154</td>\n",
       "      <td>0.8</td>\n",
       "      <td>0.76</td>\n",
       "      <td>0.88</td>\n",
       "      <td>0.811077</td>\n",
       "      <td>0.045746</td>\n",
       "      <td>1</td>\n",
       "    </tr>\n",
       "    <tr>\n",
       "      <th>61</th>\n",
       "      <td>0.002312</td>\n",
       "      <td>0.000622</td>\n",
       "      <td>0.001803</td>\n",
       "      <td>0.000511</td>\n",
       "      <td>median</td>\n",
       "      <td>18</td>\n",
       "      <td>2</td>\n",
       "      <td>{'imputer__strategy': 'median', 'knn__n_neighb...</td>\n",
       "      <td>0.769231</td>\n",
       "      <td>0.807692</td>\n",
       "      <td>0.8</td>\n",
       "      <td>0.80</td>\n",
       "      <td>0.84</td>\n",
       "      <td>0.803385</td>\n",
       "      <td>0.022577</td>\n",
       "      <td>3</td>\n",
       "    </tr>\n",
       "    <tr>\n",
       "      <th>29</th>\n",
       "      <td>0.002404</td>\n",
       "      <td>0.000375</td>\n",
       "      <td>0.001998</td>\n",
       "      <td>0.000331</td>\n",
       "      <td>mean</td>\n",
       "      <td>18</td>\n",
       "      <td>2</td>\n",
       "      <td>{'imputer__strategy': 'mean', 'knn__n_neighbor...</td>\n",
       "      <td>0.769231</td>\n",
       "      <td>0.807692</td>\n",
       "      <td>0.8</td>\n",
       "      <td>0.80</td>\n",
       "      <td>0.84</td>\n",
       "      <td>0.803385</td>\n",
       "      <td>0.022577</td>\n",
       "      <td>3</td>\n",
       "    </tr>\n",
       "    <tr>\n",
       "      <th>39</th>\n",
       "      <td>0.002747</td>\n",
       "      <td>0.000326</td>\n",
       "      <td>0.001802</td>\n",
       "      <td>0.000400</td>\n",
       "      <td>median</td>\n",
       "      <td>5</td>\n",
       "      <td>4</td>\n",
       "      <td>{'imputer__strategy': 'median', 'knn__n_neighb...</td>\n",
       "      <td>0.807692</td>\n",
       "      <td>0.807692</td>\n",
       "      <td>0.8</td>\n",
       "      <td>0.80</td>\n",
       "      <td>0.80</td>\n",
       "      <td>0.803077</td>\n",
       "      <td>0.003768</td>\n",
       "      <td>5</td>\n",
       "    </tr>\n",
       "  </tbody>\n",
       "</table>\n",
       "</div>"
      ],
      "text/plain": [
       "    mean_fit_time  std_fit_time  mean_score_time  std_score_time  \\\n",
       "60       0.002804      0.000243         0.001704        0.000401   \n",
       "28       0.002717      0.000410         0.001802        0.000401   \n",
       "61       0.002312      0.000622         0.001803        0.000511   \n",
       "29       0.002404      0.000375         0.001998        0.000331   \n",
       "39       0.002747      0.000326         0.001802        0.000400   \n",
       "\n",
       "   param_imputer__strategy param_knn__n_neighbors param_knn__p  \\\n",
       "60                  median                     18            1   \n",
       "28                    mean                     18            1   \n",
       "61                  median                     18            2   \n",
       "29                    mean                     18            2   \n",
       "39                  median                      5            4   \n",
       "\n",
       "                                               params  split0_test_score  \\\n",
       "60  {'imputer__strategy': 'median', 'knn__n_neighb...           0.769231   \n",
       "28  {'imputer__strategy': 'mean', 'knn__n_neighbor...           0.769231   \n",
       "61  {'imputer__strategy': 'median', 'knn__n_neighb...           0.769231   \n",
       "29  {'imputer__strategy': 'mean', 'knn__n_neighbor...           0.769231   \n",
       "39  {'imputer__strategy': 'median', 'knn__n_neighb...           0.807692   \n",
       "\n",
       "    split1_test_score  split2_test_score  split3_test_score  \\\n",
       "60           0.846154                0.8               0.76   \n",
       "28           0.846154                0.8               0.76   \n",
       "61           0.807692                0.8               0.80   \n",
       "29           0.807692                0.8               0.80   \n",
       "39           0.807692                0.8               0.80   \n",
       "\n",
       "    split4_test_score  mean_test_score  std_test_score  rank_test_score  \n",
       "60               0.88         0.811077        0.045746                1  \n",
       "28               0.88         0.811077        0.045746                1  \n",
       "61               0.84         0.803385        0.022577                3  \n",
       "29               0.84         0.803385        0.022577                3  \n",
       "39               0.80         0.803077        0.003768                5  "
      ]
     },
     "execution_count": 34,
     "metadata": {},
     "output_type": "execute_result"
    }
   ],
   "source": [
    "cv_result_df = pd.DataFrame(gs_pipe.cv_results_)\n",
    "cv_result_df = cv_result_df.sort_values(by = 'rank_test_score')\n",
    "cv_result_df.head()"
   ]
  },
  {
   "cell_type": "markdown",
   "metadata": {
    "cell_style": "split",
    "slideshow": {
     "slide_type": "slide"
    }
   },
   "source": [
    "Trying different metrics:\n",
    "- Default scoring was accuracy\n",
    "- But can try other with scoring = ''"
   ]
  },
  {
   "cell_type": "markdown",
   "metadata": {
    "cell_style": "split",
    "slideshow": {
     "slide_type": "fragment"
    }
   },
   "source": [
    "- Takes string:\n",
    "    - 'average_precision'\n",
    "    - 'balanced_accuracy' (class averaged recall)\n",
    "    - 'roc_auc', etc."
   ]
  },
  {
   "cell_type": "code",
   "execution_count": 35,
   "metadata": {
    "slideshow": {
     "slide_type": "slide"
    }
   },
   "outputs": [],
   "source": [
    "pipe_grid = {'imputer__strategy': [\"mean\", \"median\"],\n",
    "             'knn__n_neighbors': [3, 5, 7, 9, 11, 13, 15, 18],\n",
    "             'knn__p': [1, 2, 3, 4]}\n",
    "\n",
    "gs_pipe = GridSearchCV(estimator=model_pipe, \n",
    "                       param_grid=pipe_grid, scoring = 'precision_micro')"
   ]
  },
  {
   "cell_type": "code",
   "execution_count": 36,
   "metadata": {
    "slideshow": {
     "slide_type": "fragment"
    }
   },
   "outputs": [],
   "source": [
    "gs_pipe.fit(X_train, y_train);\n",
    "best_est = gs_pipe.best_estimator_"
   ]
  },
  {
   "cell_type": "code",
   "execution_count": 37,
   "metadata": {
    "slideshow": {
     "slide_type": "fragment"
    }
   },
   "outputs": [
    {
     "data": {
      "text/html": [
       "<style>#sk-571fbad3-a19d-4ab0-acee-6e4bdf686d71 {color: black;background-color: white;}#sk-571fbad3-a19d-4ab0-acee-6e4bdf686d71 pre{padding: 0;}#sk-571fbad3-a19d-4ab0-acee-6e4bdf686d71 div.sk-toggleable {background-color: white;}#sk-571fbad3-a19d-4ab0-acee-6e4bdf686d71 label.sk-toggleable__label {cursor: pointer;display: block;width: 100%;margin-bottom: 0;padding: 0.3em;box-sizing: border-box;text-align: center;}#sk-571fbad3-a19d-4ab0-acee-6e4bdf686d71 label.sk-toggleable__label-arrow:before {content: \"▸\";float: left;margin-right: 0.25em;color: #696969;}#sk-571fbad3-a19d-4ab0-acee-6e4bdf686d71 label.sk-toggleable__label-arrow:hover:before {color: black;}#sk-571fbad3-a19d-4ab0-acee-6e4bdf686d71 div.sk-estimator:hover label.sk-toggleable__label-arrow:before {color: black;}#sk-571fbad3-a19d-4ab0-acee-6e4bdf686d71 div.sk-toggleable__content {max-height: 0;max-width: 0;overflow: hidden;text-align: left;background-color: #f0f8ff;}#sk-571fbad3-a19d-4ab0-acee-6e4bdf686d71 div.sk-toggleable__content pre {margin: 0.2em;color: black;border-radius: 0.25em;background-color: #f0f8ff;}#sk-571fbad3-a19d-4ab0-acee-6e4bdf686d71 input.sk-toggleable__control:checked~div.sk-toggleable__content {max-height: 200px;max-width: 100%;overflow: auto;}#sk-571fbad3-a19d-4ab0-acee-6e4bdf686d71 input.sk-toggleable__control:checked~label.sk-toggleable__label-arrow:before {content: \"▾\";}#sk-571fbad3-a19d-4ab0-acee-6e4bdf686d71 div.sk-estimator input.sk-toggleable__control:checked~label.sk-toggleable__label {background-color: #d4ebff;}#sk-571fbad3-a19d-4ab0-acee-6e4bdf686d71 div.sk-label input.sk-toggleable__control:checked~label.sk-toggleable__label {background-color: #d4ebff;}#sk-571fbad3-a19d-4ab0-acee-6e4bdf686d71 input.sk-hidden--visually {border: 0;clip: rect(1px 1px 1px 1px);clip: rect(1px, 1px, 1px, 1px);height: 1px;margin: -1px;overflow: hidden;padding: 0;position: absolute;width: 1px;}#sk-571fbad3-a19d-4ab0-acee-6e4bdf686d71 div.sk-estimator {font-family: monospace;background-color: #f0f8ff;border: 1px dotted black;border-radius: 0.25em;box-sizing: border-box;margin-bottom: 0.5em;}#sk-571fbad3-a19d-4ab0-acee-6e4bdf686d71 div.sk-estimator:hover {background-color: #d4ebff;}#sk-571fbad3-a19d-4ab0-acee-6e4bdf686d71 div.sk-parallel-item::after {content: \"\";width: 100%;border-bottom: 1px solid gray;flex-grow: 1;}#sk-571fbad3-a19d-4ab0-acee-6e4bdf686d71 div.sk-label:hover label.sk-toggleable__label {background-color: #d4ebff;}#sk-571fbad3-a19d-4ab0-acee-6e4bdf686d71 div.sk-serial::before {content: \"\";position: absolute;border-left: 1px solid gray;box-sizing: border-box;top: 2em;bottom: 0;left: 50%;}#sk-571fbad3-a19d-4ab0-acee-6e4bdf686d71 div.sk-serial {display: flex;flex-direction: column;align-items: center;background-color: white;padding-right: 0.2em;padding-left: 0.2em;}#sk-571fbad3-a19d-4ab0-acee-6e4bdf686d71 div.sk-item {z-index: 1;}#sk-571fbad3-a19d-4ab0-acee-6e4bdf686d71 div.sk-parallel {display: flex;align-items: stretch;justify-content: center;background-color: white;}#sk-571fbad3-a19d-4ab0-acee-6e4bdf686d71 div.sk-parallel::before {content: \"\";position: absolute;border-left: 1px solid gray;box-sizing: border-box;top: 2em;bottom: 0;left: 50%;}#sk-571fbad3-a19d-4ab0-acee-6e4bdf686d71 div.sk-parallel-item {display: flex;flex-direction: column;position: relative;background-color: white;}#sk-571fbad3-a19d-4ab0-acee-6e4bdf686d71 div.sk-parallel-item:first-child::after {align-self: flex-end;width: 50%;}#sk-571fbad3-a19d-4ab0-acee-6e4bdf686d71 div.sk-parallel-item:last-child::after {align-self: flex-start;width: 50%;}#sk-571fbad3-a19d-4ab0-acee-6e4bdf686d71 div.sk-parallel-item:only-child::after {width: 0;}#sk-571fbad3-a19d-4ab0-acee-6e4bdf686d71 div.sk-dashed-wrapped {border: 1px dashed gray;margin: 0 0.4em 0.5em 0.4em;box-sizing: border-box;padding-bottom: 0.4em;background-color: white;position: relative;}#sk-571fbad3-a19d-4ab0-acee-6e4bdf686d71 div.sk-label label {font-family: monospace;font-weight: bold;background-color: white;display: inline-block;line-height: 1.2em;}#sk-571fbad3-a19d-4ab0-acee-6e4bdf686d71 div.sk-label-container {position: relative;z-index: 2;text-align: center;}#sk-571fbad3-a19d-4ab0-acee-6e4bdf686d71 div.sk-container {/* jupyter's `normalize.less` sets `[hidden] { display: none; }` but bootstrap.min.css set `[hidden] { display: none !important; }` so we also need the `!important` here to be able to override the default hidden behavior on the sphinx rendered scikit-learn.org. See: https://github.com/scikit-learn/scikit-learn/issues/21755 */display: inline-block !important;position: relative;}#sk-571fbad3-a19d-4ab0-acee-6e4bdf686d71 div.sk-text-repr-fallback {display: none;}</style><div id=\"sk-571fbad3-a19d-4ab0-acee-6e4bdf686d71\" class=\"sk-top-container\"><div class=\"sk-text-repr-fallback\"><pre>Pipeline(steps=[(&#x27;imputer&#x27;, SimpleImputer()), (&#x27;std_scaler&#x27;, StandardScaler()),\n",
       "                (&#x27;knn&#x27;, KNeighborsClassifier(n_neighbors=18, p=1))])</pre><b>Please rerun this cell to show the HTML repr or trust the notebook.</b></div><div class=\"sk-container\" hidden><div class=\"sk-item sk-dashed-wrapped\"><div class=\"sk-label-container\"><div class=\"sk-label sk-toggleable\"><input class=\"sk-toggleable__control sk-hidden--visually\" id=\"f44af309-a3a8-4c7b-9c5e-d327cc6c42ed\" type=\"checkbox\" ><label for=\"f44af309-a3a8-4c7b-9c5e-d327cc6c42ed\" class=\"sk-toggleable__label sk-toggleable__label-arrow\">Pipeline</label><div class=\"sk-toggleable__content\"><pre>Pipeline(steps=[(&#x27;imputer&#x27;, SimpleImputer()), (&#x27;std_scaler&#x27;, StandardScaler()),\n",
       "                (&#x27;knn&#x27;, KNeighborsClassifier(n_neighbors=18, p=1))])</pre></div></div></div><div class=\"sk-serial\"><div class=\"sk-item\"><div class=\"sk-estimator sk-toggleable\"><input class=\"sk-toggleable__control sk-hidden--visually\" id=\"f9ccc49d-b44e-4c7b-8722-dee6fa3ecd62\" type=\"checkbox\" ><label for=\"f9ccc49d-b44e-4c7b-8722-dee6fa3ecd62\" class=\"sk-toggleable__label sk-toggleable__label-arrow\">SimpleImputer</label><div class=\"sk-toggleable__content\"><pre>SimpleImputer()</pre></div></div></div><div class=\"sk-item\"><div class=\"sk-estimator sk-toggleable\"><input class=\"sk-toggleable__control sk-hidden--visually\" id=\"4d974b66-74f2-4058-913f-09d084290302\" type=\"checkbox\" ><label for=\"4d974b66-74f2-4058-913f-09d084290302\" class=\"sk-toggleable__label sk-toggleable__label-arrow\">StandardScaler</label><div class=\"sk-toggleable__content\"><pre>StandardScaler()</pre></div></div></div><div class=\"sk-item\"><div class=\"sk-estimator sk-toggleable\"><input class=\"sk-toggleable__control sk-hidden--visually\" id=\"98a84188-5be0-4847-b27b-486c948b27e8\" type=\"checkbox\" ><label for=\"98a84188-5be0-4847-b27b-486c948b27e8\" class=\"sk-toggleable__label sk-toggleable__label-arrow\">KNeighborsClassifier</label><div class=\"sk-toggleable__content\"><pre>KNeighborsClassifier(n_neighbors=18, p=1)</pre></div></div></div></div></div></div></div>"
      ],
      "text/plain": [
       "Pipeline(steps=[('imputer', SimpleImputer()), ('std_scaler', StandardScaler()),\n",
       "                ('knn', KNeighborsClassifier(n_neighbors=18, p=1))])"
      ]
     },
     "execution_count": 37,
     "metadata": {},
     "output_type": "execute_result"
    }
   ],
   "source": [
    "best_est"
   ]
  },
  {
   "cell_type": "markdown",
   "metadata": {
    "slideshow": {
     "slide_type": "slide"
    }
   },
   "source": [
    "Obviously not enough search parameters: still gets same model\n",
    "- Also probably limited by intrinsic overlap in the data.\n",
    "- Will see another example of trying different metrics."
   ]
  },
  {
   "cell_type": "markdown",
   "metadata": {
    "slideshow": {
     "slide_type": "slide"
    }
   },
   "source": [
    "#### In this case:\n",
    "- Not many NaNs\n",
    "- Selected subset of data didn't require multiple types of transformers\n",
    "    - e.g. categorical vs. numeric columns\n",
    "    - ordinal vs. nominal categoricals\n",
    "    - feature engineering on column subsets (Polynomial, etc.)\n"
   ]
  },
  {
   "cell_type": "markdown",
   "metadata": {
    "slideshow": {
     "slide_type": "slide"
    }
   },
   "source": [
    "#### Column Transformers"
   ]
  },
  {
   "cell_type": "markdown",
   "metadata": {
    "slideshow": {
     "slide_type": "fragment"
    }
   },
   "source": [
    "First step in:\n",
    "- dealing with systematically imputing data in pipelines\n",
    "- transforming features of various types in different ways"
   ]
  },
  {
   "cell_type": "code",
   "execution_count": 38,
   "metadata": {
    "cell_style": "center",
    "slideshow": {
     "slide_type": "slide"
    }
   },
   "outputs": [],
   "source": [
    "salary_df = pd.read_csv('Data/adult.csv', usecols = ['age', 'occupation', 'education', 'native.country', \n",
    "                                                     'hours.per.week', 'sex', 'income'])\n",
    "salary_df = salary_df[salary_df[\"native.country\"] == \"United-States\"]\n",
    "ed_list = ['10th','11th','HS-grad', 'Some-college', 'Assoc-acdm', 'Assoc-voc', 'Bachelors', 'Masters', 'Doctorate']\n",
    "salary_df = salary_df[salary_df['education'].isin(ed_list)].drop(columns = ['native.country'])"
   ]
  },
  {
   "cell_type": "markdown",
   "metadata": {
    "slideshow": {
     "slide_type": "slide"
    }
   },
   "source": [
    "Salary prediction problem:\n",
    "- Predict whether someone makes >50K anually\n",
    "- Numeric and categorical features require different preparation\n",
    "- NaN imputation strategies specific to columns\n",
    "\n",
    "Let's learn how to implement all this in the Pipeline"
   ]
  },
  {
   "cell_type": "code",
   "execution_count": 39,
   "metadata": {
    "cell_style": "split",
    "slideshow": {
     "slide_type": "slide"
    }
   },
   "outputs": [
    {
     "data": {
      "text/html": [
       "<div>\n",
       "<style scoped>\n",
       "    .dataframe tbody tr th:only-of-type {\n",
       "        vertical-align: middle;\n",
       "    }\n",
       "\n",
       "    .dataframe tbody tr th {\n",
       "        vertical-align: top;\n",
       "    }\n",
       "\n",
       "    .dataframe thead th {\n",
       "        text-align: right;\n",
       "    }\n",
       "</style>\n",
       "<table border=\"1\" class=\"dataframe\">\n",
       "  <thead>\n",
       "    <tr style=\"text-align: right;\">\n",
       "      <th></th>\n",
       "      <th>age</th>\n",
       "      <th>education</th>\n",
       "      <th>occupation</th>\n",
       "      <th>sex</th>\n",
       "      <th>hours.per.week</th>\n",
       "      <th>income</th>\n",
       "    </tr>\n",
       "  </thead>\n",
       "  <tbody>\n",
       "    <tr>\n",
       "      <th>0</th>\n",
       "      <td>90</td>\n",
       "      <td>HS-grad</td>\n",
       "      <td>?</td>\n",
       "      <td>Female</td>\n",
       "      <td>40</td>\n",
       "      <td>&lt;=50K</td>\n",
       "    </tr>\n",
       "    <tr>\n",
       "      <th>1</th>\n",
       "      <td>82</td>\n",
       "      <td>HS-grad</td>\n",
       "      <td>Exec-managerial</td>\n",
       "      <td>Female</td>\n",
       "      <td>18</td>\n",
       "      <td>&lt;=50K</td>\n",
       "    </tr>\n",
       "    <tr>\n",
       "      <th>2</th>\n",
       "      <td>66</td>\n",
       "      <td>Some-college</td>\n",
       "      <td>?</td>\n",
       "      <td>Female</td>\n",
       "      <td>40</td>\n",
       "      <td>&lt;=50K</td>\n",
       "    </tr>\n",
       "    <tr>\n",
       "      <th>4</th>\n",
       "      <td>41</td>\n",
       "      <td>Some-college</td>\n",
       "      <td>Prof-specialty</td>\n",
       "      <td>Female</td>\n",
       "      <td>40</td>\n",
       "      <td>&lt;=50K</td>\n",
       "    </tr>\n",
       "    <tr>\n",
       "      <th>5</th>\n",
       "      <td>34</td>\n",
       "      <td>HS-grad</td>\n",
       "      <td>Other-service</td>\n",
       "      <td>Female</td>\n",
       "      <td>45</td>\n",
       "      <td>&lt;=50K</td>\n",
       "    </tr>\n",
       "  </tbody>\n",
       "</table>\n",
       "</div>"
      ],
      "text/plain": [
       "   age     education       occupation     sex  hours.per.week income\n",
       "0   90       HS-grad                ?  Female              40  <=50K\n",
       "1   82       HS-grad  Exec-managerial  Female              18  <=50K\n",
       "2   66  Some-college                ?  Female              40  <=50K\n",
       "4   41  Some-college   Prof-specialty  Female              40  <=50K\n",
       "5   34       HS-grad    Other-service  Female              45  <=50K"
      ]
     },
     "execution_count": 39,
     "metadata": {},
     "output_type": "execute_result"
    }
   ],
   "source": [
    "salary_df.head()"
   ]
  },
  {
   "cell_type": "code",
   "execution_count": 40,
   "metadata": {
    "cell_style": "split",
    "slideshow": {
     "slide_type": "fragment"
    }
   },
   "outputs": [
    {
     "name": "stdout",
     "output_type": "stream",
     "text": [
      "<class 'pandas.core.frame.DataFrame'>\n",
      "Int64Index: 27249 entries, 0 to 32560\n",
      "Data columns (total 6 columns):\n",
      " #   Column          Non-Null Count  Dtype \n",
      "---  ------          --------------  ----- \n",
      " 0   age             27249 non-null  int64 \n",
      " 1   education       27249 non-null  object\n",
      " 2   occupation      27249 non-null  object\n",
      " 3   sex             27249 non-null  object\n",
      " 4   hours.per.week  27249 non-null  int64 \n",
      " 5   income          27249 non-null  object\n",
      "dtypes: int64(2), object(4)\n",
      "memory usage: 1.5+ MB\n"
     ]
    }
   ],
   "source": [
    "salary_df.info()"
   ]
  },
  {
   "cell_type": "markdown",
   "metadata": {
    "cell_style": "center",
    "slideshow": {
     "slide_type": "slide"
    }
   },
   "source": [
    "Nulls clearly encoded as '?'\n",
    "- Would do EDA before figuring out how to clean/preprocess columns\n",
    "- But lets go ahead and develop pipeline!"
   ]
  },
  {
   "cell_type": "markdown",
   "metadata": {
    "cell_style": "split",
    "slideshow": {
     "slide_type": "fragment"
    }
   },
   "source": [
    "**Imputation**\n",
    "- Numeric: impute with mean\n",
    "- Education/occupation/sex: most common"
   ]
  },
  {
   "cell_type": "markdown",
   "metadata": {
    "cell_style": "split",
    "slideshow": {
     "slide_type": "fragment"
    }
   },
   "source": [
    "**Encoding**\n",
    "- Education: ordinal encoding\n",
    "- Occupation/Sex: one-hot encoding"
   ]
  },
  {
   "cell_type": "markdown",
   "metadata": {
    "slideshow": {
     "slide_type": "fragment"
    }
   },
   "source": [
    "Then standardize and model."
   ]
  },
  {
   "cell_type": "code",
   "execution_count": 41,
   "metadata": {
    "slideshow": {
     "slide_type": "slide"
    }
   },
   "outputs": [
    {
     "data": {
      "text/plain": [
       "HS-grad         9702\n",
       "Some-college    6740\n",
       "Bachelors       4766\n",
       "Masters         1527\n",
       "Assoc-voc       1289\n",
       "11th            1067\n",
       "Assoc-acdm       982\n",
       "10th             848\n",
       "Doctorate        328\n",
       "Name: education, dtype: int64"
      ]
     },
     "execution_count": 41,
     "metadata": {},
     "output_type": "execute_result"
    }
   ],
   "source": [
    "salary_df['education'].value_counts()"
   ]
  },
  {
   "cell_type": "code",
   "execution_count": 42,
   "metadata": {
    "cell_style": "split",
    "scrolled": true,
    "slideshow": {
     "slide_type": "slide"
    }
   },
   "outputs": [
    {
     "data": {
      "text/html": [
       "<div>\n",
       "<style scoped>\n",
       "    .dataframe tbody tr th:only-of-type {\n",
       "        vertical-align: middle;\n",
       "    }\n",
       "\n",
       "    .dataframe tbody tr th {\n",
       "        vertical-align: top;\n",
       "    }\n",
       "\n",
       "    .dataframe thead th {\n",
       "        text-align: right;\n",
       "    }\n",
       "</style>\n",
       "<table border=\"1\" class=\"dataframe\">\n",
       "  <thead>\n",
       "    <tr style=\"text-align: right;\">\n",
       "      <th></th>\n",
       "      <th>age</th>\n",
       "      <th>education</th>\n",
       "      <th>occupation</th>\n",
       "      <th>sex</th>\n",
       "      <th>hours.per.week</th>\n",
       "      <th>income</th>\n",
       "    </tr>\n",
       "  </thead>\n",
       "  <tbody>\n",
       "    <tr>\n",
       "      <th>0</th>\n",
       "      <td>90</td>\n",
       "      <td>HS-grad</td>\n",
       "      <td>NaN</td>\n",
       "      <td>Female</td>\n",
       "      <td>40</td>\n",
       "      <td>&lt;=50K</td>\n",
       "    </tr>\n",
       "    <tr>\n",
       "      <th>1</th>\n",
       "      <td>82</td>\n",
       "      <td>HS-grad</td>\n",
       "      <td>Exec-managerial</td>\n",
       "      <td>Female</td>\n",
       "      <td>18</td>\n",
       "      <td>&lt;=50K</td>\n",
       "    </tr>\n",
       "    <tr>\n",
       "      <th>2</th>\n",
       "      <td>66</td>\n",
       "      <td>Some-college</td>\n",
       "      <td>NaN</td>\n",
       "      <td>Female</td>\n",
       "      <td>40</td>\n",
       "      <td>&lt;=50K</td>\n",
       "    </tr>\n",
       "  </tbody>\n",
       "</table>\n",
       "</div>"
      ],
      "text/plain": [
       "   age     education       occupation     sex  hours.per.week income\n",
       "0   90       HS-grad              NaN  Female              40  <=50K\n",
       "1   82       HS-grad  Exec-managerial  Female              18  <=50K\n",
       "2   66  Some-college              NaN  Female              40  <=50K"
      ]
     },
     "execution_count": 42,
     "metadata": {},
     "output_type": "execute_result"
    }
   ],
   "source": [
    "# replace with NaNs\n",
    "salary_df = salary_df.replace({'?':np.nan})\n",
    "salary_df.head(3)"
   ]
  },
  {
   "cell_type": "code",
   "execution_count": 43,
   "metadata": {
    "cell_style": "split",
    "slideshow": {
     "slide_type": "fragment"
    }
   },
   "outputs": [
    {
     "name": "stdout",
     "output_type": "stream",
     "text": [
      "<class 'pandas.core.frame.DataFrame'>\n",
      "Int64Index: 27249 entries, 0 to 32560\n",
      "Data columns (total 6 columns):\n",
      " #   Column          Non-Null Count  Dtype \n",
      "---  ------          --------------  ----- \n",
      " 0   age             27249 non-null  int64 \n",
      " 1   education       27249 non-null  object\n",
      " 2   occupation      25766 non-null  object\n",
      " 3   sex             27249 non-null  object\n",
      " 4   hours.per.week  27249 non-null  int64 \n",
      " 5   income          27249 non-null  object\n",
      "dtypes: int64(2), object(4)\n",
      "memory usage: 1.5+ MB\n"
     ]
    }
   ],
   "source": [
    "salary_df.info()"
   ]
  },
  {
   "cell_type": "code",
   "execution_count": 44,
   "metadata": {
    "cell_style": "center",
    "slideshow": {
     "slide_type": "slide"
    }
   },
   "outputs": [],
   "source": [
    "from sklearn.preprocessing import LabelEncoder"
   ]
  },
  {
   "cell_type": "code",
   "execution_count": 45,
   "metadata": {
    "cell_style": "split",
    "slideshow": {
     "slide_type": "fragment"
    }
   },
   "outputs": [],
   "source": [
    "X_income = salary_df.drop(columns = [\"income\"])\n",
    "y_income = salary_df['income']"
   ]
  },
  {
   "cell_type": "code",
   "execution_count": 46,
   "metadata": {
    "cell_style": "split",
    "slideshow": {
     "slide_type": "fragment"
    }
   },
   "outputs": [],
   "source": [
    "lab_enc = LabelEncoder()\n",
    "y_income = lab_enc.fit_transform(y_income)"
   ]
  },
  {
   "cell_type": "markdown",
   "metadata": {
    "slideshow": {
     "slide_type": "slide"
    }
   },
   "source": [
    "#### Before doing anything else"
   ]
  },
  {
   "cell_type": "code",
   "execution_count": 47,
   "metadata": {
    "slideshow": {
     "slide_type": "fragment"
    }
   },
   "outputs": [],
   "source": [
    "X_inc_train, X_inc_test, y_inc_train, y_inc_test = train_test_split(X_income, y_income, test_size = 0.15, random_state=42)"
   ]
  },
  {
   "cell_type": "code",
   "execution_count": 48,
   "metadata": {
    "scrolled": true,
    "slideshow": {
     "slide_type": "fragment"
    }
   },
   "outputs": [],
   "source": [
    "from sklearn.pipeline import Pipeline\n",
    "from sklearn.impute import SimpleImputer\n",
    "from sklearn.preprocessing import LabelEncoder\n",
    "from sklearn.preprocessing import OrdinalEncoder\n",
    "from sklearn.preprocessing import OneHotEncoder\n",
    "from sklearn.preprocessing import StandardScaler\n",
    "from sklearn.preprocessing import MaxAbsScaler\n",
    "from sklearn.compose import ColumnTransformer"
   ]
  },
  {
   "cell_type": "markdown",
   "metadata": {
    "cell_style": "split",
    "slideshow": {
     "slide_type": "slide"
    }
   },
   "source": [
    "Create three separate transformation pipelines:\n",
    "- Ordinal Categorical\n",
    "- Nominal Categorical\n",
    "- Numeric "
   ]
  },
  {
   "cell_type": "code",
   "execution_count": 49,
   "metadata": {
    "cell_style": "split",
    "slideshow": {
     "slide_type": "fragment"
    }
   },
   "outputs": [
    {
     "data": {
      "text/html": [
       "<div>\n",
       "<style scoped>\n",
       "    .dataframe tbody tr th:only-of-type {\n",
       "        vertical-align: middle;\n",
       "    }\n",
       "\n",
       "    .dataframe tbody tr th {\n",
       "        vertical-align: top;\n",
       "    }\n",
       "\n",
       "    .dataframe thead th {\n",
       "        text-align: right;\n",
       "    }\n",
       "</style>\n",
       "<table border=\"1\" class=\"dataframe\">\n",
       "  <thead>\n",
       "    <tr style=\"text-align: right;\">\n",
       "      <th></th>\n",
       "      <th>age</th>\n",
       "      <th>education</th>\n",
       "      <th>occupation</th>\n",
       "      <th>sex</th>\n",
       "      <th>hours.per.week</th>\n",
       "    </tr>\n",
       "  </thead>\n",
       "  <tbody>\n",
       "    <tr>\n",
       "      <th>0</th>\n",
       "      <td>90</td>\n",
       "      <td>HS-grad</td>\n",
       "      <td>NaN</td>\n",
       "      <td>Female</td>\n",
       "      <td>40</td>\n",
       "    </tr>\n",
       "    <tr>\n",
       "      <th>1</th>\n",
       "      <td>82</td>\n",
       "      <td>HS-grad</td>\n",
       "      <td>Exec-managerial</td>\n",
       "      <td>Female</td>\n",
       "      <td>18</td>\n",
       "    </tr>\n",
       "    <tr>\n",
       "      <th>2</th>\n",
       "      <td>66</td>\n",
       "      <td>Some-college</td>\n",
       "      <td>NaN</td>\n",
       "      <td>Female</td>\n",
       "      <td>40</td>\n",
       "    </tr>\n",
       "    <tr>\n",
       "      <th>4</th>\n",
       "      <td>41</td>\n",
       "      <td>Some-college</td>\n",
       "      <td>Prof-specialty</td>\n",
       "      <td>Female</td>\n",
       "      <td>40</td>\n",
       "    </tr>\n",
       "    <tr>\n",
       "      <th>5</th>\n",
       "      <td>34</td>\n",
       "      <td>HS-grad</td>\n",
       "      <td>Other-service</td>\n",
       "      <td>Female</td>\n",
       "      <td>45</td>\n",
       "    </tr>\n",
       "  </tbody>\n",
       "</table>\n",
       "</div>"
      ],
      "text/plain": [
       "   age     education       occupation     sex  hours.per.week\n",
       "0   90       HS-grad              NaN  Female              40\n",
       "1   82       HS-grad  Exec-managerial  Female              18\n",
       "2   66  Some-college              NaN  Female              40\n",
       "4   41  Some-college   Prof-specialty  Female              40\n",
       "5   34       HS-grad    Other-service  Female              45"
      ]
     },
     "execution_count": 49,
     "metadata": {},
     "output_type": "execute_result"
    }
   ],
   "source": [
    "X_income.head()"
   ]
  },
  {
   "cell_type": "markdown",
   "metadata": {
    "cell_style": "split",
    "slideshow": {
     "slide_type": "fragment"
    }
   },
   "source": [
    "What do we want to use for each column?"
   ]
  },
  {
   "cell_type": "markdown",
   "metadata": {
    "slideshow": {
     "slide_type": "slide"
    }
   },
   "source": [
    "## First define the separate pipelines"
   ]
  },
  {
   "cell_type": "code",
   "execution_count": 50,
   "metadata": {
    "slideshow": {
     "slide_type": "fragment"
    }
   },
   "outputs": [
    {
     "data": {
      "text/plain": [
       "['10th',\n",
       " '11th',\n",
       " 'HS-grad',\n",
       " 'Some-college',\n",
       " 'Assoc-acdm',\n",
       " 'Assoc-voc',\n",
       " 'Bachelors',\n",
       " 'Masters',\n",
       " 'Doctorate']"
      ]
     },
     "execution_count": 50,
     "metadata": {},
     "output_type": "execute_result"
    }
   ],
   "source": [
    "numeric_pipeline = Pipeline([('numimputer', SimpleImputer(strategy = 'mean')), ('numnorm', StandardScaler())])\n",
    "\n",
    "ordinal_pipeline = Pipeline([\n",
    "    ('ordimputer', SimpleImputer(strategy = 'most_frequent')),\n",
    "    ('ordenc', OrdinalEncoder(categories = [ed_list])),\n",
    "    ('ordnorm', StandardScaler())])\n",
    "\n",
    "nominal_pipeline = Pipeline([\n",
    "    ('onehotimputer', SimpleImputer(strategy = 'most_frequent')),\n",
    "    ('onehotenc', OneHotEncoder(sparse = False, drop = 'first', handle_unknown = 'ignore')), \n",
    "    ('onehotnorm', MaxAbsScaler())])\n",
    "\n",
    "ed_list"
   ]
  },
  {
   "cell_type": "markdown",
   "metadata": {
    "slideshow": {
     "slide_type": "slide"
    }
   },
   "source": [
    "Now unite them with ColumnTransformer:\n",
    "- specify columns each pipeline acts on."
   ]
  },
  {
   "cell_type": "code",
   "execution_count": 51,
   "metadata": {
    "slideshow": {
     "slide_type": "fragment"
    }
   },
   "outputs": [
    {
     "data": {
      "text/plain": [
       "Index([], dtype='object')"
      ]
     },
     "execution_count": 51,
     "metadata": {},
     "output_type": "execute_result"
    }
   ],
   "source": [
    "num_cols = X_inc_train.select_dtypes(['int', 'float']).columns\n",
    "\n",
    "ct = ColumnTransformer(\n",
    "    [(\"ordinalpipe\", ordinal_pipeline, ['education']), \n",
    "     (\"nominalpipe\", nominal_pipeline, ['occupation','sex']),\n",
    "     (\"numpipe\", numeric_pipeline, num_cols)])\n",
    "\n",
    "num_cols"
   ]
  },
  {
   "cell_type": "markdown",
   "metadata": {
    "slideshow": {
     "slide_type": "slide"
    }
   },
   "source": [
    "Viewing the transformed data:\n",
    "- In order specified by column transformer"
   ]
  },
  {
   "cell_type": "code",
   "execution_count": 52,
   "metadata": {
    "cell_style": "center",
    "slideshow": {
     "slide_type": "fragment"
    }
   },
   "outputs": [
    {
     "data": {
      "text/html": [
       "<div>\n",
       "<style scoped>\n",
       "    .dataframe tbody tr th:only-of-type {\n",
       "        vertical-align: middle;\n",
       "    }\n",
       "\n",
       "    .dataframe tbody tr th {\n",
       "        vertical-align: top;\n",
       "    }\n",
       "\n",
       "    .dataframe thead th {\n",
       "        text-align: right;\n",
       "    }\n",
       "</style>\n",
       "<table border=\"1\" class=\"dataframe\">\n",
       "  <thead>\n",
       "    <tr style=\"text-align: right;\">\n",
       "      <th></th>\n",
       "      <th>0</th>\n",
       "      <th>1</th>\n",
       "      <th>2</th>\n",
       "      <th>3</th>\n",
       "      <th>4</th>\n",
       "      <th>5</th>\n",
       "      <th>6</th>\n",
       "      <th>7</th>\n",
       "      <th>8</th>\n",
       "      <th>9</th>\n",
       "      <th>10</th>\n",
       "      <th>11</th>\n",
       "      <th>12</th>\n",
       "      <th>13</th>\n",
       "      <th>14</th>\n",
       "    </tr>\n",
       "  </thead>\n",
       "  <tbody>\n",
       "    <tr>\n",
       "      <th>0</th>\n",
       "      <td>-0.221443</td>\n",
       "      <td>0.0</td>\n",
       "      <td>0.0</td>\n",
       "      <td>0.0</td>\n",
       "      <td>0.0</td>\n",
       "      <td>0.0</td>\n",
       "      <td>0.0</td>\n",
       "      <td>0.0</td>\n",
       "      <td>0.0</td>\n",
       "      <td>0.0</td>\n",
       "      <td>0.0</td>\n",
       "      <td>0.0</td>\n",
       "      <td>0.0</td>\n",
       "      <td>0.0</td>\n",
       "      <td>0.0</td>\n",
       "    </tr>\n",
       "    <tr>\n",
       "      <th>1</th>\n",
       "      <td>1.873885</td>\n",
       "      <td>0.0</td>\n",
       "      <td>0.0</td>\n",
       "      <td>1.0</td>\n",
       "      <td>0.0</td>\n",
       "      <td>0.0</td>\n",
       "      <td>0.0</td>\n",
       "      <td>0.0</td>\n",
       "      <td>0.0</td>\n",
       "      <td>0.0</td>\n",
       "      <td>0.0</td>\n",
       "      <td>0.0</td>\n",
       "      <td>0.0</td>\n",
       "      <td>0.0</td>\n",
       "      <td>1.0</td>\n",
       "    </tr>\n",
       "    <tr>\n",
       "      <th>2</th>\n",
       "      <td>-0.221443</td>\n",
       "      <td>0.0</td>\n",
       "      <td>0.0</td>\n",
       "      <td>1.0</td>\n",
       "      <td>0.0</td>\n",
       "      <td>0.0</td>\n",
       "      <td>0.0</td>\n",
       "      <td>0.0</td>\n",
       "      <td>0.0</td>\n",
       "      <td>0.0</td>\n",
       "      <td>0.0</td>\n",
       "      <td>0.0</td>\n",
       "      <td>0.0</td>\n",
       "      <td>0.0</td>\n",
       "      <td>1.0</td>\n",
       "    </tr>\n",
       "    <tr>\n",
       "      <th>3</th>\n",
       "      <td>-0.221443</td>\n",
       "      <td>0.0</td>\n",
       "      <td>0.0</td>\n",
       "      <td>0.0</td>\n",
       "      <td>0.0</td>\n",
       "      <td>0.0</td>\n",
       "      <td>0.0</td>\n",
       "      <td>1.0</td>\n",
       "      <td>0.0</td>\n",
       "      <td>0.0</td>\n",
       "      <td>0.0</td>\n",
       "      <td>0.0</td>\n",
       "      <td>0.0</td>\n",
       "      <td>0.0</td>\n",
       "      <td>0.0</td>\n",
       "    </tr>\n",
       "    <tr>\n",
       "      <th>4</th>\n",
       "      <td>-0.745275</td>\n",
       "      <td>0.0</td>\n",
       "      <td>1.0</td>\n",
       "      <td>0.0</td>\n",
       "      <td>0.0</td>\n",
       "      <td>0.0</td>\n",
       "      <td>0.0</td>\n",
       "      <td>0.0</td>\n",
       "      <td>0.0</td>\n",
       "      <td>0.0</td>\n",
       "      <td>0.0</td>\n",
       "      <td>0.0</td>\n",
       "      <td>0.0</td>\n",
       "      <td>0.0</td>\n",
       "      <td>1.0</td>\n",
       "    </tr>\n",
       "  </tbody>\n",
       "</table>\n",
       "</div>"
      ],
      "text/plain": [
       "         0    1    2    3    4    5    6    7    8    9    10   11   12   13  \\\n",
       "0 -0.221443  0.0  0.0  0.0  0.0  0.0  0.0  0.0  0.0  0.0  0.0  0.0  0.0  0.0   \n",
       "1  1.873885  0.0  0.0  1.0  0.0  0.0  0.0  0.0  0.0  0.0  0.0  0.0  0.0  0.0   \n",
       "2 -0.221443  0.0  0.0  1.0  0.0  0.0  0.0  0.0  0.0  0.0  0.0  0.0  0.0  0.0   \n",
       "3 -0.221443  0.0  0.0  0.0  0.0  0.0  0.0  1.0  0.0  0.0  0.0  0.0  0.0  0.0   \n",
       "4 -0.745275  0.0  1.0  0.0  0.0  0.0  0.0  0.0  0.0  0.0  0.0  0.0  0.0  0.0   \n",
       "\n",
       "    14  \n",
       "0  0.0  \n",
       "1  1.0  \n",
       "2  1.0  \n",
       "3  0.0  \n",
       "4  1.0  "
      ]
     },
     "execution_count": 52,
     "metadata": {},
     "output_type": "execute_result"
    }
   ],
   "source": [
    "pd.DataFrame(ct.fit_transform(X_inc_train)).head()"
   ]
  },
  {
   "cell_type": "markdown",
   "metadata": {
    "slideshow": {
     "slide_type": "slide"
    }
   },
   "source": [
    "Let's view what our preprocessing pipeline does:"
   ]
  },
  {
   "cell_type": "code",
   "execution_count": 53,
   "metadata": {
    "cell_style": "center",
    "slideshow": {
     "slide_type": "fragment"
    }
   },
   "outputs": [
    {
     "data": {
      "text/html": [
       "<style>#sk-9ef3fcca-ba59-4856-8061-da20fa2b252f {color: black;background-color: white;}#sk-9ef3fcca-ba59-4856-8061-da20fa2b252f pre{padding: 0;}#sk-9ef3fcca-ba59-4856-8061-da20fa2b252f div.sk-toggleable {background-color: white;}#sk-9ef3fcca-ba59-4856-8061-da20fa2b252f label.sk-toggleable__label {cursor: pointer;display: block;width: 100%;margin-bottom: 0;padding: 0.3em;box-sizing: border-box;text-align: center;}#sk-9ef3fcca-ba59-4856-8061-da20fa2b252f label.sk-toggleable__label-arrow:before {content: \"▸\";float: left;margin-right: 0.25em;color: #696969;}#sk-9ef3fcca-ba59-4856-8061-da20fa2b252f label.sk-toggleable__label-arrow:hover:before {color: black;}#sk-9ef3fcca-ba59-4856-8061-da20fa2b252f div.sk-estimator:hover label.sk-toggleable__label-arrow:before {color: black;}#sk-9ef3fcca-ba59-4856-8061-da20fa2b252f div.sk-toggleable__content {max-height: 0;max-width: 0;overflow: hidden;text-align: left;background-color: #f0f8ff;}#sk-9ef3fcca-ba59-4856-8061-da20fa2b252f div.sk-toggleable__content pre {margin: 0.2em;color: black;border-radius: 0.25em;background-color: #f0f8ff;}#sk-9ef3fcca-ba59-4856-8061-da20fa2b252f input.sk-toggleable__control:checked~div.sk-toggleable__content {max-height: 200px;max-width: 100%;overflow: auto;}#sk-9ef3fcca-ba59-4856-8061-da20fa2b252f input.sk-toggleable__control:checked~label.sk-toggleable__label-arrow:before {content: \"▾\";}#sk-9ef3fcca-ba59-4856-8061-da20fa2b252f div.sk-estimator input.sk-toggleable__control:checked~label.sk-toggleable__label {background-color: #d4ebff;}#sk-9ef3fcca-ba59-4856-8061-da20fa2b252f div.sk-label input.sk-toggleable__control:checked~label.sk-toggleable__label {background-color: #d4ebff;}#sk-9ef3fcca-ba59-4856-8061-da20fa2b252f input.sk-hidden--visually {border: 0;clip: rect(1px 1px 1px 1px);clip: rect(1px, 1px, 1px, 1px);height: 1px;margin: -1px;overflow: hidden;padding: 0;position: absolute;width: 1px;}#sk-9ef3fcca-ba59-4856-8061-da20fa2b252f div.sk-estimator {font-family: monospace;background-color: #f0f8ff;border: 1px dotted black;border-radius: 0.25em;box-sizing: border-box;margin-bottom: 0.5em;}#sk-9ef3fcca-ba59-4856-8061-da20fa2b252f div.sk-estimator:hover {background-color: #d4ebff;}#sk-9ef3fcca-ba59-4856-8061-da20fa2b252f div.sk-parallel-item::after {content: \"\";width: 100%;border-bottom: 1px solid gray;flex-grow: 1;}#sk-9ef3fcca-ba59-4856-8061-da20fa2b252f div.sk-label:hover label.sk-toggleable__label {background-color: #d4ebff;}#sk-9ef3fcca-ba59-4856-8061-da20fa2b252f div.sk-serial::before {content: \"\";position: absolute;border-left: 1px solid gray;box-sizing: border-box;top: 2em;bottom: 0;left: 50%;}#sk-9ef3fcca-ba59-4856-8061-da20fa2b252f div.sk-serial {display: flex;flex-direction: column;align-items: center;background-color: white;padding-right: 0.2em;padding-left: 0.2em;}#sk-9ef3fcca-ba59-4856-8061-da20fa2b252f div.sk-item {z-index: 1;}#sk-9ef3fcca-ba59-4856-8061-da20fa2b252f div.sk-parallel {display: flex;align-items: stretch;justify-content: center;background-color: white;}#sk-9ef3fcca-ba59-4856-8061-da20fa2b252f div.sk-parallel::before {content: \"\";position: absolute;border-left: 1px solid gray;box-sizing: border-box;top: 2em;bottom: 0;left: 50%;}#sk-9ef3fcca-ba59-4856-8061-da20fa2b252f div.sk-parallel-item {display: flex;flex-direction: column;position: relative;background-color: white;}#sk-9ef3fcca-ba59-4856-8061-da20fa2b252f div.sk-parallel-item:first-child::after {align-self: flex-end;width: 50%;}#sk-9ef3fcca-ba59-4856-8061-da20fa2b252f div.sk-parallel-item:last-child::after {align-self: flex-start;width: 50%;}#sk-9ef3fcca-ba59-4856-8061-da20fa2b252f div.sk-parallel-item:only-child::after {width: 0;}#sk-9ef3fcca-ba59-4856-8061-da20fa2b252f div.sk-dashed-wrapped {border: 1px dashed gray;margin: 0 0.4em 0.5em 0.4em;box-sizing: border-box;padding-bottom: 0.4em;background-color: white;position: relative;}#sk-9ef3fcca-ba59-4856-8061-da20fa2b252f div.sk-label label {font-family: monospace;font-weight: bold;background-color: white;display: inline-block;line-height: 1.2em;}#sk-9ef3fcca-ba59-4856-8061-da20fa2b252f div.sk-label-container {position: relative;z-index: 2;text-align: center;}#sk-9ef3fcca-ba59-4856-8061-da20fa2b252f div.sk-container {/* jupyter's `normalize.less` sets `[hidden] { display: none; }` but bootstrap.min.css set `[hidden] { display: none !important; }` so we also need the `!important` here to be able to override the default hidden behavior on the sphinx rendered scikit-learn.org. See: https://github.com/scikit-learn/scikit-learn/issues/21755 */display: inline-block !important;position: relative;}#sk-9ef3fcca-ba59-4856-8061-da20fa2b252f div.sk-text-repr-fallback {display: none;}</style><div id=\"sk-9ef3fcca-ba59-4856-8061-da20fa2b252f\" class=\"sk-top-container\"><div class=\"sk-text-repr-fallback\"><pre>ColumnTransformer(transformers=[(&#x27;ordinalpipe&#x27;,\n",
       "                                 Pipeline(steps=[(&#x27;ordimputer&#x27;,\n",
       "                                                  SimpleImputer(strategy=&#x27;most_frequent&#x27;)),\n",
       "                                                 (&#x27;ordenc&#x27;,\n",
       "                                                  OrdinalEncoder(categories=[[&#x27;10th&#x27;,\n",
       "                                                                              &#x27;11th&#x27;,\n",
       "                                                                              &#x27;HS-grad&#x27;,\n",
       "                                                                              &#x27;Some-college&#x27;,\n",
       "                                                                              &#x27;Assoc-acdm&#x27;,\n",
       "                                                                              &#x27;Assoc-voc&#x27;,\n",
       "                                                                              &#x27;Bachelors&#x27;,\n",
       "                                                                              &#x27;Masters&#x27;,\n",
       "                                                                              &#x27;Doctorate&#x27;]])),\n",
       "                                                 (&#x27;ordnorm&#x27;,\n",
       "                                                  StandardScaler())]),\n",
       "                                 [&#x27;education&#x27;]),\n",
       "                                (&#x27;nominalpipe&#x27;,\n",
       "                                 Pipeline(steps=[(&#x27;onehotimputer&#x27;,\n",
       "                                                  SimpleImputer(strategy=&#x27;most_frequent&#x27;)),\n",
       "                                                 (&#x27;onehotenc&#x27;,\n",
       "                                                  OneHotEncoder(drop=&#x27;first&#x27;,\n",
       "                                                                handle_unknown=&#x27;ignore&#x27;,\n",
       "                                                                sparse=False)),\n",
       "                                                 (&#x27;onehotnorm&#x27;,\n",
       "                                                  MaxAbsScaler())]),\n",
       "                                 [&#x27;occupation&#x27;, &#x27;sex&#x27;]),\n",
       "                                (&#x27;numpipe&#x27;,\n",
       "                                 Pipeline(steps=[(&#x27;numimputer&#x27;,\n",
       "                                                  SimpleImputer()),\n",
       "                                                 (&#x27;numnorm&#x27;,\n",
       "                                                  StandardScaler())]),\n",
       "                                 Index([], dtype=&#x27;object&#x27;))])</pre><b>Please rerun this cell to show the HTML repr or trust the notebook.</b></div><div class=\"sk-container\" hidden><div class=\"sk-item sk-dashed-wrapped\"><div class=\"sk-label-container\"><div class=\"sk-label sk-toggleable\"><input class=\"sk-toggleable__control sk-hidden--visually\" id=\"89e23175-7891-495e-bb66-1b89ecbee3d6\" type=\"checkbox\" ><label for=\"89e23175-7891-495e-bb66-1b89ecbee3d6\" class=\"sk-toggleable__label sk-toggleable__label-arrow\">ColumnTransformer</label><div class=\"sk-toggleable__content\"><pre>ColumnTransformer(transformers=[(&#x27;ordinalpipe&#x27;,\n",
       "                                 Pipeline(steps=[(&#x27;ordimputer&#x27;,\n",
       "                                                  SimpleImputer(strategy=&#x27;most_frequent&#x27;)),\n",
       "                                                 (&#x27;ordenc&#x27;,\n",
       "                                                  OrdinalEncoder(categories=[[&#x27;10th&#x27;,\n",
       "                                                                              &#x27;11th&#x27;,\n",
       "                                                                              &#x27;HS-grad&#x27;,\n",
       "                                                                              &#x27;Some-college&#x27;,\n",
       "                                                                              &#x27;Assoc-acdm&#x27;,\n",
       "                                                                              &#x27;Assoc-voc&#x27;,\n",
       "                                                                              &#x27;Bachelors&#x27;,\n",
       "                                                                              &#x27;Masters&#x27;,\n",
       "                                                                              &#x27;Doctorate&#x27;]])),\n",
       "                                                 (&#x27;ordnorm&#x27;,\n",
       "                                                  StandardScaler())]),\n",
       "                                 [&#x27;education&#x27;]),\n",
       "                                (&#x27;nominalpipe&#x27;,\n",
       "                                 Pipeline(steps=[(&#x27;onehotimputer&#x27;,\n",
       "                                                  SimpleImputer(strategy=&#x27;most_frequent&#x27;)),\n",
       "                                                 (&#x27;onehotenc&#x27;,\n",
       "                                                  OneHotEncoder(drop=&#x27;first&#x27;,\n",
       "                                                                handle_unknown=&#x27;ignore&#x27;,\n",
       "                                                                sparse=False)),\n",
       "                                                 (&#x27;onehotnorm&#x27;,\n",
       "                                                  MaxAbsScaler())]),\n",
       "                                 [&#x27;occupation&#x27;, &#x27;sex&#x27;]),\n",
       "                                (&#x27;numpipe&#x27;,\n",
       "                                 Pipeline(steps=[(&#x27;numimputer&#x27;,\n",
       "                                                  SimpleImputer()),\n",
       "                                                 (&#x27;numnorm&#x27;,\n",
       "                                                  StandardScaler())]),\n",
       "                                 Index([], dtype=&#x27;object&#x27;))])</pre></div></div></div><div class=\"sk-parallel\"><div class=\"sk-parallel-item\"><div class=\"sk-item\"><div class=\"sk-label-container\"><div class=\"sk-label sk-toggleable\"><input class=\"sk-toggleable__control sk-hidden--visually\" id=\"dc49ea67-6062-4142-bcb8-16b7e43295a5\" type=\"checkbox\" ><label for=\"dc49ea67-6062-4142-bcb8-16b7e43295a5\" class=\"sk-toggleable__label sk-toggleable__label-arrow\">ordinalpipe</label><div class=\"sk-toggleable__content\"><pre>[&#x27;education&#x27;]</pre></div></div></div><div class=\"sk-serial\"><div class=\"sk-item\"><div class=\"sk-serial\"><div class=\"sk-item\"><div class=\"sk-estimator sk-toggleable\"><input class=\"sk-toggleable__control sk-hidden--visually\" id=\"54551891-cdb5-4075-93ab-2bc1eaa867f0\" type=\"checkbox\" ><label for=\"54551891-cdb5-4075-93ab-2bc1eaa867f0\" class=\"sk-toggleable__label sk-toggleable__label-arrow\">SimpleImputer</label><div class=\"sk-toggleable__content\"><pre>SimpleImputer(strategy=&#x27;most_frequent&#x27;)</pre></div></div></div><div class=\"sk-item\"><div class=\"sk-estimator sk-toggleable\"><input class=\"sk-toggleable__control sk-hidden--visually\" id=\"772d7bcc-89f4-4135-8d03-8731308a7886\" type=\"checkbox\" ><label for=\"772d7bcc-89f4-4135-8d03-8731308a7886\" class=\"sk-toggleable__label sk-toggleable__label-arrow\">OrdinalEncoder</label><div class=\"sk-toggleable__content\"><pre>OrdinalEncoder(categories=[[&#x27;10th&#x27;, &#x27;11th&#x27;, &#x27;HS-grad&#x27;, &#x27;Some-college&#x27;,\n",
       "                            &#x27;Assoc-acdm&#x27;, &#x27;Assoc-voc&#x27;, &#x27;Bachelors&#x27;, &#x27;Masters&#x27;,\n",
       "                            &#x27;Doctorate&#x27;]])</pre></div></div></div><div class=\"sk-item\"><div class=\"sk-estimator sk-toggleable\"><input class=\"sk-toggleable__control sk-hidden--visually\" id=\"01ed90cf-439f-48f2-bbf4-df4a8b47f9b6\" type=\"checkbox\" ><label for=\"01ed90cf-439f-48f2-bbf4-df4a8b47f9b6\" class=\"sk-toggleable__label sk-toggleable__label-arrow\">StandardScaler</label><div class=\"sk-toggleable__content\"><pre>StandardScaler()</pre></div></div></div></div></div></div></div></div><div class=\"sk-parallel-item\"><div class=\"sk-item\"><div class=\"sk-label-container\"><div class=\"sk-label sk-toggleable\"><input class=\"sk-toggleable__control sk-hidden--visually\" id=\"62fcd145-7e03-48da-8d09-07c0076428a0\" type=\"checkbox\" ><label for=\"62fcd145-7e03-48da-8d09-07c0076428a0\" class=\"sk-toggleable__label sk-toggleable__label-arrow\">nominalpipe</label><div class=\"sk-toggleable__content\"><pre>[&#x27;occupation&#x27;, &#x27;sex&#x27;]</pre></div></div></div><div class=\"sk-serial\"><div class=\"sk-item\"><div class=\"sk-serial\"><div class=\"sk-item\"><div class=\"sk-estimator sk-toggleable\"><input class=\"sk-toggleable__control sk-hidden--visually\" id=\"919256f0-4fe3-413c-b61d-fc17f594e683\" type=\"checkbox\" ><label for=\"919256f0-4fe3-413c-b61d-fc17f594e683\" class=\"sk-toggleable__label sk-toggleable__label-arrow\">SimpleImputer</label><div class=\"sk-toggleable__content\"><pre>SimpleImputer(strategy=&#x27;most_frequent&#x27;)</pre></div></div></div><div class=\"sk-item\"><div class=\"sk-estimator sk-toggleable\"><input class=\"sk-toggleable__control sk-hidden--visually\" id=\"e82e1566-ddcf-4a11-b1a6-e3ae901a7977\" type=\"checkbox\" ><label for=\"e82e1566-ddcf-4a11-b1a6-e3ae901a7977\" class=\"sk-toggleable__label sk-toggleable__label-arrow\">OneHotEncoder</label><div class=\"sk-toggleable__content\"><pre>OneHotEncoder(drop=&#x27;first&#x27;, handle_unknown=&#x27;ignore&#x27;, sparse=False)</pre></div></div></div><div class=\"sk-item\"><div class=\"sk-estimator sk-toggleable\"><input class=\"sk-toggleable__control sk-hidden--visually\" id=\"a4b3ff3b-0b8a-45ab-9506-41a71b451fe3\" type=\"checkbox\" ><label for=\"a4b3ff3b-0b8a-45ab-9506-41a71b451fe3\" class=\"sk-toggleable__label sk-toggleable__label-arrow\">MaxAbsScaler</label><div class=\"sk-toggleable__content\"><pre>MaxAbsScaler()</pre></div></div></div></div></div></div></div></div><div class=\"sk-parallel-item\"><div class=\"sk-item\"><div class=\"sk-label-container\"><div class=\"sk-label sk-toggleable\"><input class=\"sk-toggleable__control sk-hidden--visually\" id=\"6b51852d-5e3e-42a6-bd85-8a9ced4cebb0\" type=\"checkbox\" ><label for=\"6b51852d-5e3e-42a6-bd85-8a9ced4cebb0\" class=\"sk-toggleable__label sk-toggleable__label-arrow\">numpipe</label><div class=\"sk-toggleable__content\"><pre>Index([], dtype=&#x27;object&#x27;)</pre></div></div></div><div class=\"sk-serial\"><div class=\"sk-item\"><div class=\"sk-serial\"><div class=\"sk-item\"><div class=\"sk-estimator sk-toggleable\"><input class=\"sk-toggleable__control sk-hidden--visually\" id=\"f5c63ec7-d64e-45fc-a81b-86d6c982f65e\" type=\"checkbox\" ><label for=\"f5c63ec7-d64e-45fc-a81b-86d6c982f65e\" class=\"sk-toggleable__label sk-toggleable__label-arrow\">SimpleImputer</label><div class=\"sk-toggleable__content\"><pre>SimpleImputer()</pre></div></div></div><div class=\"sk-item\"><div class=\"sk-estimator sk-toggleable\"><input class=\"sk-toggleable__control sk-hidden--visually\" id=\"f8c9aec3-5180-439e-8f42-9cf935c84983\" type=\"checkbox\" ><label for=\"f8c9aec3-5180-439e-8f42-9cf935c84983\" class=\"sk-toggleable__label sk-toggleable__label-arrow\">StandardScaler</label><div class=\"sk-toggleable__content\"><pre>StandardScaler()</pre></div></div></div></div></div></div></div></div></div></div></div></div>"
      ],
      "text/plain": [
       "ColumnTransformer(transformers=[('ordinalpipe',\n",
       "                                 Pipeline(steps=[('ordimputer',\n",
       "                                                  SimpleImputer(strategy='most_frequent')),\n",
       "                                                 ('ordenc',\n",
       "                                                  OrdinalEncoder(categories=[['10th',\n",
       "                                                                              '11th',\n",
       "                                                                              'HS-grad',\n",
       "                                                                              'Some-college',\n",
       "                                                                              'Assoc-acdm',\n",
       "                                                                              'Assoc-voc',\n",
       "                                                                              'Bachelors',\n",
       "                                                                              'Masters',\n",
       "                                                                              'Doctorate']])),\n",
       "                                                 ('ordnorm',\n",
       "                                                  StandardScaler())]),\n",
       "                                 ['education']),\n",
       "                                ('nominalpipe',\n",
       "                                 Pipeline(steps=[('onehotimputer',\n",
       "                                                  SimpleImputer(strategy='most_frequent')),\n",
       "                                                 ('onehotenc',\n",
       "                                                  OneHotEncoder(drop='first',\n",
       "                                                                handle_unknown='ignore',\n",
       "                                                                sparse=False)),\n",
       "                                                 ('onehotnorm',\n",
       "                                                  MaxAbsScaler())]),\n",
       "                                 ['occupation', 'sex']),\n",
       "                                ('numpipe',\n",
       "                                 Pipeline(steps=[('numimputer',\n",
       "                                                  SimpleImputer()),\n",
       "                                                 ('numnorm',\n",
       "                                                  StandardScaler())]),\n",
       "                                 Index([], dtype='object'))])"
      ]
     },
     "execution_count": 53,
     "metadata": {},
     "output_type": "execute_result"
    }
   ],
   "source": [
    "ct"
   ]
  },
  {
   "cell_type": "markdown",
   "metadata": {
    "cell_style": "center",
    "slideshow": {
     "slide_type": "slide"
    }
   },
   "source": [
    "Takes specified columns:\n",
    "- Applies ordinal pipeline to first set\n",
    "- Nominal pipeline to second subset\n",
    "- Numeric pipeline to last set\n",
    "\n",
    "Joins result *in column transform order* at the end."
   ]
  },
  {
   "cell_type": "markdown",
   "metadata": {
    "cell_style": "center",
    "slideshow": {
     "slide_type": "slide"
    }
   },
   "source": [
    "Column transformer: access/change individual steps in branches\n",
    "- .named_transformers_ attribute as dictionary of transformers"
   ]
  },
  {
   "cell_type": "code",
   "execution_count": 54,
   "metadata": {
    "cell_style": "center",
    "slideshow": {
     "slide_type": "fragment"
    }
   },
   "outputs": [
    {
     "data": {
      "text/plain": [
       "{'ordinalpipe': Pipeline(steps=[('ordimputer', SimpleImputer(strategy='most_frequent')),\n",
       "                 ('ordenc',\n",
       "                  OrdinalEncoder(categories=[['10th', '11th', 'HS-grad',\n",
       "                                              'Some-college', 'Assoc-acdm',\n",
       "                                              'Assoc-voc', 'Bachelors',\n",
       "                                              'Masters', 'Doctorate']])),\n",
       "                 ('ordnorm', StandardScaler())]),\n",
       " 'nominalpipe': Pipeline(steps=[('onehotimputer', SimpleImputer(strategy='most_frequent')),\n",
       "                 ('onehotenc',\n",
       "                  OneHotEncoder(drop='first', handle_unknown='ignore',\n",
       "                                sparse=False)),\n",
       "                 ('onehotnorm', MaxAbsScaler())]),\n",
       " 'numpipe': Pipeline(steps=[('numimputer', SimpleImputer()), ('numnorm', StandardScaler())]),\n",
       " 'remainder': 'drop'}"
      ]
     },
     "execution_count": 54,
     "metadata": {},
     "output_type": "execute_result"
    }
   ],
   "source": [
    "ct.named_transformers_"
   ]
  },
  {
   "cell_type": "code",
   "execution_count": 55,
   "metadata": {
    "cell_style": "split",
    "slideshow": {
     "slide_type": "slide"
    }
   },
   "outputs": [
    {
     "data": {
      "text/html": [
       "<style>#sk-0b367b8d-435f-47f1-b6ea-8763c9a4c797 {color: black;background-color: white;}#sk-0b367b8d-435f-47f1-b6ea-8763c9a4c797 pre{padding: 0;}#sk-0b367b8d-435f-47f1-b6ea-8763c9a4c797 div.sk-toggleable {background-color: white;}#sk-0b367b8d-435f-47f1-b6ea-8763c9a4c797 label.sk-toggleable__label {cursor: pointer;display: block;width: 100%;margin-bottom: 0;padding: 0.3em;box-sizing: border-box;text-align: center;}#sk-0b367b8d-435f-47f1-b6ea-8763c9a4c797 label.sk-toggleable__label-arrow:before {content: \"▸\";float: left;margin-right: 0.25em;color: #696969;}#sk-0b367b8d-435f-47f1-b6ea-8763c9a4c797 label.sk-toggleable__label-arrow:hover:before {color: black;}#sk-0b367b8d-435f-47f1-b6ea-8763c9a4c797 div.sk-estimator:hover label.sk-toggleable__label-arrow:before {color: black;}#sk-0b367b8d-435f-47f1-b6ea-8763c9a4c797 div.sk-toggleable__content {max-height: 0;max-width: 0;overflow: hidden;text-align: left;background-color: #f0f8ff;}#sk-0b367b8d-435f-47f1-b6ea-8763c9a4c797 div.sk-toggleable__content pre {margin: 0.2em;color: black;border-radius: 0.25em;background-color: #f0f8ff;}#sk-0b367b8d-435f-47f1-b6ea-8763c9a4c797 input.sk-toggleable__control:checked~div.sk-toggleable__content {max-height: 200px;max-width: 100%;overflow: auto;}#sk-0b367b8d-435f-47f1-b6ea-8763c9a4c797 input.sk-toggleable__control:checked~label.sk-toggleable__label-arrow:before {content: \"▾\";}#sk-0b367b8d-435f-47f1-b6ea-8763c9a4c797 div.sk-estimator input.sk-toggleable__control:checked~label.sk-toggleable__label {background-color: #d4ebff;}#sk-0b367b8d-435f-47f1-b6ea-8763c9a4c797 div.sk-label input.sk-toggleable__control:checked~label.sk-toggleable__label {background-color: #d4ebff;}#sk-0b367b8d-435f-47f1-b6ea-8763c9a4c797 input.sk-hidden--visually {border: 0;clip: rect(1px 1px 1px 1px);clip: rect(1px, 1px, 1px, 1px);height: 1px;margin: -1px;overflow: hidden;padding: 0;position: absolute;width: 1px;}#sk-0b367b8d-435f-47f1-b6ea-8763c9a4c797 div.sk-estimator {font-family: monospace;background-color: #f0f8ff;border: 1px dotted black;border-radius: 0.25em;box-sizing: border-box;margin-bottom: 0.5em;}#sk-0b367b8d-435f-47f1-b6ea-8763c9a4c797 div.sk-estimator:hover {background-color: #d4ebff;}#sk-0b367b8d-435f-47f1-b6ea-8763c9a4c797 div.sk-parallel-item::after {content: \"\";width: 100%;border-bottom: 1px solid gray;flex-grow: 1;}#sk-0b367b8d-435f-47f1-b6ea-8763c9a4c797 div.sk-label:hover label.sk-toggleable__label {background-color: #d4ebff;}#sk-0b367b8d-435f-47f1-b6ea-8763c9a4c797 div.sk-serial::before {content: \"\";position: absolute;border-left: 1px solid gray;box-sizing: border-box;top: 2em;bottom: 0;left: 50%;}#sk-0b367b8d-435f-47f1-b6ea-8763c9a4c797 div.sk-serial {display: flex;flex-direction: column;align-items: center;background-color: white;padding-right: 0.2em;padding-left: 0.2em;}#sk-0b367b8d-435f-47f1-b6ea-8763c9a4c797 div.sk-item {z-index: 1;}#sk-0b367b8d-435f-47f1-b6ea-8763c9a4c797 div.sk-parallel {display: flex;align-items: stretch;justify-content: center;background-color: white;}#sk-0b367b8d-435f-47f1-b6ea-8763c9a4c797 div.sk-parallel::before {content: \"\";position: absolute;border-left: 1px solid gray;box-sizing: border-box;top: 2em;bottom: 0;left: 50%;}#sk-0b367b8d-435f-47f1-b6ea-8763c9a4c797 div.sk-parallel-item {display: flex;flex-direction: column;position: relative;background-color: white;}#sk-0b367b8d-435f-47f1-b6ea-8763c9a4c797 div.sk-parallel-item:first-child::after {align-self: flex-end;width: 50%;}#sk-0b367b8d-435f-47f1-b6ea-8763c9a4c797 div.sk-parallel-item:last-child::after {align-self: flex-start;width: 50%;}#sk-0b367b8d-435f-47f1-b6ea-8763c9a4c797 div.sk-parallel-item:only-child::after {width: 0;}#sk-0b367b8d-435f-47f1-b6ea-8763c9a4c797 div.sk-dashed-wrapped {border: 1px dashed gray;margin: 0 0.4em 0.5em 0.4em;box-sizing: border-box;padding-bottom: 0.4em;background-color: white;position: relative;}#sk-0b367b8d-435f-47f1-b6ea-8763c9a4c797 div.sk-label label {font-family: monospace;font-weight: bold;background-color: white;display: inline-block;line-height: 1.2em;}#sk-0b367b8d-435f-47f1-b6ea-8763c9a4c797 div.sk-label-container {position: relative;z-index: 2;text-align: center;}#sk-0b367b8d-435f-47f1-b6ea-8763c9a4c797 div.sk-container {/* jupyter's `normalize.less` sets `[hidden] { display: none; }` but bootstrap.min.css set `[hidden] { display: none !important; }` so we also need the `!important` here to be able to override the default hidden behavior on the sphinx rendered scikit-learn.org. See: https://github.com/scikit-learn/scikit-learn/issues/21755 */display: inline-block !important;position: relative;}#sk-0b367b8d-435f-47f1-b6ea-8763c9a4c797 div.sk-text-repr-fallback {display: none;}</style><div id=\"sk-0b367b8d-435f-47f1-b6ea-8763c9a4c797\" class=\"sk-top-container\"><div class=\"sk-text-repr-fallback\"><pre>Pipeline(steps=[(&#x27;ordimputer&#x27;, SimpleImputer(strategy=&#x27;most_frequent&#x27;)),\n",
       "                (&#x27;ordenc&#x27;,\n",
       "                 OrdinalEncoder(categories=[[&#x27;10th&#x27;, &#x27;11th&#x27;, &#x27;HS-grad&#x27;,\n",
       "                                             &#x27;Some-college&#x27;, &#x27;Assoc-acdm&#x27;,\n",
       "                                             &#x27;Assoc-voc&#x27;, &#x27;Bachelors&#x27;,\n",
       "                                             &#x27;Masters&#x27;, &#x27;Doctorate&#x27;]])),\n",
       "                (&#x27;ordnorm&#x27;, StandardScaler())])</pre><b>Please rerun this cell to show the HTML repr or trust the notebook.</b></div><div class=\"sk-container\" hidden><div class=\"sk-item sk-dashed-wrapped\"><div class=\"sk-label-container\"><div class=\"sk-label sk-toggleable\"><input class=\"sk-toggleable__control sk-hidden--visually\" id=\"4b32442e-3e87-4dc3-b202-e6813978e08b\" type=\"checkbox\" ><label for=\"4b32442e-3e87-4dc3-b202-e6813978e08b\" class=\"sk-toggleable__label sk-toggleable__label-arrow\">Pipeline</label><div class=\"sk-toggleable__content\"><pre>Pipeline(steps=[(&#x27;ordimputer&#x27;, SimpleImputer(strategy=&#x27;most_frequent&#x27;)),\n",
       "                (&#x27;ordenc&#x27;,\n",
       "                 OrdinalEncoder(categories=[[&#x27;10th&#x27;, &#x27;11th&#x27;, &#x27;HS-grad&#x27;,\n",
       "                                             &#x27;Some-college&#x27;, &#x27;Assoc-acdm&#x27;,\n",
       "                                             &#x27;Assoc-voc&#x27;, &#x27;Bachelors&#x27;,\n",
       "                                             &#x27;Masters&#x27;, &#x27;Doctorate&#x27;]])),\n",
       "                (&#x27;ordnorm&#x27;, StandardScaler())])</pre></div></div></div><div class=\"sk-serial\"><div class=\"sk-item\"><div class=\"sk-estimator sk-toggleable\"><input class=\"sk-toggleable__control sk-hidden--visually\" id=\"48dee86f-2351-491d-86f6-5972e632ef99\" type=\"checkbox\" ><label for=\"48dee86f-2351-491d-86f6-5972e632ef99\" class=\"sk-toggleable__label sk-toggleable__label-arrow\">SimpleImputer</label><div class=\"sk-toggleable__content\"><pre>SimpleImputer(strategy=&#x27;most_frequent&#x27;)</pre></div></div></div><div class=\"sk-item\"><div class=\"sk-estimator sk-toggleable\"><input class=\"sk-toggleable__control sk-hidden--visually\" id=\"d3f09988-98ce-4a57-9e7f-a1311a7ecea7\" type=\"checkbox\" ><label for=\"d3f09988-98ce-4a57-9e7f-a1311a7ecea7\" class=\"sk-toggleable__label sk-toggleable__label-arrow\">OrdinalEncoder</label><div class=\"sk-toggleable__content\"><pre>OrdinalEncoder(categories=[[&#x27;10th&#x27;, &#x27;11th&#x27;, &#x27;HS-grad&#x27;, &#x27;Some-college&#x27;,\n",
       "                            &#x27;Assoc-acdm&#x27;, &#x27;Assoc-voc&#x27;, &#x27;Bachelors&#x27;, &#x27;Masters&#x27;,\n",
       "                            &#x27;Doctorate&#x27;]])</pre></div></div></div><div class=\"sk-item\"><div class=\"sk-estimator sk-toggleable\"><input class=\"sk-toggleable__control sk-hidden--visually\" id=\"53510733-270f-48ee-95e5-8c9680da9c8b\" type=\"checkbox\" ><label for=\"53510733-270f-48ee-95e5-8c9680da9c8b\" class=\"sk-toggleable__label sk-toggleable__label-arrow\">StandardScaler</label><div class=\"sk-toggleable__content\"><pre>StandardScaler()</pre></div></div></div></div></div></div></div>"
      ],
      "text/plain": [
       "Pipeline(steps=[('ordimputer', SimpleImputer(strategy='most_frequent')),\n",
       "                ('ordenc',\n",
       "                 OrdinalEncoder(categories=[['10th', '11th', 'HS-grad',\n",
       "                                             'Some-college', 'Assoc-acdm',\n",
       "                                             'Assoc-voc', 'Bachelors',\n",
       "                                             'Masters', 'Doctorate']])),\n",
       "                ('ordnorm', StandardScaler())])"
      ]
     },
     "execution_count": 55,
     "metadata": {},
     "output_type": "execute_result"
    }
   ],
   "source": [
    "ct.named_transformers_['ordinalpipe']"
   ]
  },
  {
   "cell_type": "code",
   "execution_count": 56,
   "metadata": {
    "cell_style": "split",
    "slideshow": {
     "slide_type": "fragment"
    }
   },
   "outputs": [
    {
     "data": {
      "text/html": [
       "<style>#sk-89309ec2-3925-4c4a-8add-5889e2d6de0d {color: black;background-color: white;}#sk-89309ec2-3925-4c4a-8add-5889e2d6de0d pre{padding: 0;}#sk-89309ec2-3925-4c4a-8add-5889e2d6de0d div.sk-toggleable {background-color: white;}#sk-89309ec2-3925-4c4a-8add-5889e2d6de0d label.sk-toggleable__label {cursor: pointer;display: block;width: 100%;margin-bottom: 0;padding: 0.3em;box-sizing: border-box;text-align: center;}#sk-89309ec2-3925-4c4a-8add-5889e2d6de0d label.sk-toggleable__label-arrow:before {content: \"▸\";float: left;margin-right: 0.25em;color: #696969;}#sk-89309ec2-3925-4c4a-8add-5889e2d6de0d label.sk-toggleable__label-arrow:hover:before {color: black;}#sk-89309ec2-3925-4c4a-8add-5889e2d6de0d div.sk-estimator:hover label.sk-toggleable__label-arrow:before {color: black;}#sk-89309ec2-3925-4c4a-8add-5889e2d6de0d div.sk-toggleable__content {max-height: 0;max-width: 0;overflow: hidden;text-align: left;background-color: #f0f8ff;}#sk-89309ec2-3925-4c4a-8add-5889e2d6de0d div.sk-toggleable__content pre {margin: 0.2em;color: black;border-radius: 0.25em;background-color: #f0f8ff;}#sk-89309ec2-3925-4c4a-8add-5889e2d6de0d input.sk-toggleable__control:checked~div.sk-toggleable__content {max-height: 200px;max-width: 100%;overflow: auto;}#sk-89309ec2-3925-4c4a-8add-5889e2d6de0d input.sk-toggleable__control:checked~label.sk-toggleable__label-arrow:before {content: \"▾\";}#sk-89309ec2-3925-4c4a-8add-5889e2d6de0d div.sk-estimator input.sk-toggleable__control:checked~label.sk-toggleable__label {background-color: #d4ebff;}#sk-89309ec2-3925-4c4a-8add-5889e2d6de0d div.sk-label input.sk-toggleable__control:checked~label.sk-toggleable__label {background-color: #d4ebff;}#sk-89309ec2-3925-4c4a-8add-5889e2d6de0d input.sk-hidden--visually {border: 0;clip: rect(1px 1px 1px 1px);clip: rect(1px, 1px, 1px, 1px);height: 1px;margin: -1px;overflow: hidden;padding: 0;position: absolute;width: 1px;}#sk-89309ec2-3925-4c4a-8add-5889e2d6de0d div.sk-estimator {font-family: monospace;background-color: #f0f8ff;border: 1px dotted black;border-radius: 0.25em;box-sizing: border-box;margin-bottom: 0.5em;}#sk-89309ec2-3925-4c4a-8add-5889e2d6de0d div.sk-estimator:hover {background-color: #d4ebff;}#sk-89309ec2-3925-4c4a-8add-5889e2d6de0d div.sk-parallel-item::after {content: \"\";width: 100%;border-bottom: 1px solid gray;flex-grow: 1;}#sk-89309ec2-3925-4c4a-8add-5889e2d6de0d div.sk-label:hover label.sk-toggleable__label {background-color: #d4ebff;}#sk-89309ec2-3925-4c4a-8add-5889e2d6de0d div.sk-serial::before {content: \"\";position: absolute;border-left: 1px solid gray;box-sizing: border-box;top: 2em;bottom: 0;left: 50%;}#sk-89309ec2-3925-4c4a-8add-5889e2d6de0d div.sk-serial {display: flex;flex-direction: column;align-items: center;background-color: white;padding-right: 0.2em;padding-left: 0.2em;}#sk-89309ec2-3925-4c4a-8add-5889e2d6de0d div.sk-item {z-index: 1;}#sk-89309ec2-3925-4c4a-8add-5889e2d6de0d div.sk-parallel {display: flex;align-items: stretch;justify-content: center;background-color: white;}#sk-89309ec2-3925-4c4a-8add-5889e2d6de0d div.sk-parallel::before {content: \"\";position: absolute;border-left: 1px solid gray;box-sizing: border-box;top: 2em;bottom: 0;left: 50%;}#sk-89309ec2-3925-4c4a-8add-5889e2d6de0d div.sk-parallel-item {display: flex;flex-direction: column;position: relative;background-color: white;}#sk-89309ec2-3925-4c4a-8add-5889e2d6de0d div.sk-parallel-item:first-child::after {align-self: flex-end;width: 50%;}#sk-89309ec2-3925-4c4a-8add-5889e2d6de0d div.sk-parallel-item:last-child::after {align-self: flex-start;width: 50%;}#sk-89309ec2-3925-4c4a-8add-5889e2d6de0d div.sk-parallel-item:only-child::after {width: 0;}#sk-89309ec2-3925-4c4a-8add-5889e2d6de0d div.sk-dashed-wrapped {border: 1px dashed gray;margin: 0 0.4em 0.5em 0.4em;box-sizing: border-box;padding-bottom: 0.4em;background-color: white;position: relative;}#sk-89309ec2-3925-4c4a-8add-5889e2d6de0d div.sk-label label {font-family: monospace;font-weight: bold;background-color: white;display: inline-block;line-height: 1.2em;}#sk-89309ec2-3925-4c4a-8add-5889e2d6de0d div.sk-label-container {position: relative;z-index: 2;text-align: center;}#sk-89309ec2-3925-4c4a-8add-5889e2d6de0d div.sk-container {/* jupyter's `normalize.less` sets `[hidden] { display: none; }` but bootstrap.min.css set `[hidden] { display: none !important; }` so we also need the `!important` here to be able to override the default hidden behavior on the sphinx rendered scikit-learn.org. See: https://github.com/scikit-learn/scikit-learn/issues/21755 */display: inline-block !important;position: relative;}#sk-89309ec2-3925-4c4a-8add-5889e2d6de0d div.sk-text-repr-fallback {display: none;}</style><div id=\"sk-89309ec2-3925-4c4a-8add-5889e2d6de0d\" class=\"sk-top-container\"><div class=\"sk-text-repr-fallback\"><pre>Pipeline(steps=[(&#x27;onehotimputer&#x27;, SimpleImputer(strategy=&#x27;most_frequent&#x27;)),\n",
       "                (&#x27;onehotenc&#x27;,\n",
       "                 OneHotEncoder(drop=&#x27;first&#x27;, handle_unknown=&#x27;ignore&#x27;,\n",
       "                               sparse=False)),\n",
       "                (&#x27;onehotnorm&#x27;, MaxAbsScaler())])</pre><b>Please rerun this cell to show the HTML repr or trust the notebook.</b></div><div class=\"sk-container\" hidden><div class=\"sk-item sk-dashed-wrapped\"><div class=\"sk-label-container\"><div class=\"sk-label sk-toggleable\"><input class=\"sk-toggleable__control sk-hidden--visually\" id=\"52d72374-ca3b-4f76-91da-7a2612591113\" type=\"checkbox\" ><label for=\"52d72374-ca3b-4f76-91da-7a2612591113\" class=\"sk-toggleable__label sk-toggleable__label-arrow\">Pipeline</label><div class=\"sk-toggleable__content\"><pre>Pipeline(steps=[(&#x27;onehotimputer&#x27;, SimpleImputer(strategy=&#x27;most_frequent&#x27;)),\n",
       "                (&#x27;onehotenc&#x27;,\n",
       "                 OneHotEncoder(drop=&#x27;first&#x27;, handle_unknown=&#x27;ignore&#x27;,\n",
       "                               sparse=False)),\n",
       "                (&#x27;onehotnorm&#x27;, MaxAbsScaler())])</pre></div></div></div><div class=\"sk-serial\"><div class=\"sk-item\"><div class=\"sk-estimator sk-toggleable\"><input class=\"sk-toggleable__control sk-hidden--visually\" id=\"13bacea0-dce0-4099-984f-26056a038c33\" type=\"checkbox\" ><label for=\"13bacea0-dce0-4099-984f-26056a038c33\" class=\"sk-toggleable__label sk-toggleable__label-arrow\">SimpleImputer</label><div class=\"sk-toggleable__content\"><pre>SimpleImputer(strategy=&#x27;most_frequent&#x27;)</pre></div></div></div><div class=\"sk-item\"><div class=\"sk-estimator sk-toggleable\"><input class=\"sk-toggleable__control sk-hidden--visually\" id=\"fe11500b-1e81-4e9c-a7eb-f7a3bd8c9907\" type=\"checkbox\" ><label for=\"fe11500b-1e81-4e9c-a7eb-f7a3bd8c9907\" class=\"sk-toggleable__label sk-toggleable__label-arrow\">OneHotEncoder</label><div class=\"sk-toggleable__content\"><pre>OneHotEncoder(drop=&#x27;first&#x27;, handle_unknown=&#x27;ignore&#x27;, sparse=False)</pre></div></div></div><div class=\"sk-item\"><div class=\"sk-estimator sk-toggleable\"><input class=\"sk-toggleable__control sk-hidden--visually\" id=\"f2a3aeb2-e4f8-4123-b39f-e69514cc5910\" type=\"checkbox\" ><label for=\"f2a3aeb2-e4f8-4123-b39f-e69514cc5910\" class=\"sk-toggleable__label sk-toggleable__label-arrow\">MaxAbsScaler</label><div class=\"sk-toggleable__content\"><pre>MaxAbsScaler()</pre></div></div></div></div></div></div></div>"
      ],
      "text/plain": [
       "Pipeline(steps=[('onehotimputer', SimpleImputer(strategy='most_frequent')),\n",
       "                ('onehotenc',\n",
       "                 OneHotEncoder(drop='first', handle_unknown='ignore',\n",
       "                               sparse=False)),\n",
       "                ('onehotnorm', MaxAbsScaler())])"
      ]
     },
     "execution_count": 56,
     "metadata": {},
     "output_type": "execute_result"
    }
   ],
   "source": [
    "ct.named_transformers_['nominalpipe']"
   ]
  },
  {
   "cell_type": "code",
   "execution_count": 57,
   "metadata": {
    "cell_style": "split",
    "slideshow": {
     "slide_type": "slide"
    }
   },
   "outputs": [
    {
     "data": {
      "text/plain": [
       "('onehotnorm', MaxAbsScaler())"
      ]
     },
     "execution_count": 57,
     "metadata": {},
     "output_type": "execute_result"
    }
   ],
   "source": [
    "ct.named_transformers_['nominalpipe'].steps.pop(-1)\n"
   ]
  },
  {
   "cell_type": "code",
   "execution_count": 58,
   "metadata": {
    "cell_style": "split",
    "slideshow": {
     "slide_type": "fragment"
    }
   },
   "outputs": [],
   "source": [
    "ct.named_transformers_['nominalpipe'].steps.append(\n",
    "    ('onehotnorm', StandardScaler()))"
   ]
  },
  {
   "cell_type": "code",
   "execution_count": 59,
   "metadata": {
    "cell_style": "center",
    "slideshow": {
     "slide_type": "slide"
    }
   },
   "outputs": [
    {
     "data": {
      "text/plain": [
       "{'ordinalpipe': Pipeline(steps=[('ordimputer', SimpleImputer(strategy='most_frequent')),\n",
       "                 ('ordenc',\n",
       "                  OrdinalEncoder(categories=[['10th', '11th', 'HS-grad',\n",
       "                                              'Some-college', 'Assoc-acdm',\n",
       "                                              'Assoc-voc', 'Bachelors',\n",
       "                                              'Masters', 'Doctorate']])),\n",
       "                 ('ordnorm', StandardScaler())]),\n",
       " 'nominalpipe': Pipeline(steps=[('onehotimputer', SimpleImputer(strategy='most_frequent')),\n",
       "                 ('onehotenc',\n",
       "                  OneHotEncoder(drop='first', handle_unknown='ignore',\n",
       "                                sparse=False)),\n",
       "                 ('onehotnorm', StandardScaler())]),\n",
       " 'numpipe': Pipeline(steps=[('numimputer', SimpleImputer()), ('numnorm', StandardScaler())]),\n",
       " 'remainder': 'drop'}"
      ]
     },
     "execution_count": 59,
     "metadata": {},
     "output_type": "execute_result"
    }
   ],
   "source": [
    "ct.named_transformers_"
   ]
  },
  {
   "cell_type": "code",
   "execution_count": 60,
   "metadata": {
    "slideshow": {
     "slide_type": "fragment"
    }
   },
   "outputs": [
    {
     "data": {
      "text/html": [
       "<style>#sk-54d4b181-62a6-4e19-bbcf-8106daf482a3 {color: black;background-color: white;}#sk-54d4b181-62a6-4e19-bbcf-8106daf482a3 pre{padding: 0;}#sk-54d4b181-62a6-4e19-bbcf-8106daf482a3 div.sk-toggleable {background-color: white;}#sk-54d4b181-62a6-4e19-bbcf-8106daf482a3 label.sk-toggleable__label {cursor: pointer;display: block;width: 100%;margin-bottom: 0;padding: 0.3em;box-sizing: border-box;text-align: center;}#sk-54d4b181-62a6-4e19-bbcf-8106daf482a3 label.sk-toggleable__label-arrow:before {content: \"▸\";float: left;margin-right: 0.25em;color: #696969;}#sk-54d4b181-62a6-4e19-bbcf-8106daf482a3 label.sk-toggleable__label-arrow:hover:before {color: black;}#sk-54d4b181-62a6-4e19-bbcf-8106daf482a3 div.sk-estimator:hover label.sk-toggleable__label-arrow:before {color: black;}#sk-54d4b181-62a6-4e19-bbcf-8106daf482a3 div.sk-toggleable__content {max-height: 0;max-width: 0;overflow: hidden;text-align: left;background-color: #f0f8ff;}#sk-54d4b181-62a6-4e19-bbcf-8106daf482a3 div.sk-toggleable__content pre {margin: 0.2em;color: black;border-radius: 0.25em;background-color: #f0f8ff;}#sk-54d4b181-62a6-4e19-bbcf-8106daf482a3 input.sk-toggleable__control:checked~div.sk-toggleable__content {max-height: 200px;max-width: 100%;overflow: auto;}#sk-54d4b181-62a6-4e19-bbcf-8106daf482a3 input.sk-toggleable__control:checked~label.sk-toggleable__label-arrow:before {content: \"▾\";}#sk-54d4b181-62a6-4e19-bbcf-8106daf482a3 div.sk-estimator input.sk-toggleable__control:checked~label.sk-toggleable__label {background-color: #d4ebff;}#sk-54d4b181-62a6-4e19-bbcf-8106daf482a3 div.sk-label input.sk-toggleable__control:checked~label.sk-toggleable__label {background-color: #d4ebff;}#sk-54d4b181-62a6-4e19-bbcf-8106daf482a3 input.sk-hidden--visually {border: 0;clip: rect(1px 1px 1px 1px);clip: rect(1px, 1px, 1px, 1px);height: 1px;margin: -1px;overflow: hidden;padding: 0;position: absolute;width: 1px;}#sk-54d4b181-62a6-4e19-bbcf-8106daf482a3 div.sk-estimator {font-family: monospace;background-color: #f0f8ff;border: 1px dotted black;border-radius: 0.25em;box-sizing: border-box;margin-bottom: 0.5em;}#sk-54d4b181-62a6-4e19-bbcf-8106daf482a3 div.sk-estimator:hover {background-color: #d4ebff;}#sk-54d4b181-62a6-4e19-bbcf-8106daf482a3 div.sk-parallel-item::after {content: \"\";width: 100%;border-bottom: 1px solid gray;flex-grow: 1;}#sk-54d4b181-62a6-4e19-bbcf-8106daf482a3 div.sk-label:hover label.sk-toggleable__label {background-color: #d4ebff;}#sk-54d4b181-62a6-4e19-bbcf-8106daf482a3 div.sk-serial::before {content: \"\";position: absolute;border-left: 1px solid gray;box-sizing: border-box;top: 2em;bottom: 0;left: 50%;}#sk-54d4b181-62a6-4e19-bbcf-8106daf482a3 div.sk-serial {display: flex;flex-direction: column;align-items: center;background-color: white;padding-right: 0.2em;padding-left: 0.2em;}#sk-54d4b181-62a6-4e19-bbcf-8106daf482a3 div.sk-item {z-index: 1;}#sk-54d4b181-62a6-4e19-bbcf-8106daf482a3 div.sk-parallel {display: flex;align-items: stretch;justify-content: center;background-color: white;}#sk-54d4b181-62a6-4e19-bbcf-8106daf482a3 div.sk-parallel::before {content: \"\";position: absolute;border-left: 1px solid gray;box-sizing: border-box;top: 2em;bottom: 0;left: 50%;}#sk-54d4b181-62a6-4e19-bbcf-8106daf482a3 div.sk-parallel-item {display: flex;flex-direction: column;position: relative;background-color: white;}#sk-54d4b181-62a6-4e19-bbcf-8106daf482a3 div.sk-parallel-item:first-child::after {align-self: flex-end;width: 50%;}#sk-54d4b181-62a6-4e19-bbcf-8106daf482a3 div.sk-parallel-item:last-child::after {align-self: flex-start;width: 50%;}#sk-54d4b181-62a6-4e19-bbcf-8106daf482a3 div.sk-parallel-item:only-child::after {width: 0;}#sk-54d4b181-62a6-4e19-bbcf-8106daf482a3 div.sk-dashed-wrapped {border: 1px dashed gray;margin: 0 0.4em 0.5em 0.4em;box-sizing: border-box;padding-bottom: 0.4em;background-color: white;position: relative;}#sk-54d4b181-62a6-4e19-bbcf-8106daf482a3 div.sk-label label {font-family: monospace;font-weight: bold;background-color: white;display: inline-block;line-height: 1.2em;}#sk-54d4b181-62a6-4e19-bbcf-8106daf482a3 div.sk-label-container {position: relative;z-index: 2;text-align: center;}#sk-54d4b181-62a6-4e19-bbcf-8106daf482a3 div.sk-container {/* jupyter's `normalize.less` sets `[hidden] { display: none; }` but bootstrap.min.css set `[hidden] { display: none !important; }` so we also need the `!important` here to be able to override the default hidden behavior on the sphinx rendered scikit-learn.org. See: https://github.com/scikit-learn/scikit-learn/issues/21755 */display: inline-block !important;position: relative;}#sk-54d4b181-62a6-4e19-bbcf-8106daf482a3 div.sk-text-repr-fallback {display: none;}</style><div id=\"sk-54d4b181-62a6-4e19-bbcf-8106daf482a3\" class=\"sk-top-container\"><div class=\"sk-text-repr-fallback\"><pre>ColumnTransformer(transformers=[(&#x27;ordinalpipe&#x27;,\n",
       "                                 Pipeline(steps=[(&#x27;ordimputer&#x27;,\n",
       "                                                  SimpleImputer(strategy=&#x27;most_frequent&#x27;)),\n",
       "                                                 (&#x27;ordenc&#x27;,\n",
       "                                                  OrdinalEncoder(categories=[[&#x27;10th&#x27;,\n",
       "                                                                              &#x27;11th&#x27;,\n",
       "                                                                              &#x27;HS-grad&#x27;,\n",
       "                                                                              &#x27;Some-college&#x27;,\n",
       "                                                                              &#x27;Assoc-acdm&#x27;,\n",
       "                                                                              &#x27;Assoc-voc&#x27;,\n",
       "                                                                              &#x27;Bachelors&#x27;,\n",
       "                                                                              &#x27;Masters&#x27;,\n",
       "                                                                              &#x27;Doctorate&#x27;]])),\n",
       "                                                 (&#x27;ordnorm&#x27;,\n",
       "                                                  StandardScaler())]),\n",
       "                                 [&#x27;education&#x27;]),\n",
       "                                (&#x27;nominalpipe&#x27;,\n",
       "                                 Pipeline(steps=[(&#x27;onehotimputer&#x27;,\n",
       "                                                  SimpleImputer(strategy=&#x27;most_frequent&#x27;)),\n",
       "                                                 (&#x27;onehotenc&#x27;,\n",
       "                                                  OneHotEncoder(drop=&#x27;first&#x27;,\n",
       "                                                                handle_unknown=&#x27;ignore&#x27;,\n",
       "                                                                sparse=False)),\n",
       "                                                 (&#x27;onehotnorm&#x27;,\n",
       "                                                  MaxAbsScaler())]),\n",
       "                                 [&#x27;occupation&#x27;, &#x27;sex&#x27;]),\n",
       "                                (&#x27;numpipe&#x27;,\n",
       "                                 Pipeline(steps=[(&#x27;numimputer&#x27;,\n",
       "                                                  SimpleImputer()),\n",
       "                                                 (&#x27;numnorm&#x27;,\n",
       "                                                  StandardScaler())]),\n",
       "                                 Index([], dtype=&#x27;object&#x27;))])</pre><b>Please rerun this cell to show the HTML repr or trust the notebook.</b></div><div class=\"sk-container\" hidden><div class=\"sk-item sk-dashed-wrapped\"><div class=\"sk-label-container\"><div class=\"sk-label sk-toggleable\"><input class=\"sk-toggleable__control sk-hidden--visually\" id=\"996b82fd-14a6-45b3-9b36-6152511248d7\" type=\"checkbox\" ><label for=\"996b82fd-14a6-45b3-9b36-6152511248d7\" class=\"sk-toggleable__label sk-toggleable__label-arrow\">ColumnTransformer</label><div class=\"sk-toggleable__content\"><pre>ColumnTransformer(transformers=[(&#x27;ordinalpipe&#x27;,\n",
       "                                 Pipeline(steps=[(&#x27;ordimputer&#x27;,\n",
       "                                                  SimpleImputer(strategy=&#x27;most_frequent&#x27;)),\n",
       "                                                 (&#x27;ordenc&#x27;,\n",
       "                                                  OrdinalEncoder(categories=[[&#x27;10th&#x27;,\n",
       "                                                                              &#x27;11th&#x27;,\n",
       "                                                                              &#x27;HS-grad&#x27;,\n",
       "                                                                              &#x27;Some-college&#x27;,\n",
       "                                                                              &#x27;Assoc-acdm&#x27;,\n",
       "                                                                              &#x27;Assoc-voc&#x27;,\n",
       "                                                                              &#x27;Bachelors&#x27;,\n",
       "                                                                              &#x27;Masters&#x27;,\n",
       "                                                                              &#x27;Doctorate&#x27;]])),\n",
       "                                                 (&#x27;ordnorm&#x27;,\n",
       "                                                  StandardScaler())]),\n",
       "                                 [&#x27;education&#x27;]),\n",
       "                                (&#x27;nominalpipe&#x27;,\n",
       "                                 Pipeline(steps=[(&#x27;onehotimputer&#x27;,\n",
       "                                                  SimpleImputer(strategy=&#x27;most_frequent&#x27;)),\n",
       "                                                 (&#x27;onehotenc&#x27;,\n",
       "                                                  OneHotEncoder(drop=&#x27;first&#x27;,\n",
       "                                                                handle_unknown=&#x27;ignore&#x27;,\n",
       "                                                                sparse=False)),\n",
       "                                                 (&#x27;onehotnorm&#x27;,\n",
       "                                                  MaxAbsScaler())]),\n",
       "                                 [&#x27;occupation&#x27;, &#x27;sex&#x27;]),\n",
       "                                (&#x27;numpipe&#x27;,\n",
       "                                 Pipeline(steps=[(&#x27;numimputer&#x27;,\n",
       "                                                  SimpleImputer()),\n",
       "                                                 (&#x27;numnorm&#x27;,\n",
       "                                                  StandardScaler())]),\n",
       "                                 Index([], dtype=&#x27;object&#x27;))])</pre></div></div></div><div class=\"sk-parallel\"><div class=\"sk-parallel-item\"><div class=\"sk-item\"><div class=\"sk-label-container\"><div class=\"sk-label sk-toggleable\"><input class=\"sk-toggleable__control sk-hidden--visually\" id=\"41eece67-a3f6-42d8-90f7-56262e91a43a\" type=\"checkbox\" ><label for=\"41eece67-a3f6-42d8-90f7-56262e91a43a\" class=\"sk-toggleable__label sk-toggleable__label-arrow\">ordinalpipe</label><div class=\"sk-toggleable__content\"><pre>[&#x27;education&#x27;]</pre></div></div></div><div class=\"sk-serial\"><div class=\"sk-item\"><div class=\"sk-serial\"><div class=\"sk-item\"><div class=\"sk-estimator sk-toggleable\"><input class=\"sk-toggleable__control sk-hidden--visually\" id=\"4d091794-794b-4044-a016-9a57ca1394a3\" type=\"checkbox\" ><label for=\"4d091794-794b-4044-a016-9a57ca1394a3\" class=\"sk-toggleable__label sk-toggleable__label-arrow\">SimpleImputer</label><div class=\"sk-toggleable__content\"><pre>SimpleImputer(strategy=&#x27;most_frequent&#x27;)</pre></div></div></div><div class=\"sk-item\"><div class=\"sk-estimator sk-toggleable\"><input class=\"sk-toggleable__control sk-hidden--visually\" id=\"0ca073e5-26ec-4c08-96a5-30be0e54fbf4\" type=\"checkbox\" ><label for=\"0ca073e5-26ec-4c08-96a5-30be0e54fbf4\" class=\"sk-toggleable__label sk-toggleable__label-arrow\">OrdinalEncoder</label><div class=\"sk-toggleable__content\"><pre>OrdinalEncoder(categories=[[&#x27;10th&#x27;, &#x27;11th&#x27;, &#x27;HS-grad&#x27;, &#x27;Some-college&#x27;,\n",
       "                            &#x27;Assoc-acdm&#x27;, &#x27;Assoc-voc&#x27;, &#x27;Bachelors&#x27;, &#x27;Masters&#x27;,\n",
       "                            &#x27;Doctorate&#x27;]])</pre></div></div></div><div class=\"sk-item\"><div class=\"sk-estimator sk-toggleable\"><input class=\"sk-toggleable__control sk-hidden--visually\" id=\"e5e1e29e-9d60-47f4-a3f8-772b4b9706e5\" type=\"checkbox\" ><label for=\"e5e1e29e-9d60-47f4-a3f8-772b4b9706e5\" class=\"sk-toggleable__label sk-toggleable__label-arrow\">StandardScaler</label><div class=\"sk-toggleable__content\"><pre>StandardScaler()</pre></div></div></div></div></div></div></div></div><div class=\"sk-parallel-item\"><div class=\"sk-item\"><div class=\"sk-label-container\"><div class=\"sk-label sk-toggleable\"><input class=\"sk-toggleable__control sk-hidden--visually\" id=\"10abd7d7-87f3-4a8f-8747-9d5bb1b776dd\" type=\"checkbox\" ><label for=\"10abd7d7-87f3-4a8f-8747-9d5bb1b776dd\" class=\"sk-toggleable__label sk-toggleable__label-arrow\">nominalpipe</label><div class=\"sk-toggleable__content\"><pre>[&#x27;occupation&#x27;, &#x27;sex&#x27;]</pre></div></div></div><div class=\"sk-serial\"><div class=\"sk-item\"><div class=\"sk-serial\"><div class=\"sk-item\"><div class=\"sk-estimator sk-toggleable\"><input class=\"sk-toggleable__control sk-hidden--visually\" id=\"3bf03f6e-5fbe-4bb4-8b58-9cde13297b83\" type=\"checkbox\" ><label for=\"3bf03f6e-5fbe-4bb4-8b58-9cde13297b83\" class=\"sk-toggleable__label sk-toggleable__label-arrow\">SimpleImputer</label><div class=\"sk-toggleable__content\"><pre>SimpleImputer(strategy=&#x27;most_frequent&#x27;)</pre></div></div></div><div class=\"sk-item\"><div class=\"sk-estimator sk-toggleable\"><input class=\"sk-toggleable__control sk-hidden--visually\" id=\"80d0ed19-d4ca-40a6-889c-c0cf46dfc516\" type=\"checkbox\" ><label for=\"80d0ed19-d4ca-40a6-889c-c0cf46dfc516\" class=\"sk-toggleable__label sk-toggleable__label-arrow\">OneHotEncoder</label><div class=\"sk-toggleable__content\"><pre>OneHotEncoder(drop=&#x27;first&#x27;, handle_unknown=&#x27;ignore&#x27;, sparse=False)</pre></div></div></div><div class=\"sk-item\"><div class=\"sk-estimator sk-toggleable\"><input class=\"sk-toggleable__control sk-hidden--visually\" id=\"e0184dcd-0cd1-42e7-a5ae-bdfc5a73ab8c\" type=\"checkbox\" ><label for=\"e0184dcd-0cd1-42e7-a5ae-bdfc5a73ab8c\" class=\"sk-toggleable__label sk-toggleable__label-arrow\">MaxAbsScaler</label><div class=\"sk-toggleable__content\"><pre>MaxAbsScaler()</pre></div></div></div></div></div></div></div></div><div class=\"sk-parallel-item\"><div class=\"sk-item\"><div class=\"sk-label-container\"><div class=\"sk-label sk-toggleable\"><input class=\"sk-toggleable__control sk-hidden--visually\" id=\"3a5c5878-1d99-414b-b1c0-865d1d620f28\" type=\"checkbox\" ><label for=\"3a5c5878-1d99-414b-b1c0-865d1d620f28\" class=\"sk-toggleable__label sk-toggleable__label-arrow\">numpipe</label><div class=\"sk-toggleable__content\"><pre>Index([], dtype=&#x27;object&#x27;)</pre></div></div></div><div class=\"sk-serial\"><div class=\"sk-item\"><div class=\"sk-serial\"><div class=\"sk-item\"><div class=\"sk-estimator sk-toggleable\"><input class=\"sk-toggleable__control sk-hidden--visually\" id=\"af7dabcf-234f-4f62-9e21-2dad4f96d094\" type=\"checkbox\" ><label for=\"af7dabcf-234f-4f62-9e21-2dad4f96d094\" class=\"sk-toggleable__label sk-toggleable__label-arrow\">SimpleImputer</label><div class=\"sk-toggleable__content\"><pre>SimpleImputer()</pre></div></div></div><div class=\"sk-item\"><div class=\"sk-estimator sk-toggleable\"><input class=\"sk-toggleable__control sk-hidden--visually\" id=\"87c66201-04b2-466e-9a4b-2949a7a33e0b\" type=\"checkbox\" ><label for=\"87c66201-04b2-466e-9a4b-2949a7a33e0b\" class=\"sk-toggleable__label sk-toggleable__label-arrow\">StandardScaler</label><div class=\"sk-toggleable__content\"><pre>StandardScaler()</pre></div></div></div></div></div></div></div></div></div></div></div></div>"
      ],
      "text/plain": [
       "ColumnTransformer(transformers=[('ordinalpipe',\n",
       "                                 Pipeline(steps=[('ordimputer',\n",
       "                                                  SimpleImputer(strategy='most_frequent')),\n",
       "                                                 ('ordenc',\n",
       "                                                  OrdinalEncoder(categories=[['10th',\n",
       "                                                                              '11th',\n",
       "                                                                              'HS-grad',\n",
       "                                                                              'Some-college',\n",
       "                                                                              'Assoc-acdm',\n",
       "                                                                              'Assoc-voc',\n",
       "                                                                              'Bachelors',\n",
       "                                                                              'Masters',\n",
       "                                                                              'Doctorate']])),\n",
       "                                                 ('ordnorm',\n",
       "                                                  StandardScaler())]),\n",
       "                                 ['education']),\n",
       "                                ('nominalpipe',\n",
       "                                 Pipeline(steps=[('onehotimputer',\n",
       "                                                  SimpleImputer(strategy='most_frequent')),\n",
       "                                                 ('onehotenc',\n",
       "                                                  OneHotEncoder(drop='first',\n",
       "                                                                handle_unknown='ignore',\n",
       "                                                                sparse=False)),\n",
       "                                                 ('onehotnorm',\n",
       "                                                  MaxAbsScaler())]),\n",
       "                                 ['occupation', 'sex']),\n",
       "                                ('numpipe',\n",
       "                                 Pipeline(steps=[('numimputer',\n",
       "                                                  SimpleImputer()),\n",
       "                                                 ('numnorm',\n",
       "                                                  StandardScaler())]),\n",
       "                                 Index([], dtype='object'))])"
      ]
     },
     "execution_count": 60,
     "metadata": {},
     "output_type": "execute_result"
    }
   ],
   "source": [
    "ct\n",
    "#We were not able to change MaxAbsScaler in the nominalpipe"
   ]
  },
  {
   "cell_type": "markdown",
   "metadata": {
    "cell_style": "split",
    "slideshow": {
     "slide_type": "slide"
    }
   },
   "source": [
    "Swapped out MaxAbScaler with StandardScaler in nominalpipe:\n",
    "\n",
    "At this point: \n",
    "- append modeling step\n",
    "- build final pipeline: transformers + model\n",
    "- tuck into gridCV for tuning."
   ]
  },
  {
   "cell_type": "code",
   "execution_count": 61,
   "metadata": {
    "cell_style": "split",
    "slideshow": {
     "slide_type": "fragment"
    }
   },
   "outputs": [
    {
     "data": {
      "text/html": [
       "<style>#sk-1abd680d-e543-4047-8207-17a3bd61382f {color: black;background-color: white;}#sk-1abd680d-e543-4047-8207-17a3bd61382f pre{padding: 0;}#sk-1abd680d-e543-4047-8207-17a3bd61382f div.sk-toggleable {background-color: white;}#sk-1abd680d-e543-4047-8207-17a3bd61382f label.sk-toggleable__label {cursor: pointer;display: block;width: 100%;margin-bottom: 0;padding: 0.3em;box-sizing: border-box;text-align: center;}#sk-1abd680d-e543-4047-8207-17a3bd61382f label.sk-toggleable__label-arrow:before {content: \"▸\";float: left;margin-right: 0.25em;color: #696969;}#sk-1abd680d-e543-4047-8207-17a3bd61382f label.sk-toggleable__label-arrow:hover:before {color: black;}#sk-1abd680d-e543-4047-8207-17a3bd61382f div.sk-estimator:hover label.sk-toggleable__label-arrow:before {color: black;}#sk-1abd680d-e543-4047-8207-17a3bd61382f div.sk-toggleable__content {max-height: 0;max-width: 0;overflow: hidden;text-align: left;background-color: #f0f8ff;}#sk-1abd680d-e543-4047-8207-17a3bd61382f div.sk-toggleable__content pre {margin: 0.2em;color: black;border-radius: 0.25em;background-color: #f0f8ff;}#sk-1abd680d-e543-4047-8207-17a3bd61382f input.sk-toggleable__control:checked~div.sk-toggleable__content {max-height: 200px;max-width: 100%;overflow: auto;}#sk-1abd680d-e543-4047-8207-17a3bd61382f input.sk-toggleable__control:checked~label.sk-toggleable__label-arrow:before {content: \"▾\";}#sk-1abd680d-e543-4047-8207-17a3bd61382f div.sk-estimator input.sk-toggleable__control:checked~label.sk-toggleable__label {background-color: #d4ebff;}#sk-1abd680d-e543-4047-8207-17a3bd61382f div.sk-label input.sk-toggleable__control:checked~label.sk-toggleable__label {background-color: #d4ebff;}#sk-1abd680d-e543-4047-8207-17a3bd61382f input.sk-hidden--visually {border: 0;clip: rect(1px 1px 1px 1px);clip: rect(1px, 1px, 1px, 1px);height: 1px;margin: -1px;overflow: hidden;padding: 0;position: absolute;width: 1px;}#sk-1abd680d-e543-4047-8207-17a3bd61382f div.sk-estimator {font-family: monospace;background-color: #f0f8ff;border: 1px dotted black;border-radius: 0.25em;box-sizing: border-box;margin-bottom: 0.5em;}#sk-1abd680d-e543-4047-8207-17a3bd61382f div.sk-estimator:hover {background-color: #d4ebff;}#sk-1abd680d-e543-4047-8207-17a3bd61382f div.sk-parallel-item::after {content: \"\";width: 100%;border-bottom: 1px solid gray;flex-grow: 1;}#sk-1abd680d-e543-4047-8207-17a3bd61382f div.sk-label:hover label.sk-toggleable__label {background-color: #d4ebff;}#sk-1abd680d-e543-4047-8207-17a3bd61382f div.sk-serial::before {content: \"\";position: absolute;border-left: 1px solid gray;box-sizing: border-box;top: 2em;bottom: 0;left: 50%;}#sk-1abd680d-e543-4047-8207-17a3bd61382f div.sk-serial {display: flex;flex-direction: column;align-items: center;background-color: white;padding-right: 0.2em;padding-left: 0.2em;}#sk-1abd680d-e543-4047-8207-17a3bd61382f div.sk-item {z-index: 1;}#sk-1abd680d-e543-4047-8207-17a3bd61382f div.sk-parallel {display: flex;align-items: stretch;justify-content: center;background-color: white;}#sk-1abd680d-e543-4047-8207-17a3bd61382f div.sk-parallel::before {content: \"\";position: absolute;border-left: 1px solid gray;box-sizing: border-box;top: 2em;bottom: 0;left: 50%;}#sk-1abd680d-e543-4047-8207-17a3bd61382f div.sk-parallel-item {display: flex;flex-direction: column;position: relative;background-color: white;}#sk-1abd680d-e543-4047-8207-17a3bd61382f div.sk-parallel-item:first-child::after {align-self: flex-end;width: 50%;}#sk-1abd680d-e543-4047-8207-17a3bd61382f div.sk-parallel-item:last-child::after {align-self: flex-start;width: 50%;}#sk-1abd680d-e543-4047-8207-17a3bd61382f div.sk-parallel-item:only-child::after {width: 0;}#sk-1abd680d-e543-4047-8207-17a3bd61382f div.sk-dashed-wrapped {border: 1px dashed gray;margin: 0 0.4em 0.5em 0.4em;box-sizing: border-box;padding-bottom: 0.4em;background-color: white;position: relative;}#sk-1abd680d-e543-4047-8207-17a3bd61382f div.sk-label label {font-family: monospace;font-weight: bold;background-color: white;display: inline-block;line-height: 1.2em;}#sk-1abd680d-e543-4047-8207-17a3bd61382f div.sk-label-container {position: relative;z-index: 2;text-align: center;}#sk-1abd680d-e543-4047-8207-17a3bd61382f div.sk-container {/* jupyter's `normalize.less` sets `[hidden] { display: none; }` but bootstrap.min.css set `[hidden] { display: none !important; }` so we also need the `!important` here to be able to override the default hidden behavior on the sphinx rendered scikit-learn.org. See: https://github.com/scikit-learn/scikit-learn/issues/21755 */display: inline-block !important;position: relative;}#sk-1abd680d-e543-4047-8207-17a3bd61382f div.sk-text-repr-fallback {display: none;}</style><div id=\"sk-1abd680d-e543-4047-8207-17a3bd61382f\" class=\"sk-top-container\"><div class=\"sk-text-repr-fallback\"><pre>Pipeline(steps=[(&#x27;preprocess&#x27;,\n",
       "                 ColumnTransformer(transformers=[(&#x27;ordinalpipe&#x27;,\n",
       "                                                  Pipeline(steps=[(&#x27;ordimputer&#x27;,\n",
       "                                                                   SimpleImputer(strategy=&#x27;most_frequent&#x27;)),\n",
       "                                                                  (&#x27;ordenc&#x27;,\n",
       "                                                                   OrdinalEncoder(categories=[[&#x27;10th&#x27;,\n",
       "                                                                                               &#x27;11th&#x27;,\n",
       "                                                                                               &#x27;HS-grad&#x27;,\n",
       "                                                                                               &#x27;Some-college&#x27;,\n",
       "                                                                                               &#x27;Assoc-acdm&#x27;,\n",
       "                                                                                               &#x27;Assoc-voc&#x27;,\n",
       "                                                                                               &#x27;Bachelors&#x27;,\n",
       "                                                                                               &#x27;Masters&#x27;,\n",
       "                                                                                               &#x27;Doctorate&#x27;]])),\n",
       "                                                                  (&#x27;ordnorm&#x27;,\n",
       "                                                                   StandardScaler())]),\n",
       "                                                  [&#x27;education&#x27;]),\n",
       "                                                 (&#x27;nominalpipe&#x27;,\n",
       "                                                  P...steps=[(&#x27;onehotimputer&#x27;,\n",
       "                                                                   SimpleImputer(strategy=&#x27;most_frequent&#x27;)),\n",
       "                                                                  (&#x27;onehotenc&#x27;,\n",
       "                                                                   OneHotEncoder(drop=&#x27;first&#x27;,\n",
       "                                                                                 handle_unknown=&#x27;ignore&#x27;,\n",
       "                                                                                 sparse=False)),\n",
       "                                                                  (&#x27;onehotnorm&#x27;,\n",
       "                                                                   MaxAbsScaler())]),\n",
       "                                                  [&#x27;occupation&#x27;, &#x27;sex&#x27;]),\n",
       "                                                 (&#x27;numpipe&#x27;,\n",
       "                                                  Pipeline(steps=[(&#x27;numimputer&#x27;,\n",
       "                                                                   SimpleImputer()),\n",
       "                                                                  (&#x27;numnorm&#x27;,\n",
       "                                                                   StandardScaler())]),\n",
       "                                                  Index([], dtype=&#x27;object&#x27;))])),\n",
       "                (&#x27;model&#x27;, KNeighborsClassifier())])</pre><b>Please rerun this cell to show the HTML repr or trust the notebook.</b></div><div class=\"sk-container\" hidden><div class=\"sk-item sk-dashed-wrapped\"><div class=\"sk-label-container\"><div class=\"sk-label sk-toggleable\"><input class=\"sk-toggleable__control sk-hidden--visually\" id=\"b634a7a7-6352-4e17-9ce6-286f3c886a21\" type=\"checkbox\" ><label for=\"b634a7a7-6352-4e17-9ce6-286f3c886a21\" class=\"sk-toggleable__label sk-toggleable__label-arrow\">Pipeline</label><div class=\"sk-toggleable__content\"><pre>Pipeline(steps=[(&#x27;preprocess&#x27;,\n",
       "                 ColumnTransformer(transformers=[(&#x27;ordinalpipe&#x27;,\n",
       "                                                  Pipeline(steps=[(&#x27;ordimputer&#x27;,\n",
       "                                                                   SimpleImputer(strategy=&#x27;most_frequent&#x27;)),\n",
       "                                                                  (&#x27;ordenc&#x27;,\n",
       "                                                                   OrdinalEncoder(categories=[[&#x27;10th&#x27;,\n",
       "                                                                                               &#x27;11th&#x27;,\n",
       "                                                                                               &#x27;HS-grad&#x27;,\n",
       "                                                                                               &#x27;Some-college&#x27;,\n",
       "                                                                                               &#x27;Assoc-acdm&#x27;,\n",
       "                                                                                               &#x27;Assoc-voc&#x27;,\n",
       "                                                                                               &#x27;Bachelors&#x27;,\n",
       "                                                                                               &#x27;Masters&#x27;,\n",
       "                                                                                               &#x27;Doctorate&#x27;]])),\n",
       "                                                                  (&#x27;ordnorm&#x27;,\n",
       "                                                                   StandardScaler())]),\n",
       "                                                  [&#x27;education&#x27;]),\n",
       "                                                 (&#x27;nominalpipe&#x27;,\n",
       "                                                  P...steps=[(&#x27;onehotimputer&#x27;,\n",
       "                                                                   SimpleImputer(strategy=&#x27;most_frequent&#x27;)),\n",
       "                                                                  (&#x27;onehotenc&#x27;,\n",
       "                                                                   OneHotEncoder(drop=&#x27;first&#x27;,\n",
       "                                                                                 handle_unknown=&#x27;ignore&#x27;,\n",
       "                                                                                 sparse=False)),\n",
       "                                                                  (&#x27;onehotnorm&#x27;,\n",
       "                                                                   MaxAbsScaler())]),\n",
       "                                                  [&#x27;occupation&#x27;, &#x27;sex&#x27;]),\n",
       "                                                 (&#x27;numpipe&#x27;,\n",
       "                                                  Pipeline(steps=[(&#x27;numimputer&#x27;,\n",
       "                                                                   SimpleImputer()),\n",
       "                                                                  (&#x27;numnorm&#x27;,\n",
       "                                                                   StandardScaler())]),\n",
       "                                                  Index([], dtype=&#x27;object&#x27;))])),\n",
       "                (&#x27;model&#x27;, KNeighborsClassifier())])</pre></div></div></div><div class=\"sk-serial\"><div class=\"sk-item sk-dashed-wrapped\"><div class=\"sk-label-container\"><div class=\"sk-label sk-toggleable\"><input class=\"sk-toggleable__control sk-hidden--visually\" id=\"87480e6c-0e51-4336-80fa-07f5408582b6\" type=\"checkbox\" ><label for=\"87480e6c-0e51-4336-80fa-07f5408582b6\" class=\"sk-toggleable__label sk-toggleable__label-arrow\">preprocess: ColumnTransformer</label><div class=\"sk-toggleable__content\"><pre>ColumnTransformer(transformers=[(&#x27;ordinalpipe&#x27;,\n",
       "                                 Pipeline(steps=[(&#x27;ordimputer&#x27;,\n",
       "                                                  SimpleImputer(strategy=&#x27;most_frequent&#x27;)),\n",
       "                                                 (&#x27;ordenc&#x27;,\n",
       "                                                  OrdinalEncoder(categories=[[&#x27;10th&#x27;,\n",
       "                                                                              &#x27;11th&#x27;,\n",
       "                                                                              &#x27;HS-grad&#x27;,\n",
       "                                                                              &#x27;Some-college&#x27;,\n",
       "                                                                              &#x27;Assoc-acdm&#x27;,\n",
       "                                                                              &#x27;Assoc-voc&#x27;,\n",
       "                                                                              &#x27;Bachelors&#x27;,\n",
       "                                                                              &#x27;Masters&#x27;,\n",
       "                                                                              &#x27;Doctorate&#x27;]])),\n",
       "                                                 (&#x27;ordnorm&#x27;,\n",
       "                                                  StandardScaler())]),\n",
       "                                 [&#x27;education&#x27;]),\n",
       "                                (&#x27;nominalpipe&#x27;,\n",
       "                                 Pipeline(steps=[(&#x27;onehotimputer&#x27;,\n",
       "                                                  SimpleImputer(strategy=&#x27;most_frequent&#x27;)),\n",
       "                                                 (&#x27;onehotenc&#x27;,\n",
       "                                                  OneHotEncoder(drop=&#x27;first&#x27;,\n",
       "                                                                handle_unknown=&#x27;ignore&#x27;,\n",
       "                                                                sparse=False)),\n",
       "                                                 (&#x27;onehotnorm&#x27;,\n",
       "                                                  MaxAbsScaler())]),\n",
       "                                 [&#x27;occupation&#x27;, &#x27;sex&#x27;]),\n",
       "                                (&#x27;numpipe&#x27;,\n",
       "                                 Pipeline(steps=[(&#x27;numimputer&#x27;,\n",
       "                                                  SimpleImputer()),\n",
       "                                                 (&#x27;numnorm&#x27;,\n",
       "                                                  StandardScaler())]),\n",
       "                                 Index([], dtype=&#x27;object&#x27;))])</pre></div></div></div><div class=\"sk-parallel\"><div class=\"sk-parallel-item\"><div class=\"sk-item\"><div class=\"sk-label-container\"><div class=\"sk-label sk-toggleable\"><input class=\"sk-toggleable__control sk-hidden--visually\" id=\"8364bd74-9134-4764-9388-62b96a8eaece\" type=\"checkbox\" ><label for=\"8364bd74-9134-4764-9388-62b96a8eaece\" class=\"sk-toggleable__label sk-toggleable__label-arrow\">ordinalpipe</label><div class=\"sk-toggleable__content\"><pre>[&#x27;education&#x27;]</pre></div></div></div><div class=\"sk-serial\"><div class=\"sk-item\"><div class=\"sk-serial\"><div class=\"sk-item\"><div class=\"sk-estimator sk-toggleable\"><input class=\"sk-toggleable__control sk-hidden--visually\" id=\"39cd71b7-7308-412f-9204-0792cedb332a\" type=\"checkbox\" ><label for=\"39cd71b7-7308-412f-9204-0792cedb332a\" class=\"sk-toggleable__label sk-toggleable__label-arrow\">SimpleImputer</label><div class=\"sk-toggleable__content\"><pre>SimpleImputer(strategy=&#x27;most_frequent&#x27;)</pre></div></div></div><div class=\"sk-item\"><div class=\"sk-estimator sk-toggleable\"><input class=\"sk-toggleable__control sk-hidden--visually\" id=\"6d327c9b-e8bb-41a9-9106-7dd266a8d843\" type=\"checkbox\" ><label for=\"6d327c9b-e8bb-41a9-9106-7dd266a8d843\" class=\"sk-toggleable__label sk-toggleable__label-arrow\">OrdinalEncoder</label><div class=\"sk-toggleable__content\"><pre>OrdinalEncoder(categories=[[&#x27;10th&#x27;, &#x27;11th&#x27;, &#x27;HS-grad&#x27;, &#x27;Some-college&#x27;,\n",
       "                            &#x27;Assoc-acdm&#x27;, &#x27;Assoc-voc&#x27;, &#x27;Bachelors&#x27;, &#x27;Masters&#x27;,\n",
       "                            &#x27;Doctorate&#x27;]])</pre></div></div></div><div class=\"sk-item\"><div class=\"sk-estimator sk-toggleable\"><input class=\"sk-toggleable__control sk-hidden--visually\" id=\"9caaf81d-ff46-4d8e-9066-569530396638\" type=\"checkbox\" ><label for=\"9caaf81d-ff46-4d8e-9066-569530396638\" class=\"sk-toggleable__label sk-toggleable__label-arrow\">StandardScaler</label><div class=\"sk-toggleable__content\"><pre>StandardScaler()</pre></div></div></div></div></div></div></div></div><div class=\"sk-parallel-item\"><div class=\"sk-item\"><div class=\"sk-label-container\"><div class=\"sk-label sk-toggleable\"><input class=\"sk-toggleable__control sk-hidden--visually\" id=\"40ef47bd-d281-485c-97d7-44941e888e67\" type=\"checkbox\" ><label for=\"40ef47bd-d281-485c-97d7-44941e888e67\" class=\"sk-toggleable__label sk-toggleable__label-arrow\">nominalpipe</label><div class=\"sk-toggleable__content\"><pre>[&#x27;occupation&#x27;, &#x27;sex&#x27;]</pre></div></div></div><div class=\"sk-serial\"><div class=\"sk-item\"><div class=\"sk-serial\"><div class=\"sk-item\"><div class=\"sk-estimator sk-toggleable\"><input class=\"sk-toggleable__control sk-hidden--visually\" id=\"d851525a-2cb9-467e-af77-e5e5b1ba8b69\" type=\"checkbox\" ><label for=\"d851525a-2cb9-467e-af77-e5e5b1ba8b69\" class=\"sk-toggleable__label sk-toggleable__label-arrow\">SimpleImputer</label><div class=\"sk-toggleable__content\"><pre>SimpleImputer(strategy=&#x27;most_frequent&#x27;)</pre></div></div></div><div class=\"sk-item\"><div class=\"sk-estimator sk-toggleable\"><input class=\"sk-toggleable__control sk-hidden--visually\" id=\"0465cd1a-faaf-4aed-a4bb-feadf42cde46\" type=\"checkbox\" ><label for=\"0465cd1a-faaf-4aed-a4bb-feadf42cde46\" class=\"sk-toggleable__label sk-toggleable__label-arrow\">OneHotEncoder</label><div class=\"sk-toggleable__content\"><pre>OneHotEncoder(drop=&#x27;first&#x27;, handle_unknown=&#x27;ignore&#x27;, sparse=False)</pre></div></div></div><div class=\"sk-item\"><div class=\"sk-estimator sk-toggleable\"><input class=\"sk-toggleable__control sk-hidden--visually\" id=\"60804b4d-d976-46b7-b5dd-590c923c52a3\" type=\"checkbox\" ><label for=\"60804b4d-d976-46b7-b5dd-590c923c52a3\" class=\"sk-toggleable__label sk-toggleable__label-arrow\">MaxAbsScaler</label><div class=\"sk-toggleable__content\"><pre>MaxAbsScaler()</pre></div></div></div></div></div></div></div></div><div class=\"sk-parallel-item\"><div class=\"sk-item\"><div class=\"sk-label-container\"><div class=\"sk-label sk-toggleable\"><input class=\"sk-toggleable__control sk-hidden--visually\" id=\"6a8d973f-abb7-43e0-9ddb-8587c4f96f79\" type=\"checkbox\" ><label for=\"6a8d973f-abb7-43e0-9ddb-8587c4f96f79\" class=\"sk-toggleable__label sk-toggleable__label-arrow\">numpipe</label><div class=\"sk-toggleable__content\"><pre>Index([], dtype=&#x27;object&#x27;)</pre></div></div></div><div class=\"sk-serial\"><div class=\"sk-item\"><div class=\"sk-serial\"><div class=\"sk-item\"><div class=\"sk-estimator sk-toggleable\"><input class=\"sk-toggleable__control sk-hidden--visually\" id=\"00473edf-7d1a-47e7-986f-93f915cbcbf7\" type=\"checkbox\" ><label for=\"00473edf-7d1a-47e7-986f-93f915cbcbf7\" class=\"sk-toggleable__label sk-toggleable__label-arrow\">SimpleImputer</label><div class=\"sk-toggleable__content\"><pre>SimpleImputer()</pre></div></div></div><div class=\"sk-item\"><div class=\"sk-estimator sk-toggleable\"><input class=\"sk-toggleable__control sk-hidden--visually\" id=\"3d8b2f2a-17ea-4f97-a13b-78c0a8b67f46\" type=\"checkbox\" ><label for=\"3d8b2f2a-17ea-4f97-a13b-78c0a8b67f46\" class=\"sk-toggleable__label sk-toggleable__label-arrow\">StandardScaler</label><div class=\"sk-toggleable__content\"><pre>StandardScaler()</pre></div></div></div></div></div></div></div></div></div></div><div class=\"sk-item\"><div class=\"sk-estimator sk-toggleable\"><input class=\"sk-toggleable__control sk-hidden--visually\" id=\"22afcbc3-1441-496e-8f2a-080867860a13\" type=\"checkbox\" ><label for=\"22afcbc3-1441-496e-8f2a-080867860a13\" class=\"sk-toggleable__label sk-toggleable__label-arrow\">KNeighborsClassifier</label><div class=\"sk-toggleable__content\"><pre>KNeighborsClassifier()</pre></div></div></div></div></div></div></div>"
      ],
      "text/plain": [
       "Pipeline(steps=[('preprocess',\n",
       "                 ColumnTransformer(transformers=[('ordinalpipe',\n",
       "                                                  Pipeline(steps=[('ordimputer',\n",
       "                                                                   SimpleImputer(strategy='most_frequent')),\n",
       "                                                                  ('ordenc',\n",
       "                                                                   OrdinalEncoder(categories=[['10th',\n",
       "                                                                                               '11th',\n",
       "                                                                                               'HS-grad',\n",
       "                                                                                               'Some-college',\n",
       "                                                                                               'Assoc-acdm',\n",
       "                                                                                               'Assoc-voc',\n",
       "                                                                                               'Bachelors',\n",
       "                                                                                               'Masters',\n",
       "                                                                                               'Doctorate']])),\n",
       "                                                                  ('ordnorm',\n",
       "                                                                   StandardScaler())]),\n",
       "                                                  ['education']),\n",
       "                                                 ('nominalpipe',\n",
       "                                                  P...steps=[('onehotimputer',\n",
       "                                                                   SimpleImputer(strategy='most_frequent')),\n",
       "                                                                  ('onehotenc',\n",
       "                                                                   OneHotEncoder(drop='first',\n",
       "                                                                                 handle_unknown='ignore',\n",
       "                                                                                 sparse=False)),\n",
       "                                                                  ('onehotnorm',\n",
       "                                                                   MaxAbsScaler())]),\n",
       "                                                  ['occupation', 'sex']),\n",
       "                                                 ('numpipe',\n",
       "                                                  Pipeline(steps=[('numimputer',\n",
       "                                                                   SimpleImputer()),\n",
       "                                                                  ('numnorm',\n",
       "                                                                   StandardScaler())]),\n",
       "                                                  Index([], dtype='object'))])),\n",
       "                ('model', KNeighborsClassifier())])"
      ]
     },
     "execution_count": 61,
     "metadata": {},
     "output_type": "execute_result"
    }
   ],
   "source": [
    "final_pipe = Pipeline([('preprocess', ct),\n",
    "                      ('model',\n",
    "                       KNeighborsClassifier())])\n",
    "final_pipe"
   ]
  },
  {
   "cell_type": "markdown",
   "metadata": {
    "slideshow": {
     "slide_type": "slide"
    }
   },
   "source": [
    "Fit the full transformer and model pipeline."
   ]
  },
  {
   "cell_type": "code",
   "execution_count": 62,
   "metadata": {
    "slideshow": {
     "slide_type": "fragment"
    }
   },
   "outputs": [
    {
     "data": {
      "text/html": [
       "<style>#sk-cf8158ae-e6d4-4551-9076-d0d685a7a4a1 {color: black;background-color: white;}#sk-cf8158ae-e6d4-4551-9076-d0d685a7a4a1 pre{padding: 0;}#sk-cf8158ae-e6d4-4551-9076-d0d685a7a4a1 div.sk-toggleable {background-color: white;}#sk-cf8158ae-e6d4-4551-9076-d0d685a7a4a1 label.sk-toggleable__label {cursor: pointer;display: block;width: 100%;margin-bottom: 0;padding: 0.3em;box-sizing: border-box;text-align: center;}#sk-cf8158ae-e6d4-4551-9076-d0d685a7a4a1 label.sk-toggleable__label-arrow:before {content: \"▸\";float: left;margin-right: 0.25em;color: #696969;}#sk-cf8158ae-e6d4-4551-9076-d0d685a7a4a1 label.sk-toggleable__label-arrow:hover:before {color: black;}#sk-cf8158ae-e6d4-4551-9076-d0d685a7a4a1 div.sk-estimator:hover label.sk-toggleable__label-arrow:before {color: black;}#sk-cf8158ae-e6d4-4551-9076-d0d685a7a4a1 div.sk-toggleable__content {max-height: 0;max-width: 0;overflow: hidden;text-align: left;background-color: #f0f8ff;}#sk-cf8158ae-e6d4-4551-9076-d0d685a7a4a1 div.sk-toggleable__content pre {margin: 0.2em;color: black;border-radius: 0.25em;background-color: #f0f8ff;}#sk-cf8158ae-e6d4-4551-9076-d0d685a7a4a1 input.sk-toggleable__control:checked~div.sk-toggleable__content {max-height: 200px;max-width: 100%;overflow: auto;}#sk-cf8158ae-e6d4-4551-9076-d0d685a7a4a1 input.sk-toggleable__control:checked~label.sk-toggleable__label-arrow:before {content: \"▾\";}#sk-cf8158ae-e6d4-4551-9076-d0d685a7a4a1 div.sk-estimator input.sk-toggleable__control:checked~label.sk-toggleable__label {background-color: #d4ebff;}#sk-cf8158ae-e6d4-4551-9076-d0d685a7a4a1 div.sk-label input.sk-toggleable__control:checked~label.sk-toggleable__label {background-color: #d4ebff;}#sk-cf8158ae-e6d4-4551-9076-d0d685a7a4a1 input.sk-hidden--visually {border: 0;clip: rect(1px 1px 1px 1px);clip: rect(1px, 1px, 1px, 1px);height: 1px;margin: -1px;overflow: hidden;padding: 0;position: absolute;width: 1px;}#sk-cf8158ae-e6d4-4551-9076-d0d685a7a4a1 div.sk-estimator {font-family: monospace;background-color: #f0f8ff;border: 1px dotted black;border-radius: 0.25em;box-sizing: border-box;margin-bottom: 0.5em;}#sk-cf8158ae-e6d4-4551-9076-d0d685a7a4a1 div.sk-estimator:hover {background-color: #d4ebff;}#sk-cf8158ae-e6d4-4551-9076-d0d685a7a4a1 div.sk-parallel-item::after {content: \"\";width: 100%;border-bottom: 1px solid gray;flex-grow: 1;}#sk-cf8158ae-e6d4-4551-9076-d0d685a7a4a1 div.sk-label:hover label.sk-toggleable__label {background-color: #d4ebff;}#sk-cf8158ae-e6d4-4551-9076-d0d685a7a4a1 div.sk-serial::before {content: \"\";position: absolute;border-left: 1px solid gray;box-sizing: border-box;top: 2em;bottom: 0;left: 50%;}#sk-cf8158ae-e6d4-4551-9076-d0d685a7a4a1 div.sk-serial {display: flex;flex-direction: column;align-items: center;background-color: white;padding-right: 0.2em;padding-left: 0.2em;}#sk-cf8158ae-e6d4-4551-9076-d0d685a7a4a1 div.sk-item {z-index: 1;}#sk-cf8158ae-e6d4-4551-9076-d0d685a7a4a1 div.sk-parallel {display: flex;align-items: stretch;justify-content: center;background-color: white;}#sk-cf8158ae-e6d4-4551-9076-d0d685a7a4a1 div.sk-parallel::before {content: \"\";position: absolute;border-left: 1px solid gray;box-sizing: border-box;top: 2em;bottom: 0;left: 50%;}#sk-cf8158ae-e6d4-4551-9076-d0d685a7a4a1 div.sk-parallel-item {display: flex;flex-direction: column;position: relative;background-color: white;}#sk-cf8158ae-e6d4-4551-9076-d0d685a7a4a1 div.sk-parallel-item:first-child::after {align-self: flex-end;width: 50%;}#sk-cf8158ae-e6d4-4551-9076-d0d685a7a4a1 div.sk-parallel-item:last-child::after {align-self: flex-start;width: 50%;}#sk-cf8158ae-e6d4-4551-9076-d0d685a7a4a1 div.sk-parallel-item:only-child::after {width: 0;}#sk-cf8158ae-e6d4-4551-9076-d0d685a7a4a1 div.sk-dashed-wrapped {border: 1px dashed gray;margin: 0 0.4em 0.5em 0.4em;box-sizing: border-box;padding-bottom: 0.4em;background-color: white;position: relative;}#sk-cf8158ae-e6d4-4551-9076-d0d685a7a4a1 div.sk-label label {font-family: monospace;font-weight: bold;background-color: white;display: inline-block;line-height: 1.2em;}#sk-cf8158ae-e6d4-4551-9076-d0d685a7a4a1 div.sk-label-container {position: relative;z-index: 2;text-align: center;}#sk-cf8158ae-e6d4-4551-9076-d0d685a7a4a1 div.sk-container {/* jupyter's `normalize.less` sets `[hidden] { display: none; }` but bootstrap.min.css set `[hidden] { display: none !important; }` so we also need the `!important` here to be able to override the default hidden behavior on the sphinx rendered scikit-learn.org. See: https://github.com/scikit-learn/scikit-learn/issues/21755 */display: inline-block !important;position: relative;}#sk-cf8158ae-e6d4-4551-9076-d0d685a7a4a1 div.sk-text-repr-fallback {display: none;}</style><div id=\"sk-cf8158ae-e6d4-4551-9076-d0d685a7a4a1\" class=\"sk-top-container\"><div class=\"sk-text-repr-fallback\"><pre>Pipeline(steps=[(&#x27;preprocess&#x27;,\n",
       "                 ColumnTransformer(transformers=[(&#x27;ordinalpipe&#x27;,\n",
       "                                                  Pipeline(steps=[(&#x27;ordimputer&#x27;,\n",
       "                                                                   SimpleImputer(strategy=&#x27;most_frequent&#x27;)),\n",
       "                                                                  (&#x27;ordenc&#x27;,\n",
       "                                                                   OrdinalEncoder(categories=[[&#x27;10th&#x27;,\n",
       "                                                                                               &#x27;11th&#x27;,\n",
       "                                                                                               &#x27;HS-grad&#x27;,\n",
       "                                                                                               &#x27;Some-college&#x27;,\n",
       "                                                                                               &#x27;Assoc-acdm&#x27;,\n",
       "                                                                                               &#x27;Assoc-voc&#x27;,\n",
       "                                                                                               &#x27;Bachelors&#x27;,\n",
       "                                                                                               &#x27;Masters&#x27;,\n",
       "                                                                                               &#x27;Doctorate&#x27;]])),\n",
       "                                                                  (&#x27;ordnorm&#x27;,\n",
       "                                                                   StandardScaler())]),\n",
       "                                                  [&#x27;education&#x27;]),\n",
       "                                                 (&#x27;nominalpipe&#x27;,\n",
       "                                                  P...steps=[(&#x27;onehotimputer&#x27;,\n",
       "                                                                   SimpleImputer(strategy=&#x27;most_frequent&#x27;)),\n",
       "                                                                  (&#x27;onehotenc&#x27;,\n",
       "                                                                   OneHotEncoder(drop=&#x27;first&#x27;,\n",
       "                                                                                 handle_unknown=&#x27;ignore&#x27;,\n",
       "                                                                                 sparse=False)),\n",
       "                                                                  (&#x27;onehotnorm&#x27;,\n",
       "                                                                   MaxAbsScaler())]),\n",
       "                                                  [&#x27;occupation&#x27;, &#x27;sex&#x27;]),\n",
       "                                                 (&#x27;numpipe&#x27;,\n",
       "                                                  Pipeline(steps=[(&#x27;numimputer&#x27;,\n",
       "                                                                   SimpleImputer()),\n",
       "                                                                  (&#x27;numnorm&#x27;,\n",
       "                                                                   StandardScaler())]),\n",
       "                                                  Index([], dtype=&#x27;object&#x27;))])),\n",
       "                (&#x27;model&#x27;, KNeighborsClassifier())])</pre><b>Please rerun this cell to show the HTML repr or trust the notebook.</b></div><div class=\"sk-container\" hidden><div class=\"sk-item sk-dashed-wrapped\"><div class=\"sk-label-container\"><div class=\"sk-label sk-toggleable\"><input class=\"sk-toggleable__control sk-hidden--visually\" id=\"4ebb002d-1469-407a-930c-4b4e68ea5b5c\" type=\"checkbox\" ><label for=\"4ebb002d-1469-407a-930c-4b4e68ea5b5c\" class=\"sk-toggleable__label sk-toggleable__label-arrow\">Pipeline</label><div class=\"sk-toggleable__content\"><pre>Pipeline(steps=[(&#x27;preprocess&#x27;,\n",
       "                 ColumnTransformer(transformers=[(&#x27;ordinalpipe&#x27;,\n",
       "                                                  Pipeline(steps=[(&#x27;ordimputer&#x27;,\n",
       "                                                                   SimpleImputer(strategy=&#x27;most_frequent&#x27;)),\n",
       "                                                                  (&#x27;ordenc&#x27;,\n",
       "                                                                   OrdinalEncoder(categories=[[&#x27;10th&#x27;,\n",
       "                                                                                               &#x27;11th&#x27;,\n",
       "                                                                                               &#x27;HS-grad&#x27;,\n",
       "                                                                                               &#x27;Some-college&#x27;,\n",
       "                                                                                               &#x27;Assoc-acdm&#x27;,\n",
       "                                                                                               &#x27;Assoc-voc&#x27;,\n",
       "                                                                                               &#x27;Bachelors&#x27;,\n",
       "                                                                                               &#x27;Masters&#x27;,\n",
       "                                                                                               &#x27;Doctorate&#x27;]])),\n",
       "                                                                  (&#x27;ordnorm&#x27;,\n",
       "                                                                   StandardScaler())]),\n",
       "                                                  [&#x27;education&#x27;]),\n",
       "                                                 (&#x27;nominalpipe&#x27;,\n",
       "                                                  P...steps=[(&#x27;onehotimputer&#x27;,\n",
       "                                                                   SimpleImputer(strategy=&#x27;most_frequent&#x27;)),\n",
       "                                                                  (&#x27;onehotenc&#x27;,\n",
       "                                                                   OneHotEncoder(drop=&#x27;first&#x27;,\n",
       "                                                                                 handle_unknown=&#x27;ignore&#x27;,\n",
       "                                                                                 sparse=False)),\n",
       "                                                                  (&#x27;onehotnorm&#x27;,\n",
       "                                                                   MaxAbsScaler())]),\n",
       "                                                  [&#x27;occupation&#x27;, &#x27;sex&#x27;]),\n",
       "                                                 (&#x27;numpipe&#x27;,\n",
       "                                                  Pipeline(steps=[(&#x27;numimputer&#x27;,\n",
       "                                                                   SimpleImputer()),\n",
       "                                                                  (&#x27;numnorm&#x27;,\n",
       "                                                                   StandardScaler())]),\n",
       "                                                  Index([], dtype=&#x27;object&#x27;))])),\n",
       "                (&#x27;model&#x27;, KNeighborsClassifier())])</pre></div></div></div><div class=\"sk-serial\"><div class=\"sk-item sk-dashed-wrapped\"><div class=\"sk-label-container\"><div class=\"sk-label sk-toggleable\"><input class=\"sk-toggleable__control sk-hidden--visually\" id=\"e0bceb24-2e4b-46ad-b1b1-a135fd2dc61b\" type=\"checkbox\" ><label for=\"e0bceb24-2e4b-46ad-b1b1-a135fd2dc61b\" class=\"sk-toggleable__label sk-toggleable__label-arrow\">preprocess: ColumnTransformer</label><div class=\"sk-toggleable__content\"><pre>ColumnTransformer(transformers=[(&#x27;ordinalpipe&#x27;,\n",
       "                                 Pipeline(steps=[(&#x27;ordimputer&#x27;,\n",
       "                                                  SimpleImputer(strategy=&#x27;most_frequent&#x27;)),\n",
       "                                                 (&#x27;ordenc&#x27;,\n",
       "                                                  OrdinalEncoder(categories=[[&#x27;10th&#x27;,\n",
       "                                                                              &#x27;11th&#x27;,\n",
       "                                                                              &#x27;HS-grad&#x27;,\n",
       "                                                                              &#x27;Some-college&#x27;,\n",
       "                                                                              &#x27;Assoc-acdm&#x27;,\n",
       "                                                                              &#x27;Assoc-voc&#x27;,\n",
       "                                                                              &#x27;Bachelors&#x27;,\n",
       "                                                                              &#x27;Masters&#x27;,\n",
       "                                                                              &#x27;Doctorate&#x27;]])),\n",
       "                                                 (&#x27;ordnorm&#x27;,\n",
       "                                                  StandardScaler())]),\n",
       "                                 [&#x27;education&#x27;]),\n",
       "                                (&#x27;nominalpipe&#x27;,\n",
       "                                 Pipeline(steps=[(&#x27;onehotimputer&#x27;,\n",
       "                                                  SimpleImputer(strategy=&#x27;most_frequent&#x27;)),\n",
       "                                                 (&#x27;onehotenc&#x27;,\n",
       "                                                  OneHotEncoder(drop=&#x27;first&#x27;,\n",
       "                                                                handle_unknown=&#x27;ignore&#x27;,\n",
       "                                                                sparse=False)),\n",
       "                                                 (&#x27;onehotnorm&#x27;,\n",
       "                                                  MaxAbsScaler())]),\n",
       "                                 [&#x27;occupation&#x27;, &#x27;sex&#x27;]),\n",
       "                                (&#x27;numpipe&#x27;,\n",
       "                                 Pipeline(steps=[(&#x27;numimputer&#x27;,\n",
       "                                                  SimpleImputer()),\n",
       "                                                 (&#x27;numnorm&#x27;,\n",
       "                                                  StandardScaler())]),\n",
       "                                 Index([], dtype=&#x27;object&#x27;))])</pre></div></div></div><div class=\"sk-parallel\"><div class=\"sk-parallel-item\"><div class=\"sk-item\"><div class=\"sk-label-container\"><div class=\"sk-label sk-toggleable\"><input class=\"sk-toggleable__control sk-hidden--visually\" id=\"4efd53fd-43a6-4aca-8eff-2acdcb793bc7\" type=\"checkbox\" ><label for=\"4efd53fd-43a6-4aca-8eff-2acdcb793bc7\" class=\"sk-toggleable__label sk-toggleable__label-arrow\">ordinalpipe</label><div class=\"sk-toggleable__content\"><pre>[&#x27;education&#x27;]</pre></div></div></div><div class=\"sk-serial\"><div class=\"sk-item\"><div class=\"sk-serial\"><div class=\"sk-item\"><div class=\"sk-estimator sk-toggleable\"><input class=\"sk-toggleable__control sk-hidden--visually\" id=\"e7e6c93f-312f-4115-b00d-517a344d4408\" type=\"checkbox\" ><label for=\"e7e6c93f-312f-4115-b00d-517a344d4408\" class=\"sk-toggleable__label sk-toggleable__label-arrow\">SimpleImputer</label><div class=\"sk-toggleable__content\"><pre>SimpleImputer(strategy=&#x27;most_frequent&#x27;)</pre></div></div></div><div class=\"sk-item\"><div class=\"sk-estimator sk-toggleable\"><input class=\"sk-toggleable__control sk-hidden--visually\" id=\"c29d4390-a6e4-4edc-b660-4d556610102d\" type=\"checkbox\" ><label for=\"c29d4390-a6e4-4edc-b660-4d556610102d\" class=\"sk-toggleable__label sk-toggleable__label-arrow\">OrdinalEncoder</label><div class=\"sk-toggleable__content\"><pre>OrdinalEncoder(categories=[[&#x27;10th&#x27;, &#x27;11th&#x27;, &#x27;HS-grad&#x27;, &#x27;Some-college&#x27;,\n",
       "                            &#x27;Assoc-acdm&#x27;, &#x27;Assoc-voc&#x27;, &#x27;Bachelors&#x27;, &#x27;Masters&#x27;,\n",
       "                            &#x27;Doctorate&#x27;]])</pre></div></div></div><div class=\"sk-item\"><div class=\"sk-estimator sk-toggleable\"><input class=\"sk-toggleable__control sk-hidden--visually\" id=\"15b30d1a-08ec-44c3-9d87-9f9155dccb50\" type=\"checkbox\" ><label for=\"15b30d1a-08ec-44c3-9d87-9f9155dccb50\" class=\"sk-toggleable__label sk-toggleable__label-arrow\">StandardScaler</label><div class=\"sk-toggleable__content\"><pre>StandardScaler()</pre></div></div></div></div></div></div></div></div><div class=\"sk-parallel-item\"><div class=\"sk-item\"><div class=\"sk-label-container\"><div class=\"sk-label sk-toggleable\"><input class=\"sk-toggleable__control sk-hidden--visually\" id=\"272e100c-5346-49f1-9e60-8af4f7c1cbeb\" type=\"checkbox\" ><label for=\"272e100c-5346-49f1-9e60-8af4f7c1cbeb\" class=\"sk-toggleable__label sk-toggleable__label-arrow\">nominalpipe</label><div class=\"sk-toggleable__content\"><pre>[&#x27;occupation&#x27;, &#x27;sex&#x27;]</pre></div></div></div><div class=\"sk-serial\"><div class=\"sk-item\"><div class=\"sk-serial\"><div class=\"sk-item\"><div class=\"sk-estimator sk-toggleable\"><input class=\"sk-toggleable__control sk-hidden--visually\" id=\"9908d60f-d51f-46ee-830d-96dccdcdc5cc\" type=\"checkbox\" ><label for=\"9908d60f-d51f-46ee-830d-96dccdcdc5cc\" class=\"sk-toggleable__label sk-toggleable__label-arrow\">SimpleImputer</label><div class=\"sk-toggleable__content\"><pre>SimpleImputer(strategy=&#x27;most_frequent&#x27;)</pre></div></div></div><div class=\"sk-item\"><div class=\"sk-estimator sk-toggleable\"><input class=\"sk-toggleable__control sk-hidden--visually\" id=\"957cd90b-bf8c-4cc0-9f63-dfa02bb94744\" type=\"checkbox\" ><label for=\"957cd90b-bf8c-4cc0-9f63-dfa02bb94744\" class=\"sk-toggleable__label sk-toggleable__label-arrow\">OneHotEncoder</label><div class=\"sk-toggleable__content\"><pre>OneHotEncoder(drop=&#x27;first&#x27;, handle_unknown=&#x27;ignore&#x27;, sparse=False)</pre></div></div></div><div class=\"sk-item\"><div class=\"sk-estimator sk-toggleable\"><input class=\"sk-toggleable__control sk-hidden--visually\" id=\"23c873f1-2ede-45fe-ae3f-df0e372c5719\" type=\"checkbox\" ><label for=\"23c873f1-2ede-45fe-ae3f-df0e372c5719\" class=\"sk-toggleable__label sk-toggleable__label-arrow\">MaxAbsScaler</label><div class=\"sk-toggleable__content\"><pre>MaxAbsScaler()</pre></div></div></div></div></div></div></div></div><div class=\"sk-parallel-item\"><div class=\"sk-item\"><div class=\"sk-label-container\"><div class=\"sk-label sk-toggleable\"><input class=\"sk-toggleable__control sk-hidden--visually\" id=\"d7a8d131-75de-4eb6-8efa-1d5141aee087\" type=\"checkbox\" ><label for=\"d7a8d131-75de-4eb6-8efa-1d5141aee087\" class=\"sk-toggleable__label sk-toggleable__label-arrow\">numpipe</label><div class=\"sk-toggleable__content\"><pre>Index([], dtype=&#x27;object&#x27;)</pre></div></div></div><div class=\"sk-serial\"><div class=\"sk-item\"><div class=\"sk-serial\"><div class=\"sk-item\"><div class=\"sk-estimator sk-toggleable\"><input class=\"sk-toggleable__control sk-hidden--visually\" id=\"00f6de2f-e369-4027-895c-594b3d2dd4ad\" type=\"checkbox\" ><label for=\"00f6de2f-e369-4027-895c-594b3d2dd4ad\" class=\"sk-toggleable__label sk-toggleable__label-arrow\">SimpleImputer</label><div class=\"sk-toggleable__content\"><pre>SimpleImputer()</pre></div></div></div><div class=\"sk-item\"><div class=\"sk-estimator sk-toggleable\"><input class=\"sk-toggleable__control sk-hidden--visually\" id=\"4543d9ee-e79b-47b0-beb7-0cbf83a43eb1\" type=\"checkbox\" ><label for=\"4543d9ee-e79b-47b0-beb7-0cbf83a43eb1\" class=\"sk-toggleable__label sk-toggleable__label-arrow\">StandardScaler</label><div class=\"sk-toggleable__content\"><pre>StandardScaler()</pre></div></div></div></div></div></div></div></div></div></div><div class=\"sk-item\"><div class=\"sk-estimator sk-toggleable\"><input class=\"sk-toggleable__control sk-hidden--visually\" id=\"bda3a9ee-e2de-41b0-aaa7-593c8bd22c4a\" type=\"checkbox\" ><label for=\"bda3a9ee-e2de-41b0-aaa7-593c8bd22c4a\" class=\"sk-toggleable__label sk-toggleable__label-arrow\">KNeighborsClassifier</label><div class=\"sk-toggleable__content\"><pre>KNeighborsClassifier()</pre></div></div></div></div></div></div></div>"
      ],
      "text/plain": [
       "Pipeline(steps=[('preprocess',\n",
       "                 ColumnTransformer(transformers=[('ordinalpipe',\n",
       "                                                  Pipeline(steps=[('ordimputer',\n",
       "                                                                   SimpleImputer(strategy='most_frequent')),\n",
       "                                                                  ('ordenc',\n",
       "                                                                   OrdinalEncoder(categories=[['10th',\n",
       "                                                                                               '11th',\n",
       "                                                                                               'HS-grad',\n",
       "                                                                                               'Some-college',\n",
       "                                                                                               'Assoc-acdm',\n",
       "                                                                                               'Assoc-voc',\n",
       "                                                                                               'Bachelors',\n",
       "                                                                                               'Masters',\n",
       "                                                                                               'Doctorate']])),\n",
       "                                                                  ('ordnorm',\n",
       "                                                                   StandardScaler())]),\n",
       "                                                  ['education']),\n",
       "                                                 ('nominalpipe',\n",
       "                                                  P...steps=[('onehotimputer',\n",
       "                                                                   SimpleImputer(strategy='most_frequent')),\n",
       "                                                                  ('onehotenc',\n",
       "                                                                   OneHotEncoder(drop='first',\n",
       "                                                                                 handle_unknown='ignore',\n",
       "                                                                                 sparse=False)),\n",
       "                                                                  ('onehotnorm',\n",
       "                                                                   MaxAbsScaler())]),\n",
       "                                                  ['occupation', 'sex']),\n",
       "                                                 ('numpipe',\n",
       "                                                  Pipeline(steps=[('numimputer',\n",
       "                                                                   SimpleImputer()),\n",
       "                                                                  ('numnorm',\n",
       "                                                                   StandardScaler())]),\n",
       "                                                  Index([], dtype='object'))])),\n",
       "                ('model', KNeighborsClassifier())])"
      ]
     },
     "execution_count": 62,
     "metadata": {},
     "output_type": "execute_result"
    }
   ],
   "source": [
    "final_pipe.fit(X_inc_train, y_inc_train)"
   ]
  },
  {
   "cell_type": "code",
   "execution_count": 63,
   "metadata": {
    "scrolled": true,
    "slideshow": {
     "slide_type": "slide"
    }
   },
   "outputs": [],
   "source": [
    "y_pred = final_pipe.predict(X_inc_test)"
   ]
  },
  {
   "cell_type": "code",
   "execution_count": 64,
   "metadata": {
    "cell_style": "center",
    "slideshow": {
     "slide_type": "fragment"
    }
   },
   "outputs": [
    {
     "data": {
      "image/png": "[encoded data removed]",
      "text/plain": [
       "<Figure size 432x288 with 2 Axes>"
      ]
     },
     "metadata": {
      "needs_background": "light"
     },
     "output_type": "display_data"
    }
   ],
   "source": [
    "#plot_confusion_matrix(final_pipe, X_inc_test,y_inc_test)\n",
    "ConfusionMatrixDisplay.from_estimator(final_pipe, X_inc_test,y_inc_test);"
   ]
  },
  {
   "cell_type": "markdown",
   "metadata": {
    "cell_style": "split",
    "slideshow": {
     "slide_type": "fragment"
    }
   },
   "source": [
    "Probably needs some tuning. Let's look at the steps of final_pipe."
   ]
  },
  {
   "cell_type": "code",
   "execution_count": 65,
   "metadata": {
    "cell_style": "center",
    "scrolled": false,
    "slideshow": {
     "slide_type": "slide"
    }
   },
   "outputs": [
    {
     "name": "stdout",
     "output_type": "stream",
     "text": [
      "[('preprocess', ColumnTransformer(transformers=[('ordinalpipe',\n",
      "                                 Pipeline(steps=[('ordimputer',\n",
      "                                                  SimpleImputer(strategy='most_frequent')),\n",
      "                                                 ('ordenc',\n",
      "                                                  OrdinalEncoder(categories=[['10th',\n",
      "                                                                              '11th',\n",
      "                                                                              'HS-grad',\n",
      "                                                                              'Some-college',\n",
      "                                                                              'Assoc-acdm',\n",
      "                                                                              'Assoc-voc',\n",
      "                                                                              'Bachelors',\n",
      "                                                                              'Masters',\n",
      "                                                                              'Doctorate']])),\n",
      "                                                 ('ordnorm',\n",
      "                                                  StandardScaler())]),\n",
      "                                 ['education']),\n",
      "                                ('nominalpipe',\n",
      "                                 Pipeline(steps=[('onehotimputer',\n",
      "                                                  SimpleImputer(strategy='most_frequent')),\n",
      "                                                 ('onehotenc',\n",
      "                                                  OneHotEncoder(drop='first',\n",
      "                                                                handle_unknown='ignore',\n",
      "                                                                sparse=False)),\n",
      "                                                 ('onehotnorm',\n",
      "                                                  MaxAbsScaler())]),\n",
      "                                 ['occupation', 'sex']),\n",
      "                                ('numpipe',\n",
      "                                 Pipeline(steps=[('numimputer',\n",
      "                                                  SimpleImputer()),\n",
      "                                                 ('numnorm',\n",
      "                                                  StandardScaler())]),\n",
      "                                 Index([], dtype='object'))])), ('model', KNeighborsClassifier())]\n"
     ]
    }
   ],
   "source": [
    "print(final_pipe.steps)"
   ]
  },
  {
   "cell_type": "code",
   "execution_count": 66,
   "metadata": {
    "slideshow": {
     "slide_type": "slide"
    }
   },
   "outputs": [],
   "source": [
    "# going down each level in estimator with double underscore (level1__level2__estimator__argument)\n",
    "final_pipe_grid = {'preprocess__numpipe__numimputer__strategy': [\"mean\", \"median\"],\n",
    "             'model__n_neighbors': [3, 11, 15],\n",
    "             'model__p': [1, 2]}\n",
    "\n",
    "gs_full_pipe = GridSearchCV(estimator=final_pipe, \n",
    "                       param_grid=final_pipe_grid)"
   ]
  },
  {
   "cell_type": "code",
   "execution_count": 67,
   "metadata": {
    "cell_style": "center",
    "scrolled": true,
    "slideshow": {
     "slide_type": "fragment"
    }
   },
   "outputs": [
    {
     "data": {
      "text/html": [
       "<style>#sk-4b6d7bc1-8b24-4b12-8df3-a8386569fab7 {color: black;background-color: white;}#sk-4b6d7bc1-8b24-4b12-8df3-a8386569fab7 pre{padding: 0;}#sk-4b6d7bc1-8b24-4b12-8df3-a8386569fab7 div.sk-toggleable {background-color: white;}#sk-4b6d7bc1-8b24-4b12-8df3-a8386569fab7 label.sk-toggleable__label {cursor: pointer;display: block;width: 100%;margin-bottom: 0;padding: 0.3em;box-sizing: border-box;text-align: center;}#sk-4b6d7bc1-8b24-4b12-8df3-a8386569fab7 label.sk-toggleable__label-arrow:before {content: \"▸\";float: left;margin-right: 0.25em;color: #696969;}#sk-4b6d7bc1-8b24-4b12-8df3-a8386569fab7 label.sk-toggleable__label-arrow:hover:before {color: black;}#sk-4b6d7bc1-8b24-4b12-8df3-a8386569fab7 div.sk-estimator:hover label.sk-toggleable__label-arrow:before {color: black;}#sk-4b6d7bc1-8b24-4b12-8df3-a8386569fab7 div.sk-toggleable__content {max-height: 0;max-width: 0;overflow: hidden;text-align: left;background-color: #f0f8ff;}#sk-4b6d7bc1-8b24-4b12-8df3-a8386569fab7 div.sk-toggleable__content pre {margin: 0.2em;color: black;border-radius: 0.25em;background-color: #f0f8ff;}#sk-4b6d7bc1-8b24-4b12-8df3-a8386569fab7 input.sk-toggleable__control:checked~div.sk-toggleable__content {max-height: 200px;max-width: 100%;overflow: auto;}#sk-4b6d7bc1-8b24-4b12-8df3-a8386569fab7 input.sk-toggleable__control:checked~label.sk-toggleable__label-arrow:before {content: \"▾\";}#sk-4b6d7bc1-8b24-4b12-8df3-a8386569fab7 div.sk-estimator input.sk-toggleable__control:checked~label.sk-toggleable__label {background-color: #d4ebff;}#sk-4b6d7bc1-8b24-4b12-8df3-a8386569fab7 div.sk-label input.sk-toggleable__control:checked~label.sk-toggleable__label {background-color: #d4ebff;}#sk-4b6d7bc1-8b24-4b12-8df3-a8386569fab7 input.sk-hidden--visually {border: 0;clip: rect(1px 1px 1px 1px);clip: rect(1px, 1px, 1px, 1px);height: 1px;margin: -1px;overflow: hidden;padding: 0;position: absolute;width: 1px;}#sk-4b6d7bc1-8b24-4b12-8df3-a8386569fab7 div.sk-estimator {font-family: monospace;background-color: #f0f8ff;border: 1px dotted black;border-radius: 0.25em;box-sizing: border-box;margin-bottom: 0.5em;}#sk-4b6d7bc1-8b24-4b12-8df3-a8386569fab7 div.sk-estimator:hover {background-color: #d4ebff;}#sk-4b6d7bc1-8b24-4b12-8df3-a8386569fab7 div.sk-parallel-item::after {content: \"\";width: 100%;border-bottom: 1px solid gray;flex-grow: 1;}#sk-4b6d7bc1-8b24-4b12-8df3-a8386569fab7 div.sk-label:hover label.sk-toggleable__label {background-color: #d4ebff;}#sk-4b6d7bc1-8b24-4b12-8df3-a8386569fab7 div.sk-serial::before {content: \"\";position: absolute;border-left: 1px solid gray;box-sizing: border-box;top: 2em;bottom: 0;left: 50%;}#sk-4b6d7bc1-8b24-4b12-8df3-a8386569fab7 div.sk-serial {display: flex;flex-direction: column;align-items: center;background-color: white;padding-right: 0.2em;padding-left: 0.2em;}#sk-4b6d7bc1-8b24-4b12-8df3-a8386569fab7 div.sk-item {z-index: 1;}#sk-4b6d7bc1-8b24-4b12-8df3-a8386569fab7 div.sk-parallel {display: flex;align-items: stretch;justify-content: center;background-color: white;}#sk-4b6d7bc1-8b24-4b12-8df3-a8386569fab7 div.sk-parallel::before {content: \"\";position: absolute;border-left: 1px solid gray;box-sizing: border-box;top: 2em;bottom: 0;left: 50%;}#sk-4b6d7bc1-8b24-4b12-8df3-a8386569fab7 div.sk-parallel-item {display: flex;flex-direction: column;position: relative;background-color: white;}#sk-4b6d7bc1-8b24-4b12-8df3-a8386569fab7 div.sk-parallel-item:first-child::after {align-self: flex-end;width: 50%;}#sk-4b6d7bc1-8b24-4b12-8df3-a8386569fab7 div.sk-parallel-item:last-child::after {align-self: flex-start;width: 50%;}#sk-4b6d7bc1-8b24-4b12-8df3-a8386569fab7 div.sk-parallel-item:only-child::after {width: 0;}#sk-4b6d7bc1-8b24-4b12-8df3-a8386569fab7 div.sk-dashed-wrapped {border: 1px dashed gray;margin: 0 0.4em 0.5em 0.4em;box-sizing: border-box;padding-bottom: 0.4em;background-color: white;position: relative;}#sk-4b6d7bc1-8b24-4b12-8df3-a8386569fab7 div.sk-label label {font-family: monospace;font-weight: bold;background-color: white;display: inline-block;line-height: 1.2em;}#sk-4b6d7bc1-8b24-4b12-8df3-a8386569fab7 div.sk-label-container {position: relative;z-index: 2;text-align: center;}#sk-4b6d7bc1-8b24-4b12-8df3-a8386569fab7 div.sk-container {/* jupyter's `normalize.less` sets `[hidden] { display: none; }` but bootstrap.min.css set `[hidden] { display: none !important; }` so we also need the `!important` here to be able to override the default hidden behavior on the sphinx rendered scikit-learn.org. See: https://github.com/scikit-learn/scikit-learn/issues/21755 */display: inline-block !important;position: relative;}#sk-4b6d7bc1-8b24-4b12-8df3-a8386569fab7 div.sk-text-repr-fallback {display: none;}</style><div id=\"sk-4b6d7bc1-8b24-4b12-8df3-a8386569fab7\" class=\"sk-top-container\"><div class=\"sk-text-repr-fallback\"><pre>GridSearchCV(estimator=Pipeline(steps=[(&#x27;preprocess&#x27;,\n",
       "                                        ColumnTransformer(transformers=[(&#x27;ordinalpipe&#x27;,\n",
       "                                                                         Pipeline(steps=[(&#x27;ordimputer&#x27;,\n",
       "                                                                                          SimpleImputer(strategy=&#x27;most_frequent&#x27;)),\n",
       "                                                                                         (&#x27;ordenc&#x27;,\n",
       "                                                                                          OrdinalEncoder(categories=[[&#x27;10th&#x27;,\n",
       "                                                                                                                      &#x27;11th&#x27;,\n",
       "                                                                                                                      &#x27;HS-grad&#x27;,\n",
       "                                                                                                                      &#x27;Some-college&#x27;,\n",
       "                                                                                                                      &#x27;Assoc-acdm&#x27;,\n",
       "                                                                                                                      &#x27;Assoc-voc&#x27;,\n",
       "                                                                                                                      &#x27;Bachelors&#x27;,\n",
       "                                                                                                                      &#x27;Masters&#x27;,\n",
       "                                                                                                                      &#x27;Doctorate&#x27;]])),\n",
       "                                                                                         (&#x27;ordnorm&#x27;,\n",
       "                                                                                          StandardScaler())]),\n",
       "                                                                         [&#x27;educat...\n",
       "                                                                                                        handle_unknown=&#x27;ignore&#x27;,\n",
       "                                                                                                        sparse=False)),\n",
       "                                                                                         (&#x27;onehotnorm&#x27;,\n",
       "                                                                                          MaxAbsScaler())]),\n",
       "                                                                         [&#x27;occupation&#x27;,\n",
       "                                                                          &#x27;sex&#x27;]),\n",
       "                                                                        (&#x27;numpipe&#x27;,\n",
       "                                                                         Pipeline(steps=[(&#x27;numimputer&#x27;,\n",
       "                                                                                          SimpleImputer()),\n",
       "                                                                                         (&#x27;numnorm&#x27;,\n",
       "                                                                                          StandardScaler())]),\n",
       "                                                                         Index([], dtype=&#x27;object&#x27;))])),\n",
       "                                       (&#x27;model&#x27;, KNeighborsClassifier())]),\n",
       "             param_grid={&#x27;model__n_neighbors&#x27;: [3, 11, 15], &#x27;model__p&#x27;: [1, 2],\n",
       "                         &#x27;preprocess__numpipe__numimputer__strategy&#x27;: [&#x27;mean&#x27;,\n",
       "                                                                       &#x27;median&#x27;]})</pre><b>Please rerun this cell to show the HTML repr or trust the notebook.</b></div><div class=\"sk-container\" hidden><div class=\"sk-item sk-dashed-wrapped\"><div class=\"sk-label-container\"><div class=\"sk-label sk-toggleable\"><input class=\"sk-toggleable__control sk-hidden--visually\" id=\"b1722bdd-276e-4e51-b8ce-7f7755ce4969\" type=\"checkbox\" ><label for=\"b1722bdd-276e-4e51-b8ce-7f7755ce4969\" class=\"sk-toggleable__label sk-toggleable__label-arrow\">GridSearchCV</label><div class=\"sk-toggleable__content\"><pre>GridSearchCV(estimator=Pipeline(steps=[(&#x27;preprocess&#x27;,\n",
       "                                        ColumnTransformer(transformers=[(&#x27;ordinalpipe&#x27;,\n",
       "                                                                         Pipeline(steps=[(&#x27;ordimputer&#x27;,\n",
       "                                                                                          SimpleImputer(strategy=&#x27;most_frequent&#x27;)),\n",
       "                                                                                         (&#x27;ordenc&#x27;,\n",
       "                                                                                          OrdinalEncoder(categories=[[&#x27;10th&#x27;,\n",
       "                                                                                                                      &#x27;11th&#x27;,\n",
       "                                                                                                                      &#x27;HS-grad&#x27;,\n",
       "                                                                                                                      &#x27;Some-college&#x27;,\n",
       "                                                                                                                      &#x27;Assoc-acdm&#x27;,\n",
       "                                                                                                                      &#x27;Assoc-voc&#x27;,\n",
       "                                                                                                                      &#x27;Bachelors&#x27;,\n",
       "                                                                                                                      &#x27;Masters&#x27;,\n",
       "                                                                                                                      &#x27;Doctorate&#x27;]])),\n",
       "                                                                                         (&#x27;ordnorm&#x27;,\n",
       "                                                                                          StandardScaler())]),\n",
       "                                                                         [&#x27;educat...\n",
       "                                                                                                        handle_unknown=&#x27;ignore&#x27;,\n",
       "                                                                                                        sparse=False)),\n",
       "                                                                                         (&#x27;onehotnorm&#x27;,\n",
       "                                                                                          MaxAbsScaler())]),\n",
       "                                                                         [&#x27;occupation&#x27;,\n",
       "                                                                          &#x27;sex&#x27;]),\n",
       "                                                                        (&#x27;numpipe&#x27;,\n",
       "                                                                         Pipeline(steps=[(&#x27;numimputer&#x27;,\n",
       "                                                                                          SimpleImputer()),\n",
       "                                                                                         (&#x27;numnorm&#x27;,\n",
       "                                                                                          StandardScaler())]),\n",
       "                                                                         Index([], dtype=&#x27;object&#x27;))])),\n",
       "                                       (&#x27;model&#x27;, KNeighborsClassifier())]),\n",
       "             param_grid={&#x27;model__n_neighbors&#x27;: [3, 11, 15], &#x27;model__p&#x27;: [1, 2],\n",
       "                         &#x27;preprocess__numpipe__numimputer__strategy&#x27;: [&#x27;mean&#x27;,\n",
       "                                                                       &#x27;median&#x27;]})</pre></div></div></div><div class=\"sk-parallel\"><div class=\"sk-parallel-item\"><div class=\"sk-item\"><div class=\"sk-serial\"><div class=\"sk-item\"><div class=\"sk-serial\"><div class=\"sk-item sk-dashed-wrapped\"><div class=\"sk-label-container\"><div class=\"sk-label sk-toggleable\"><input class=\"sk-toggleable__control sk-hidden--visually\" id=\"6520b7de-0e41-4090-9eba-eacee88470c8\" type=\"checkbox\" ><label for=\"6520b7de-0e41-4090-9eba-eacee88470c8\" class=\"sk-toggleable__label sk-toggleable__label-arrow\">preprocess: ColumnTransformer</label><div class=\"sk-toggleable__content\"><pre>ColumnTransformer(transformers=[(&#x27;ordinalpipe&#x27;,\n",
       "                                 Pipeline(steps=[(&#x27;ordimputer&#x27;,\n",
       "                                                  SimpleImputer(strategy=&#x27;most_frequent&#x27;)),\n",
       "                                                 (&#x27;ordenc&#x27;,\n",
       "                                                  OrdinalEncoder(categories=[[&#x27;10th&#x27;,\n",
       "                                                                              &#x27;11th&#x27;,\n",
       "                                                                              &#x27;HS-grad&#x27;,\n",
       "                                                                              &#x27;Some-college&#x27;,\n",
       "                                                                              &#x27;Assoc-acdm&#x27;,\n",
       "                                                                              &#x27;Assoc-voc&#x27;,\n",
       "                                                                              &#x27;Bachelors&#x27;,\n",
       "                                                                              &#x27;Masters&#x27;,\n",
       "                                                                              &#x27;Doctorate&#x27;]])),\n",
       "                                                 (&#x27;ordnorm&#x27;,\n",
       "                                                  StandardScaler())]),\n",
       "                                 [&#x27;education&#x27;]),\n",
       "                                (&#x27;nominalpipe&#x27;,\n",
       "                                 Pipeline(steps=[(&#x27;onehotimputer&#x27;,\n",
       "                                                  SimpleImputer(strategy=&#x27;most_frequent&#x27;)),\n",
       "                                                 (&#x27;onehotenc&#x27;,\n",
       "                                                  OneHotEncoder(drop=&#x27;first&#x27;,\n",
       "                                                                handle_unknown=&#x27;ignore&#x27;,\n",
       "                                                                sparse=False)),\n",
       "                                                 (&#x27;onehotnorm&#x27;,\n",
       "                                                  MaxAbsScaler())]),\n",
       "                                 [&#x27;occupation&#x27;, &#x27;sex&#x27;]),\n",
       "                                (&#x27;numpipe&#x27;,\n",
       "                                 Pipeline(steps=[(&#x27;numimputer&#x27;,\n",
       "                                                  SimpleImputer()),\n",
       "                                                 (&#x27;numnorm&#x27;,\n",
       "                                                  StandardScaler())]),\n",
       "                                 Index([], dtype=&#x27;object&#x27;))])</pre></div></div></div><div class=\"sk-parallel\"><div class=\"sk-parallel-item\"><div class=\"sk-item\"><div class=\"sk-label-container\"><div class=\"sk-label sk-toggleable\"><input class=\"sk-toggleable__control sk-hidden--visually\" id=\"335ec92d-151f-4961-94ce-7a616ee43281\" type=\"checkbox\" ><label for=\"335ec92d-151f-4961-94ce-7a616ee43281\" class=\"sk-toggleable__label sk-toggleable__label-arrow\">ordinalpipe</label><div class=\"sk-toggleable__content\"><pre>[&#x27;education&#x27;]</pre></div></div></div><div class=\"sk-serial\"><div class=\"sk-item\"><div class=\"sk-serial\"><div class=\"sk-item\"><div class=\"sk-estimator sk-toggleable\"><input class=\"sk-toggleable__control sk-hidden--visually\" id=\"81d2d9e2-d859-4d7e-a892-9bbf44b44b29\" type=\"checkbox\" ><label for=\"81d2d9e2-d859-4d7e-a892-9bbf44b44b29\" class=\"sk-toggleable__label sk-toggleable__label-arrow\">SimpleImputer</label><div class=\"sk-toggleable__content\"><pre>SimpleImputer(strategy=&#x27;most_frequent&#x27;)</pre></div></div></div><div class=\"sk-item\"><div class=\"sk-estimator sk-toggleable\"><input class=\"sk-toggleable__control sk-hidden--visually\" id=\"7ead3cd9-908b-423d-9411-2ec78920600d\" type=\"checkbox\" ><label for=\"7ead3cd9-908b-423d-9411-2ec78920600d\" class=\"sk-toggleable__label sk-toggleable__label-arrow\">OrdinalEncoder</label><div class=\"sk-toggleable__content\"><pre>OrdinalEncoder(categories=[[&#x27;10th&#x27;, &#x27;11th&#x27;, &#x27;HS-grad&#x27;, &#x27;Some-college&#x27;,\n",
       "                            &#x27;Assoc-acdm&#x27;, &#x27;Assoc-voc&#x27;, &#x27;Bachelors&#x27;, &#x27;Masters&#x27;,\n",
       "                            &#x27;Doctorate&#x27;]])</pre></div></div></div><div class=\"sk-item\"><div class=\"sk-estimator sk-toggleable\"><input class=\"sk-toggleable__control sk-hidden--visually\" id=\"be05eec9-d091-442f-b9c4-a2c7b8956aa2\" type=\"checkbox\" ><label for=\"be05eec9-d091-442f-b9c4-a2c7b8956aa2\" class=\"sk-toggleable__label sk-toggleable__label-arrow\">StandardScaler</label><div class=\"sk-toggleable__content\"><pre>StandardScaler()</pre></div></div></div></div></div></div></div></div><div class=\"sk-parallel-item\"><div class=\"sk-item\"><div class=\"sk-label-container\"><div class=\"sk-label sk-toggleable\"><input class=\"sk-toggleable__control sk-hidden--visually\" id=\"8c22ab04-b9e2-4f8b-bb73-7c5e114bc019\" type=\"checkbox\" ><label for=\"8c22ab04-b9e2-4f8b-bb73-7c5e114bc019\" class=\"sk-toggleable__label sk-toggleable__label-arrow\">nominalpipe</label><div class=\"sk-toggleable__content\"><pre>[&#x27;occupation&#x27;, &#x27;sex&#x27;]</pre></div></div></div><div class=\"sk-serial\"><div class=\"sk-item\"><div class=\"sk-serial\"><div class=\"sk-item\"><div class=\"sk-estimator sk-toggleable\"><input class=\"sk-toggleable__control sk-hidden--visually\" id=\"f283251b-ccef-4f34-b614-70dba44faf46\" type=\"checkbox\" ><label for=\"f283251b-ccef-4f34-b614-70dba44faf46\" class=\"sk-toggleable__label sk-toggleable__label-arrow\">SimpleImputer</label><div class=\"sk-toggleable__content\"><pre>SimpleImputer(strategy=&#x27;most_frequent&#x27;)</pre></div></div></div><div class=\"sk-item\"><div class=\"sk-estimator sk-toggleable\"><input class=\"sk-toggleable__control sk-hidden--visually\" id=\"34e7b3c8-4483-47c8-a562-c2cd96a04558\" type=\"checkbox\" ><label for=\"34e7b3c8-4483-47c8-a562-c2cd96a04558\" class=\"sk-toggleable__label sk-toggleable__label-arrow\">OneHotEncoder</label><div class=\"sk-toggleable__content\"><pre>OneHotEncoder(drop=&#x27;first&#x27;, handle_unknown=&#x27;ignore&#x27;, sparse=False)</pre></div></div></div><div class=\"sk-item\"><div class=\"sk-estimator sk-toggleable\"><input class=\"sk-toggleable__control sk-hidden--visually\" id=\"26e256b8-070f-4d0d-ac2f-fe111b94828d\" type=\"checkbox\" ><label for=\"26e256b8-070f-4d0d-ac2f-fe111b94828d\" class=\"sk-toggleable__label sk-toggleable__label-arrow\">MaxAbsScaler</label><div class=\"sk-toggleable__content\"><pre>MaxAbsScaler()</pre></div></div></div></div></div></div></div></div><div class=\"sk-parallel-item\"><div class=\"sk-item\"><div class=\"sk-label-container\"><div class=\"sk-label sk-toggleable\"><input class=\"sk-toggleable__control sk-hidden--visually\" id=\"5fd6a974-fd21-43b6-992b-597f2b918bbf\" type=\"checkbox\" ><label for=\"5fd6a974-fd21-43b6-992b-597f2b918bbf\" class=\"sk-toggleable__label sk-toggleable__label-arrow\">numpipe</label><div class=\"sk-toggleable__content\"><pre>Index([], dtype=&#x27;object&#x27;)</pre></div></div></div><div class=\"sk-serial\"><div class=\"sk-item\"><div class=\"sk-serial\"><div class=\"sk-item\"><div class=\"sk-estimator sk-toggleable\"><input class=\"sk-toggleable__control sk-hidden--visually\" id=\"5d187e6e-a640-4f36-9a15-37e64699072a\" type=\"checkbox\" ><label for=\"5d187e6e-a640-4f36-9a15-37e64699072a\" class=\"sk-toggleable__label sk-toggleable__label-arrow\">SimpleImputer</label><div class=\"sk-toggleable__content\"><pre>SimpleImputer()</pre></div></div></div><div class=\"sk-item\"><div class=\"sk-estimator sk-toggleable\"><input class=\"sk-toggleable__control sk-hidden--visually\" id=\"89967ffc-a3a4-4841-95ab-e07d559b5ff4\" type=\"checkbox\" ><label for=\"89967ffc-a3a4-4841-95ab-e07d559b5ff4\" class=\"sk-toggleable__label sk-toggleable__label-arrow\">StandardScaler</label><div class=\"sk-toggleable__content\"><pre>StandardScaler()</pre></div></div></div></div></div></div></div></div></div></div><div class=\"sk-item\"><div class=\"sk-estimator sk-toggleable\"><input class=\"sk-toggleable__control sk-hidden--visually\" id=\"ff03393f-aafb-40d6-861b-75fa9c96cbdb\" type=\"checkbox\" ><label for=\"ff03393f-aafb-40d6-861b-75fa9c96cbdb\" class=\"sk-toggleable__label sk-toggleable__label-arrow\">KNeighborsClassifier</label><div class=\"sk-toggleable__content\"><pre>KNeighborsClassifier()</pre></div></div></div></div></div></div></div></div></div></div></div></div>"
      ],
      "text/plain": [
       "GridSearchCV(estimator=Pipeline(steps=[('preprocess',\n",
       "                                        ColumnTransformer(transformers=[('ordinalpipe',\n",
       "                                                                         Pipeline(steps=[('ordimputer',\n",
       "                                                                                          SimpleImputer(strategy='most_frequent')),\n",
       "                                                                                         ('ordenc',\n",
       "                                                                                          OrdinalEncoder(categories=[['10th',\n",
       "                                                                                                                      '11th',\n",
       "                                                                                                                      'HS-grad',\n",
       "                                                                                                                      'Some-college',\n",
       "                                                                                                                      'Assoc-acdm',\n",
       "                                                                                                                      'Assoc-voc',\n",
       "                                                                                                                      'Bachelors',\n",
       "                                                                                                                      'Masters',\n",
       "                                                                                                                      'Doctorate']])),\n",
       "                                                                                         ('ordnorm',\n",
       "                                                                                          StandardScaler())]),\n",
       "                                                                         ['educat...\n",
       "                                                                                                        handle_unknown='ignore',\n",
       "                                                                                                        sparse=False)),\n",
       "                                                                                         ('onehotnorm',\n",
       "                                                                                          MaxAbsScaler())]),\n",
       "                                                                         ['occupation',\n",
       "                                                                          'sex']),\n",
       "                                                                        ('numpipe',\n",
       "                                                                         Pipeline(steps=[('numimputer',\n",
       "                                                                                          SimpleImputer()),\n",
       "                                                                                         ('numnorm',\n",
       "                                                                                          StandardScaler())]),\n",
       "                                                                         Index([], dtype='object'))])),\n",
       "                                       ('model', KNeighborsClassifier())]),\n",
       "             param_grid={'model__n_neighbors': [3, 11, 15], 'model__p': [1, 2],\n",
       "                         'preprocess__numpipe__numimputer__strategy': ['mean',\n",
       "                                                                       'median']})"
      ]
     },
     "execution_count": 67,
     "metadata": {},
     "output_type": "execute_result"
    }
   ],
   "source": [
    "gs_full_pipe.fit(X_inc_train,y_inc_train)"
   ]
  },
  {
   "cell_type": "code",
   "execution_count": 68,
   "metadata": {
    "cell_style": "split",
    "slideshow": {
     "slide_type": "fragment"
    }
   },
   "outputs": [
    {
     "data": {
      "text/plain": [
       "0.7785505685539682"
      ]
     },
     "execution_count": 68,
     "metadata": {},
     "output_type": "execute_result"
    }
   ],
   "source": [
    "gs_full_pipe.best_score_"
   ]
  },
  {
   "cell_type": "code",
   "execution_count": 69,
   "metadata": {
    "cell_style": "split",
    "slideshow": {
     "slide_type": "fragment"
    }
   },
   "outputs": [
    {
     "data": {
      "text/plain": [
       "{'model__n_neighbors': 15,\n",
       " 'model__p': 1,\n",
       " 'preprocess__numpipe__numimputer__strategy': 'mean'}"
      ]
     },
     "execution_count": 69,
     "metadata": {},
     "output_type": "execute_result"
    }
   ],
   "source": [
    "gs_full_pipe.best_params_"
   ]
  },
  {
   "cell_type": "code",
   "execution_count": 70,
   "metadata": {
    "cell_style": "center",
    "slideshow": {
     "slide_type": "slide"
    }
   },
   "outputs": [
    {
     "data": {
      "image/png": "[encoded data removed]",
      "text/plain": [
       "<Figure size 432x288 with 2 Axes>"
      ]
     },
     "metadata": {
      "needs_background": "light"
     },
     "output_type": "display_data"
    }
   ],
   "source": [
    "best_model = gs_full_pipe.best_estimator_\n",
    "y_pred = best_model.predict(X_inc_test)\n",
    "#plot_confusion_matrix(best_model,X_inc_test,y_inc_test)\n",
    "ConfusionMatrixDisplay.from_estimator(best_model,X_inc_test,y_inc_test);"
   ]
  },
  {
   "cell_type": "markdown",
   "metadata": {
    "slideshow": {
     "slide_type": "slide"
    }
   },
   "source": [
    "Try a different scoring metric due to class imbalance"
   ]
  },
  {
   "cell_type": "code",
   "execution_count": 71,
   "metadata": {
    "slideshow": {
     "slide_type": "fragment"
    }
   },
   "outputs": [],
   "source": [
    "# going down each level in estimator with double underscore (level1__level2__estimator__argument)\n",
    "final_pipe_grid = {'preprocess__numpipe__numimputer__strategy': [\"mean\", \"median\"],\n",
    "             'model__n_neighbors': [3, 11, 15],\n",
    "             'model__p': [1, 2]}\n",
    "\n",
    "gs_full_pipe2 = GridSearchCV(estimator=final_pipe, \n",
    "                       param_grid=final_pipe_grid, scoring = 'roc_auc')"
   ]
  },
  {
   "cell_type": "code",
   "execution_count": 72,
   "metadata": {
    "slideshow": {
     "slide_type": "slide"
    }
   },
   "outputs": [
    {
     "data": {
      "image/png": "[encoded data removed]",
      "text/plain": [
       "<Figure size 432x288 with 2 Axes>"
      ]
     },
     "metadata": {
      "needs_background": "light"
     },
     "output_type": "display_data"
    }
   ],
   "source": [
    "gs_full_pipe2.fit(X_inc_train, y_inc_train)\n",
    "best_model2 = gs_full_pipe2.best_estimator_\n",
    "#plot_confusion_matrix(best_model2, X_inc_test,y_inc_test)\n",
    "ConfusionMatrixDisplay.from_estimator(best_model2, X_inc_test,y_inc_test);"
   ]
  },
  {
   "cell_type": "markdown",
   "metadata": {
    "slideshow": {
     "slide_type": "slide"
    }
   },
   "source": [
    "Scoring made a difference, but not that much. In some case will make a *huge* difference.\n",
    "\n",
    "Probably would do much better with a better classifier and a better tuning range:\n",
    "- But now you see how to address hyperparameters inside column transformers\n",
    "- At any level of the full pipeline\n",
    "- Change metrics you are tuning on"
   ]
  },
  {
   "cell_type": "markdown",
   "metadata": {
    "slideshow": {
     "slide_type": "slide"
    }
   },
   "source": [
    "#### Feature Union"
   ]
  },
  {
   "cell_type": "markdown",
   "metadata": {
    "cell_style": "split",
    "slideshow": {
     "slide_type": "slide"
    }
   },
   "source": [
    "Given a subset of features:\n",
    "- Want to transform feature subset in multiple ways (in parallel)\n",
    "- Keep all of these transformed subsets as features\n",
    "- **Feature Union** of multiple transformers"
   ]
  },
  {
   "cell_type": "markdown",
   "metadata": {
    "cell_style": "split",
    "slideshow": {
     "slide_type": "fragment"
    }
   },
   "source": [
    "- E.g. PolynomialFeatures\n",
    "- Function transformer (transform features according to function)"
   ]
  },
  {
   "cell_type": "code",
   "execution_count": 73,
   "metadata": {
    "slideshow": {
     "slide_type": "slide"
    }
   },
   "outputs": [],
   "source": [
    "from scipy.stats import norm\n",
    "X = np.linspace(-1.7*np.pi, 1.5*np.pi, 100)\n",
    "np.random.shuffle(X)\n",
    "epsilon = norm.rvs(loc = 0, scale = 3.5, size = 100)\n",
    "y = 5*np.sin(2*X) - 3*np.cos(X) + 2*X + .3*X**2 + epsilon\n",
    "data_df = pd.DataFrame()\n",
    "data_df['X'] = X\n",
    "data_df['y'] = y"
   ]
  },
  {
   "cell_type": "code",
   "execution_count": 74,
   "metadata": {
    "cell_style": "split",
    "scrolled": false,
    "slideshow": {
     "slide_type": "slide"
    }
   },
   "outputs": [
    {
     "data": {
      "text/html": [
       "<div>\n",
       "<style scoped>\n",
       "    .dataframe tbody tr th:only-of-type {\n",
       "        vertical-align: middle;\n",
       "    }\n",
       "\n",
       "    .dataframe tbody tr th {\n",
       "        vertical-align: top;\n",
       "    }\n",
       "\n",
       "    .dataframe thead th {\n",
       "        text-align: right;\n",
       "    }\n",
       "</style>\n",
       "<table border=\"1\" class=\"dataframe\">\n",
       "  <thead>\n",
       "    <tr style=\"text-align: right;\">\n",
       "      <th></th>\n",
       "      <th>X</th>\n",
       "      <th>y</th>\n",
       "    </tr>\n",
       "  </thead>\n",
       "  <tbody>\n",
       "    <tr>\n",
       "      <th>0</th>\n",
       "      <td>1.665996</td>\n",
       "      <td>-3.822721</td>\n",
       "    </tr>\n",
       "    <tr>\n",
       "      <th>1</th>\n",
       "      <td>-4.020604</td>\n",
       "      <td>-3.210299</td>\n",
       "    </tr>\n",
       "    <tr>\n",
       "      <th>2</th>\n",
       "      <td>1.056718</td>\n",
       "      <td>7.538681</td>\n",
       "    </tr>\n",
       "    <tr>\n",
       "      <th>3</th>\n",
       "      <td>-0.161840</td>\n",
       "      <td>-0.769299</td>\n",
       "    </tr>\n",
       "    <tr>\n",
       "      <th>4</th>\n",
       "      <td>-2.802047</td>\n",
       "      <td>6.853045</td>\n",
       "    </tr>\n",
       "    <tr>\n",
       "      <th>...</th>\n",
       "      <td>...</td>\n",
       "      <td>...</td>\n",
       "    </tr>\n",
       "    <tr>\n",
       "      <th>95</th>\n",
       "      <td>-0.974211</td>\n",
       "      <td>-7.708988</td>\n",
       "    </tr>\n",
       "    <tr>\n",
       "      <th>96</th>\n",
       "      <td>-0.872665</td>\n",
       "      <td>-2.571367</td>\n",
       "    </tr>\n",
       "    <tr>\n",
       "      <th>97</th>\n",
       "      <td>-1.177304</td>\n",
       "      <td>-1.089808</td>\n",
       "    </tr>\n",
       "    <tr>\n",
       "      <th>98</th>\n",
       "      <td>-1.786582</td>\n",
       "      <td>-3.474684</td>\n",
       "    </tr>\n",
       "    <tr>\n",
       "      <th>99</th>\n",
       "      <td>-2.091222</td>\n",
       "      <td>-2.707275</td>\n",
       "    </tr>\n",
       "  </tbody>\n",
       "</table>\n",
       "<p>100 rows × 2 columns</p>\n",
       "</div>"
      ],
      "text/plain": [
       "           X         y\n",
       "0   1.665996 -3.822721\n",
       "1  -4.020604 -3.210299\n",
       "2   1.056718  7.538681\n",
       "3  -0.161840 -0.769299\n",
       "4  -2.802047  6.853045\n",
       "..       ...       ...\n",
       "95 -0.974211 -7.708988\n",
       "96 -0.872665 -2.571367\n",
       "97 -1.177304 -1.089808\n",
       "98 -1.786582 -3.474684\n",
       "99 -2.091222 -2.707275\n",
       "\n",
       "[100 rows x 2 columns]"
      ]
     },
     "execution_count": 74,
     "metadata": {},
     "output_type": "execute_result"
    }
   ],
   "source": [
    "data_df"
   ]
  },
  {
   "cell_type": "code",
   "execution_count": 75,
   "metadata": {
    "cell_style": "split",
    "scrolled": false,
    "slideshow": {
     "slide_type": "fragment"
    }
   },
   "outputs": [
    {
     "data": {
      "image/png": "[encoded data removed]",
      "text/plain": [
       "<Figure size 432x288 with 1 Axes>"
      ]
     },
     "metadata": {
      "needs_background": "light"
     },
     "output_type": "display_data"
    }
   ],
   "source": [
    "sns.scatterplot(x = 'X', y = 'y', data = \n",
    "                data_df)\n",
    "plt.show()"
   ]
  },
  {
   "cell_type": "code",
   "execution_count": 76,
   "metadata": {
    "cell_style": "center",
    "slideshow": {
     "slide_type": "fragment"
    }
   },
   "outputs": [],
   "source": [
    "X_reshape = data_df['X'].values.reshape(-1,1)\n",
    "y = data_df['y']"
   ]
  },
  {
   "cell_type": "code",
   "execution_count": 77,
   "metadata": {
    "slideshow": {
     "slide_type": "fragment"
    }
   },
   "outputs": [],
   "source": [
    "X_train, X_test, y_train, y_test = train_test_split(X_reshape, y, test_size = 0.2)"
   ]
  },
  {
   "cell_type": "code",
   "execution_count": 78,
   "metadata": {
    "slideshow": {
     "slide_type": "slide"
    }
   },
   "outputs": [],
   "source": [
    "from sklearn.preprocessing import PolynomialFeatures\n",
    "from sklearn.preprocessing import FunctionTransformer\n",
    "from sklearn.pipeline import FeatureUnion\n",
    "from sklearn.linear_model import Ridge\n",
    "from sklearn.metrics import mean_absolute_error"
   ]
  },
  {
   "cell_type": "markdown",
   "metadata": {
    "slideshow": {
     "slide_type": "fragment"
    }
   },
   "source": [
    "Let's also define two custom functions:"
   ]
  },
  {
   "cell_type": "code",
   "execution_count": 79,
   "metadata": {
    "cell_style": "split",
    "slideshow": {
     "slide_type": "fragment"
    }
   },
   "outputs": [],
   "source": [
    "def sinefunc(x, c = 1):\n",
    "    return np.sin(c*x)"
   ]
  },
  {
   "cell_type": "code",
   "execution_count": 80,
   "metadata": {
    "cell_style": "split",
    "slideshow": {
     "slide_type": "fragment"
    }
   },
   "outputs": [],
   "source": [
    "def cosfunc(x, d = 1):\n",
    "    return np.cos(d*x)"
   ]
  },
  {
   "cell_type": "code",
   "execution_count": 81,
   "metadata": {
    "cell_style": "center",
    "slideshow": {
     "slide_type": "slide"
    }
   },
   "outputs": [],
   "source": [
    "#FucntionTransformer allows us to use our own functions.\n",
    "transformer_list = [('poly', PolynomialFeatures(include_bias = False)), \n",
    "                     ('sine', FunctionTransformer(sinefunc)), \n",
    "                     ('cosine', FunctionTransformer(cosfunc))\n",
    "                   ]\n",
    "\n",
    "# takes in input features, applies transformers in parallel to inputs, concatenates:\n",
    "feat_union = FeatureUnion(transformer_list) "
   ]
  },
  {
   "cell_type": "code",
   "execution_count": 82,
   "metadata": {
    "cell_style": "center",
    "slideshow": {
     "slide_type": "fragment"
    }
   },
   "outputs": [
    {
     "data": {
      "text/html": [
       "<style>#sk-7225c290-2d57-4fd8-9b66-811ed16f8993 {color: black;background-color: white;}#sk-7225c290-2d57-4fd8-9b66-811ed16f8993 pre{padding: 0;}#sk-7225c290-2d57-4fd8-9b66-811ed16f8993 div.sk-toggleable {background-color: white;}#sk-7225c290-2d57-4fd8-9b66-811ed16f8993 label.sk-toggleable__label {cursor: pointer;display: block;width: 100%;margin-bottom: 0;padding: 0.3em;box-sizing: border-box;text-align: center;}#sk-7225c290-2d57-4fd8-9b66-811ed16f8993 label.sk-toggleable__label-arrow:before {content: \"▸\";float: left;margin-right: 0.25em;color: #696969;}#sk-7225c290-2d57-4fd8-9b66-811ed16f8993 label.sk-toggleable__label-arrow:hover:before {color: black;}#sk-7225c290-2d57-4fd8-9b66-811ed16f8993 div.sk-estimator:hover label.sk-toggleable__label-arrow:before {color: black;}#sk-7225c290-2d57-4fd8-9b66-811ed16f8993 div.sk-toggleable__content {max-height: 0;max-width: 0;overflow: hidden;text-align: left;background-color: #f0f8ff;}#sk-7225c290-2d57-4fd8-9b66-811ed16f8993 div.sk-toggleable__content pre {margin: 0.2em;color: black;border-radius: 0.25em;background-color: #f0f8ff;}#sk-7225c290-2d57-4fd8-9b66-811ed16f8993 input.sk-toggleable__control:checked~div.sk-toggleable__content {max-height: 200px;max-width: 100%;overflow: auto;}#sk-7225c290-2d57-4fd8-9b66-811ed16f8993 input.sk-toggleable__control:checked~label.sk-toggleable__label-arrow:before {content: \"▾\";}#sk-7225c290-2d57-4fd8-9b66-811ed16f8993 div.sk-estimator input.sk-toggleable__control:checked~label.sk-toggleable__label {background-color: #d4ebff;}#sk-7225c290-2d57-4fd8-9b66-811ed16f8993 div.sk-label input.sk-toggleable__control:checked~label.sk-toggleable__label {background-color: #d4ebff;}#sk-7225c290-2d57-4fd8-9b66-811ed16f8993 input.sk-hidden--visually {border: 0;clip: rect(1px 1px 1px 1px);clip: rect(1px, 1px, 1px, 1px);height: 1px;margin: -1px;overflow: hidden;padding: 0;position: absolute;width: 1px;}#sk-7225c290-2d57-4fd8-9b66-811ed16f8993 div.sk-estimator {font-family: monospace;background-color: #f0f8ff;border: 1px dotted black;border-radius: 0.25em;box-sizing: border-box;margin-bottom: 0.5em;}#sk-7225c290-2d57-4fd8-9b66-811ed16f8993 div.sk-estimator:hover {background-color: #d4ebff;}#sk-7225c290-2d57-4fd8-9b66-811ed16f8993 div.sk-parallel-item::after {content: \"\";width: 100%;border-bottom: 1px solid gray;flex-grow: 1;}#sk-7225c290-2d57-4fd8-9b66-811ed16f8993 div.sk-label:hover label.sk-toggleable__label {background-color: #d4ebff;}#sk-7225c290-2d57-4fd8-9b66-811ed16f8993 div.sk-serial::before {content: \"\";position: absolute;border-left: 1px solid gray;box-sizing: border-box;top: 2em;bottom: 0;left: 50%;}#sk-7225c290-2d57-4fd8-9b66-811ed16f8993 div.sk-serial {display: flex;flex-direction: column;align-items: center;background-color: white;padding-right: 0.2em;padding-left: 0.2em;}#sk-7225c290-2d57-4fd8-9b66-811ed16f8993 div.sk-item {z-index: 1;}#sk-7225c290-2d57-4fd8-9b66-811ed16f8993 div.sk-parallel {display: flex;align-items: stretch;justify-content: center;background-color: white;}#sk-7225c290-2d57-4fd8-9b66-811ed16f8993 div.sk-parallel::before {content: \"\";position: absolute;border-left: 1px solid gray;box-sizing: border-box;top: 2em;bottom: 0;left: 50%;}#sk-7225c290-2d57-4fd8-9b66-811ed16f8993 div.sk-parallel-item {display: flex;flex-direction: column;position: relative;background-color: white;}#sk-7225c290-2d57-4fd8-9b66-811ed16f8993 div.sk-parallel-item:first-child::after {align-self: flex-end;width: 50%;}#sk-7225c290-2d57-4fd8-9b66-811ed16f8993 div.sk-parallel-item:last-child::after {align-self: flex-start;width: 50%;}#sk-7225c290-2d57-4fd8-9b66-811ed16f8993 div.sk-parallel-item:only-child::after {width: 0;}#sk-7225c290-2d57-4fd8-9b66-811ed16f8993 div.sk-dashed-wrapped {border: 1px dashed gray;margin: 0 0.4em 0.5em 0.4em;box-sizing: border-box;padding-bottom: 0.4em;background-color: white;position: relative;}#sk-7225c290-2d57-4fd8-9b66-811ed16f8993 div.sk-label label {font-family: monospace;font-weight: bold;background-color: white;display: inline-block;line-height: 1.2em;}#sk-7225c290-2d57-4fd8-9b66-811ed16f8993 div.sk-label-container {position: relative;z-index: 2;text-align: center;}#sk-7225c290-2d57-4fd8-9b66-811ed16f8993 div.sk-container {/* jupyter's `normalize.less` sets `[hidden] { display: none; }` but bootstrap.min.css set `[hidden] { display: none !important; }` so we also need the `!important` here to be able to override the default hidden behavior on the sphinx rendered scikit-learn.org. See: https://github.com/scikit-learn/scikit-learn/issues/21755 */display: inline-block !important;position: relative;}#sk-7225c290-2d57-4fd8-9b66-811ed16f8993 div.sk-text-repr-fallback {display: none;}</style><div id=\"sk-7225c290-2d57-4fd8-9b66-811ed16f8993\" class=\"sk-top-container\"><div class=\"sk-text-repr-fallback\"><pre>Pipeline(steps=[(&#x27;feateng&#x27;,\n",
       "                 FeatureUnion(transformer_list=[(&#x27;poly&#x27;,\n",
       "                                                 PolynomialFeatures(include_bias=False)),\n",
       "                                                (&#x27;sine&#x27;,\n",
       "                                                 FunctionTransformer(func=&lt;function sinefunc at 0x000001D3FADA1C10&gt;)),\n",
       "                                                (&#x27;cosine&#x27;,\n",
       "                                                 FunctionTransformer(func=&lt;function cosfunc at 0x000001D3FAE8D940&gt;))])),\n",
       "                (&#x27;scaler&#x27;, StandardScaler())])</pre><b>Please rerun this cell to show the HTML repr or trust the notebook.</b></div><div class=\"sk-container\" hidden><div class=\"sk-item sk-dashed-wrapped\"><div class=\"sk-label-container\"><div class=\"sk-label sk-toggleable\"><input class=\"sk-toggleable__control sk-hidden--visually\" id=\"9ab5cbef-9a34-4b57-b7a8-4807ca18b8b4\" type=\"checkbox\" ><label for=\"9ab5cbef-9a34-4b57-b7a8-4807ca18b8b4\" class=\"sk-toggleable__label sk-toggleable__label-arrow\">Pipeline</label><div class=\"sk-toggleable__content\"><pre>Pipeline(steps=[(&#x27;feateng&#x27;,\n",
       "                 FeatureUnion(transformer_list=[(&#x27;poly&#x27;,\n",
       "                                                 PolynomialFeatures(include_bias=False)),\n",
       "                                                (&#x27;sine&#x27;,\n",
       "                                                 FunctionTransformer(func=&lt;function sinefunc at 0x000001D3FADA1C10&gt;)),\n",
       "                                                (&#x27;cosine&#x27;,\n",
       "                                                 FunctionTransformer(func=&lt;function cosfunc at 0x000001D3FAE8D940&gt;))])),\n",
       "                (&#x27;scaler&#x27;, StandardScaler())])</pre></div></div></div><div class=\"sk-serial\"><div class=\"sk-item sk-dashed-wrapped\"><div class=\"sk-label-container\"><div class=\"sk-label sk-toggleable\"><input class=\"sk-toggleable__control sk-hidden--visually\" id=\"48b3a586-1cb4-4bb0-830d-fea8eb3751ac\" type=\"checkbox\" ><label for=\"48b3a586-1cb4-4bb0-830d-fea8eb3751ac\" class=\"sk-toggleable__label sk-toggleable__label-arrow\">feateng: FeatureUnion</label><div class=\"sk-toggleable__content\"><pre>FeatureUnion(transformer_list=[(&#x27;poly&#x27;, PolynomialFeatures(include_bias=False)),\n",
       "                               (&#x27;sine&#x27;,\n",
       "                                FunctionTransformer(func=&lt;function sinefunc at 0x000001D3FADA1C10&gt;)),\n",
       "                               (&#x27;cosine&#x27;,\n",
       "                                FunctionTransformer(func=&lt;function cosfunc at 0x000001D3FAE8D940&gt;))])</pre></div></div></div><div class=\"sk-parallel\"><div class=\"sk-parallel-item\"><div class=\"sk-item\"><div class=\"sk-label-container\"><div class=\"sk-label sk-toggleable\"><label>poly</label></div></div><div class=\"sk-serial\"><div class=\"sk-item\"><div class=\"sk-estimator sk-toggleable\"><input class=\"sk-toggleable__control sk-hidden--visually\" id=\"5a35d46e-d0d5-4e83-8155-00277820457d\" type=\"checkbox\" ><label for=\"5a35d46e-d0d5-4e83-8155-00277820457d\" class=\"sk-toggleable__label sk-toggleable__label-arrow\">PolynomialFeatures</label><div class=\"sk-toggleable__content\"><pre>PolynomialFeatures(include_bias=False)</pre></div></div></div></div></div></div><div class=\"sk-parallel-item\"><div class=\"sk-item\"><div class=\"sk-label-container\"><div class=\"sk-label sk-toggleable\"><label>sine</label></div></div><div class=\"sk-serial\"><div class=\"sk-item\"><div class=\"sk-estimator sk-toggleable\"><input class=\"sk-toggleable__control sk-hidden--visually\" id=\"dda1a4c8-928f-4b7b-993e-32a3710b4131\" type=\"checkbox\" ><label for=\"dda1a4c8-928f-4b7b-993e-32a3710b4131\" class=\"sk-toggleable__label sk-toggleable__label-arrow\">FunctionTransformer</label><div class=\"sk-toggleable__content\"><pre>FunctionTransformer(func=&lt;function sinefunc at 0x000001D3FADA1C10&gt;)</pre></div></div></div></div></div></div><div class=\"sk-parallel-item\"><div class=\"sk-item\"><div class=\"sk-label-container\"><div class=\"sk-label sk-toggleable\"><label>cosine</label></div></div><div class=\"sk-serial\"><div class=\"sk-item\"><div class=\"sk-estimator sk-toggleable\"><input class=\"sk-toggleable__control sk-hidden--visually\" id=\"7ae6e99d-bb88-4faa-9242-1697ff69b04f\" type=\"checkbox\" ><label for=\"7ae6e99d-bb88-4faa-9242-1697ff69b04f\" class=\"sk-toggleable__label sk-toggleable__label-arrow\">FunctionTransformer</label><div class=\"sk-toggleable__content\"><pre>FunctionTransformer(func=&lt;function cosfunc at 0x000001D3FAE8D940&gt;)</pre></div></div></div></div></div></div></div></div><div class=\"sk-item\"><div class=\"sk-estimator sk-toggleable\"><input class=\"sk-toggleable__control sk-hidden--visually\" id=\"1a85c475-4923-483d-beff-8a74f0f8b2df\" type=\"checkbox\" ><label for=\"1a85c475-4923-483d-beff-8a74f0f8b2df\" class=\"sk-toggleable__label sk-toggleable__label-arrow\">StandardScaler</label><div class=\"sk-toggleable__content\"><pre>StandardScaler()</pre></div></div></div></div></div></div></div>"
      ],
      "text/plain": [
       "Pipeline(steps=[('feateng',\n",
       "                 FeatureUnion(transformer_list=[('poly',\n",
       "                                                 PolynomialFeatures(include_bias=False)),\n",
       "                                                ('sine',\n",
       "                                                 FunctionTransformer(func=<function sinefunc at 0x000001D3FADA1C10>)),\n",
       "                                                ('cosine',\n",
       "                                                 FunctionTransformer(func=<function cosfunc at 0x000001D3FAE8D940>))])),\n",
       "                ('scaler', StandardScaler())])"
      ]
     },
     "execution_count": 82,
     "metadata": {},
     "output_type": "execute_result"
    }
   ],
   "source": [
    "## We always want to do standardScaler at the end.\n",
    "\n",
    "steps = [('feateng', feat_union), ('scaler', StandardScaler())]\n",
    "preprocess_pipe = Pipeline(steps)\n",
    "preprocess_pipe"
   ]
  },
  {
   "cell_type": "code",
   "execution_count": 83,
   "metadata": {
    "cell_style": "center",
    "scrolled": false,
    "slideshow": {
     "slide_type": "slide"
    }
   },
   "outputs": [
    {
     "data": {
      "text/plain": [
       "array([[-1.49875685,  1.57929185,  1.28303459, -0.16938894],\n",
       "       [-1.82865747,  2.76933705,  1.07374219,  1.12166068],\n",
       "       [-0.14249874, -0.9734071 , -0.91473789,  1.41312793],\n",
       "       [-0.94892248,  0.09076876, -0.3794044 , -1.19400998],\n",
       "       [-0.36243249, -0.81514682, -1.38350993,  0.67627054]])"
      ]
     },
     "execution_count": 83,
     "metadata": {},
     "output_type": "execute_result"
    }
   ],
   "source": [
    "X_proc = preprocess_pipe.fit_transform(X_train)\n",
    "X_proc[0:5]"
   ]
  },
  {
   "cell_type": "markdown",
   "metadata": {
    "cell_style": "split",
    "slideshow": {
     "slide_type": "fragment"
    }
   },
   "source": [
    "First column is linear in X, second quadratic in X, then the sin and cosine terms.\n",
    "\n",
    "- Check if all standard scaled:"
   ]
  },
  {
   "cell_type": "code",
   "execution_count": 84,
   "metadata": {
    "cell_style": "split",
    "slideshow": {
     "slide_type": "fragment"
    }
   },
   "outputs": [
    {
     "name": "stdout",
     "output_type": "stream",
     "text": [
      "[ 0.00000000e+00 -1.76074433e-16  8.32667268e-18 -8.88178420e-17]\n"
     ]
    }
   ],
   "source": [
    "print(X_proc.mean(axis = 0))"
   ]
  },
  {
   "cell_type": "code",
   "execution_count": 85,
   "metadata": {
    "cell_style": "split",
    "slideshow": {
     "slide_type": "fragment"
    }
   },
   "outputs": [
    {
     "name": "stdout",
     "output_type": "stream",
     "text": [
      "[1. 1. 1. 1.]\n"
     ]
    }
   ],
   "source": [
    "print(X_proc.std(axis = 0))"
   ]
  },
  {
   "cell_type": "markdown",
   "metadata": {
    "slideshow": {
     "slide_type": "slide"
    }
   },
   "source": [
    "Finish pipeline and hyperparameter tune:"
   ]
  },
  {
   "cell_type": "code",
   "execution_count": 86,
   "metadata": {
    "slideshow": {
     "slide_type": "fragment"
    }
   },
   "outputs": [],
   "source": [
    "steps = [('preprocess', preprocess_pipe), ('ridge', Ridge())]\n",
    "regress_pipe = Pipeline(steps)\n",
    "params = {'preprocess__feateng__poly__degree': [1, 2, 3, 4], \n",
    "          'preprocess__feateng__sine__kw_args': [{'c': 1},{'c': 2},{'c': 3}],\n",
    "          'ridge__alpha': [1e-3, .01, .1, 1, 10, 100]}\n",
    "cv = GridSearchCV(estimator = regress_pipe, param_grid = params, cv = 6)\n",
    "cv.fit(X_train, y_train)\n",
    "best_model = cv.best_estimator_"
   ]
  },
  {
   "cell_type": "code",
   "execution_count": 87,
   "metadata": {
    "cell_style": "center",
    "scrolled": false,
    "slideshow": {
     "slide_type": "slide"
    }
   },
   "outputs": [
    {
     "data": {
      "text/plain": [
       "[('preprocess',\n",
       "  Pipeline(steps=[('feateng',\n",
       "                   FeatureUnion(transformer_list=[('poly',\n",
       "                                                   PolynomialFeatures(include_bias=False)),\n",
       "                                                  ('sine',\n",
       "                                                   FunctionTransformer(func=<function sinefunc at 0x000001D3FADA1C10>,\n",
       "                                                                       kw_args={'c': 2})),\n",
       "                                                  ('cosine',\n",
       "                                                   FunctionTransformer(func=<function cosfunc at 0x000001D3FAE8D940>))])),\n",
       "                  ('scaler', StandardScaler())])),\n",
       " ('ridge', Ridge(alpha=0.001))]"
      ]
     },
     "execution_count": 87,
     "metadata": {},
     "output_type": "execute_result"
    }
   ],
   "source": [
    "best_model.steps"
   ]
  },
  {
   "cell_type": "code",
   "execution_count": 88,
   "metadata": {
    "cell_style": "split",
    "slideshow": {
     "slide_type": "fragment"
    }
   },
   "outputs": [
    {
     "data": {
      "text/plain": [
       "0.7450595264640794"
      ]
     },
     "execution_count": 88,
     "metadata": {},
     "output_type": "execute_result"
    }
   ],
   "source": [
    "cv.best_score_"
   ]
  },
  {
   "cell_type": "code",
   "execution_count": 89,
   "metadata": {
    "cell_style": "split",
    "slideshow": {
     "slide_type": "fragment"
    }
   },
   "outputs": [
    {
     "data": {
      "text/plain": [
       "{'preprocess__feateng__poly__degree': 2,\n",
       " 'preprocess__feateng__sine__kw_args': {'c': 2},\n",
       " 'ridge__alpha': 0.001}"
      ]
     },
     "execution_count": 89,
     "metadata": {},
     "output_type": "execute_result"
    }
   ],
   "source": [
    "cv.best_params_"
   ]
  },
  {
   "cell_type": "code",
   "execution_count": 90,
   "metadata": {
    "scrolled": false,
    "slideshow": {
     "slide_type": "slide"
    }
   },
   "outputs": [
    {
     "data": {
      "text/html": [
       "<div>\n",
       "<style scoped>\n",
       "    .dataframe tbody tr th:only-of-type {\n",
       "        vertical-align: middle;\n",
       "    }\n",
       "\n",
       "    .dataframe tbody tr th {\n",
       "        vertical-align: top;\n",
       "    }\n",
       "\n",
       "    .dataframe thead th {\n",
       "        text-align: right;\n",
       "    }\n",
       "</style>\n",
       "<table border=\"1\" class=\"dataframe\">\n",
       "  <thead>\n",
       "    <tr style=\"text-align: right;\">\n",
       "      <th></th>\n",
       "      <th>mean_fit_time</th>\n",
       "      <th>std_fit_time</th>\n",
       "      <th>mean_score_time</th>\n",
       "      <th>std_score_time</th>\n",
       "      <th>param_preprocess__feateng__poly__degree</th>\n",
       "      <th>param_preprocess__feateng__sine__kw_args</th>\n",
       "      <th>param_ridge__alpha</th>\n",
       "      <th>params</th>\n",
       "      <th>split0_test_score</th>\n",
       "      <th>split1_test_score</th>\n",
       "      <th>split2_test_score</th>\n",
       "      <th>split3_test_score</th>\n",
       "      <th>split4_test_score</th>\n",
       "      <th>split5_test_score</th>\n",
       "      <th>mean_test_score</th>\n",
       "      <th>std_test_score</th>\n",
       "      <th>rank_test_score</th>\n",
       "    </tr>\n",
       "  </thead>\n",
       "  <tbody>\n",
       "    <tr>\n",
       "      <th>0</th>\n",
       "      <td>0.001909</td>\n",
       "      <td>1.624509e-03</td>\n",
       "      <td>0.000334</td>\n",
       "      <td>0.000472</td>\n",
       "      <td>1</td>\n",
       "      <td>{'c': 1}</td>\n",
       "      <td>0.001</td>\n",
       "      <td>{'preprocess__feateng__poly__degree': 1, 'prep...</td>\n",
       "      <td>0.583129</td>\n",
       "      <td>0.507397</td>\n",
       "      <td>0.183990</td>\n",
       "      <td>0.428833</td>\n",
       "      <td>0.397516</td>\n",
       "      <td>0.633619</td>\n",
       "      <td>0.455748</td>\n",
       "      <td>0.146344</td>\n",
       "      <td>59</td>\n",
       "    </tr>\n",
       "    <tr>\n",
       "      <th>1</th>\n",
       "      <td>0.001253</td>\n",
       "      <td>5.638103e-04</td>\n",
       "      <td>0.000500</td>\n",
       "      <td>0.000500</td>\n",
       "      <td>1</td>\n",
       "      <td>{'c': 1}</td>\n",
       "      <td>0.01</td>\n",
       "      <td>{'preprocess__feateng__poly__degree': 1, 'prep...</td>\n",
       "      <td>0.583129</td>\n",
       "      <td>0.507384</td>\n",
       "      <td>0.184018</td>\n",
       "      <td>0.428830</td>\n",
       "      <td>0.397513</td>\n",
       "      <td>0.633613</td>\n",
       "      <td>0.455748</td>\n",
       "      <td>0.146333</td>\n",
       "      <td>58</td>\n",
       "    </tr>\n",
       "    <tr>\n",
       "      <th>2</th>\n",
       "      <td>0.001007</td>\n",
       "      <td>1.197280e-05</td>\n",
       "      <td>0.000334</td>\n",
       "      <td>0.000472</td>\n",
       "      <td>1</td>\n",
       "      <td>{'c': 1}</td>\n",
       "      <td>0.1</td>\n",
       "      <td>{'preprocess__feateng__poly__degree': 1, 'prep...</td>\n",
       "      <td>0.583130</td>\n",
       "      <td>0.507246</td>\n",
       "      <td>0.184296</td>\n",
       "      <td>0.428796</td>\n",
       "      <td>0.397479</td>\n",
       "      <td>0.633549</td>\n",
       "      <td>0.455749</td>\n",
       "      <td>0.146230</td>\n",
       "      <td>57</td>\n",
       "    </tr>\n",
       "    <tr>\n",
       "      <th>3</th>\n",
       "      <td>0.001001</td>\n",
       "      <td>3.000035e-07</td>\n",
       "      <td>0.000501</td>\n",
       "      <td>0.000501</td>\n",
       "      <td>1</td>\n",
       "      <td>{'c': 1}</td>\n",
       "      <td>1</td>\n",
       "      <td>{'preprocess__feateng__poly__degree': 1, 'prep...</td>\n",
       "      <td>0.582978</td>\n",
       "      <td>0.505818</td>\n",
       "      <td>0.186935</td>\n",
       "      <td>0.428343</td>\n",
       "      <td>0.397003</td>\n",
       "      <td>0.632771</td>\n",
       "      <td>0.455641</td>\n",
       "      <td>0.145198</td>\n",
       "      <td>60</td>\n",
       "    </tr>\n",
       "    <tr>\n",
       "      <th>4</th>\n",
       "      <td>0.000585</td>\n",
       "      <td>4.493445e-04</td>\n",
       "      <td>0.001001</td>\n",
       "      <td>0.000501</td>\n",
       "      <td>1</td>\n",
       "      <td>{'c': 1}</td>\n",
       "      <td>10</td>\n",
       "      <td>{'preprocess__feateng__poly__degree': 1, 'prep...</td>\n",
       "      <td>0.569496</td>\n",
       "      <td>0.487783</td>\n",
       "      <td>0.202295</td>\n",
       "      <td>0.416000</td>\n",
       "      <td>0.381944</td>\n",
       "      <td>0.614493</td>\n",
       "      <td>0.445335</td>\n",
       "      <td>0.135265</td>\n",
       "      <td>62</td>\n",
       "    </tr>\n",
       "    <tr>\n",
       "      <th>...</th>\n",
       "      <td>...</td>\n",
       "      <td>...</td>\n",
       "      <td>...</td>\n",
       "      <td>...</td>\n",
       "      <td>...</td>\n",
       "      <td>...</td>\n",
       "      <td>...</td>\n",
       "      <td>...</td>\n",
       "      <td>...</td>\n",
       "      <td>...</td>\n",
       "      <td>...</td>\n",
       "      <td>...</td>\n",
       "      <td>...</td>\n",
       "      <td>...</td>\n",
       "      <td>...</td>\n",
       "      <td>...</td>\n",
       "      <td>...</td>\n",
       "    </tr>\n",
       "    <tr>\n",
       "      <th>67</th>\n",
       "      <td>0.001252</td>\n",
       "      <td>3.825824e-04</td>\n",
       "      <td>0.000500</td>\n",
       "      <td>0.000500</td>\n",
       "      <td>4</td>\n",
       "      <td>{'c': 3}</td>\n",
       "      <td>0.01</td>\n",
       "      <td>{'preprocess__feateng__poly__degree': 4, 'prep...</td>\n",
       "      <td>0.484135</td>\n",
       "      <td>0.490791</td>\n",
       "      <td>0.383617</td>\n",
       "      <td>0.555958</td>\n",
       "      <td>0.619995</td>\n",
       "      <td>0.657440</td>\n",
       "      <td>0.531989</td>\n",
       "      <td>0.091341</td>\n",
       "      <td>31</td>\n",
       "    </tr>\n",
       "    <tr>\n",
       "      <th>68</th>\n",
       "      <td>0.001002</td>\n",
       "      <td>2.883806e-04</td>\n",
       "      <td>0.000671</td>\n",
       "      <td>0.000475</td>\n",
       "      <td>4</td>\n",
       "      <td>{'c': 3}</td>\n",
       "      <td>0.1</td>\n",
       "      <td>{'preprocess__feateng__poly__degree': 4, 'prep...</td>\n",
       "      <td>0.495121</td>\n",
       "      <td>0.491233</td>\n",
       "      <td>0.381037</td>\n",
       "      <td>0.561385</td>\n",
       "      <td>0.621331</td>\n",
       "      <td>0.655296</td>\n",
       "      <td>0.534234</td>\n",
       "      <td>0.091129</td>\n",
       "      <td>26</td>\n",
       "    </tr>\n",
       "    <tr>\n",
       "      <th>69</th>\n",
       "      <td>0.001169</td>\n",
       "      <td>3.726823e-04</td>\n",
       "      <td>0.000334</td>\n",
       "      <td>0.000472</td>\n",
       "      <td>4</td>\n",
       "      <td>{'c': 3}</td>\n",
       "      <td>1</td>\n",
       "      <td>{'preprocess__feateng__poly__degree': 4, 'prep...</td>\n",
       "      <td>0.507309</td>\n",
       "      <td>0.492242</td>\n",
       "      <td>0.373564</td>\n",
       "      <td>0.572163</td>\n",
       "      <td>0.623174</td>\n",
       "      <td>0.652533</td>\n",
       "      <td>0.536831</td>\n",
       "      <td>0.092742</td>\n",
       "      <td>21</td>\n",
       "    </tr>\n",
       "    <tr>\n",
       "      <th>70</th>\n",
       "      <td>0.001283</td>\n",
       "      <td>4.453299e-04</td>\n",
       "      <td>0.000500</td>\n",
       "      <td>0.000500</td>\n",
       "      <td>4</td>\n",
       "      <td>{'c': 3}</td>\n",
       "      <td>10</td>\n",
       "      <td>{'preprocess__feateng__poly__degree': 4, 'prep...</td>\n",
       "      <td>0.501156</td>\n",
       "      <td>0.491473</td>\n",
       "      <td>0.363569</td>\n",
       "      <td>0.553401</td>\n",
       "      <td>0.620151</td>\n",
       "      <td>0.648017</td>\n",
       "      <td>0.529628</td>\n",
       "      <td>0.093646</td>\n",
       "      <td>35</td>\n",
       "    </tr>\n",
       "    <tr>\n",
       "      <th>71</th>\n",
       "      <td>0.001251</td>\n",
       "      <td>3.824796e-04</td>\n",
       "      <td>0.000334</td>\n",
       "      <td>0.000472</td>\n",
       "      <td>4</td>\n",
       "      <td>{'c': 3}</td>\n",
       "      <td>100</td>\n",
       "      <td>{'preprocess__feateng__poly__degree': 4, 'prep...</td>\n",
       "      <td>0.342328</td>\n",
       "      <td>0.369505</td>\n",
       "      <td>0.239621</td>\n",
       "      <td>0.346055</td>\n",
       "      <td>0.362149</td>\n",
       "      <td>0.414939</td>\n",
       "      <td>0.345766</td>\n",
       "      <td>0.053065</td>\n",
       "      <td>65</td>\n",
       "    </tr>\n",
       "  </tbody>\n",
       "</table>\n",
       "<p>72 rows × 17 columns</p>\n",
       "</div>"
      ],
      "text/plain": [
       "    mean_fit_time  std_fit_time  mean_score_time  std_score_time  \\\n",
       "0        0.001909  1.624509e-03         0.000334        0.000472   \n",
       "1        0.001253  5.638103e-04         0.000500        0.000500   \n",
       "2        0.001007  1.197280e-05         0.000334        0.000472   \n",
       "3        0.001001  3.000035e-07         0.000501        0.000501   \n",
       "4        0.000585  4.493445e-04         0.001001        0.000501   \n",
       "..            ...           ...              ...             ...   \n",
       "67       0.001252  3.825824e-04         0.000500        0.000500   \n",
       "68       0.001002  2.883806e-04         0.000671        0.000475   \n",
       "69       0.001169  3.726823e-04         0.000334        0.000472   \n",
       "70       0.001283  4.453299e-04         0.000500        0.000500   \n",
       "71       0.001251  3.824796e-04         0.000334        0.000472   \n",
       "\n",
       "   param_preprocess__feateng__poly__degree  \\\n",
       "0                                        1   \n",
       "1                                        1   \n",
       "2                                        1   \n",
       "3                                        1   \n",
       "4                                        1   \n",
       "..                                     ...   \n",
       "67                                       4   \n",
       "68                                       4   \n",
       "69                                       4   \n",
       "70                                       4   \n",
       "71                                       4   \n",
       "\n",
       "   param_preprocess__feateng__sine__kw_args param_ridge__alpha  \\\n",
       "0                                  {'c': 1}              0.001   \n",
       "1                                  {'c': 1}               0.01   \n",
       "2                                  {'c': 1}                0.1   \n",
       "3                                  {'c': 1}                  1   \n",
       "4                                  {'c': 1}                 10   \n",
       "..                                      ...                ...   \n",
       "67                                 {'c': 3}               0.01   \n",
       "68                                 {'c': 3}                0.1   \n",
       "69                                 {'c': 3}                  1   \n",
       "70                                 {'c': 3}                 10   \n",
       "71                                 {'c': 3}                100   \n",
       "\n",
       "                                               params  split0_test_score  \\\n",
       "0   {'preprocess__feateng__poly__degree': 1, 'prep...           0.583129   \n",
       "1   {'preprocess__feateng__poly__degree': 1, 'prep...           0.583129   \n",
       "2   {'preprocess__feateng__poly__degree': 1, 'prep...           0.583130   \n",
       "3   {'preprocess__feateng__poly__degree': 1, 'prep...           0.582978   \n",
       "4   {'preprocess__feateng__poly__degree': 1, 'prep...           0.569496   \n",
       "..                                                ...                ...   \n",
       "67  {'preprocess__feateng__poly__degree': 4, 'prep...           0.484135   \n",
       "68  {'preprocess__feateng__poly__degree': 4, 'prep...           0.495121   \n",
       "69  {'preprocess__feateng__poly__degree': 4, 'prep...           0.507309   \n",
       "70  {'preprocess__feateng__poly__degree': 4, 'prep...           0.501156   \n",
       "71  {'preprocess__feateng__poly__degree': 4, 'prep...           0.342328   \n",
       "\n",
       "    split1_test_score  split2_test_score  split3_test_score  \\\n",
       "0            0.507397           0.183990           0.428833   \n",
       "1            0.507384           0.184018           0.428830   \n",
       "2            0.507246           0.184296           0.428796   \n",
       "3            0.505818           0.186935           0.428343   \n",
       "4            0.487783           0.202295           0.416000   \n",
       "..                ...                ...                ...   \n",
       "67           0.490791           0.383617           0.555958   \n",
       "68           0.491233           0.381037           0.561385   \n",
       "69           0.492242           0.373564           0.572163   \n",
       "70           0.491473           0.363569           0.553401   \n",
       "71           0.369505           0.239621           0.346055   \n",
       "\n",
       "    split4_test_score  split5_test_score  mean_test_score  std_test_score  \\\n",
       "0            0.397516           0.633619         0.455748        0.146344   \n",
       "1            0.397513           0.633613         0.455748        0.146333   \n",
       "2            0.397479           0.633549         0.455749        0.146230   \n",
       "3            0.397003           0.632771         0.455641        0.145198   \n",
       "4            0.381944           0.614493         0.445335        0.135265   \n",
       "..                ...                ...              ...             ...   \n",
       "67           0.619995           0.657440         0.531989        0.091341   \n",
       "68           0.621331           0.655296         0.534234        0.091129   \n",
       "69           0.623174           0.652533         0.536831        0.092742   \n",
       "70           0.620151           0.648017         0.529628        0.093646   \n",
       "71           0.362149           0.414939         0.345766        0.053065   \n",
       "\n",
       "    rank_test_score  \n",
       "0                59  \n",
       "1                58  \n",
       "2                57  \n",
       "3                60  \n",
       "4                62  \n",
       "..              ...  \n",
       "67               31  \n",
       "68               26  \n",
       "69               21  \n",
       "70               35  \n",
       "71               65  \n",
       "\n",
       "[72 rows x 17 columns]"
      ]
     },
     "execution_count": 90,
     "metadata": {},
     "output_type": "execute_result"
    }
   ],
   "source": [
    "pd.DataFrame(cv.cv_results_)"
   ]
  },
  {
   "cell_type": "code",
   "execution_count": 91,
   "metadata": {
    "scrolled": false,
    "slideshow": {
     "slide_type": "slide"
    }
   },
   "outputs": [],
   "source": [
    "best_model.fit(X_train, y_train)\n",
    "y_predictions = best_model.predict(data_df['X'].values.reshape(-1,1))"
   ]
  },
  {
   "cell_type": "code",
   "execution_count": 92,
   "metadata": {
    "cell_style": "split",
    "scrolled": true,
    "slideshow": {
     "slide_type": "fragment"
    }
   },
   "outputs": [
    {
     "data": {
      "image/png": "[encoded data removed]",
      "text/plain": [
       "<Figure size 432x288 with 1 Axes>"
      ]
     },
     "metadata": {
      "needs_background": "light"
     },
     "output_type": "display_data"
    }
   ],
   "source": [
    "fig, ax = plt.subplots()\n",
    "ax.scatter(X, y_predictions, label = 'fit')\n",
    "ax.scatter(X, y, label = 'data')\n",
    "ax.legend()\n",
    "plt.show()"
   ]
  },
  {
   "cell_type": "code",
   "execution_count": 93,
   "metadata": {
    "cell_style": "split",
    "slideshow": {
     "slide_type": "fragment"
    }
   },
   "outputs": [],
   "source": [
    "y_pred = best_model.predict(X_test)"
   ]
  },
  {
   "cell_type": "code",
   "execution_count": 94,
   "metadata": {
    "cell_style": "split",
    "slideshow": {
     "slide_type": "fragment"
    }
   },
   "outputs": [
    {
     "data": {
      "text/plain": [
       "2.6937139412888027"
      ]
     },
     "execution_count": 94,
     "metadata": {},
     "output_type": "execute_result"
    }
   ],
   "source": [
    "mean_absolute_error(y_pred, y_test)"
   ]
  },
  {
   "cell_type": "markdown",
   "metadata": {
    "cell_style": "split",
    "slideshow": {
     "slide_type": "fragment"
    }
   },
   "source": [
    "Can use Pipelines, FeatureUnions, FunctionTransformers:\n",
    "- to systematically search basis function spaces\n",
    "- Get best fits based off series of functions\n",
    "- Best function selection"
   ]
  },
  {
   "cell_type": "markdown",
   "metadata": {
    "cell_style": "split",
    "slideshow": {
     "slide_type": "fragment"
    }
   },
   "source": [
    "**Obviously very powerful**"
   ]
  },
  {
   "cell_type": "markdown",
   "metadata": {
    "slideshow": {
     "slide_type": "slide"
    }
   },
   "source": [
    "Combining FeatureUnion with ColumnTransformer:\n",
    "- Apply function finding/feature engineering of different kinds to different columns\n",
    "- Input transformed features into various types of predictive models (with regularization/hyperparameter tuning)\n",
    "\n",
    "**Now can start to build very powerful/flexible models**"
   ]
  },
  {
   "cell_type": "markdown",
   "metadata": {
    "cell_style": "split",
    "slideshow": {
     "slide_type": "slide"
    }
   },
   "source": [
    "Kind of like building legos. \n",
    "- Maybe you want some extra pieces\n",
    "- Model/Transformer extensions\n",
    "- Treat models like transformers in FeatureUnion (parallel modeling)\n",
    "- Get an expansion pack!\n"
   ]
  },
  {
   "cell_type": "markdown",
   "metadata": {
    "cell_style": "split",
    "slideshow": {
     "slide_type": "fragment"
    }
   },
   "source": [
    "May be worth exploring **sklego**:\n",
    "<center><img src = \"Images/sklego.png\" width = 300 /></center>\n",
    "\n",
    "<center>https://scikit-lego.netlify.app/</center>"
   ]
  },
  {
   "cell_type": "markdown",
   "metadata": {
    "slideshow": {
     "slide_type": "slide"
    }
   },
   "source": [
    "#### Optimizing tuning strategies"
   ]
  },
  {
   "cell_type": "markdown",
   "metadata": {
    "cell_style": "center",
    "slideshow": {
     "slide_type": "slide"
    }
   },
   "source": [
    "As models/pipelines get complex:\n",
    "- Lots of hyperparameters to play around with\n",
    "- GridSearch not the best **initial** strategy:\n",
    "    - Takes forever\n",
    "    - Want to sample space more effectively."
   ]
  },
  {
   "cell_type": "markdown",
   "metadata": {
    "slideshow": {
     "slide_type": "slide"
    }
   },
   "source": [
    "Randomized Search CV"
   ]
  },
  {
   "cell_type": "markdown",
   "metadata": {
    "slideshow": {
     "slide_type": "fragment"
    }
   },
   "source": [
    "<img src = \"Images/grid_vs_randomcv.png\" />\n",
    "\n",
    "<center>Often smaller number of random hyperparamter samples better than grid search.</center>"
   ]
  },
  {
   "cell_type": "code",
   "execution_count": 95,
   "metadata": {
    "cell_style": "center",
    "slideshow": {
     "slide_type": "slide"
    }
   },
   "outputs": [],
   "source": [
    "from sklearn.model_selection import RandomizedSearchCV"
   ]
  },
  {
   "cell_type": "markdown",
   "metadata": {
    "cell_style": "split",
    "slideshow": {
     "slide_type": "fragment"
    }
   },
   "source": [
    "Basically same syntax as GridSearchCV:\n",
    "- param_distributions: \n",
    "    - can take dict of hyperparameters with value list: uniformly samples\n",
    "    - can take dict of hyperparameters with specified distributions.\n",
    "- n_iter is # of samples to take."
   ]
  },
  {
   "cell_type": "code",
   "execution_count": 96,
   "metadata": {
    "cell_style": "split",
    "slideshow": {
     "slide_type": "fragment"
    }
   },
   "outputs": [
    {
     "data": {
      "text/plain": [
       "{'preprocess__feateng__poly__degree': [1, 2, 3, 4],\n",
       " 'preprocess__feateng__sine__kw_args': [{'c': 1}, {'c': 2}, {'c': 3}],\n",
       " 'ridge__alpha': [0.001, 0.01, 0.1, 1, 10, 100]}"
      ]
     },
     "execution_count": 96,
     "metadata": {},
     "output_type": "execute_result"
    }
   ],
   "source": [
    "# will uniformly random sample this grid.\n",
    "params"
   ]
  },
  {
   "cell_type": "code",
   "execution_count": 97,
   "metadata": {
    "cell_style": "center",
    "slideshow": {
     "slide_type": "slide"
    }
   },
   "outputs": [],
   "source": [
    "random_cv = RandomizedSearchCV(estimator = regress_pipe, \n",
    "                               param_distributions = params, \n",
    "                               n_iter = 10, \n",
    "                               cv = 6, \n",
    "                               random_state =42)\n",
    "random_cv.fit(X_train, y_train);"
   ]
  },
  {
   "cell_type": "code",
   "execution_count": 98,
   "metadata": {
    "cell_style": "center",
    "slideshow": {
     "slide_type": "fragment"
    }
   },
   "outputs": [
    {
     "data": {
      "text/html": [
       "<div>\n",
       "<style scoped>\n",
       "    .dataframe tbody tr th:only-of-type {\n",
       "        vertical-align: middle;\n",
       "    }\n",
       "\n",
       "    .dataframe tbody tr th {\n",
       "        vertical-align: top;\n",
       "    }\n",
       "\n",
       "    .dataframe thead th {\n",
       "        text-align: right;\n",
       "    }\n",
       "</style>\n",
       "<table border=\"1\" class=\"dataframe\">\n",
       "  <thead>\n",
       "    <tr style=\"text-align: right;\">\n",
       "      <th></th>\n",
       "      <th>mean_fit_time</th>\n",
       "      <th>std_fit_time</th>\n",
       "      <th>mean_score_time</th>\n",
       "      <th>std_score_time</th>\n",
       "      <th>param_ridge__alpha</th>\n",
       "      <th>param_preprocess__feateng__sine__kw_args</th>\n",
       "      <th>param_preprocess__feateng__poly__degree</th>\n",
       "      <th>params</th>\n",
       "      <th>split0_test_score</th>\n",
       "      <th>split1_test_score</th>\n",
       "      <th>split2_test_score</th>\n",
       "      <th>split3_test_score</th>\n",
       "      <th>split4_test_score</th>\n",
       "      <th>split5_test_score</th>\n",
       "      <th>mean_test_score</th>\n",
       "      <th>std_test_score</th>\n",
       "      <th>rank_test_score</th>\n",
       "    </tr>\n",
       "  </thead>\n",
       "  <tbody>\n",
       "    <tr>\n",
       "      <th>0</th>\n",
       "      <td>0.001347</td>\n",
       "      <td>4.316806e-04</td>\n",
       "      <td>0.000696</td>\n",
       "      <td>0.000496</td>\n",
       "      <td>10</td>\n",
       "      <td>{'c': 1}</td>\n",
       "      <td>1</td>\n",
       "      <td>{'ridge__alpha': 10, 'preprocess__feateng__sin...</td>\n",
       "      <td>0.569496</td>\n",
       "      <td>0.487783</td>\n",
       "      <td>0.202295</td>\n",
       "      <td>0.416000</td>\n",
       "      <td>0.381944</td>\n",
       "      <td>0.614493</td>\n",
       "      <td>0.445335</td>\n",
       "      <td>0.135265</td>\n",
       "      <td>10</td>\n",
       "    </tr>\n",
       "    <tr>\n",
       "      <th>1</th>\n",
       "      <td>0.000842</td>\n",
       "      <td>3.766938e-04</td>\n",
       "      <td>0.000751</td>\n",
       "      <td>0.000560</td>\n",
       "      <td>0.1</td>\n",
       "      <td>{'c': 2}</td>\n",
       "      <td>4</td>\n",
       "      <td>{'ridge__alpha': 0.1, 'preprocess__feateng__si...</td>\n",
       "      <td>0.752966</td>\n",
       "      <td>0.626553</td>\n",
       "      <td>0.687447</td>\n",
       "      <td>0.756962</td>\n",
       "      <td>0.821547</td>\n",
       "      <td>0.792585</td>\n",
       "      <td>0.739677</td>\n",
       "      <td>0.065195</td>\n",
       "      <td>1</td>\n",
       "    </tr>\n",
       "    <tr>\n",
       "      <th>2</th>\n",
       "      <td>0.001309</td>\n",
       "      <td>4.934208e-04</td>\n",
       "      <td>0.000668</td>\n",
       "      <td>0.000473</td>\n",
       "      <td>0.001</td>\n",
       "      <td>{'c': 1}</td>\n",
       "      <td>2</td>\n",
       "      <td>{'ridge__alpha': 0.001, 'preprocess__feateng__...</td>\n",
       "      <td>0.523695</td>\n",
       "      <td>0.472320</td>\n",
       "      <td>0.386611</td>\n",
       "      <td>0.572175</td>\n",
       "      <td>0.612385</td>\n",
       "      <td>0.636570</td>\n",
       "      <td>0.533959</td>\n",
       "      <td>0.085397</td>\n",
       "      <td>5</td>\n",
       "    </tr>\n",
       "    <tr>\n",
       "      <th>3</th>\n",
       "      <td>0.001003</td>\n",
       "      <td>3.846848e-06</td>\n",
       "      <td>0.000351</td>\n",
       "      <td>0.000498</td>\n",
       "      <td>0.001</td>\n",
       "      <td>{'c': 1}</td>\n",
       "      <td>1</td>\n",
       "      <td>{'ridge__alpha': 0.001, 'preprocess__feateng__...</td>\n",
       "      <td>0.583129</td>\n",
       "      <td>0.507397</td>\n",
       "      <td>0.183990</td>\n",
       "      <td>0.428833</td>\n",
       "      <td>0.397516</td>\n",
       "      <td>0.633619</td>\n",
       "      <td>0.455748</td>\n",
       "      <td>0.146344</td>\n",
       "      <td>9</td>\n",
       "    </tr>\n",
       "    <tr>\n",
       "      <th>4</th>\n",
       "      <td>0.001001</td>\n",
       "      <td>5.619580e-07</td>\n",
       "      <td>0.000500</td>\n",
       "      <td>0.000500</td>\n",
       "      <td>10</td>\n",
       "      <td>{'c': 2}</td>\n",
       "      <td>2</td>\n",
       "      <td>{'ridge__alpha': 10, 'preprocess__feateng__sin...</td>\n",
       "      <td>0.727780</td>\n",
       "      <td>0.642359</td>\n",
       "      <td>0.691871</td>\n",
       "      <td>0.710825</td>\n",
       "      <td>0.824626</td>\n",
       "      <td>0.779175</td>\n",
       "      <td>0.729439</td>\n",
       "      <td>0.058988</td>\n",
       "      <td>2</td>\n",
       "    </tr>\n",
       "  </tbody>\n",
       "</table>\n",
       "</div>"
      ],
      "text/plain": [
       "   mean_fit_time  std_fit_time  mean_score_time  std_score_time  \\\n",
       "0       0.001347  4.316806e-04         0.000696        0.000496   \n",
       "1       0.000842  3.766938e-04         0.000751        0.000560   \n",
       "2       0.001309  4.934208e-04         0.000668        0.000473   \n",
       "3       0.001003  3.846848e-06         0.000351        0.000498   \n",
       "4       0.001001  5.619580e-07         0.000500        0.000500   \n",
       "\n",
       "  param_ridge__alpha param_preprocess__feateng__sine__kw_args  \\\n",
       "0                 10                                 {'c': 1}   \n",
       "1                0.1                                 {'c': 2}   \n",
       "2              0.001                                 {'c': 1}   \n",
       "3              0.001                                 {'c': 1}   \n",
       "4                 10                                 {'c': 2}   \n",
       "\n",
       "  param_preprocess__feateng__poly__degree  \\\n",
       "0                                       1   \n",
       "1                                       4   \n",
       "2                                       2   \n",
       "3                                       1   \n",
       "4                                       2   \n",
       "\n",
       "                                              params  split0_test_score  \\\n",
       "0  {'ridge__alpha': 10, 'preprocess__feateng__sin...           0.569496   \n",
       "1  {'ridge__alpha': 0.1, 'preprocess__feateng__si...           0.752966   \n",
       "2  {'ridge__alpha': 0.001, 'preprocess__feateng__...           0.523695   \n",
       "3  {'ridge__alpha': 0.001, 'preprocess__feateng__...           0.583129   \n",
       "4  {'ridge__alpha': 10, 'preprocess__feateng__sin...           0.727780   \n",
       "\n",
       "   split1_test_score  split2_test_score  split3_test_score  split4_test_score  \\\n",
       "0           0.487783           0.202295           0.416000           0.381944   \n",
       "1           0.626553           0.687447           0.756962           0.821547   \n",
       "2           0.472320           0.386611           0.572175           0.612385   \n",
       "3           0.507397           0.183990           0.428833           0.397516   \n",
       "4           0.642359           0.691871           0.710825           0.824626   \n",
       "\n",
       "   split5_test_score  mean_test_score  std_test_score  rank_test_score  \n",
       "0           0.614493         0.445335        0.135265               10  \n",
       "1           0.792585         0.739677        0.065195                1  \n",
       "2           0.636570         0.533959        0.085397                5  \n",
       "3           0.633619         0.455748        0.146344                9  \n",
       "4           0.779175         0.729439        0.058988                2  "
      ]
     },
     "execution_count": 98,
     "metadata": {},
     "output_type": "execute_result"
    }
   ],
   "source": [
    "randomcv_results = pd.DataFrame(random_cv.cv_results_)\n",
    "randomcv_results.head()"
   ]
  },
  {
   "cell_type": "code",
   "execution_count": 99,
   "metadata": {
    "cell_style": "split",
    "slideshow": {
     "slide_type": "slide"
    }
   },
   "outputs": [
    {
     "data": {
      "text/html": [
       "<style>#sk-189794bf-fe9e-438c-bc0b-b822faf5ac7d {color: black;background-color: white;}#sk-189794bf-fe9e-438c-bc0b-b822faf5ac7d pre{padding: 0;}#sk-189794bf-fe9e-438c-bc0b-b822faf5ac7d div.sk-toggleable {background-color: white;}#sk-189794bf-fe9e-438c-bc0b-b822faf5ac7d label.sk-toggleable__label {cursor: pointer;display: block;width: 100%;margin-bottom: 0;padding: 0.3em;box-sizing: border-box;text-align: center;}#sk-189794bf-fe9e-438c-bc0b-b822faf5ac7d label.sk-toggleable__label-arrow:before {content: \"▸\";float: left;margin-right: 0.25em;color: #696969;}#sk-189794bf-fe9e-438c-bc0b-b822faf5ac7d label.sk-toggleable__label-arrow:hover:before {color: black;}#sk-189794bf-fe9e-438c-bc0b-b822faf5ac7d div.sk-estimator:hover label.sk-toggleable__label-arrow:before {color: black;}#sk-189794bf-fe9e-438c-bc0b-b822faf5ac7d div.sk-toggleable__content {max-height: 0;max-width: 0;overflow: hidden;text-align: left;background-color: #f0f8ff;}#sk-189794bf-fe9e-438c-bc0b-b822faf5ac7d div.sk-toggleable__content pre {margin: 0.2em;color: black;border-radius: 0.25em;background-color: #f0f8ff;}#sk-189794bf-fe9e-438c-bc0b-b822faf5ac7d input.sk-toggleable__control:checked~div.sk-toggleable__content {max-height: 200px;max-width: 100%;overflow: auto;}#sk-189794bf-fe9e-438c-bc0b-b822faf5ac7d input.sk-toggleable__control:checked~label.sk-toggleable__label-arrow:before {content: \"▾\";}#sk-189794bf-fe9e-438c-bc0b-b822faf5ac7d div.sk-estimator input.sk-toggleable__control:checked~label.sk-toggleable__label {background-color: #d4ebff;}#sk-189794bf-fe9e-438c-bc0b-b822faf5ac7d div.sk-label input.sk-toggleable__control:checked~label.sk-toggleable__label {background-color: #d4ebff;}#sk-189794bf-fe9e-438c-bc0b-b822faf5ac7d input.sk-hidden--visually {border: 0;clip: rect(1px 1px 1px 1px);clip: rect(1px, 1px, 1px, 1px);height: 1px;margin: -1px;overflow: hidden;padding: 0;position: absolute;width: 1px;}#sk-189794bf-fe9e-438c-bc0b-b822faf5ac7d div.sk-estimator {font-family: monospace;background-color: #f0f8ff;border: 1px dotted black;border-radius: 0.25em;box-sizing: border-box;margin-bottom: 0.5em;}#sk-189794bf-fe9e-438c-bc0b-b822faf5ac7d div.sk-estimator:hover {background-color: #d4ebff;}#sk-189794bf-fe9e-438c-bc0b-b822faf5ac7d div.sk-parallel-item::after {content: \"\";width: 100%;border-bottom: 1px solid gray;flex-grow: 1;}#sk-189794bf-fe9e-438c-bc0b-b822faf5ac7d div.sk-label:hover label.sk-toggleable__label {background-color: #d4ebff;}#sk-189794bf-fe9e-438c-bc0b-b822faf5ac7d div.sk-serial::before {content: \"\";position: absolute;border-left: 1px solid gray;box-sizing: border-box;top: 2em;bottom: 0;left: 50%;}#sk-189794bf-fe9e-438c-bc0b-b822faf5ac7d div.sk-serial {display: flex;flex-direction: column;align-items: center;background-color: white;padding-right: 0.2em;padding-left: 0.2em;}#sk-189794bf-fe9e-438c-bc0b-b822faf5ac7d div.sk-item {z-index: 1;}#sk-189794bf-fe9e-438c-bc0b-b822faf5ac7d div.sk-parallel {display: flex;align-items: stretch;justify-content: center;background-color: white;}#sk-189794bf-fe9e-438c-bc0b-b822faf5ac7d div.sk-parallel::before {content: \"\";position: absolute;border-left: 1px solid gray;box-sizing: border-box;top: 2em;bottom: 0;left: 50%;}#sk-189794bf-fe9e-438c-bc0b-b822faf5ac7d div.sk-parallel-item {display: flex;flex-direction: column;position: relative;background-color: white;}#sk-189794bf-fe9e-438c-bc0b-b822faf5ac7d div.sk-parallel-item:first-child::after {align-self: flex-end;width: 50%;}#sk-189794bf-fe9e-438c-bc0b-b822faf5ac7d div.sk-parallel-item:last-child::after {align-self: flex-start;width: 50%;}#sk-189794bf-fe9e-438c-bc0b-b822faf5ac7d div.sk-parallel-item:only-child::after {width: 0;}#sk-189794bf-fe9e-438c-bc0b-b822faf5ac7d div.sk-dashed-wrapped {border: 1px dashed gray;margin: 0 0.4em 0.5em 0.4em;box-sizing: border-box;padding-bottom: 0.4em;background-color: white;position: relative;}#sk-189794bf-fe9e-438c-bc0b-b822faf5ac7d div.sk-label label {font-family: monospace;font-weight: bold;background-color: white;display: inline-block;line-height: 1.2em;}#sk-189794bf-fe9e-438c-bc0b-b822faf5ac7d div.sk-label-container {position: relative;z-index: 2;text-align: center;}#sk-189794bf-fe9e-438c-bc0b-b822faf5ac7d div.sk-container {/* jupyter's `normalize.less` sets `[hidden] { display: none; }` but bootstrap.min.css set `[hidden] { display: none !important; }` so we also need the `!important` here to be able to override the default hidden behavior on the sphinx rendered scikit-learn.org. See: https://github.com/scikit-learn/scikit-learn/issues/21755 */display: inline-block !important;position: relative;}#sk-189794bf-fe9e-438c-bc0b-b822faf5ac7d div.sk-text-repr-fallback {display: none;}</style><div id=\"sk-189794bf-fe9e-438c-bc0b-b822faf5ac7d\" class=\"sk-top-container\"><div class=\"sk-text-repr-fallback\"><pre>Pipeline(steps=[(&#x27;preprocess&#x27;,\n",
       "                 Pipeline(steps=[(&#x27;feateng&#x27;,\n",
       "                                  FeatureUnion(transformer_list=[(&#x27;poly&#x27;,\n",
       "                                                                  PolynomialFeatures(degree=4,\n",
       "                                                                                     include_bias=False)),\n",
       "                                                                 (&#x27;sine&#x27;,\n",
       "                                                                  FunctionTransformer(func=&lt;function sinefunc at 0x000001D3FADA1C10&gt;,\n",
       "                                                                                      kw_args={&#x27;c&#x27;: 2})),\n",
       "                                                                 (&#x27;cosine&#x27;,\n",
       "                                                                  FunctionTransformer(func=&lt;function cosfunc at 0x000001D3FAE8D940&gt;))])),\n",
       "                                 (&#x27;scaler&#x27;, StandardScaler())])),\n",
       "                (&#x27;ridge&#x27;, Ridge(alpha=0.1))])</pre><b>Please rerun this cell to show the HTML repr or trust the notebook.</b></div><div class=\"sk-container\" hidden><div class=\"sk-item sk-dashed-wrapped\"><div class=\"sk-label-container\"><div class=\"sk-label sk-toggleable\"><input class=\"sk-toggleable__control sk-hidden--visually\" id=\"25860865-03c5-45e6-b586-b4114903ff5b\" type=\"checkbox\" ><label for=\"25860865-03c5-45e6-b586-b4114903ff5b\" class=\"sk-toggleable__label sk-toggleable__label-arrow\">Pipeline</label><div class=\"sk-toggleable__content\"><pre>Pipeline(steps=[(&#x27;preprocess&#x27;,\n",
       "                 Pipeline(steps=[(&#x27;feateng&#x27;,\n",
       "                                  FeatureUnion(transformer_list=[(&#x27;poly&#x27;,\n",
       "                                                                  PolynomialFeatures(degree=4,\n",
       "                                                                                     include_bias=False)),\n",
       "                                                                 (&#x27;sine&#x27;,\n",
       "                                                                  FunctionTransformer(func=&lt;function sinefunc at 0x000001D3FADA1C10&gt;,\n",
       "                                                                                      kw_args={&#x27;c&#x27;: 2})),\n",
       "                                                                 (&#x27;cosine&#x27;,\n",
       "                                                                  FunctionTransformer(func=&lt;function cosfunc at 0x000001D3FAE8D940&gt;))])),\n",
       "                                 (&#x27;scaler&#x27;, StandardScaler())])),\n",
       "                (&#x27;ridge&#x27;, Ridge(alpha=0.1))])</pre></div></div></div><div class=\"sk-serial\"><div class=\"sk-item\"><div class=\"sk-label-container\"><div class=\"sk-label sk-toggleable\"><input class=\"sk-toggleable__control sk-hidden--visually\" id=\"50daf776-d070-4497-924e-77653dda32ed\" type=\"checkbox\" ><label for=\"50daf776-d070-4497-924e-77653dda32ed\" class=\"sk-toggleable__label sk-toggleable__label-arrow\">preprocess: Pipeline</label><div class=\"sk-toggleable__content\"><pre>Pipeline(steps=[(&#x27;feateng&#x27;,\n",
       "                 FeatureUnion(transformer_list=[(&#x27;poly&#x27;,\n",
       "                                                 PolynomialFeatures(degree=4,\n",
       "                                                                    include_bias=False)),\n",
       "                                                (&#x27;sine&#x27;,\n",
       "                                                 FunctionTransformer(func=&lt;function sinefunc at 0x000001D3FADA1C10&gt;,\n",
       "                                                                     kw_args={&#x27;c&#x27;: 2})),\n",
       "                                                (&#x27;cosine&#x27;,\n",
       "                                                 FunctionTransformer(func=&lt;function cosfunc at 0x000001D3FAE8D940&gt;))])),\n",
       "                (&#x27;scaler&#x27;, StandardScaler())])</pre></div></div></div><div class=\"sk-serial\"><div class=\"sk-item sk-dashed-wrapped\"><div class=\"sk-label-container\"><div class=\"sk-label sk-toggleable\"><input class=\"sk-toggleable__control sk-hidden--visually\" id=\"69f94b18-6678-47b4-9b15-532b0e605730\" type=\"checkbox\" ><label for=\"69f94b18-6678-47b4-9b15-532b0e605730\" class=\"sk-toggleable__label sk-toggleable__label-arrow\">feateng: FeatureUnion</label><div class=\"sk-toggleable__content\"><pre>FeatureUnion(transformer_list=[(&#x27;poly&#x27;,\n",
       "                                PolynomialFeatures(degree=4,\n",
       "                                                   include_bias=False)),\n",
       "                               (&#x27;sine&#x27;,\n",
       "                                FunctionTransformer(func=&lt;function sinefunc at 0x000001D3FADA1C10&gt;,\n",
       "                                                    kw_args={&#x27;c&#x27;: 2})),\n",
       "                               (&#x27;cosine&#x27;,\n",
       "                                FunctionTransformer(func=&lt;function cosfunc at 0x000001D3FAE8D940&gt;))])</pre></div></div></div><div class=\"sk-parallel\"><div class=\"sk-parallel-item\"><div class=\"sk-item\"><div class=\"sk-label-container\"><div class=\"sk-label sk-toggleable\"><label>poly</label></div></div><div class=\"sk-serial\"><div class=\"sk-item\"><div class=\"sk-estimator sk-toggleable\"><input class=\"sk-toggleable__control sk-hidden--visually\" id=\"1e528af1-a1c0-4b3f-be36-96c23aa57ef7\" type=\"checkbox\" ><label for=\"1e528af1-a1c0-4b3f-be36-96c23aa57ef7\" class=\"sk-toggleable__label sk-toggleable__label-arrow\">PolynomialFeatures</label><div class=\"sk-toggleable__content\"><pre>PolynomialFeatures(degree=4, include_bias=False)</pre></div></div></div></div></div></div><div class=\"sk-parallel-item\"><div class=\"sk-item\"><div class=\"sk-label-container\"><div class=\"sk-label sk-toggleable\"><label>sine</label></div></div><div class=\"sk-serial\"><div class=\"sk-item\"><div class=\"sk-estimator sk-toggleable\"><input class=\"sk-toggleable__control sk-hidden--visually\" id=\"52cdd7d5-14a7-487f-972f-444650e0f3ef\" type=\"checkbox\" ><label for=\"52cdd7d5-14a7-487f-972f-444650e0f3ef\" class=\"sk-toggleable__label sk-toggleable__label-arrow\">FunctionTransformer</label><div class=\"sk-toggleable__content\"><pre>FunctionTransformer(func=&lt;function sinefunc at 0x000001D3FADA1C10&gt;,\n",
       "                    kw_args={&#x27;c&#x27;: 2})</pre></div></div></div></div></div></div><div class=\"sk-parallel-item\"><div class=\"sk-item\"><div class=\"sk-label-container\"><div class=\"sk-label sk-toggleable\"><label>cosine</label></div></div><div class=\"sk-serial\"><div class=\"sk-item\"><div class=\"sk-estimator sk-toggleable\"><input class=\"sk-toggleable__control sk-hidden--visually\" id=\"1f94678f-4e56-4438-92af-e5e3ee0bc56f\" type=\"checkbox\" ><label for=\"1f94678f-4e56-4438-92af-e5e3ee0bc56f\" class=\"sk-toggleable__label sk-toggleable__label-arrow\">FunctionTransformer</label><div class=\"sk-toggleable__content\"><pre>FunctionTransformer(func=&lt;function cosfunc at 0x000001D3FAE8D940&gt;)</pre></div></div></div></div></div></div></div></div><div class=\"sk-item\"><div class=\"sk-estimator sk-toggleable\"><input class=\"sk-toggleable__control sk-hidden--visually\" id=\"3194bb54-0b9a-4cf0-bc0b-9edabceff96a\" type=\"checkbox\" ><label for=\"3194bb54-0b9a-4cf0-bc0b-9edabceff96a\" class=\"sk-toggleable__label sk-toggleable__label-arrow\">StandardScaler</label><div class=\"sk-toggleable__content\"><pre>StandardScaler()</pre></div></div></div></div></div><div class=\"sk-item\"><div class=\"sk-estimator sk-toggleable\"><input class=\"sk-toggleable__control sk-hidden--visually\" id=\"0c0a566f-2c34-43ba-bc93-7ab89dac43dc\" type=\"checkbox\" ><label for=\"0c0a566f-2c34-43ba-bc93-7ab89dac43dc\" class=\"sk-toggleable__label sk-toggleable__label-arrow\">Ridge</label><div class=\"sk-toggleable__content\"><pre>Ridge(alpha=0.1)</pre></div></div></div></div></div></div></div>"
      ],
      "text/plain": [
       "Pipeline(steps=[('preprocess',\n",
       "                 Pipeline(steps=[('feateng',\n",
       "                                  FeatureUnion(transformer_list=[('poly',\n",
       "                                                                  PolynomialFeatures(degree=4,\n",
       "                                                                                     include_bias=False)),\n",
       "                                                                 ('sine',\n",
       "                                                                  FunctionTransformer(func=<function sinefunc at 0x000001D3FADA1C10>,\n",
       "                                                                                      kw_args={'c': 2})),\n",
       "                                                                 ('cosine',\n",
       "                                                                  FunctionTransformer(func=<function cosfunc at 0x000001D3FAE8D940>))])),\n",
       "                                 ('scaler', StandardScaler())])),\n",
       "                ('ridge', Ridge(alpha=0.1))])"
      ]
     },
     "execution_count": 99,
     "metadata": {},
     "output_type": "execute_result"
    }
   ],
   "source": [
    "best_random = random_cv.best_estimator_\n",
    "best_random"
   ]
  },
  {
   "cell_type": "code",
   "execution_count": 100,
   "metadata": {
    "cell_style": "split",
    "slideshow": {
     "slide_type": "fragment"
    }
   },
   "outputs": [
    {
     "data": {
      "text/plain": [
       "0.7396767045381508"
      ]
     },
     "execution_count": 100,
     "metadata": {},
     "output_type": "execute_result"
    }
   ],
   "source": [
    "random_cv.best_score_"
   ]
  },
  {
   "cell_type": "markdown",
   "metadata": {
    "slideshow": {
     "slide_type": "slide"
    }
   },
   "source": [
    "Then after promising RandomSearchCV():\n",
    "- GridSearchCV (possibly):\n",
    "    - select best hyperparameter from random search.\n",
    "    - fine step grid search tuning around this point."
   ]
  },
  {
   "cell_type": "markdown",
   "metadata": {
    "slideshow": {
     "slide_type": "slide"
    }
   },
   "source": [
    "This is just the beginning of hyperperparameter tuning strategies:\n",
    "- Principled Bayesian approaches exist, etc.\n",
    "- That being said, RandomSearchCV used well is **very** effective"
   ]
  },
  {
   "cell_type": "markdown",
   "metadata": {
    "slideshow": {
     "slide_type": "slide"
    }
   },
   "source": [
    "# Level Up: SMOTE"
   ]
  },
  {
   "cell_type": "markdown",
   "metadata": {
    "slideshow": {
     "slide_type": "fragment"
    }
   },
   "source": [
    "Often we encounter a problem of imbalance classification that there are too few observations of the minority class for a model to effectively learn the decision boundary. \n",
    "\n",
    "One way to solve this problem is to **oversample** the observations in the minority class (or alternatively **undersample** the observations in the majority class) by synthesizing new observation from the minority class.\n",
    "\n",
    "The most widely used approach to synthesizing new observations is called the **Synthetic Minority Oversampling Technique**, or **SMOTE** for short. \n",
    "\n",
    "Resource: https://arxiv.org/abs/1106.1813\n",
    "\n",
    "Before getting into the example, please note the following,\n",
    "\n",
    "1. Oversampling process is based on **k-nearest neighbors** of the minority class.\n",
    "2. Oversampling only works with **numerical predictors** since the synthetic observations are created based on the k-nearest neighbors algorithm, which is a distance based algorithm.  \n",
    "\n",
    "We use the Scikit-Learn's breast cancer dataset to demonstrate the use of SMOTE from imblearn package."
   ]
  },
  {
   "cell_type": "code",
   "execution_count": 101,
   "metadata": {
    "slideshow": {
     "slide_type": "slide"
    }
   },
   "outputs": [],
   "source": [
    "from sklearn.datasets import load_breast_cancer\n",
    "\n",
    "# Load the data\n",
    "preds, target = load_breast_cancer(return_X_y=True)\n",
    "\n",
    "# Split into train and test\n",
    "X_train, X_test, y_train, y_test = train_test_split(preds, target,\n",
    "                                                   random_state=42)\n",
    "\n",
    "# Scale the data\n",
    "bc_scaler = StandardScaler()\n",
    "bc_scaler.fit(X_train)\n",
    "X_train_sc = bc_scaler.transform(X_train)\n",
    "X_test_sc = bc_scaler.transform(X_test)"
   ]
  },
  {
   "cell_type": "code",
   "execution_count": 102,
   "metadata": {
    "slideshow": {
     "slide_type": "slide"
    }
   },
   "outputs": [],
   "source": [
    "# Import imblearn dependencies\n",
    "from imblearn.over_sampling import SMOTE\n",
    "from imblearn.under_sampling import RandomUnderSampler\n",
    "from imblearn.pipeline import Pipeline as imbPipeline #If using SMOTE use imbPipeline\n",
    "from collections import Counter\n",
    "from matplotlib import pyplot\n",
    "from numpy import where"
   ]
  },
  {
   "cell_type": "markdown",
   "metadata": {
    "slideshow": {
     "slide_type": "slide"
    }
   },
   "source": [
    "Note that we have an imbalance class for the target variable in this dataset."
   ]
  },
  {
   "cell_type": "code",
   "execution_count": 103,
   "metadata": {
    "slideshow": {
     "slide_type": "fragment"
    }
   },
   "outputs": [
    {
     "name": "stdout",
     "output_type": "stream",
     "text": [
      "Counter({1: 268, 0: 158})\n"
     ]
    },
    {
     "data": {
      "image/png": "[encoded data removed]",
      "text/plain": [
       "<Figure size 432x288 with 1 Axes>"
      ]
     },
     "metadata": {
      "needs_background": "light"
     },
     "output_type": "display_data"
    }
   ],
   "source": [
    "# Check the class distribution of the target\n",
    "counter = Counter(y_train)\n",
    "print(counter)\n",
    "\n",
    "# scatter plot of examples by class label\n",
    "for label, _ in counter.items():\n",
    "    row_ix = where(y_train == label)[0]\n",
    "    pyplot.scatter(X_train_sc[row_ix, 0], X_train_sc[row_ix, 1], label=str(label))\n",
    "pyplot.legend()\n",
    "pyplot.show()"
   ]
  },
  {
   "cell_type": "code",
   "execution_count": 104,
   "metadata": {
    "slideshow": {
     "slide_type": "slide"
    }
   },
   "outputs": [],
   "source": [
    "# Create the oversampler and undersampler objects\n",
    "over = SMOTE(sampling_strategy=0.7)\n",
    "under = RandomUnderSampler(sampling_strategy=0.8)\n",
    "\n",
    "# transform the dataset\n",
    "X, y = under.fit_resample(X_train_sc, y_train)"
   ]
  },
  {
   "cell_type": "markdown",
   "metadata": {
    "slideshow": {
     "slide_type": "fragment"
    }
   },
   "source": [
    "After the oversampling and undersampling process, we observe a more balance class distribution in the target variable."
   ]
  },
  {
   "cell_type": "code",
   "execution_count": 105,
   "metadata": {
    "slideshow": {
     "slide_type": "slide"
    }
   },
   "outputs": [
    {
     "name": "stdout",
     "output_type": "stream",
     "text": [
      "Counter({1: 197, 0: 158})\n"
     ]
    },
    {
     "data": {
      "image/png": "[encoded data removed]",
      "text/plain": [
       "<Figure size 432x288 with 1 Axes>"
      ]
     },
     "metadata": {
      "needs_background": "light"
     },
     "output_type": "display_data"
    }
   ],
   "source": [
    "# Check the class distribution of the target\n",
    "counter = Counter(y)\n",
    "print(counter)\n",
    "\n",
    "# scatter plot of examples by class label\n",
    "for label, _ in counter.items():\n",
    "    row_ix = where(y == label)[0]\n",
    "    pyplot.scatter(X_train_sc[row_ix, 0], X_train_sc[row_ix, 1], label=str(label))\n",
    "pyplot.legend()\n",
    "pyplot.show()"
   ]
  },
  {
   "cell_type": "code",
   "execution_count": 106,
   "metadata": {
    "slideshow": {
     "slide_type": "slide"
    }
   },
   "outputs": [
    {
     "name": "stdout",
     "output_type": "stream",
     "text": [
      "[1 0 0 1 1 0 0 0 0 1 1 0 1 1 1 0 1 1 1 0 1 1 0 1 1 1 1 1 1 0 1 1 1 1 1 1 0\n",
      " 1 0 1 1 0 1 1 1 1 1 1 1 1 0 0 1 1 1 1 1 0 0 1 1 0 0 1 1 1 0 0 1 1 0 0 1 0\n",
      " 1 1 1 1 1 1 0 1 1 0 0 0 0 0 1 1 1 1 1 1 1 1 0 0 1 0 0 1 0 0 1 1 1 0 1 1 0\n",
      " 1 1 0 1 0 1 1 1 0 1 1 1 0 1 0 0 1 1 0 0 0 1 1 1 0 0 1 1 0 1 0 1]\n"
     ]
    }
   ],
   "source": [
    "# Create imblearn pipeline for the oversampler and undersampler\n",
    "steps = [('o', over), ('u', under), ('model', DecisionTreeClassifier())]\n",
    "pipeline = imbPipeline(steps=steps)\n",
    "\n",
    "\n",
    "# Create the GridSearchCV object with different hyperparameters\n",
    "parameters = {\n",
    "    'model__max_depth': [2, 4, 6, 8],\n",
    "    'model__min_samples_split': [5, 10, 15],\n",
    "    'model__criterion': ['gini', 'entropy']\n",
    "}\n",
    "\n",
    "cv = GridSearchCV(pipeline, param_grid=parameters)\n",
    "\n",
    "cv.fit(X_train_sc, y_train)\n",
    "\n",
    "# Predict the label with the best model\n",
    "y_pred = cv.predict(X_test_sc)\n",
    "print(y_pred)"
   ]
  },
  {
   "cell_type": "code",
   "execution_count": null,
   "metadata": {},
   "outputs": [],
   "source": []
  }
 ],
 "metadata": {
  "hide_input": false,
  "kernelspec": {
   "display_name": "Python (learn-env)",
   "language": "python",
   "name": "learn-env"
  },
  "language_info": {
   "codemirror_mode": {
    "name": "ipython",
    "version": 3
   },
   "file_extension": ".py",
   "mimetype": "text/x-python",
   "name": "python",
   "nbconvert_exporter": "python",
   "pygments_lexer": "ipython3",
   "version": "3.8.5"
  },
  "latex_envs": {
   "LaTeX_envs_menu_present": true,
   "autoclose": false,
   "autocomplete": true,
   "bibliofile": "biblio.bib",
   "cite_by": "apalike",
   "current_citInitial": 1,
   "eqLabelWithNumbers": true,
   "eqNumInitial": 1,
   "hotkeys": {
    "equation": "Ctrl-E",
    "itemize": "Ctrl-I"
   },
   "labels_anchors": false,
   "latex_user_defs": false,
   "report_style_numbering": false,
   "user_envs_cfg": false
  },
  "nbTranslate": {
   "displayLangs": [
    "*"
   ],
   "hotkey": "alt-t",
   "langInMainMenu": true,
   "sourceLang": "en",
   "targetLang": "fr",
   "useGoogleTranslate": true
  },
  "toc": {
   "base_numbering": 1,
   "nav_menu": {},
   "number_sections": true,
   "sideBar": true,
   "skip_h1_title": false,
   "title_cell": "Table of Contents",
   "title_sidebar": "TOC",
   "toc_cell": true,
   "toc_position": {
    "height": "calc(100% - 180px)",
    "left": "10px",
    "top": "150px",
    "width": "232px"
   },
   "toc_section_display": true,
   "toc_window_display": false
  }
 },
 "nbformat": 4,
 "nbformat_minor": 5
}
